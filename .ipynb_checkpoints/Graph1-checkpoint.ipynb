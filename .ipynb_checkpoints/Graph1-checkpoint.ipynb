{
 "cells": [
  {
   "cell_type": "code",
   "execution_count": 1,
   "metadata": {},
   "outputs": [
    {
     "ename": "AttributeError",
     "evalue": "'set' object has no attribute 'words'",
     "output_type": "error",
     "traceback": [
      "\u001b[0;31m---------------------------------------------------------------------------\u001b[0m",
      "\u001b[0;31mAttributeError\u001b[0m                            Traceback (most recent call last)",
      "\u001b[0;32m<ipython-input-1-88f019175d2a>\u001b[0m in \u001b[0;36m<module>\u001b[0;34m()\u001b[0m\n\u001b[1;32m    330\u001b[0m \u001b[0;34m\u001b[0m\u001b[0m\n\u001b[1;32m    331\u001b[0m \u001b[0;31m#### CREATE WORD FREQ\u001b[0m\u001b[0;34m\u001b[0m\u001b[0;34m\u001b[0m\u001b[0m\n\u001b[0;32m--> 332\u001b[0;31m \u001b[0mdf_mnsc\u001b[0m\u001b[0;34m[\u001b[0m\u001b[0;34m'word_freq'\u001b[0m\u001b[0;34m]\u001b[0m \u001b[0;34m=\u001b[0m \u001b[0mdf_mnsc\u001b[0m\u001b[0;34m[\u001b[0m\u001b[0;34m'abstract'\u001b[0m\u001b[0;34m]\u001b[0m\u001b[0;34m.\u001b[0m\u001b[0mapply\u001b[0m\u001b[0;34m(\u001b[0m\u001b[0mget_word_count\u001b[0m\u001b[0;34m)\u001b[0m\u001b[0;34m\u001b[0m\u001b[0m\n\u001b[0m\u001b[1;32m    333\u001b[0m \u001b[0myearly_abs\u001b[0m \u001b[0;34m=\u001b[0m \u001b[0mdf_mnsc\u001b[0m\u001b[0;34m.\u001b[0m\u001b[0mgroupby\u001b[0m\u001b[0;34m(\u001b[0m\u001b[0;34m[\u001b[0m\u001b[0;34m'year_publish'\u001b[0m\u001b[0;34m]\u001b[0m\u001b[0;34m)\u001b[0m\u001b[0;34m[\u001b[0m\u001b[0;34m'abstract'\u001b[0m\u001b[0;34m]\u001b[0m\u001b[0;34m.\u001b[0m\u001b[0mapply\u001b[0m\u001b[0;34m(\u001b[0m\u001b[0;32mlambda\u001b[0m \u001b[0mx\u001b[0m\u001b[0;34m:\u001b[0m \u001b[0;34m' '\u001b[0m\u001b[0;34m.\u001b[0m\u001b[0mjoin\u001b[0m\u001b[0;34m(\u001b[0m\u001b[0mx\u001b[0m\u001b[0;34m)\u001b[0m\u001b[0;34m)\u001b[0m\u001b[0;34m\u001b[0m\u001b[0m\n\u001b[1;32m    334\u001b[0m \u001b[0myearly_abs\u001b[0m \u001b[0;34m=\u001b[0m \u001b[0mpd\u001b[0m\u001b[0;34m.\u001b[0m\u001b[0mDataFrame\u001b[0m\u001b[0;34m(\u001b[0m\u001b[0myearly_abs\u001b[0m\u001b[0;34m)\u001b[0m\u001b[0;34m\u001b[0m\u001b[0m\n",
      "\u001b[0;32m/Users/veronezi.pedro/anaconda/lib/python2.7/site-packages/pandas/core/series.pyc\u001b[0m in \u001b[0;36mapply\u001b[0;34m(self, func, convert_dtype, args, **kwds)\u001b[0m\n\u001b[1;32m   2353\u001b[0m             \u001b[0;32melse\u001b[0m\u001b[0;34m:\u001b[0m\u001b[0;34m\u001b[0m\u001b[0m\n\u001b[1;32m   2354\u001b[0m                 \u001b[0mvalues\u001b[0m \u001b[0;34m=\u001b[0m \u001b[0mself\u001b[0m\u001b[0;34m.\u001b[0m\u001b[0masobject\u001b[0m\u001b[0;34m\u001b[0m\u001b[0m\n\u001b[0;32m-> 2355\u001b[0;31m                 \u001b[0mmapped\u001b[0m \u001b[0;34m=\u001b[0m \u001b[0mlib\u001b[0m\u001b[0;34m.\u001b[0m\u001b[0mmap_infer\u001b[0m\u001b[0;34m(\u001b[0m\u001b[0mvalues\u001b[0m\u001b[0;34m,\u001b[0m \u001b[0mf\u001b[0m\u001b[0;34m,\u001b[0m \u001b[0mconvert\u001b[0m\u001b[0;34m=\u001b[0m\u001b[0mconvert_dtype\u001b[0m\u001b[0;34m)\u001b[0m\u001b[0;34m\u001b[0m\u001b[0m\n\u001b[0m\u001b[1;32m   2356\u001b[0m \u001b[0;34m\u001b[0m\u001b[0m\n\u001b[1;32m   2357\u001b[0m         \u001b[0;32mif\u001b[0m \u001b[0mlen\u001b[0m\u001b[0;34m(\u001b[0m\u001b[0mmapped\u001b[0m\u001b[0;34m)\u001b[0m \u001b[0;32mand\u001b[0m \u001b[0misinstance\u001b[0m\u001b[0;34m(\u001b[0m\u001b[0mmapped\u001b[0m\u001b[0;34m[\u001b[0m\u001b[0;36m0\u001b[0m\u001b[0;34m]\u001b[0m\u001b[0;34m,\u001b[0m \u001b[0mSeries\u001b[0m\u001b[0;34m)\u001b[0m\u001b[0;34m:\u001b[0m\u001b[0;34m\u001b[0m\u001b[0m\n",
      "\u001b[0;32mpandas/_libs/src/inference.pyx\u001b[0m in \u001b[0;36mpandas._libs.lib.map_infer (pandas/_libs/lib.c:66645)\u001b[0;34m()\u001b[0m\n",
      "\u001b[0;32m<ipython-input-1-88f019175d2a>\u001b[0m in \u001b[0;36mget_word_count\u001b[0;34m(astring)\u001b[0m\n\u001b[1;32m    274\u001b[0m     \u001b[0mstopwords\u001b[0m\u001b[0;34m.\u001b[0m\u001b[0madd\u001b[0m\u001b[0;34m(\u001b[0m\u001b[0;34m'two'\u001b[0m\u001b[0;34m)\u001b[0m\u001b[0;34m\u001b[0m\u001b[0m\n\u001b[1;32m    275\u001b[0m     \u001b[0mstopwords\u001b[0m\u001b[0;34m.\u001b[0m\u001b[0madd\u001b[0m\u001b[0;34m(\u001b[0m\u001b[0;34m'three'\u001b[0m\u001b[0;34m)\u001b[0m\u001b[0;34m\u001b[0m\u001b[0m\n\u001b[0;32m--> 276\u001b[0;31m     \u001b[0myet_another_list\u001b[0m \u001b[0;34m=\u001b[0m \u001b[0mlist\u001b[0m\u001b[0;34m(\u001b[0m\u001b[0mset\u001b[0m\u001b[0;34m(\u001b[0m\u001b[0mstopwords\u001b[0m\u001b[0;34m.\u001b[0m\u001b[0mwords\u001b[0m\u001b[0;34m(\u001b[0m\u001b[0;34m'english'\u001b[0m\u001b[0;34m)\u001b[0m\u001b[0;34m)\u001b[0m\u001b[0;34m)\u001b[0m\u001b[0;34m\u001b[0m\u001b[0m\n\u001b[0m\u001b[1;32m    277\u001b[0m \u001b[0;34m\u001b[0m\u001b[0m\n\u001b[1;32m    278\u001b[0m     \u001b[0mstopwords\u001b[0m \u001b[0;34m=\u001b[0m \u001b[0;34m[\u001b[0m\u001b[0mx\u001b[0m\u001b[0;34m.\u001b[0m\u001b[0mlower\u001b[0m\u001b[0;34m(\u001b[0m\u001b[0;34m)\u001b[0m \u001b[0;32mfor\u001b[0m \u001b[0mx\u001b[0m \u001b[0;32min\u001b[0m \u001b[0mstopwords\u001b[0m\u001b[0;34m]\u001b[0m\u001b[0;34m\u001b[0m\u001b[0m\n",
      "\u001b[0;31mAttributeError\u001b[0m: 'set' object has no attribute 'words'"
     ]
    }
   ],
   "source": [
    "# encoding: utf-8\n",
    "import sqlite3 as sql\n",
    "import pandas as pd\n",
    "import datetime\n",
    "import numpy as np\n",
    "from wordcloud import WordCloud, STOPWORDS\n",
    "import matplotlib.pyplot as plt\n",
    "import itertools\n",
    "import networkx as nx\n",
    "import re\n",
    "from collections import Counter\n",
    "from plotly.offline import init_notebook_mode, iplot\n",
    "from IPython.display import display, HTML\n",
    "from nltk.corpus import stopwords as ntlk_stop\n",
    "\n",
    "columns = ['link_id', 'title', 'author', 'affiliations', 'keywords', 'received_date', 'accepted_date',\n",
    "           'published_date', 'abstract']\n",
    "\n",
    "conn = sql.connect(\"MSOM.db\")\n",
    "cursor = conn.cursor()\n",
    "MSOM = cursor.execute(\"SELECT * FROM informations;\")\n",
    "df_msom = pd.DataFrame.from_records(MSOM.fetchall(), columns=columns)\n",
    "\n",
    "conn = sql.connect(\"MNSC.db\")\n",
    "cursor = conn.cursor()\n",
    "MNSC = cursor.execute(\"SELECT * FROM informations;\")\n",
    "df_mnsc = pd.DataFrame.from_records(MNSC.fetchall(), columns=columns)\n",
    "conn.close()\n",
    "\n",
    "df_msom.dropna(inplace=True, subset=['received_date', 'accepted_date', 'published_date'])\n",
    "df_mnsc.dropna(inplace=True, subset=['received_date', 'accepted_date', 'published_date'])\n",
    "\n",
    "\n",
    "def convert_date(date_string):\n",
    "    \"\"\"\n",
    "    Function to convert string to datetime\n",
    "    :param date_string:\n",
    "    :return:\n",
    "    \"\"\"\n",
    "    try:\n",
    "        date_string = date_string.strip()\n",
    "        date_string = date_string.replace('Published Online:', \"\")\n",
    "        date_string = date_string.strip()\n",
    "        date = datetime.datetime.strptime(date_string, \"%B %d, %Y\")\n",
    "    except:\n",
    "        date = np.nan\n",
    "\n",
    "    return date\n",
    "\n",
    "\n",
    "def generate_wordcloud(strings):\n",
    "    \"\"\"\n",
    "    Functiokn to generate wordcloud\n",
    "    :param strings:\n",
    "    :return: plot wordcloud\n",
    "    \"\"\"\n",
    "\n",
    "    # Create empty stopwords list\n",
    "    stopwords = set(STOPWORDS)\n",
    "    stopwords.add('Keywords')\n",
    "    stopwords.add('Keyword')\n",
    "    stopwords.add('model')\n",
    "    stopwords.add('models')\n",
    "\n",
    "    # Plot word cloud\n",
    "    wc = WordCloud(background_color=\"white\", max_words=2000, stopwords=stopwords)\n",
    "    wc.generate(strings)\n",
    "    plt.imshow(wc)\n",
    "    plt.axis('off')\n",
    "    plt.show()\n",
    "\n",
    "\n",
    "def create_authors_by_year(data):\n",
    "    \"\"\"\n",
    "\n",
    "    :param data:\n",
    "    :return:\n",
    "    \"\"\"\n",
    "\n",
    "    authors = []\n",
    "    year_publish = []\n",
    "    time_publish = []\n",
    "\n",
    "    for i in range(0, data.shape[0]):\n",
    "        for j in range(0, len(data['author'][i])):\n",
    "            authors.append(data['author'][i][j])\n",
    "            year_publish.append(data['year_publish'][i])\n",
    "            time_publish.append(data['time_publish'][i])\n",
    "\n",
    "    return pd.DataFrame(data={'author': authors, 'year_publish': year_publish, 'time_publish': time_publish})\n",
    "\n",
    "\n",
    "def create_network_data(data):\n",
    "    \"\"\"\n",
    "    Function to create data necessary to generate the network plot\n",
    "    :param data:\n",
    "    :return:\n",
    "    \"\"\"\n",
    "\n",
    "    # Create empty data frame\n",
    "    return_df = pd.DataFrame()\n",
    "\n",
    "    # For each row of the data read the authors and create every possible combination\n",
    "    for i in range(0, data.shape[0]):\n",
    "        return_df = pd.concat([return_df, pd.DataFrame(list(itertools.combinations(data['author'][i], 2)))], axis=0)\n",
    "\n",
    "    return_df.columns = ['from', 'to']\n",
    "\n",
    "    return return_df\n",
    "\n",
    "\n",
    "def create_network_data_university(data):\n",
    "    \"\"\"\n",
    "    Function to create data necessary to generate the network plot\n",
    "    :param data:\n",
    "    :return:\n",
    "    \"\"\"\n",
    "\n",
    "    # Create empty data frame\n",
    "    return_df = pd.DataFrame()\n",
    "\n",
    "    # For each row of the data read the authors and create every possible combination\n",
    "    for i in range(0, data.shape[0]):\n",
    "        return_df = pd.concat([return_df, pd.DataFrame(list(itertools.combinations(data['affiliations'][i], 2)))], axis=0)\n",
    "\n",
    "    return_df.columns = ['from', 'to']\n",
    "\n",
    "    return return_df\n",
    "\n",
    "\n",
    "def generate_network_plot(df_journal, label):\n",
    "    \"\"\"\n",
    "\n",
    "    :param df_journal:\n",
    "    :return:\n",
    "    \"\"\"\n",
    "\n",
    "    # Create network dataframe\n",
    "    network_data = create_network_data(df_journal)\n",
    "\n",
    "    # Create new column with number of publications by authors\n",
    "    network_data['count'] = ''\n",
    "\n",
    "    n_publications = network_data['from'].value_counts()\n",
    "\n",
    "    # Set the number of publications to each author\n",
    "    for name in n_publications.index:\n",
    "        network_data.loc[(network_data['from'] == name), 'count'] = int(\n",
    "            n_publications[n_publications.index == name].values)\n",
    "\n",
    "    # Build your graph\n",
    "    G = nx.from_pandas_dataframe(network_data, 'from', 'to')\n",
    "\n",
    "    # labels = {}\n",
    "    #\n",
    "    # for node in G.nodes():\n",
    "    #     if node in list(network_data['label'].dropna().values):\n",
    "    #         labels[node] = node\n",
    "\n",
    "    # Plot it\n",
    "    nx.draw(G, with_labels=label, node_size=list(network_data['count'].values * 30))\n",
    "    plt.show()\n",
    "\n",
    "    # g = nx.Graph()\n",
    "    # g.add_nodes_from(network_data['from'].unique()[0:10])\n",
    "    # g.add_edges_from([tuple(x) for x in list(network_data[['from', 'to']].values)])\n",
    "    # node_sizes = list(network_data['from'].value_counts()[0:10])\n",
    "    #\n",
    "    # nx.draw_circular(g, node_size=node_sizes, with_labels=False)\n",
    "\n",
    "\n",
    "def generate_network_plot_univ(network_data, label):\n",
    "    \"\"\"\n",
    "\n",
    "    :param df_journal:\n",
    "    :return:\n",
    "    \"\"\"\n",
    "\n",
    "    # Create new column with number of publications by authors\n",
    "    network_data['count'] = ''\n",
    "\n",
    "    n_publications = network_data['from'].value_counts()\n",
    "\n",
    "    # Set the number of publications to each author\n",
    "    for name in n_publications.index:\n",
    "        network_data.loc[(network_data['from'] == name), 'count'] = int(\n",
    "            n_publications[n_publications.index == name].values)\n",
    "\n",
    "    # Build your graph\n",
    "    G = nx.from_pandas_dataframe(network_data, 'from', 'to')\n",
    "\n",
    "    # labels = {}\n",
    "    #\n",
    "    # for node in G.nodes():\n",
    "    #     if node in list(network_data['label'].dropna().values):\n",
    "    #         labels[node] = node\n",
    "\n",
    "    # Plot it\n",
    "    nx.draw(G, with_labels=label, node_size=list(network_data['count'].values * 10))\n",
    "    plt.show()\n",
    "\n",
    "    # g = nx.Graph()\n",
    "    # g.add_nodes_from(network_data['from'].unique()[0:10])\n",
    "    # g.add_edges_from([tuple(x) for x in list(network_data[['from', 'to']].values)])\n",
    "    # node_sizes = list(network_data['from'].value_counts()[0:10])\n",
    "    #\n",
    "    # nx.draw_circular(g, node_size=node_sizes, with_labels=False)\n",
    "\n",
    "\n",
    "def create_university_by_year(data):\n",
    "    \"\"\"\n",
    "\n",
    "    :param data:\n",
    "    :return:\n",
    "    \"\"\"\n",
    "\n",
    "    university = []\n",
    "    year_publish = []\n",
    "    time_publish = []\n",
    "\n",
    "    for i in range(0, data.shape[0]):\n",
    "        for j in range(0, len(data['affiliations'][i])):\n",
    "            print data['affiliations'][i][j]\n",
    "            affiliations = data['affiliations'][i][j].split(',')\n",
    "            b = [x if re.search('(University|College|Institute)', x, re.IGNORECASE) else None for x in affiliations]\n",
    "            try:\n",
    "                c = filter(None, b)\n",
    "                c = c[len(c) - 1]\n",
    "                university.append(c.strip())\n",
    "                year_publish.append(data['year_publish'][i])\n",
    "                time_publish.append(data['time_publish'][i])\n",
    "            except:\n",
    "                continue\n",
    "\n",
    "    return pd.DataFrame(data={'university': university, 'year_publish': year_publish, 'time_publish': time_publish})\n",
    "\n",
    "\n",
    "def change_affiliation(affiliations):\n",
    "    \"\"\"\n",
    "\n",
    "    :param affiliations: data['affiliations'][0]\n",
    "    :return:\n",
    "    \"\"\"\n",
    "\n",
    "    new_affiliation = []\n",
    "    for affiliation in affiliations:\n",
    "        b = [x if re.search('(University|College|Institute)', x, re.IGNORECASE) else None for x in affiliation.split(',')]\n",
    "\n",
    "        try:\n",
    "            c = filter(None, b)\n",
    "            c = c[len(c) - 1].strip()\n",
    "            new_affiliation.append(c)\n",
    "        except:\n",
    "            continue\n",
    "\n",
    "    return new_affiliation\n",
    "\n",
    "\n",
    "def get_word_count(astring):\n",
    "    \"\"\"\n",
    "    \n",
    "    :param astring: \n",
    "    :return: \n",
    "    \"\"\"\n",
    "    stopwords = set(STOPWORDS)\n",
    "    stopwords.add('Keywords')\n",
    "    stopwords.add('Keyword')\n",
    "    stopwords.add('model')\n",
    "    stopwords.add('models')\n",
    "    stopwords.add('may')\n",
    "    stopwords.add('one')\n",
    "    stopwords.add('two')\n",
    "    stopwords.add('three')\n",
    "    yet_another_list = list(set(ntlk_stop.words('english')))\n",
    "    \n",
    "    stopwords = [x.lower() for x in stopwords]\n",
    "    stopwords = list(stopwords)\n",
    "    stopwords.extend(yet_another_list)\n",
    "    alist = astring.lower().strip().split()\n",
    "    alist = [x for x in alist if x not in stopwords]\n",
    "    return Counter(alist).most_common(50)\n",
    "\n",
    "\n",
    "def func1(alist_of_tuples, item_to_check):\n",
    "    try:\n",
    "        return [x[1] for x in alist_of_tuples if x[0] == item_to_check][0]\n",
    "    except IndexError:\n",
    "        return np.nan\n",
    "\n",
    "\n",
    "def flatten_list_of_tuples(list_of_tuples):\n",
    "    list_fixed_words = []\n",
    "    for item in fixed_words:\n",
    "        list_fixed_words.append(item[0])\n",
    "    return list_fixed_words\n",
    "\n",
    "# Convert received, accepted, and published dates to datetime\n",
    "# MSOM journal\n",
    "df_msom['received_date'] = df_msom['received_date'].apply(convert_date)\n",
    "df_msom['accepted_date'] = df_msom['accepted_date'].apply(convert_date)\n",
    "df_msom['published_date'] = df_msom['published_date'].apply(convert_date)\n",
    "\n",
    "# MNSC journal\n",
    "df_mnsc['received_date'] = df_mnsc['received_date'].apply(convert_date)\n",
    "df_mnsc['accepted_date'] = df_mnsc['accepted_date'].apply(convert_date)\n",
    "df_mnsc['published_date'] = df_mnsc['published_date'].apply(convert_date)\n",
    "\n",
    "# Create new attribute total time to publish\n",
    "df_msom['time_publish'] = df_msom['published_date'] - df_msom['received_date']\n",
    "df_mnsc['time_publish'] = df_mnsc['published_date'] - df_mnsc['received_date']\n",
    "\n",
    "# Create new attribute with the year of publication\n",
    "df_msom['year_publish'] = df_msom['published_date'].dt.year\n",
    "df_mnsc['year_publish'] = df_mnsc['published_date'].dt.year\n",
    "\n",
    "# Fill missing values for the year of publication with 1\n",
    "df_msom['year_publish'].fillna(1, inplace=True)\n",
    "df_mnsc['year_publish'].fillna(1, inplace=True)\n",
    "\n",
    "# Convert year of publication to integer\n",
    "df_msom['year_publish'] = df_msom['year_publish'].astype(int)\n",
    "df_mnsc['year_publish'] = df_mnsc['year_publish'].astype(int)\n",
    "\n",
    "# Get number of days for publication\n",
    "df_msom['time_publish'] = df_msom['time_publish'].dt.days\n",
    "df_mnsc['time_publish'] = df_mnsc['time_publish'].dt.days\n",
    "\n",
    "\n",
    "#### CREATE WORD FREQ\n",
    "df_mnsc['word_freq'] = df_mnsc['abstract'].apply(get_word_count)\n",
    "yearly_abs = df_mnsc.groupby(['year_publish'])['abstract'].apply(lambda x: ' '.join(x))\n",
    "yearly_abs = pd.DataFrame(yearly_abs)\n",
    "yearly_abs['word_count'] = yearly_abs['abstract'].apply(get_word_count)\n",
    "fixed_words = ' '.join(df_mnsc['abstract'].values)\n",
    "fixed_words = get_word_count(fixed_words)\n",
    "fixed_words_list = [x[0] for x in fixed_words]\n",
    "fixed_words_list.extend(['abstract'])\n",
    "\n",
    "\n",
    "for item in fixed_words:\n",
    "    df_mnsc[item[0]] = np.nan\n",
    "    df_mnsc[item[0]] = df_mnsc['word_freq'].apply(func1, args=(item[0], ))\n",
    "\n",
    "i = 0\n",
    "for item in fixed_words:\n",
    "    a = pd.DataFrame(df_mnsc[[item[0], 'year_publish']].groupby('year_publish').sum())\n",
    "    a.columns = ['freq_words']\n",
    "    b = pd.DataFrame(df_mnsc[[item[0], 'year_publish']].groupby('year_publish').count())\n",
    "    b.columns = ['number_of_papers']\n",
    "    a = pd.concat([a, b], axis=1)\n",
    "    a['words'] = item[0]\n",
    "    if i == 0:\n",
    "        c = a\n",
    "    else:\n",
    "        c = c.append(a)\n",
    "    i += 1\n",
    "\n",
    "c['freq_per_paper'] = c['freq_words'] / c['number_of_papers']\n",
    "c.fillna(0, inplace=True)\n",
    "\n",
    "c['year'] = c.index.values\n",
    "c = c[c['year'] != 1]\n",
    "c.reset_index(inplace=True)\n"
   ]
  },
  {
   "cell_type": "code",
   "execution_count": 18,
   "metadata": {},
   "outputs": [
    {
     "data": {
      "text/html": [
       "<script>requirejs.config({paths: { 'plotly': ['https://cdn.plot.ly/plotly-latest.min']},});if(!window.Plotly) {{require(['plotly'],function(plotly) {window.Plotly=plotly;});}}</script>"
      ],
      "text/vnd.plotly.v1+html": [
       "<script>requirejs.config({paths: { 'plotly': ['https://cdn.plot.ly/plotly-latest.min']},});if(!window.Plotly) {{require(['plotly'],function(plotly) {window.Plotly=plotly;});}}</script>"
      ]
     },
     "metadata": {},
     "output_type": "display_data"
    },
    {
     "data": {
      "application/vnd.plotly.v1+json": {
       "data": [
        {
         "marker": {
          "size": [
           1
          ],
          "sizemode": "area",
          "sizeref": 0.2
         },
         "mode": "markers",
         "name": "find",
         "text": [
          "find"
         ],
         "x": [
          1
         ],
         "y": [
          1
         ]
        },
        {
         "marker": {
          "size": [
           3
          ],
          "sizemode": "area",
          "sizeref": 0.2
         },
         "mode": "markers",
         "name": "firms",
         "text": [
          "firms"
         ],
         "x": [
          1
         ],
         "y": [
          3
         ]
        },
        {
         "marker": {
          "size": [
           0
          ],
          "sizemode": "area",
          "sizeref": 0.2
         },
         "mode": "markers",
         "name": "information",
         "text": [
          "information"
         ],
         "x": [
          0
         ],
         "y": [
          0
         ]
        },
        {
         "marker": {
          "size": [
           0
          ],
          "sizemode": "area",
          "sizeref": 0.2
         },
         "mode": "markers",
         "name": "show",
         "text": [
          "show"
         ],
         "x": [
          0
         ],
         "y": [
          0
         ]
        },
        {
         "marker": {
          "size": [
           0
          ],
          "sizemode": "area",
          "sizeref": 0.2
         },
         "mode": "markers",
         "name": "product",
         "text": [
          "product"
         ],
         "x": [
          0
         ],
         "y": [
          0
         ]
        },
        {
         "marker": {
          "size": [
           1
          ],
          "sizemode": "area",
          "sizeref": 0.2
         },
         "mode": "markers",
         "name": "market",
         "text": [
          "market"
         ],
         "x": [
          1
         ],
         "y": [
          1
         ]
        },
        {
         "marker": {
          "size": [
           1
          ],
          "sizemode": "area",
          "sizeref": 0.2
         },
         "mode": "markers",
         "name": "results",
         "text": [
          "results"
         ],
         "x": [
          1
         ],
         "y": [
          1
         ]
        },
        {
         "marker": {
          "size": [
           0
          ],
          "sizemode": "area",
          "sizeref": 0.2
         },
         "mode": "markers",
         "name": "firm",
         "text": [
          "firm"
         ],
         "x": [
          0
         ],
         "y": [
          0
         ]
        },
        {
         "marker": {
          "size": [
           0
          ],
          "sizemode": "area",
          "sizeref": 0.2
         },
         "mode": "markers",
         "name": "may",
         "text": [
          "may"
         ],
         "x": [
          0
         ],
         "y": [
          0
         ]
        },
        {
         "marker": {
          "size": [
           1
          ],
          "sizemode": "area",
          "sizeref": 0.2
         },
         "mode": "markers",
         "name": "using",
         "text": [
          "using"
         ],
         "x": [
          1
         ],
         "y": [
          1
         ]
        },
        {
         "marker": {
          "size": [
           3
          ],
          "sizemode": "area",
          "sizeref": 0.2
         },
         "mode": "markers",
         "name": "data",
         "text": [
          "data"
         ],
         "x": [
          1
         ],
         "y": [
          3
         ]
        },
        {
         "marker": {
          "size": [
           2
          ],
          "sizemode": "area",
          "sizeref": 0.2
         },
         "mode": "markers",
         "name": "risk",
         "text": [
          "risk"
         ],
         "x": [
          1
         ],
         "y": [
          2
         ]
        },
        {
         "marker": {
          "size": [
           1
          ],
          "sizemode": "area",
          "sizeref": 0.2
         },
         "mode": "markers",
         "name": "two",
         "text": [
          "two"
         ],
         "x": [
          1
         ],
         "y": [
          1
         ]
        },
        {
         "marker": {
          "size": [
           0
          ],
          "sizemode": "area",
          "sizeref": 0.2
         },
         "mode": "markers",
         "name": "effect",
         "text": [
          "effect"
         ],
         "x": [
          0
         ],
         "y": [
          0
         ]
        },
        {
         "marker": {
          "size": [
           0
          ],
          "sizemode": "area",
          "sizeref": 0.2
         },
         "mode": "markers",
         "name": "price",
         "text": [
          "price"
         ],
         "x": [
          0
         ],
         "y": [
          0
         ]
        },
        {
         "marker": {
          "size": [
           0
          ],
          "sizemode": "area",
          "sizeref": 0.2
         },
         "mode": "markers",
         "name": "optimal",
         "text": [
          "optimal"
         ],
         "x": [
          0
         ],
         "y": [
          0
         ]
        },
        {
         "marker": {
          "size": [
           0
          ],
          "sizemode": "area",
          "sizeref": 0.2
         },
         "mode": "markers",
         "name": "performance",
         "text": [
          "performance"
         ],
         "x": [
          0
         ],
         "y": [
          0
         ]
        },
        {
         "marker": {
          "size": [
           1
          ],
          "sizemode": "area",
          "sizeref": 0.2
         },
         "mode": "markers",
         "name": "paper",
         "text": [
          "paper"
         ],
         "x": [
          1
         ],
         "y": [
          1
         ]
        },
        {
         "marker": {
          "size": [
           0
          ],
          "sizemode": "area",
          "sizeref": 0.2
         },
         "mode": "markers",
         "name": "study",
         "text": [
          "study"
         ],
         "x": [
          0
         ],
         "y": [
          0
         ]
        },
        {
         "marker": {
          "size": [
           0
          ],
          "sizemode": "area",
          "sizeref": 0.2
         },
         "mode": "markers",
         "name": "higher",
         "text": [
          "higher"
         ],
         "x": [
          0
         ],
         "y": [
          0
         ]
        },
        {
         "marker": {
          "size": [
           0
          ],
          "sizemode": "area",
          "sizeref": 0.2
         },
         "mode": "markers",
         "name": "demand",
         "text": [
          "demand"
         ],
         "x": [
          0
         ],
         "y": [
          0
         ]
        },
        {
         "marker": {
          "size": [
           0
          ],
          "sizemode": "area",
          "sizeref": 0.2
         },
         "mode": "markers",
         "name": "new",
         "text": [
          "new"
         ],
         "x": [
          0
         ],
         "y": [
          0
         ]
        },
        {
         "marker": {
          "size": [
           0
          ],
          "sizemode": "area",
          "sizeref": 0.2
         },
         "mode": "markers",
         "name": "use",
         "text": [
          "use"
         ],
         "x": [
          0
         ],
         "y": [
          0
         ]
        },
        {
         "marker": {
          "size": [
           0
          ],
          "sizemode": "area",
          "sizeref": 0.2
         },
         "mode": "markers",
         "name": "consumers",
         "text": [
          "consumers"
         ],
         "x": [
          0
         ],
         "y": [
          0
         ]
        },
        {
         "marker": {
          "size": [
           0
          ],
          "sizemode": "area",
          "sizeref": 0.2
         },
         "mode": "markers",
         "name": "value",
         "text": [
          "value"
         ],
         "x": [
          0
         ],
         "y": [
          0
         ]
        },
        {
         "marker": {
          "size": [
           0
          ],
          "sizemode": "area",
          "sizeref": 0.2
         },
         "mode": "markers",
         "name": "increase",
         "text": [
          "increase"
         ],
         "x": [
          0
         ],
         "y": [
          0
         ]
        },
        {
         "marker": {
          "size": [
           0
          ],
          "sizemode": "area",
          "sizeref": 0.2
         },
         "mode": "markers",
         "name": "effects",
         "text": [
          "effects"
         ],
         "x": [
          0
         ],
         "y": [
          0
         ]
        },
        {
         "marker": {
          "size": [
           1
          ],
          "sizemode": "area",
          "sizeref": 0.2
         },
         "mode": "markers",
         "name": "evidence",
         "text": [
          "evidence"
         ],
         "x": [
          1
         ],
         "y": [
          1
         ]
        },
        {
         "marker": {
          "size": [
           0
          ],
          "sizemode": "area",
          "sizeref": 0.2
         },
         "mode": "markers",
         "name": "social",
         "text": [
          "social"
         ],
         "x": [
          0
         ],
         "y": [
          0
         ]
        },
        {
         "marker": {
          "size": [
           0
          ],
          "sizemode": "area",
          "sizeref": 0.2
         },
         "mode": "markers",
         "name": "impact",
         "text": [
          "impact"
         ],
         "x": [
          0
         ],
         "y": [
          0
         ]
        },
        {
         "marker": {
          "size": [
           0
          ],
          "sizemode": "area",
          "sizeref": 0.2
         },
         "mode": "markers",
         "name": "cost",
         "text": [
          "cost"
         ],
         "x": [
          0
         ],
         "y": [
          0
         ]
        },
        {
         "marker": {
          "size": [
           0
          ],
          "sizemode": "area",
          "sizeref": 0.2
         },
         "mode": "markers",
         "name": "quality",
         "text": [
          "quality"
         ],
         "x": [
          0
         ],
         "y": [
          0
         ]
        },
        {
         "marker": {
          "size": [
           0
          ],
          "sizemode": "area",
          "sizeref": 0.2
         },
         "mode": "markers",
         "name": "different",
         "text": [
          "different"
         ],
         "x": [
          0
         ],
         "y": [
          0
         ]
        },
        {
         "marker": {
          "size": [
           0
          ],
          "sizemode": "area",
          "sizeref": 0.2
         },
         "mode": "markers",
         "name": "one",
         "text": [
          "one"
         ],
         "x": [
          0
         ],
         "y": [
          0
         ]
        },
        {
         "marker": {
          "size": [
           0
          ],
          "sizemode": "area",
          "sizeref": 0.2
         },
         "mode": "markers",
         "name": "however,",
         "text": [
          "however,"
         ],
         "x": [
          0
         ],
         "y": [
          0
         ]
        },
        {
         "marker": {
          "size": [
           0
          ],
          "sizemode": "area",
          "sizeref": 0.2
         },
         "mode": "markers",
         "name": "products",
         "text": [
          "products"
         ],
         "x": [
          0
         ],
         "y": [
          0
         ]
        },
        {
         "marker": {
          "size": [
           0
          ],
          "sizemode": "area",
          "sizeref": 0.2
         },
         "mode": "markers",
         "name": "consumer",
         "text": [
          "consumer"
         ],
         "x": [
          0
         ],
         "y": [
          0
         ]
        },
        {
         "marker": {
          "size": [
           6
          ],
          "sizemode": "area",
          "sizeref": 0.2
         },
         "mode": "markers",
         "name": "financial",
         "text": [
          "financial"
         ],
         "x": [
          1
         ],
         "y": [
          6
         ]
        },
        {
         "marker": {
          "size": [
           0
          ],
          "sizemode": "area",
          "sizeref": 0.2
         },
         "mode": "markers",
         "name": "lower",
         "text": [
          "lower"
         ],
         "x": [
          0
         ],
         "y": [
          0
         ]
        },
        {
         "marker": {
          "size": [
           0
          ],
          "sizemode": "area",
          "sizeref": 0.2
         },
         "mode": "markers",
         "name": "likely",
         "text": [
          "likely"
         ],
         "x": [
          0
         ],
         "y": [
          0
         ]
        },
        {
         "marker": {
          "size": [
           0
          ],
          "sizemode": "area",
          "sizeref": 0.2
         },
         "mode": "markers",
         "name": "pricing",
         "text": [
          "pricing"
         ],
         "x": [
          0
         ],
         "y": [
          0
         ]
        },
        {
         "marker": {
          "size": [
           0
          ],
          "sizemode": "area",
          "sizeref": 0.2
         },
         "mode": "markers",
         "name": "based",
         "text": [
          "based"
         ],
         "x": [
          0
         ],
         "y": [
          0
         ]
        },
        {
         "marker": {
          "size": [
           0
          ],
          "sizemode": "area",
          "sizeref": 0.2
         },
         "mode": "markers",
         "name": "less",
         "text": [
          "less"
         ],
         "x": [
          0
         ],
         "y": [
          0
         ]
        },
        {
         "marker": {
          "size": [
           0
          ],
          "sizemode": "area",
          "sizeref": 0.2
         },
         "mode": "markers",
         "name": "whether",
         "text": [
          "whether"
         ],
         "x": [
          0
         ],
         "y": [
          0
         ]
        },
        {
         "marker": {
          "size": [
           2
          ],
          "sizemode": "area",
          "sizeref": 0.2
         },
         "mode": "markers",
         "name": "set",
         "text": [
          "set"
         ],
         "x": [
          1
         ],
         "y": [
          2
         ]
        },
        {
         "marker": {
          "size": [
           0
          ],
          "sizemode": "area",
          "sizeref": 0.2
         },
         "mode": "markers",
         "name": "policy",
         "text": [
          "policy"
         ],
         "x": [
          0
         ],
         "y": [
          0
         ]
        },
        {
         "marker": {
          "size": [
           0
          ],
          "sizemode": "area",
          "sizeref": 0.2
         },
         "mode": "markers",
         "name": "decision",
         "text": [
          "decision"
         ],
         "x": [
          0
         ],
         "y": [
          0
         ]
        },
        {
         "marker": {
          "size": [
           0
          ],
          "sizemode": "area",
          "sizeref": 0.2
         },
         "mode": "markers",
         "name": "high",
         "text": [
          "high"
         ],
         "x": [
          0
         ],
         "y": [
          0
         ]
        },
        {
         "marker": {
          "size": [
           0
          ],
          "sizemode": "area",
          "sizeref": 0.2
         },
         "mode": "markers",
         "name": "problem",
         "text": [
          "problem"
         ],
         "x": [
          0
         ],
         "y": [
          0
         ]
        },
        {
         "marker": {
          "size": [
           0
          ],
          "sizemode": "area",
          "sizeref": 0.2
         },
         "mode": "markers",
         "name": "sales",
         "text": [
          "sales"
         ],
         "x": [
          0
         ],
         "y": [
          0
         ]
        }
       ],
       "frames": [
        {
         "data": [
          {
           "marker": {
            "size": [
             0
            ],
            "sizemode": "area",
            "sizeref": 0.2
           },
           "mode": "markers",
           "name": "find",
           "text": [
            "find"
           ],
           "x": [
            0
           ],
           "y": [
            0
           ]
          },
          {
           "marker": {
            "size": [
             2
            ],
            "sizemode": "area",
            "sizeref": 0.2
           },
           "mode": "markers",
           "name": "firms",
           "text": [
            "firms"
           ],
           "x": [
            1
           ],
           "y": [
            2
           ]
          },
          {
           "marker": {
            "size": [
             0
            ],
            "sizemode": "area",
            "sizeref": 0.2
           },
           "mode": "markers",
           "name": "information",
           "text": [
            "information"
           ],
           "x": [
            0
           ],
           "y": [
            0
           ]
          },
          {
           "marker": {
            "size": [
             0
            ],
            "sizemode": "area",
            "sizeref": 0.2
           },
           "mode": "markers",
           "name": "show",
           "text": [
            "show"
           ],
           "x": [
            0
           ],
           "y": [
            0
           ]
          },
          {
           "marker": {
            "size": [
             0
            ],
            "sizemode": "area",
            "sizeref": 0.2
           },
           "mode": "markers",
           "name": "product",
           "text": [
            "product"
           ],
           "x": [
            0
           ],
           "y": [
            0
           ]
          },
          {
           "marker": {
            "size": [
             2
            ],
            "sizemode": "area",
            "sizeref": 0.2
           },
           "mode": "markers",
           "name": "market",
           "text": [
            "market"
           ],
           "x": [
            1
           ],
           "y": [
            2
           ]
          },
          {
           "marker": {
            "size": [
             1
            ],
            "sizemode": "area",
            "sizeref": 0.2
           },
           "mode": "markers",
           "name": "results",
           "text": [
            "results"
           ],
           "x": [
            1
           ],
           "y": [
            1
           ]
          },
          {
           "marker": {
            "size": [
             0
            ],
            "sizemode": "area",
            "sizeref": 0.2
           },
           "mode": "markers",
           "name": "firm",
           "text": [
            "firm"
           ],
           "x": [
            0
           ],
           "y": [
            0
           ]
          },
          {
           "marker": {
            "size": [
             0
            ],
            "sizemode": "area",
            "sizeref": 0.2
           },
           "mode": "markers",
           "name": "may",
           "text": [
            "may"
           ],
           "x": [
            0
           ],
           "y": [
            0
           ]
          },
          {
           "marker": {
            "size": [
             1
            ],
            "sizemode": "area",
            "sizeref": 0.2
           },
           "mode": "markers",
           "name": "using",
           "text": [
            "using"
           ],
           "x": [
            1
           ],
           "y": [
            1
           ]
          },
          {
           "marker": {
            "size": [
             0
            ],
            "sizemode": "area",
            "sizeref": 0.2
           },
           "mode": "markers",
           "name": "data",
           "text": [
            "data"
           ],
           "x": [
            0
           ],
           "y": [
            0
           ]
          },
          {
           "marker": {
            "size": [
             0
            ],
            "sizemode": "area",
            "sizeref": 0.2
           },
           "mode": "markers",
           "name": "risk",
           "text": [
            "risk"
           ],
           "x": [
            0
           ],
           "y": [
            0
           ]
          },
          {
           "marker": {
            "size": [
             0
            ],
            "sizemode": "area",
            "sizeref": 0.2
           },
           "mode": "markers",
           "name": "two",
           "text": [
            "two"
           ],
           "x": [
            0
           ],
           "y": [
            0
           ]
          },
          {
           "marker": {
            "size": [
             0
            ],
            "sizemode": "area",
            "sizeref": 0.2
           },
           "mode": "markers",
           "name": "effect",
           "text": [
            "effect"
           ],
           "x": [
            0
           ],
           "y": [
            0
           ]
          },
          {
           "marker": {
            "size": [
             0
            ],
            "sizemode": "area",
            "sizeref": 0.2
           },
           "mode": "markers",
           "name": "price",
           "text": [
            "price"
           ],
           "x": [
            0
           ],
           "y": [
            0
           ]
          },
          {
           "marker": {
            "size": [
             0
            ],
            "sizemode": "area",
            "sizeref": 0.2
           },
           "mode": "markers",
           "name": "optimal",
           "text": [
            "optimal"
           ],
           "x": [
            0
           ],
           "y": [
            0
           ]
          },
          {
           "marker": {
            "size": [
             0
            ],
            "sizemode": "area",
            "sizeref": 0.2
           },
           "mode": "markers",
           "name": "performance",
           "text": [
            "performance"
           ],
           "x": [
            0
           ],
           "y": [
            0
           ]
          },
          {
           "marker": {
            "size": [
             0
            ],
            "sizemode": "area",
            "sizeref": 0.2
           },
           "mode": "markers",
           "name": "paper",
           "text": [
            "paper"
           ],
           "x": [
            0
           ],
           "y": [
            0
           ]
          },
          {
           "marker": {
            "size": [
             1
            ],
            "sizemode": "area",
            "sizeref": 0.2
           },
           "mode": "markers",
           "name": "study",
           "text": [
            "study"
           ],
           "x": [
            1
           ],
           "y": [
            1
           ]
          },
          {
           "marker": {
            "size": [
             0
            ],
            "sizemode": "area",
            "sizeref": 0.2
           },
           "mode": "markers",
           "name": "higher",
           "text": [
            "higher"
           ],
           "x": [
            0
           ],
           "y": [
            0
           ]
          },
          {
           "marker": {
            "size": [
             0
            ],
            "sizemode": "area",
            "sizeref": 0.2
           },
           "mode": "markers",
           "name": "demand",
           "text": [
            "demand"
           ],
           "x": [
            0
           ],
           "y": [
            0
           ]
          },
          {
           "marker": {
            "size": [
             1
            ],
            "sizemode": "area",
            "sizeref": 0.2
           },
           "mode": "markers",
           "name": "new",
           "text": [
            "new"
           ],
           "x": [
            1
           ],
           "y": [
            1
           ]
          },
          {
           "marker": {
            "size": [
             0
            ],
            "sizemode": "area",
            "sizeref": 0.2
           },
           "mode": "markers",
           "name": "use",
           "text": [
            "use"
           ],
           "x": [
            0
           ],
           "y": [
            0
           ]
          },
          {
           "marker": {
            "size": [
             0
            ],
            "sizemode": "area",
            "sizeref": 0.2
           },
           "mode": "markers",
           "name": "consumers",
           "text": [
            "consumers"
           ],
           "x": [
            0
           ],
           "y": [
            0
           ]
          },
          {
           "marker": {
            "size": [
             0
            ],
            "sizemode": "area",
            "sizeref": 0.2
           },
           "mode": "markers",
           "name": "value",
           "text": [
            "value"
           ],
           "x": [
            0
           ],
           "y": [
            0
           ]
          },
          {
           "marker": {
            "size": [
             0
            ],
            "sizemode": "area",
            "sizeref": 0.2
           },
           "mode": "markers",
           "name": "increase",
           "text": [
            "increase"
           ],
           "x": [
            0
           ],
           "y": [
            0
           ]
          },
          {
           "marker": {
            "size": [
             0
            ],
            "sizemode": "area",
            "sizeref": 0.2
           },
           "mode": "markers",
           "name": "effects",
           "text": [
            "effects"
           ],
           "x": [
            0
           ],
           "y": [
            0
           ]
          },
          {
           "marker": {
            "size": [
             0
            ],
            "sizemode": "area",
            "sizeref": 0.2
           },
           "mode": "markers",
           "name": "evidence",
           "text": [
            "evidence"
           ],
           "x": [
            0
           ],
           "y": [
            0
           ]
          },
          {
           "marker": {
            "size": [
             0
            ],
            "sizemode": "area",
            "sizeref": 0.2
           },
           "mode": "markers",
           "name": "social",
           "text": [
            "social"
           ],
           "x": [
            0
           ],
           "y": [
            0
           ]
          },
          {
           "marker": {
            "size": [
             1
            ],
            "sizemode": "area",
            "sizeref": 0.2
           },
           "mode": "markers",
           "name": "impact",
           "text": [
            "impact"
           ],
           "x": [
            1
           ],
           "y": [
            1
           ]
          },
          {
           "marker": {
            "size": [
             0
            ],
            "sizemode": "area",
            "sizeref": 0.2
           },
           "mode": "markers",
           "name": "cost",
           "text": [
            "cost"
           ],
           "x": [
            0
           ],
           "y": [
            0
           ]
          },
          {
           "marker": {
            "size": [
             0
            ],
            "sizemode": "area",
            "sizeref": 0.2
           },
           "mode": "markers",
           "name": "quality",
           "text": [
            "quality"
           ],
           "x": [
            0
           ],
           "y": [
            0
           ]
          },
          {
           "marker": {
            "size": [
             0
            ],
            "sizemode": "area",
            "sizeref": 0.2
           },
           "mode": "markers",
           "name": "different",
           "text": [
            "different"
           ],
           "x": [
            0
           ],
           "y": [
            0
           ]
          },
          {
           "marker": {
            "size": [
             0
            ],
            "sizemode": "area",
            "sizeref": 0.2
           },
           "mode": "markers",
           "name": "one",
           "text": [
            "one"
           ],
           "x": [
            0
           ],
           "y": [
            0
           ]
          },
          {
           "marker": {
            "size": [
             0
            ],
            "sizemode": "area",
            "sizeref": 0.2
           },
           "mode": "markers",
           "name": "however,",
           "text": [
            "however,"
           ],
           "x": [
            0
           ],
           "y": [
            0
           ]
          },
          {
           "marker": {
            "size": [
             0
            ],
            "sizemode": "area",
            "sizeref": 0.2
           },
           "mode": "markers",
           "name": "products",
           "text": [
            "products"
           ],
           "x": [
            0
           ],
           "y": [
            0
           ]
          },
          {
           "marker": {
            "size": [
             0
            ],
            "sizemode": "area",
            "sizeref": 0.2
           },
           "mode": "markers",
           "name": "consumer",
           "text": [
            "consumer"
           ],
           "x": [
            0
           ],
           "y": [
            0
           ]
          },
          {
           "marker": {
            "size": [
             2
            ],
            "sizemode": "area",
            "sizeref": 0.2
           },
           "mode": "markers",
           "name": "financial",
           "text": [
            "financial"
           ],
           "x": [
            1
           ],
           "y": [
            2
           ]
          },
          {
           "marker": {
            "size": [
             0
            ],
            "sizemode": "area",
            "sizeref": 0.2
           },
           "mode": "markers",
           "name": "lower",
           "text": [
            "lower"
           ],
           "x": [
            0
           ],
           "y": [
            0
           ]
          },
          {
           "marker": {
            "size": [
             0
            ],
            "sizemode": "area",
            "sizeref": 0.2
           },
           "mode": "markers",
           "name": "likely",
           "text": [
            "likely"
           ],
           "x": [
            0
           ],
           "y": [
            0
           ]
          },
          {
           "marker": {
            "size": [
             0
            ],
            "sizemode": "area",
            "sizeref": 0.2
           },
           "mode": "markers",
           "name": "pricing",
           "text": [
            "pricing"
           ],
           "x": [
            0
           ],
           "y": [
            0
           ]
          },
          {
           "marker": {
            "size": [
             0
            ],
            "sizemode": "area",
            "sizeref": 0.2
           },
           "mode": "markers",
           "name": "based",
           "text": [
            "based"
           ],
           "x": [
            0
           ],
           "y": [
            0
           ]
          },
          {
           "marker": {
            "size": [
             0
            ],
            "sizemode": "area",
            "sizeref": 0.2
           },
           "mode": "markers",
           "name": "less",
           "text": [
            "less"
           ],
           "x": [
            0
           ],
           "y": [
            0
           ]
          },
          {
           "marker": {
            "size": [
             0
            ],
            "sizemode": "area",
            "sizeref": 0.2
           },
           "mode": "markers",
           "name": "whether",
           "text": [
            "whether"
           ],
           "x": [
            0
           ],
           "y": [
            0
           ]
          },
          {
           "marker": {
            "size": [
             0
            ],
            "sizemode": "area",
            "sizeref": 0.2
           },
           "mode": "markers",
           "name": "set",
           "text": [
            "set"
           ],
           "x": [
            0
           ],
           "y": [
            0
           ]
          },
          {
           "marker": {
            "size": [
             0
            ],
            "sizemode": "area",
            "sizeref": 0.2
           },
           "mode": "markers",
           "name": "policy",
           "text": [
            "policy"
           ],
           "x": [
            0
           ],
           "y": [
            0
           ]
          },
          {
           "marker": {
            "size": [
             0
            ],
            "sizemode": "area",
            "sizeref": 0.2
           },
           "mode": "markers",
           "name": "decision",
           "text": [
            "decision"
           ],
           "x": [
            0
           ],
           "y": [
            0
           ]
          },
          {
           "marker": {
            "size": [
             0
            ],
            "sizemode": "area",
            "sizeref": 0.2
           },
           "mode": "markers",
           "name": "high",
           "text": [
            "high"
           ],
           "x": [
            0
           ],
           "y": [
            0
           ]
          },
          {
           "marker": {
            "size": [
             0
            ],
            "sizemode": "area",
            "sizeref": 0.2
           },
           "mode": "markers",
           "name": "problem",
           "text": [
            "problem"
           ],
           "x": [
            0
           ],
           "y": [
            0
           ]
          },
          {
           "marker": {
            "size": [
             0
            ],
            "sizemode": "area",
            "sizeref": 0.2
           },
           "mode": "markers",
           "name": "sales",
           "text": [
            "sales"
           ],
           "x": [
            0
           ],
           "y": [
            0
           ]
          }
         ],
         "name": "2010"
        },
        {
         "data": [
          {
           "marker": {
            "size": [
             77
            ],
            "sizemode": "area",
            "sizeref": 0.2
           },
           "mode": "markers",
           "name": "find",
           "text": [
            "find"
           ],
           "x": [
            56
           ],
           "y": [
            1.375
           ]
          },
          {
           "marker": {
            "size": [
             62
            ],
            "sizemode": "area",
            "sizeref": 0.2
           },
           "mode": "markers",
           "name": "firms",
           "text": [
            "firms"
           ],
           "x": [
            23
           ],
           "y": [
            2.6956521739130435
           ]
          },
          {
           "marker": {
            "size": [
             49
            ],
            "sizemode": "area",
            "sizeref": 0.2
           },
           "mode": "markers",
           "name": "information",
           "text": [
            "information"
           ],
           "x": [
            23
           ],
           "y": [
            2.130434782608696
           ]
          },
          {
           "marker": {
            "size": [
             43
            ],
            "sizemode": "area",
            "sizeref": 0.2
           },
           "mode": "markers",
           "name": "show",
           "text": [
            "show"
           ],
           "x": [
            34
           ],
           "y": [
            1.2647058823529411
           ]
          },
          {
           "marker": {
            "size": [
             60
            ],
            "sizemode": "area",
            "sizeref": 0.2
           },
           "mode": "markers",
           "name": "product",
           "text": [
            "product"
           ],
           "x": [
            16
           ],
           "y": [
            3.75
           ]
          },
          {
           "marker": {
            "size": [
             54
            ],
            "sizemode": "area",
            "sizeref": 0.2
           },
           "mode": "markers",
           "name": "market",
           "text": [
            "market"
           ],
           "x": [
            27
           ],
           "y": [
            2
           ]
          },
          {
           "marker": {
            "size": [
             41
            ],
            "sizemode": "area",
            "sizeref": 0.2
           },
           "mode": "markers",
           "name": "results",
           "text": [
            "results"
           ],
           "x": [
            36
           ],
           "y": [
            1.1388888888888888
           ]
          },
          {
           "marker": {
            "size": [
             46
            ],
            "sizemode": "area",
            "sizeref": 0.2
           },
           "mode": "markers",
           "name": "firm",
           "text": [
            "firm"
           ],
           "x": [
            20
           ],
           "y": [
            2.3
           ]
          },
          {
           "marker": {
            "size": [
             37
            ],
            "sizemode": "area",
            "sizeref": 0.2
           },
           "mode": "markers",
           "name": "may",
           "text": [
            "may"
           ],
           "x": [
            21
           ],
           "y": [
            1.7619047619047619
           ]
          },
          {
           "marker": {
            "size": [
             30
            ],
            "sizemode": "area",
            "sizeref": 0.2
           },
           "mode": "markers",
           "name": "using",
           "text": [
            "using"
           ],
           "x": [
            25
           ],
           "y": [
            1.2
           ]
          },
          {
           "marker": {
            "size": [
             17
            ],
            "sizemode": "area",
            "sizeref": 0.2
           },
           "mode": "markers",
           "name": "data",
           "text": [
            "data"
           ],
           "x": [
            8
           ],
           "y": [
            2.125
           ]
          },
          {
           "marker": {
            "size": [
             34
            ],
            "sizemode": "area",
            "sizeref": 0.2
           },
           "mode": "markers",
           "name": "risk",
           "text": [
            "risk"
           ],
           "x": [
            15
           ],
           "y": [
            2.2666666666666666
           ]
          },
          {
           "marker": {
            "size": [
             33
            ],
            "sizemode": "area",
            "sizeref": 0.2
           },
           "mode": "markers",
           "name": "two",
           "text": [
            "two"
           ],
           "x": [
            24
           ],
           "y": [
            1.375
           ]
          },
          {
           "marker": {
            "size": [
             22
            ],
            "sizemode": "area",
            "sizeref": 0.2
           },
           "mode": "markers",
           "name": "effect",
           "text": [
            "effect"
           ],
           "x": [
            12
           ],
           "y": [
            1.8333333333333333
           ]
          },
          {
           "marker": {
            "size": [
             28
            ],
            "sizemode": "area",
            "sizeref": 0.2
           },
           "mode": "markers",
           "name": "price",
           "text": [
            "price"
           ],
           "x": [
            11
           ],
           "y": [
            2.5454545454545454
           ]
          },
          {
           "marker": {
            "size": [
             44
            ],
            "sizemode": "area",
            "sizeref": 0.2
           },
           "mode": "markers",
           "name": "optimal",
           "text": [
            "optimal"
           ],
           "x": [
            18
           ],
           "y": [
            2.4444444444444446
           ]
          },
          {
           "marker": {
            "size": [
             33
            ],
            "sizemode": "area",
            "sizeref": 0.2
           },
           "mode": "markers",
           "name": "performance",
           "text": [
            "performance"
           ],
           "x": [
            20
           ],
           "y": [
            1.65
           ]
          },
          {
           "marker": {
            "size": [
             38
            ],
            "sizemode": "area",
            "sizeref": 0.2
           },
           "mode": "markers",
           "name": "paper",
           "text": [
            "paper"
           ],
           "x": [
            33
           ],
           "y": [
            1.1515151515151516
           ]
          },
          {
           "marker": {
            "size": [
             12
            ],
            "sizemode": "area",
            "sizeref": 0.2
           },
           "mode": "markers",
           "name": "study",
           "text": [
            "study"
           ],
           "x": [
            8
           ],
           "y": [
            1.5
           ]
          },
          {
           "marker": {
            "size": [
             25
            ],
            "sizemode": "area",
            "sizeref": 0.2
           },
           "mode": "markers",
           "name": "higher",
           "text": [
            "higher"
           ],
           "x": [
            17
           ],
           "y": [
            1.4705882352941178
           ]
          },
          {
           "marker": {
            "size": [
             19
            ],
            "sizemode": "area",
            "sizeref": 0.2
           },
           "mode": "markers",
           "name": "demand",
           "text": [
            "demand"
           ],
           "x": [
            9
           ],
           "y": [
            2.111111111111111
           ]
          },
          {
           "marker": {
            "size": [
             25
            ],
            "sizemode": "area",
            "sizeref": 0.2
           },
           "mode": "markers",
           "name": "new",
           "text": [
            "new"
           ],
           "x": [
            18
           ],
           "y": [
            1.3888888888888888
           ]
          },
          {
           "marker": {
            "size": [
             22
            ],
            "sizemode": "area",
            "sizeref": 0.2
           },
           "mode": "markers",
           "name": "use",
           "text": [
            "use"
           ],
           "x": [
            16
           ],
           "y": [
            1.375
           ]
          },
          {
           "marker": {
            "size": [
             31
            ],
            "sizemode": "area",
            "sizeref": 0.2
           },
           "mode": "markers",
           "name": "consumers",
           "text": [
            "consumers"
           ],
           "x": [
            13
           ],
           "y": [
            2.3846153846153846
           ]
          },
          {
           "marker": {
            "size": [
             17
            ],
            "sizemode": "area",
            "sizeref": 0.2
           },
           "mode": "markers",
           "name": "value",
           "text": [
            "value"
           ],
           "x": [
            9
           ],
           "y": [
            1.8888888888888888
           ]
          },
          {
           "marker": {
            "size": [
             19
            ],
            "sizemode": "area",
            "sizeref": 0.2
           },
           "mode": "markers",
           "name": "increase",
           "text": [
            "increase"
           ],
           "x": [
            14
           ],
           "y": [
            1.3571428571428572
           ]
          },
          {
           "marker": {
            "size": [
             14
            ],
            "sizemode": "area",
            "sizeref": 0.2
           },
           "mode": "markers",
           "name": "effects",
           "text": [
            "effects"
           ],
           "x": [
            9
           ],
           "y": [
            1.5555555555555556
           ]
          },
          {
           "marker": {
            "size": [
             22
            ],
            "sizemode": "area",
            "sizeref": 0.2
           },
           "mode": "markers",
           "name": "evidence",
           "text": [
            "evidence"
           ],
           "x": [
            18
           ],
           "y": [
            1.2222222222222223
           ]
          },
          {
           "marker": {
            "size": [
             19
            ],
            "sizemode": "area",
            "sizeref": 0.2
           },
           "mode": "markers",
           "name": "social",
           "text": [
            "social"
           ],
           "x": [
            6
           ],
           "y": [
            3.1666666666666665
           ]
          },
          {
           "marker": {
            "size": [
             23
            ],
            "sizemode": "area",
            "sizeref": 0.2
           },
           "mode": "markers",
           "name": "impact",
           "text": [
            "impact"
           ],
           "x": [
            15
           ],
           "y": [
            1.5333333333333334
           ]
          },
          {
           "marker": {
            "size": [
             17
            ],
            "sizemode": "area",
            "sizeref": 0.2
           },
           "mode": "markers",
           "name": "cost",
           "text": [
            "cost"
           ],
           "x": [
            9
           ],
           "y": [
            1.8888888888888888
           ]
          },
          {
           "marker": {
            "size": [
             9
            ],
            "sizemode": "area",
            "sizeref": 0.2
           },
           "mode": "markers",
           "name": "quality",
           "text": [
            "quality"
           ],
           "x": [
            5
           ],
           "y": [
            1.8
           ]
          },
          {
           "marker": {
            "size": [
             22
            ],
            "sizemode": "area",
            "sizeref": 0.2
           },
           "mode": "markers",
           "name": "different",
           "text": [
            "different"
           ],
           "x": [
            14
           ],
           "y": [
            1.5714285714285714
           ]
          },
          {
           "marker": {
            "size": [
             30
            ],
            "sizemode": "area",
            "sizeref": 0.2
           },
           "mode": "markers",
           "name": "one",
           "text": [
            "one"
           ],
           "x": [
            19
           ],
           "y": [
            1.5789473684210527
           ]
          },
          {
           "marker": {
            "size": [
             3
            ],
            "sizemode": "area",
            "sizeref": 0.2
           },
           "mode": "markers",
           "name": "however,",
           "text": [
            "however,"
           ],
           "x": [
            2
           ],
           "y": [
            1.5
           ]
          },
          {
           "marker": {
            "size": [
             14
            ],
            "sizemode": "area",
            "sizeref": 0.2
           },
           "mode": "markers",
           "name": "products",
           "text": [
            "products"
           ],
           "x": [
            7
           ],
           "y": [
            2
           ]
          },
          {
           "marker": {
            "size": [
             14
            ],
            "sizemode": "area",
            "sizeref": 0.2
           },
           "mode": "markers",
           "name": "consumer",
           "text": [
            "consumer"
           ],
           "x": [
            6
           ],
           "y": [
            2.3333333333333335
           ]
          },
          {
           "marker": {
            "size": [
             13
            ],
            "sizemode": "area",
            "sizeref": 0.2
           },
           "mode": "markers",
           "name": "financial",
           "text": [
            "financial"
           ],
           "x": [
            10
           ],
           "y": [
            1.3
           ]
          },
          {
           "marker": {
            "size": [
             7
            ],
            "sizemode": "area",
            "sizeref": 0.2
           },
           "mode": "markers",
           "name": "lower",
           "text": [
            "lower"
           ],
           "x": [
            4
           ],
           "y": [
            1.75
           ]
          },
          {
           "marker": {
            "size": [
             21
            ],
            "sizemode": "area",
            "sizeref": 0.2
           },
           "mode": "markers",
           "name": "likely",
           "text": [
            "likely"
           ],
           "x": [
            13
           ],
           "y": [
            1.6153846153846154
           ]
          },
          {
           "marker": {
            "size": [
             22
            ],
            "sizemode": "area",
            "sizeref": 0.2
           },
           "mode": "markers",
           "name": "pricing",
           "text": [
            "pricing"
           ],
           "x": [
            11
           ],
           "y": [
            2
           ]
          },
          {
           "marker": {
            "size": [
             23
            ],
            "sizemode": "area",
            "sizeref": 0.2
           },
           "mode": "markers",
           "name": "based",
           "text": [
            "based"
           ],
           "x": [
            18
           ],
           "y": [
            1.2777777777777777
           ]
          },
          {
           "marker": {
            "size": [
             26
            ],
            "sizemode": "area",
            "sizeref": 0.2
           },
           "mode": "markers",
           "name": "less",
           "text": [
            "less"
           ],
           "x": [
            21
           ],
           "y": [
            1.2380952380952381
           ]
          },
          {
           "marker": {
            "size": [
             8
            ],
            "sizemode": "area",
            "sizeref": 0.2
           },
           "mode": "markers",
           "name": "whether",
           "text": [
            "whether"
           ],
           "x": [
            5
           ],
           "y": [
            1.6
           ]
          },
          {
           "marker": {
            "size": [
             17
            ],
            "sizemode": "area",
            "sizeref": 0.2
           },
           "mode": "markers",
           "name": "set",
           "text": [
            "set"
           ],
           "x": [
            16
           ],
           "y": [
            1.0625
           ]
          },
          {
           "marker": {
            "size": [
             8
            ],
            "sizemode": "area",
            "sizeref": 0.2
           },
           "mode": "markers",
           "name": "policy",
           "text": [
            "policy"
           ],
           "x": [
            3
           ],
           "y": [
            2.6666666666666665
           ]
          },
          {
           "marker": {
            "size": [
             16
            ],
            "sizemode": "area",
            "sizeref": 0.2
           },
           "mode": "markers",
           "name": "decision",
           "text": [
            "decision"
           ],
           "x": [
            12
           ],
           "y": [
            1.3333333333333333
           ]
          },
          {
           "marker": {
            "size": [
             20
            ],
            "sizemode": "area",
            "sizeref": 0.2
           },
           "mode": "markers",
           "name": "high",
           "text": [
            "high"
           ],
           "x": [
            10
           ],
           "y": [
            2
           ]
          },
          {
           "marker": {
            "size": [
             6
            ],
            "sizemode": "area",
            "sizeref": 0.2
           },
           "mode": "markers",
           "name": "problem",
           "text": [
            "problem"
           ],
           "x": [
            2
           ],
           "y": [
            3
           ]
          },
          {
           "marker": {
            "size": [
             7
            ],
            "sizemode": "area",
            "sizeref": 0.2
           },
           "mode": "markers",
           "name": "sales",
           "text": [
            "sales"
           ],
           "x": [
            4
           ],
           "y": [
            1.75
           ]
          }
         ],
         "name": "2011"
        },
        {
         "data": [
          {
           "marker": {
            "size": [
             95
            ],
            "sizemode": "area",
            "sizeref": 0.2
           },
           "mode": "markers",
           "name": "find",
           "text": [
            "find"
           ],
           "x": [
            68
           ],
           "y": [
            1.3970588235294117
           ]
          },
          {
           "marker": {
            "size": [
             92
            ],
            "sizemode": "area",
            "sizeref": 0.2
           },
           "mode": "markers",
           "name": "firms",
           "text": [
            "firms"
           ],
           "x": [
            43
           ],
           "y": [
            2.13953488372093
           ]
          },
          {
           "marker": {
            "size": [
             66
            ],
            "sizemode": "area",
            "sizeref": 0.2
           },
           "mode": "markers",
           "name": "information",
           "text": [
            "information"
           ],
           "x": [
            30
           ],
           "y": [
            2.2
           ]
          },
          {
           "marker": {
            "size": [
             66
            ],
            "sizemode": "area",
            "sizeref": 0.2
           },
           "mode": "markers",
           "name": "show",
           "text": [
            "show"
           ],
           "x": [
            49
           ],
           "y": [
            1.346938775510204
           ]
          },
          {
           "marker": {
            "size": [
             59
            ],
            "sizemode": "area",
            "sizeref": 0.2
           },
           "mode": "markers",
           "name": "product",
           "text": [
            "product"
           ],
           "x": [
            20
           ],
           "y": [
            2.95
           ]
          },
          {
           "marker": {
            "size": [
             43
            ],
            "sizemode": "area",
            "sizeref": 0.2
           },
           "mode": "markers",
           "name": "market",
           "text": [
            "market"
           ],
           "x": [
            24
           ],
           "y": [
            1.7916666666666667
           ]
          },
          {
           "marker": {
            "size": [
             58
            ],
            "sizemode": "area",
            "sizeref": 0.2
           },
           "mode": "markers",
           "name": "results",
           "text": [
            "results"
           ],
           "x": [
            48
           ],
           "y": [
            1.2083333333333333
           ]
          },
          {
           "marker": {
            "size": [
             38
            ],
            "sizemode": "area",
            "sizeref": 0.2
           },
           "mode": "markers",
           "name": "firm",
           "text": [
            "firm"
           ],
           "x": [
            23
           ],
           "y": [
            1.6521739130434783
           ]
          },
          {
           "marker": {
            "size": [
             54
            ],
            "sizemode": "area",
            "sizeref": 0.2
           },
           "mode": "markers",
           "name": "may",
           "text": [
            "may"
           ],
           "x": [
            30
           ],
           "y": [
            1.8
           ]
          },
          {
           "marker": {
            "size": [
             29
            ],
            "sizemode": "area",
            "sizeref": 0.2
           },
           "mode": "markers",
           "name": "using",
           "text": [
            "using"
           ],
           "x": [
            24
           ],
           "y": [
            1.2083333333333333
           ]
          },
          {
           "marker": {
            "size": [
             31
            ],
            "sizemode": "area",
            "sizeref": 0.2
           },
           "mode": "markers",
           "name": "data",
           "text": [
            "data"
           ],
           "x": [
            14
           ],
           "y": [
            2.2142857142857144
           ]
          },
          {
           "marker": {
            "size": [
             48
            ],
            "sizemode": "area",
            "sizeref": 0.2
           },
           "mode": "markers",
           "name": "risk",
           "text": [
            "risk"
           ],
           "x": [
            19
           ],
           "y": [
            2.526315789473684
           ]
          },
          {
           "marker": {
            "size": [
             51
            ],
            "sizemode": "area",
            "sizeref": 0.2
           },
           "mode": "markers",
           "name": "two",
           "text": [
            "two"
           ],
           "x": [
            29
           ],
           "y": [
            1.7586206896551724
           ]
          },
          {
           "marker": {
            "size": [
             29
            ],
            "sizemode": "area",
            "sizeref": 0.2
           },
           "mode": "markers",
           "name": "effect",
           "text": [
            "effect"
           ],
           "x": [
            19
           ],
           "y": [
            1.5263157894736843
           ]
          },
          {
           "marker": {
            "size": [
             43
            ],
            "sizemode": "area",
            "sizeref": 0.2
           },
           "mode": "markers",
           "name": "price",
           "text": [
            "price"
           ],
           "x": [
            17
           ],
           "y": [
            2.5294117647058822
           ]
          },
          {
           "marker": {
            "size": [
             33
            ],
            "sizemode": "area",
            "sizeref": 0.2
           },
           "mode": "markers",
           "name": "optimal",
           "text": [
            "optimal"
           ],
           "x": [
            18
           ],
           "y": [
            1.8333333333333333
           ]
          },
          {
           "marker": {
            "size": [
             31
            ],
            "sizemode": "area",
            "sizeref": 0.2
           },
           "mode": "markers",
           "name": "performance",
           "text": [
            "performance"
           ],
           "x": [
            20
           ],
           "y": [
            1.55
           ]
          },
          {
           "marker": {
            "size": [
             49
            ],
            "sizemode": "area",
            "sizeref": 0.2
           },
           "mode": "markers",
           "name": "paper",
           "text": [
            "paper"
           ],
           "x": [
            41
           ],
           "y": [
            1.1951219512195121
           ]
          },
          {
           "marker": {
            "size": [
             14
            ],
            "sizemode": "area",
            "sizeref": 0.2
           },
           "mode": "markers",
           "name": "study",
           "text": [
            "study"
           ],
           "x": [
            9
           ],
           "y": [
            1.5555555555555556
           ]
          },
          {
           "marker": {
            "size": [
             27
            ],
            "sizemode": "area",
            "sizeref": 0.2
           },
           "mode": "markers",
           "name": "higher",
           "text": [
            "higher"
           ],
           "x": [
            17
           ],
           "y": [
            1.588235294117647
           ]
          },
          {
           "marker": {
            "size": [
             39
            ],
            "sizemode": "area",
            "sizeref": 0.2
           },
           "mode": "markers",
           "name": "demand",
           "text": [
            "demand"
           ],
           "x": [
            12
           ],
           "y": [
            3.25
           ]
          },
          {
           "marker": {
            "size": [
             29
            ],
            "sizemode": "area",
            "sizeref": 0.2
           },
           "mode": "markers",
           "name": "new",
           "text": [
            "new"
           ],
           "x": [
            23
           ],
           "y": [
            1.2608695652173914
           ]
          },
          {
           "marker": {
            "size": [
             29
            ],
            "sizemode": "area",
            "sizeref": 0.2
           },
           "mode": "markers",
           "name": "use",
           "text": [
            "use"
           ],
           "x": [
            24
           ],
           "y": [
            1.2083333333333333
           ]
          },
          {
           "marker": {
            "size": [
             25
            ],
            "sizemode": "area",
            "sizeref": 0.2
           },
           "mode": "markers",
           "name": "consumers",
           "text": [
            "consumers"
           ],
           "x": [
            16
           ],
           "y": [
            1.5625
           ]
          },
          {
           "marker": {
            "size": [
             25
            ],
            "sizemode": "area",
            "sizeref": 0.2
           },
           "mode": "markers",
           "name": "value",
           "text": [
            "value"
           ],
           "x": [
            11
           ],
           "y": [
            2.272727272727273
           ]
          },
          {
           "marker": {
            "size": [
             22
            ],
            "sizemode": "area",
            "sizeref": 0.2
           },
           "mode": "markers",
           "name": "increase",
           "text": [
            "increase"
           ],
           "x": [
            16
           ],
           "y": [
            1.375
           ]
          },
          {
           "marker": {
            "size": [
             22
            ],
            "sizemode": "area",
            "sizeref": 0.2
           },
           "mode": "markers",
           "name": "effects",
           "text": [
            "effects"
           ],
           "x": [
            16
           ],
           "y": [
            1.375
           ]
          },
          {
           "marker": {
            "size": [
             24
            ],
            "sizemode": "area",
            "sizeref": 0.2
           },
           "mode": "markers",
           "name": "evidence",
           "text": [
            "evidence"
           ],
           "x": [
            17
           ],
           "y": [
            1.411764705882353
           ]
          },
          {
           "marker": {
            "size": [
             12
            ],
            "sizemode": "area",
            "sizeref": 0.2
           },
           "mode": "markers",
           "name": "social",
           "text": [
            "social"
           ],
           "x": [
            6
           ],
           "y": [
            2
           ]
          },
          {
           "marker": {
            "size": [
             15
            ],
            "sizemode": "area",
            "sizeref": 0.2
           },
           "mode": "markers",
           "name": "impact",
           "text": [
            "impact"
           ],
           "x": [
            14
           ],
           "y": [
            1.0714285714285714
           ]
          },
          {
           "marker": {
            "size": [
             35
            ],
            "sizemode": "area",
            "sizeref": 0.2
           },
           "mode": "markers",
           "name": "cost",
           "text": [
            "cost"
           ],
           "x": [
            17
           ],
           "y": [
            2.0588235294117645
           ]
          },
          {
           "marker": {
            "size": [
             31
            ],
            "sizemode": "area",
            "sizeref": 0.2
           },
           "mode": "markers",
           "name": "quality",
           "text": [
            "quality"
           ],
           "x": [
            12
           ],
           "y": [
            2.5833333333333335
           ]
          },
          {
           "marker": {
            "size": [
             19
            ],
            "sizemode": "area",
            "sizeref": 0.2
           },
           "mode": "markers",
           "name": "different",
           "text": [
            "different"
           ],
           "x": [
            15
           ],
           "y": [
            1.2666666666666666
           ]
          },
          {
           "marker": {
            "size": [
             32
            ],
            "sizemode": "area",
            "sizeref": 0.2
           },
           "mode": "markers",
           "name": "one",
           "text": [
            "one"
           ],
           "x": [
            23
           ],
           "y": [
            1.391304347826087
           ]
          },
          {
           "marker": {
            "size": [
             5
            ],
            "sizemode": "area",
            "sizeref": 0.2
           },
           "mode": "markers",
           "name": "however,",
           "text": [
            "however,"
           ],
           "x": [
            4
           ],
           "y": [
            1.25
           ]
          },
          {
           "marker": {
            "size": [
             16
            ],
            "sizemode": "area",
            "sizeref": 0.2
           },
           "mode": "markers",
           "name": "products",
           "text": [
            "products"
           ],
           "x": [
            6
           ],
           "y": [
            2.6666666666666665
           ]
          },
          {
           "marker": {
            "size": [
             26
            ],
            "sizemode": "area",
            "sizeref": 0.2
           },
           "mode": "markers",
           "name": "consumer",
           "text": [
            "consumer"
           ],
           "x": [
            10
           ],
           "y": [
            2.6
           ]
          },
          {
           "marker": {
            "size": [
             21
            ],
            "sizemode": "area",
            "sizeref": 0.2
           },
           "mode": "markers",
           "name": "financial",
           "text": [
            "financial"
           ],
           "x": [
            13
           ],
           "y": [
            1.6153846153846154
           ]
          },
          {
           "marker": {
            "size": [
             12
            ],
            "sizemode": "area",
            "sizeref": 0.2
           },
           "mode": "markers",
           "name": "lower",
           "text": [
            "lower"
           ],
           "x": [
            6
           ],
           "y": [
            2
           ]
          },
          {
           "marker": {
            "size": [
             13
            ],
            "sizemode": "area",
            "sizeref": 0.2
           },
           "mode": "markers",
           "name": "likely",
           "text": [
            "likely"
           ],
           "x": [
            11
           ],
           "y": [
            1.1818181818181819
           ]
          },
          {
           "marker": {
            "size": [
             30
            ],
            "sizemode": "area",
            "sizeref": 0.2
           },
           "mode": "markers",
           "name": "pricing",
           "text": [
            "pricing"
           ],
           "x": [
            15
           ],
           "y": [
            2
           ]
          },
          {
           "marker": {
            "size": [
             27
            ],
            "sizemode": "area",
            "sizeref": 0.2
           },
           "mode": "markers",
           "name": "based",
           "text": [
            "based"
           ],
           "x": [
            26
           ],
           "y": [
            1.0384615384615385
           ]
          },
          {
           "marker": {
            "size": [
             26
            ],
            "sizemode": "area",
            "sizeref": 0.2
           },
           "mode": "markers",
           "name": "less",
           "text": [
            "less"
           ],
           "x": [
            22
           ],
           "y": [
            1.1818181818181819
           ]
          },
          {
           "marker": {
            "size": [
             3
            ],
            "sizemode": "area",
            "sizeref": 0.2
           },
           "mode": "markers",
           "name": "whether",
           "text": [
            "whether"
           ],
           "x": [
            2
           ],
           "y": [
            1.5
           ]
          },
          {
           "marker": {
            "size": [
             27
            ],
            "sizemode": "area",
            "sizeref": 0.2
           },
           "mode": "markers",
           "name": "set",
           "text": [
            "set"
           ],
           "x": [
            23
           ],
           "y": [
            1.173913043478261
           ]
          },
          {
           "marker": {
            "size": [
             21
            ],
            "sizemode": "area",
            "sizeref": 0.2
           },
           "mode": "markers",
           "name": "policy",
           "text": [
            "policy"
           ],
           "x": [
            10
           ],
           "y": [
            2.1
           ]
          },
          {
           "marker": {
            "size": [
             22
            ],
            "sizemode": "area",
            "sizeref": 0.2
           },
           "mode": "markers",
           "name": "decision",
           "text": [
            "decision"
           ],
           "x": [
            14
           ],
           "y": [
            1.5714285714285714
           ]
          },
          {
           "marker": {
            "size": [
             14
            ],
            "sizemode": "area",
            "sizeref": 0.2
           },
           "mode": "markers",
           "name": "high",
           "text": [
            "high"
           ],
           "x": [
            9
           ],
           "y": [
            1.5555555555555556
           ]
          },
          {
           "marker": {
            "size": [
             22
            ],
            "sizemode": "area",
            "sizeref": 0.2
           },
           "mode": "markers",
           "name": "problem",
           "text": [
            "problem"
           ],
           "x": [
            9
           ],
           "y": [
            2.4444444444444446
           ]
          },
          {
           "marker": {
            "size": [
             17
            ],
            "sizemode": "area",
            "sizeref": 0.2
           },
           "mode": "markers",
           "name": "sales",
           "text": [
            "sales"
           ],
           "x": [
            6
           ],
           "y": [
            2.8333333333333335
           ]
          }
         ],
         "name": "2012"
        },
        {
         "data": [
          {
           "marker": {
            "size": [
             76
            ],
            "sizemode": "area",
            "sizeref": 0.2
           },
           "mode": "markers",
           "name": "find",
           "text": [
            "find"
           ],
           "x": [
            49
           ],
           "y": [
            1.5510204081632653
           ]
          },
          {
           "marker": {
            "size": [
             96
            ],
            "sizemode": "area",
            "sizeref": 0.2
           },
           "mode": "markers",
           "name": "firms",
           "text": [
            "firms"
           ],
           "x": [
            35
           ],
           "y": [
            2.742857142857143
           ]
          },
          {
           "marker": {
            "size": [
             42
            ],
            "sizemode": "area",
            "sizeref": 0.2
           },
           "mode": "markers",
           "name": "information",
           "text": [
            "information"
           ],
           "x": [
            18
           ],
           "y": [
            2.3333333333333335
           ]
          },
          {
           "marker": {
            "size": [
             58
            ],
            "sizemode": "area",
            "sizeref": 0.2
           },
           "mode": "markers",
           "name": "show",
           "text": [
            "show"
           ],
           "x": [
            43
           ],
           "y": [
            1.3488372093023255
           ]
          },
          {
           "marker": {
            "size": [
             38
            ],
            "sizemode": "area",
            "sizeref": 0.2
           },
           "mode": "markers",
           "name": "product",
           "text": [
            "product"
           ],
           "x": [
            17
           ],
           "y": [
            2.235294117647059
           ]
          },
          {
           "marker": {
            "size": [
             58
            ],
            "sizemode": "area",
            "sizeref": 0.2
           },
           "mode": "markers",
           "name": "market",
           "text": [
            "market"
           ],
           "x": [
            26
           ],
           "y": [
            2.230769230769231
           ]
          },
          {
           "marker": {
            "size": [
             44
            ],
            "sizemode": "area",
            "sizeref": 0.2
           },
           "mode": "markers",
           "name": "results",
           "text": [
            "results"
           ],
           "x": [
            37
           ],
           "y": [
            1.1891891891891893
           ]
          },
          {
           "marker": {
            "size": [
             60
            ],
            "sizemode": "area",
            "sizeref": 0.2
           },
           "mode": "markers",
           "name": "firm",
           "text": [
            "firm"
           ],
           "x": [
            23
           ],
           "y": [
            2.608695652173913
           ]
          },
          {
           "marker": {
            "size": [
             43
            ],
            "sizemode": "area",
            "sizeref": 0.2
           },
           "mode": "markers",
           "name": "may",
           "text": [
            "may"
           ],
           "x": [
            21
           ],
           "y": [
            2.0476190476190474
           ]
          },
          {
           "marker": {
            "size": [
             42
            ],
            "sizemode": "area",
            "sizeref": 0.2
           },
           "mode": "markers",
           "name": "using",
           "text": [
            "using"
           ],
           "x": [
            31
           ],
           "y": [
            1.3548387096774193
           ]
          },
          {
           "marker": {
            "size": [
             20
            ],
            "sizemode": "area",
            "sizeref": 0.2
           },
           "mode": "markers",
           "name": "data",
           "text": [
            "data"
           ],
           "x": [
            12
           ],
           "y": [
            1.6666666666666667
           ]
          },
          {
           "marker": {
            "size": [
             50
            ],
            "sizemode": "area",
            "sizeref": 0.2
           },
           "mode": "markers",
           "name": "risk",
           "text": [
            "risk"
           ],
           "x": [
            17
           ],
           "y": [
            2.9411764705882355
           ]
          },
          {
           "marker": {
            "size": [
             31
            ],
            "sizemode": "area",
            "sizeref": 0.2
           },
           "mode": "markers",
           "name": "two",
           "text": [
            "two"
           ],
           "x": [
            22
           ],
           "y": [
            1.4090909090909092
           ]
          },
          {
           "marker": {
            "size": [
             36
            ],
            "sizemode": "area",
            "sizeref": 0.2
           },
           "mode": "markers",
           "name": "effect",
           "text": [
            "effect"
           ],
           "x": [
            19
           ],
           "y": [
            1.894736842105263
           ]
          },
          {
           "marker": {
            "size": [
             51
            ],
            "sizemode": "area",
            "sizeref": 0.2
           },
           "mode": "markers",
           "name": "price",
           "text": [
            "price"
           ],
           "x": [
            19
           ],
           "y": [
            2.6842105263157894
           ]
          },
          {
           "marker": {
            "size": [
             41
            ],
            "sizemode": "area",
            "sizeref": 0.2
           },
           "mode": "markers",
           "name": "optimal",
           "text": [
            "optimal"
           ],
           "x": [
            20
           ],
           "y": [
            2.05
           ]
          },
          {
           "marker": {
            "size": [
             29
            ],
            "sizemode": "area",
            "sizeref": 0.2
           },
           "mode": "markers",
           "name": "performance",
           "text": [
            "performance"
           ],
           "x": [
            13
           ],
           "y": [
            2.230769230769231
           ]
          },
          {
           "marker": {
            "size": [
             33
            ],
            "sizemode": "area",
            "sizeref": 0.2
           },
           "mode": "markers",
           "name": "paper",
           "text": [
            "paper"
           ],
           "x": [
            31
           ],
           "y": [
            1.064516129032258
           ]
          },
          {
           "marker": {
            "size": [
             12
            ],
            "sizemode": "area",
            "sizeref": 0.2
           },
           "mode": "markers",
           "name": "study",
           "text": [
            "study"
           ],
           "x": [
            11
           ],
           "y": [
            1.0909090909090908
           ]
          },
          {
           "marker": {
            "size": [
             33
            ],
            "sizemode": "area",
            "sizeref": 0.2
           },
           "mode": "markers",
           "name": "higher",
           "text": [
            "higher"
           ],
           "x": [
            20
           ],
           "y": [
            1.65
           ]
          },
          {
           "marker": {
            "size": [
             25
            ],
            "sizemode": "area",
            "sizeref": 0.2
           },
           "mode": "markers",
           "name": "demand",
           "text": [
            "demand"
           ],
           "x": [
            11
           ],
           "y": [
            2.272727272727273
           ]
          },
          {
           "marker": {
            "size": [
             29
            ],
            "sizemode": "area",
            "sizeref": 0.2
           },
           "mode": "markers",
           "name": "new",
           "text": [
            "new"
           ],
           "x": [
            18
           ],
           "y": [
            1.6111111111111112
           ]
          },
          {
           "marker": {
            "size": [
             24
            ],
            "sizemode": "area",
            "sizeref": 0.2
           },
           "mode": "markers",
           "name": "use",
           "text": [
            "use"
           ],
           "x": [
            16
           ],
           "y": [
            1.5
           ]
          },
          {
           "marker": {
            "size": [
             29
            ],
            "sizemode": "area",
            "sizeref": 0.2
           },
           "mode": "markers",
           "name": "consumers",
           "text": [
            "consumers"
           ],
           "x": [
            10
           ],
           "y": [
            2.9
           ]
          },
          {
           "marker": {
            "size": [
             17
            ],
            "sizemode": "area",
            "sizeref": 0.2
           },
           "mode": "markers",
           "name": "value",
           "text": [
            "value"
           ],
           "x": [
            9
           ],
           "y": [
            1.8888888888888888
           ]
          },
          {
           "marker": {
            "size": [
             33
            ],
            "sizemode": "area",
            "sizeref": 0.2
           },
           "mode": "markers",
           "name": "increase",
           "text": [
            "increase"
           ],
           "x": [
            21
           ],
           "y": [
            1.5714285714285714
           ]
          },
          {
           "marker": {
            "size": [
             28
            ],
            "sizemode": "area",
            "sizeref": 0.2
           },
           "mode": "markers",
           "name": "effects",
           "text": [
            "effects"
           ],
           "x": [
            17
           ],
           "y": [
            1.6470588235294117
           ]
          },
          {
           "marker": {
            "size": [
             19
            ],
            "sizemode": "area",
            "sizeref": 0.2
           },
           "mode": "markers",
           "name": "evidence",
           "text": [
            "evidence"
           ],
           "x": [
            14
           ],
           "y": [
            1.3571428571428572
           ]
          },
          {
           "marker": {
            "size": [
             20
            ],
            "sizemode": "area",
            "sizeref": 0.2
           },
           "mode": "markers",
           "name": "social",
           "text": [
            "social"
           ],
           "x": [
            5
           ],
           "y": [
            4
           ]
          },
          {
           "marker": {
            "size": [
             22
            ],
            "sizemode": "area",
            "sizeref": 0.2
           },
           "mode": "markers",
           "name": "impact",
           "text": [
            "impact"
           ],
           "x": [
            21
           ],
           "y": [
            1.0476190476190477
           ]
          },
          {
           "marker": {
            "size": [
             23
            ],
            "sizemode": "area",
            "sizeref": 0.2
           },
           "mode": "markers",
           "name": "cost",
           "text": [
            "cost"
           ],
           "x": [
            16
           ],
           "y": [
            1.4375
           ]
          },
          {
           "marker": {
            "size": [
             20
            ],
            "sizemode": "area",
            "sizeref": 0.2
           },
           "mode": "markers",
           "name": "quality",
           "text": [
            "quality"
           ],
           "x": [
            12
           ],
           "y": [
            1.6666666666666667
           ]
          },
          {
           "marker": {
            "size": [
             21
            ],
            "sizemode": "area",
            "sizeref": 0.2
           },
           "mode": "markers",
           "name": "different",
           "text": [
            "different"
           ],
           "x": [
            14
           ],
           "y": [
            1.5
           ]
          },
          {
           "marker": {
            "size": [
             21
            ],
            "sizemode": "area",
            "sizeref": 0.2
           },
           "mode": "markers",
           "name": "one",
           "text": [
            "one"
           ],
           "x": [
            17
           ],
           "y": [
            1.2352941176470589
           ]
          },
          {
           "marker": {
            "size": [
             8
            ],
            "sizemode": "area",
            "sizeref": 0.2
           },
           "mode": "markers",
           "name": "however,",
           "text": [
            "however,"
           ],
           "x": [
            6
           ],
           "y": [
            1.3333333333333333
           ]
          },
          {
           "marker": {
            "size": [
             9
            ],
            "sizemode": "area",
            "sizeref": 0.2
           },
           "mode": "markers",
           "name": "products",
           "text": [
            "products"
           ],
           "x": [
            4
           ],
           "y": [
            2.25
           ]
          },
          {
           "marker": {
            "size": [
             19
            ],
            "sizemode": "area",
            "sizeref": 0.2
           },
           "mode": "markers",
           "name": "consumer",
           "text": [
            "consumer"
           ],
           "x": [
            6
           ],
           "y": [
            3.1666666666666665
           ]
          },
          {
           "marker": {
            "size": [
             32
            ],
            "sizemode": "area",
            "sizeref": 0.2
           },
           "mode": "markers",
           "name": "financial",
           "text": [
            "financial"
           ],
           "x": [
            16
           ],
           "y": [
            2
           ]
          },
          {
           "marker": {
            "size": [
             14
            ],
            "sizemode": "area",
            "sizeref": 0.2
           },
           "mode": "markers",
           "name": "lower",
           "text": [
            "lower"
           ],
           "x": [
            7
           ],
           "y": [
            2
           ]
          },
          {
           "marker": {
            "size": [
             9
            ],
            "sizemode": "area",
            "sizeref": 0.2
           },
           "mode": "markers",
           "name": "likely",
           "text": [
            "likely"
           ],
           "x": [
            7
           ],
           "y": [
            1.2857142857142858
           ]
          },
          {
           "marker": {
            "size": [
             27
            ],
            "sizemode": "area",
            "sizeref": 0.2
           },
           "mode": "markers",
           "name": "pricing",
           "text": [
            "pricing"
           ],
           "x": [
            14
           ],
           "y": [
            1.9285714285714286
           ]
          },
          {
           "marker": {
            "size": [
             13
            ],
            "sizemode": "area",
            "sizeref": 0.2
           },
           "mode": "markers",
           "name": "based",
           "text": [
            "based"
           ],
           "x": [
            12
           ],
           "y": [
            1.0833333333333333
           ]
          },
          {
           "marker": {
            "size": [
             21
            ],
            "sizemode": "area",
            "sizeref": 0.2
           },
           "mode": "markers",
           "name": "less",
           "text": [
            "less"
           ],
           "x": [
            17
           ],
           "y": [
            1.2352941176470589
           ]
          },
          {
           "marker": {
            "size": [
             17
            ],
            "sizemode": "area",
            "sizeref": 0.2
           },
           "mode": "markers",
           "name": "whether",
           "text": [
            "whether"
           ],
           "x": [
            11
           ],
           "y": [
            1.5454545454545454
           ]
          },
          {
           "marker": {
            "size": [
             14
            ],
            "sizemode": "area",
            "sizeref": 0.2
           },
           "mode": "markers",
           "name": "set",
           "text": [
            "set"
           ],
           "x": [
            11
           ],
           "y": [
            1.2727272727272727
           ]
          },
          {
           "marker": {
            "size": [
             11
            ],
            "sizemode": "area",
            "sizeref": 0.2
           },
           "mode": "markers",
           "name": "policy",
           "text": [
            "policy"
           ],
           "x": [
            7
           ],
           "y": [
            1.5714285714285714
           ]
          },
          {
           "marker": {
            "size": [
             26
            ],
            "sizemode": "area",
            "sizeref": 0.2
           },
           "mode": "markers",
           "name": "decision",
           "text": [
            "decision"
           ],
           "x": [
            17
           ],
           "y": [
            1.5294117647058822
           ]
          },
          {
           "marker": {
            "size": [
             9
            ],
            "sizemode": "area",
            "sizeref": 0.2
           },
           "mode": "markers",
           "name": "high",
           "text": [
            "high"
           ],
           "x": [
            9
           ],
           "y": [
            1
           ]
          },
          {
           "marker": {
            "size": [
             11
            ],
            "sizemode": "area",
            "sizeref": 0.2
           },
           "mode": "markers",
           "name": "problem",
           "text": [
            "problem"
           ],
           "x": [
            5
           ],
           "y": [
            2.2
           ]
          },
          {
           "marker": {
            "size": [
             15
            ],
            "sizemode": "area",
            "sizeref": 0.2
           },
           "mode": "markers",
           "name": "sales",
           "text": [
            "sales"
           ],
           "x": [
            8
           ],
           "y": [
            1.875
           ]
          }
         ],
         "name": "2013"
        },
        {
         "data": [
          {
           "marker": {
            "size": [
             121
            ],
            "sizemode": "area",
            "sizeref": 0.2
           },
           "mode": "markers",
           "name": "find",
           "text": [
            "find"
           ],
           "x": [
            91
           ],
           "y": [
            1.3296703296703296
           ]
          },
          {
           "marker": {
            "size": [
             79
            ],
            "sizemode": "area",
            "sizeref": 0.2
           },
           "mode": "markers",
           "name": "firms",
           "text": [
            "firms"
           ],
           "x": [
            36
           ],
           "y": [
            2.1944444444444446
           ]
          },
          {
           "marker": {
            "size": [
             81
            ],
            "sizemode": "area",
            "sizeref": 0.2
           },
           "mode": "markers",
           "name": "information",
           "text": [
            "information"
           ],
           "x": [
            38
           ],
           "y": [
            2.1315789473684212
           ]
          },
          {
           "marker": {
            "size": [
             91
            ],
            "sizemode": "area",
            "sizeref": 0.2
           },
           "mode": "markers",
           "name": "show",
           "text": [
            "show"
           ],
           "x": [
            67
           ],
           "y": [
            1.3582089552238805
           ]
          },
          {
           "marker": {
            "size": [
             55
            ],
            "sizemode": "area",
            "sizeref": 0.2
           },
           "mode": "markers",
           "name": "product",
           "text": [
            "product"
           ],
           "x": [
            17
           ],
           "y": [
            3.235294117647059
           ]
          },
          {
           "marker": {
            "size": [
             75
            ],
            "sizemode": "area",
            "sizeref": 0.2
           },
           "mode": "markers",
           "name": "market",
           "text": [
            "market"
           ],
           "x": [
            42
           ],
           "y": [
            1.7857142857142858
           ]
          },
          {
           "marker": {
            "size": [
             65
            ],
            "sizemode": "area",
            "sizeref": 0.2
           },
           "mode": "markers",
           "name": "results",
           "text": [
            "results"
           ],
           "x": [
            57
           ],
           "y": [
            1.1403508771929824
           ]
          },
          {
           "marker": {
            "size": [
             63
            ],
            "sizemode": "area",
            "sizeref": 0.2
           },
           "mode": "markers",
           "name": "firm",
           "text": [
            "firm"
           ],
           "x": [
            28
           ],
           "y": [
            2.25
           ]
          },
          {
           "marker": {
            "size": [
             45
            ],
            "sizemode": "area",
            "sizeref": 0.2
           },
           "mode": "markers",
           "name": "may",
           "text": [
            "may"
           ],
           "x": [
            27
           ],
           "y": [
            1.6666666666666667
           ]
          },
          {
           "marker": {
            "size": [
             48
            ],
            "sizemode": "area",
            "sizeref": 0.2
           },
           "mode": "markers",
           "name": "using",
           "text": [
            "using"
           ],
           "x": [
            36
           ],
           "y": [
            1.3333333333333333
           ]
          },
          {
           "marker": {
            "size": [
             37
            ],
            "sizemode": "area",
            "sizeref": 0.2
           },
           "mode": "markers",
           "name": "data",
           "text": [
            "data"
           ],
           "x": [
            22
           ],
           "y": [
            1.6818181818181819
           ]
          },
          {
           "marker": {
            "size": [
             69
            ],
            "sizemode": "area",
            "sizeref": 0.2
           },
           "mode": "markers",
           "name": "risk",
           "text": [
            "risk"
           ],
           "x": [
            22
           ],
           "y": [
            3.1363636363636362
           ]
          },
          {
           "marker": {
            "size": [
             42
            ],
            "sizemode": "area",
            "sizeref": 0.2
           },
           "mode": "markers",
           "name": "two",
           "text": [
            "two"
           ],
           "x": [
            26
           ],
           "y": [
            1.6153846153846154
           ]
          },
          {
           "marker": {
            "size": [
             39
            ],
            "sizemode": "area",
            "sizeref": 0.2
           },
           "mode": "markers",
           "name": "effect",
           "text": [
            "effect"
           ],
           "x": [
            23
           ],
           "y": [
            1.6956521739130435
           ]
          },
          {
           "marker": {
            "size": [
             57
            ],
            "sizemode": "area",
            "sizeref": 0.2
           },
           "mode": "markers",
           "name": "price",
           "text": [
            "price"
           ],
           "x": [
            22
           ],
           "y": [
            2.590909090909091
           ]
          },
          {
           "marker": {
            "size": [
             42
            ],
            "sizemode": "area",
            "sizeref": 0.2
           },
           "mode": "markers",
           "name": "optimal",
           "text": [
            "optimal"
           ],
           "x": [
            26
           ],
           "y": [
            1.6153846153846154
           ]
          },
          {
           "marker": {
            "size": [
             46
            ],
            "sizemode": "area",
            "sizeref": 0.2
           },
           "mode": "markers",
           "name": "performance",
           "text": [
            "performance"
           ],
           "x": [
            27
           ],
           "y": [
            1.7037037037037037
           ]
          },
          {
           "marker": {
            "size": [
             51
            ],
            "sizemode": "area",
            "sizeref": 0.2
           },
           "mode": "markers",
           "name": "paper",
           "text": [
            "paper"
           ],
           "x": [
            47
           ],
           "y": [
            1.0851063829787233
           ]
          },
          {
           "marker": {
            "size": [
             30
            ],
            "sizemode": "area",
            "sizeref": 0.2
           },
           "mode": "markers",
           "name": "study",
           "text": [
            "study"
           ],
           "x": [
            21
           ],
           "y": [
            1.4285714285714286
           ]
          },
          {
           "marker": {
            "size": [
             32
            ],
            "sizemode": "area",
            "sizeref": 0.2
           },
           "mode": "markers",
           "name": "higher",
           "text": [
            "higher"
           ],
           "x": [
            19
           ],
           "y": [
            1.6842105263157894
           ]
          },
          {
           "marker": {
            "size": [
             48
            ],
            "sizemode": "area",
            "sizeref": 0.2
           },
           "mode": "markers",
           "name": "demand",
           "text": [
            "demand"
           ],
           "x": [
            18
           ],
           "y": [
            2.6666666666666665
           ]
          },
          {
           "marker": {
            "size": [
             58
            ],
            "sizemode": "area",
            "sizeref": 0.2
           },
           "mode": "markers",
           "name": "new",
           "text": [
            "new"
           ],
           "x": [
            36
           ],
           "y": [
            1.6111111111111112
           ]
          },
          {
           "marker": {
            "size": [
             25
            ],
            "sizemode": "area",
            "sizeref": 0.2
           },
           "mode": "markers",
           "name": "use",
           "text": [
            "use"
           ],
           "x": [
            18
           ],
           "y": [
            1.3888888888888888
           ]
          },
          {
           "marker": {
            "size": [
             42
            ],
            "sizemode": "area",
            "sizeref": 0.2
           },
           "mode": "markers",
           "name": "consumers",
           "text": [
            "consumers"
           ],
           "x": [
            15
           ],
           "y": [
            2.8
           ]
          },
          {
           "marker": {
            "size": [
             31
            ],
            "sizemode": "area",
            "sizeref": 0.2
           },
           "mode": "markers",
           "name": "value",
           "text": [
            "value"
           ],
           "x": [
            13
           ],
           "y": [
            2.3846153846153846
           ]
          },
          {
           "marker": {
            "size": [
             28
            ],
            "sizemode": "area",
            "sizeref": 0.2
           },
           "mode": "markers",
           "name": "increase",
           "text": [
            "increase"
           ],
           "x": [
            23
           ],
           "y": [
            1.2173913043478262
           ]
          },
          {
           "marker": {
            "size": [
             49
            ],
            "sizemode": "area",
            "sizeref": 0.2
           },
           "mode": "markers",
           "name": "effects",
           "text": [
            "effects"
           ],
           "x": [
            27
           ],
           "y": [
            1.8148148148148149
           ]
          },
          {
           "marker": {
            "size": [
             30
            ],
            "sizemode": "area",
            "sizeref": 0.2
           },
           "mode": "markers",
           "name": "evidence",
           "text": [
            "evidence"
           ],
           "x": [
            25
           ],
           "y": [
            1.2
           ]
          },
          {
           "marker": {
            "size": [
             42
            ],
            "sizemode": "area",
            "sizeref": 0.2
           },
           "mode": "markers",
           "name": "social",
           "text": [
            "social"
           ],
           "x": [
            14
           ],
           "y": [
            3
           ]
          },
          {
           "marker": {
            "size": [
             36
            ],
            "sizemode": "area",
            "sizeref": 0.2
           },
           "mode": "markers",
           "name": "impact",
           "text": [
            "impact"
           ],
           "x": [
            27
           ],
           "y": [
            1.3333333333333333
           ]
          },
          {
           "marker": {
            "size": [
             53
            ],
            "sizemode": "area",
            "sizeref": 0.2
           },
           "mode": "markers",
           "name": "cost",
           "text": [
            "cost"
           ],
           "x": [
            25
           ],
           "y": [
            2.12
           ]
          },
          {
           "marker": {
            "size": [
             31
            ],
            "sizemode": "area",
            "sizeref": 0.2
           },
           "mode": "markers",
           "name": "quality",
           "text": [
            "quality"
           ],
           "x": [
            14
           ],
           "y": [
            2.2142857142857144
           ]
          },
          {
           "marker": {
            "size": [
             21
            ],
            "sizemode": "area",
            "sizeref": 0.2
           },
           "mode": "markers",
           "name": "different",
           "text": [
            "different"
           ],
           "x": [
            16
           ],
           "y": [
            1.3125
           ]
          },
          {
           "marker": {
            "size": [
             27
            ],
            "sizemode": "area",
            "sizeref": 0.2
           },
           "mode": "markers",
           "name": "one",
           "text": [
            "one"
           ],
           "x": [
            17
           ],
           "y": [
            1.588235294117647
           ]
          },
          {
           "marker": {
            "size": [
             10
            ],
            "sizemode": "area",
            "sizeref": 0.2
           },
           "mode": "markers",
           "name": "however,",
           "text": [
            "however,"
           ],
           "x": [
            7
           ],
           "y": [
            1.4285714285714286
           ]
          },
          {
           "marker": {
            "size": [
             20
            ],
            "sizemode": "area",
            "sizeref": 0.2
           },
           "mode": "markers",
           "name": "products",
           "text": [
            "products"
           ],
           "x": [
            7
           ],
           "y": [
            2.857142857142857
           ]
          },
          {
           "marker": {
            "size": [
             23
            ],
            "sizemode": "area",
            "sizeref": 0.2
           },
           "mode": "markers",
           "name": "consumer",
           "text": [
            "consumer"
           ],
           "x": [
            12
           ],
           "y": [
            1.9166666666666667
           ]
          },
          {
           "marker": {
            "size": [
             37
            ],
            "sizemode": "area",
            "sizeref": 0.2
           },
           "mode": "markers",
           "name": "financial",
           "text": [
            "financial"
           ],
           "x": [
            13
           ],
           "y": [
            2.8461538461538463
           ]
          },
          {
           "marker": {
            "size": [
             18
            ],
            "sizemode": "area",
            "sizeref": 0.2
           },
           "mode": "markers",
           "name": "lower",
           "text": [
            "lower"
           ],
           "x": [
            11
           ],
           "y": [
            1.6363636363636365
           ]
          },
          {
           "marker": {
            "size": [
             40
            ],
            "sizemode": "area",
            "sizeref": 0.2
           },
           "mode": "markers",
           "name": "likely",
           "text": [
            "likely"
           ],
           "x": [
            29
           ],
           "y": [
            1.3793103448275863
           ]
          },
          {
           "marker": {
            "size": [
             21
            ],
            "sizemode": "area",
            "sizeref": 0.2
           },
           "mode": "markers",
           "name": "pricing",
           "text": [
            "pricing"
           ],
           "x": [
            13
           ],
           "y": [
            1.6153846153846154
           ]
          },
          {
           "marker": {
            "size": [
             22
            ],
            "sizemode": "area",
            "sizeref": 0.2
           },
           "mode": "markers",
           "name": "based",
           "text": [
            "based"
           ],
           "x": [
            19
           ],
           "y": [
            1.1578947368421053
           ]
          },
          {
           "marker": {
            "size": [
             26
            ],
            "sizemode": "area",
            "sizeref": 0.2
           },
           "mode": "markers",
           "name": "less",
           "text": [
            "less"
           ],
           "x": [
            24
           ],
           "y": [
            1.0833333333333333
           ]
          },
          {
           "marker": {
            "size": [
             7
            ],
            "sizemode": "area",
            "sizeref": 0.2
           },
           "mode": "markers",
           "name": "whether",
           "text": [
            "whether"
           ],
           "x": [
            5
           ],
           "y": [
            1.4
           ]
          },
          {
           "marker": {
            "size": [
             26
            ],
            "sizemode": "area",
            "sizeref": 0.2
           },
           "mode": "markers",
           "name": "set",
           "text": [
            "set"
           ],
           "x": [
            18
           ],
           "y": [
            1.4444444444444444
           ]
          },
          {
           "marker": {
            "size": [
             40
            ],
            "sizemode": "area",
            "sizeref": 0.2
           },
           "mode": "markers",
           "name": "policy",
           "text": [
            "policy"
           ],
           "x": [
            23
           ],
           "y": [
            1.7391304347826086
           ]
          },
          {
           "marker": {
            "size": [
             33
            ],
            "sizemode": "area",
            "sizeref": 0.2
           },
           "mode": "markers",
           "name": "decision",
           "text": [
            "decision"
           ],
           "x": [
            19
           ],
           "y": [
            1.736842105263158
           ]
          },
          {
           "marker": {
            "size": [
             20
            ],
            "sizemode": "area",
            "sizeref": 0.2
           },
           "mode": "markers",
           "name": "high",
           "text": [
            "high"
           ],
           "x": [
            11
           ],
           "y": [
            1.8181818181818181
           ]
          },
          {
           "marker": {
            "size": [
             28
            ],
            "sizemode": "area",
            "sizeref": 0.2
           },
           "mode": "markers",
           "name": "problem",
           "text": [
            "problem"
           ],
           "x": [
            11
           ],
           "y": [
            2.5454545454545454
           ]
          },
          {
           "marker": {
            "size": [
             36
            ],
            "sizemode": "area",
            "sizeref": 0.2
           },
           "mode": "markers",
           "name": "sales",
           "text": [
            "sales"
           ],
           "x": [
            14
           ],
           "y": [
            2.5714285714285716
           ]
          }
         ],
         "name": "2014"
        },
        {
         "data": [
          {
           "marker": {
            "size": [
             162
            ],
            "sizemode": "area",
            "sizeref": 0.2
           },
           "mode": "markers",
           "name": "find",
           "text": [
            "find"
           ],
           "x": [
            114
           ],
           "y": [
            1.4210526315789473
           ]
          },
          {
           "marker": {
            "size": [
             116
            ],
            "sizemode": "area",
            "sizeref": 0.2
           },
           "mode": "markers",
           "name": "firms",
           "text": [
            "firms"
           ],
           "x": [
            44
           ],
           "y": [
            2.6363636363636362
           ]
          },
          {
           "marker": {
            "size": [
             104
            ],
            "sizemode": "area",
            "sizeref": 0.2
           },
           "mode": "markers",
           "name": "information",
           "text": [
            "information"
           ],
           "x": [
            38
           ],
           "y": [
            2.736842105263158
           ]
          },
          {
           "marker": {
            "size": [
             82
            ],
            "sizemode": "area",
            "sizeref": 0.2
           },
           "mode": "markers",
           "name": "show",
           "text": [
            "show"
           ],
           "x": [
            65
           ],
           "y": [
            1.2615384615384615
           ]
          },
          {
           "marker": {
            "size": [
             51
            ],
            "sizemode": "area",
            "sizeref": 0.2
           },
           "mode": "markers",
           "name": "product",
           "text": [
            "product"
           ],
           "x": [
            19
           ],
           "y": [
            2.6842105263157894
           ]
          },
          {
           "marker": {
            "size": [
             40
            ],
            "sizemode": "area",
            "sizeref": 0.2
           },
           "mode": "markers",
           "name": "market",
           "text": [
            "market"
           ],
           "x": [
            22
           ],
           "y": [
            1.8181818181818181
           ]
          },
          {
           "marker": {
            "size": [
             87
            ],
            "sizemode": "area",
            "sizeref": 0.2
           },
           "mode": "markers",
           "name": "results",
           "text": [
            "results"
           ],
           "x": [
            68
           ],
           "y": [
            1.2794117647058822
           ]
          },
          {
           "marker": {
            "size": [
             60
            ],
            "sizemode": "area",
            "sizeref": 0.2
           },
           "mode": "markers",
           "name": "firm",
           "text": [
            "firm"
           ],
           "x": [
            32
           ],
           "y": [
            1.875
           ]
          },
          {
           "marker": {
            "size": [
             58
            ],
            "sizemode": "area",
            "sizeref": 0.2
           },
           "mode": "markers",
           "name": "may",
           "text": [
            "may"
           ],
           "x": [
            31
           ],
           "y": [
            1.8709677419354838
           ]
          },
          {
           "marker": {
            "size": [
             64
            ],
            "sizemode": "area",
            "sizeref": 0.2
           },
           "mode": "markers",
           "name": "using",
           "text": [
            "using"
           ],
           "x": [
            50
           ],
           "y": [
            1.28
           ]
          },
          {
           "marker": {
            "size": [
             29
            ],
            "sizemode": "area",
            "sizeref": 0.2
           },
           "mode": "markers",
           "name": "data",
           "text": [
            "data"
           ],
           "x": [
            20
           ],
           "y": [
            1.45
           ]
          },
          {
           "marker": {
            "size": [
             59
            ],
            "sizemode": "area",
            "sizeref": 0.2
           },
           "mode": "markers",
           "name": "risk",
           "text": [
            "risk"
           ],
           "x": [
            21
           ],
           "y": [
            2.8095238095238093
           ]
          },
          {
           "marker": {
            "size": [
             47
            ],
            "sizemode": "area",
            "sizeref": 0.2
           },
           "mode": "markers",
           "name": "two",
           "text": [
            "two"
           ],
           "x": [
            28
           ],
           "y": [
            1.6785714285714286
           ]
          },
          {
           "marker": {
            "size": [
             59
            ],
            "sizemode": "area",
            "sizeref": 0.2
           },
           "mode": "markers",
           "name": "effect",
           "text": [
            "effect"
           ],
           "x": [
            35
           ],
           "y": [
            1.6857142857142857
           ]
          },
          {
           "marker": {
            "size": [
             35
            ],
            "sizemode": "area",
            "sizeref": 0.2
           },
           "mode": "markers",
           "name": "price",
           "text": [
            "price"
           ],
           "x": [
            17
           ],
           "y": [
            2.0588235294117645
           ]
          },
          {
           "marker": {
            "size": [
             43
            ],
            "sizemode": "area",
            "sizeref": 0.2
           },
           "mode": "markers",
           "name": "optimal",
           "text": [
            "optimal"
           ],
           "x": [
            19
           ],
           "y": [
            2.263157894736842
           ]
          },
          {
           "marker": {
            "size": [
             46
            ],
            "sizemode": "area",
            "sizeref": 0.2
           },
           "mode": "markers",
           "name": "performance",
           "text": [
            "performance"
           ],
           "x": [
            22
           ],
           "y": [
            2.090909090909091
           ]
          },
          {
           "marker": {
            "size": [
             46
            ],
            "sizemode": "area",
            "sizeref": 0.2
           },
           "mode": "markers",
           "name": "paper",
           "text": [
            "paper"
           ],
           "x": [
            44
           ],
           "y": [
            1.0454545454545454
           ]
          },
          {
           "marker": {
            "size": [
             32
            ],
            "sizemode": "area",
            "sizeref": 0.2
           },
           "mode": "markers",
           "name": "study",
           "text": [
            "study"
           ],
           "x": [
            23
           ],
           "y": [
            1.391304347826087
           ]
          },
          {
           "marker": {
            "size": [
             25
            ],
            "sizemode": "area",
            "sizeref": 0.2
           },
           "mode": "markers",
           "name": "higher",
           "text": [
            "higher"
           ],
           "x": [
            18
           ],
           "y": [
            1.3888888888888888
           ]
          },
          {
           "marker": {
            "size": [
             44
            ],
            "sizemode": "area",
            "sizeref": 0.2
           },
           "mode": "markers",
           "name": "demand",
           "text": [
            "demand"
           ],
           "x": [
            15
           ],
           "y": [
            2.933333333333333
           ]
          },
          {
           "marker": {
            "size": [
             45
            ],
            "sizemode": "area",
            "sizeref": 0.2
           },
           "mode": "markers",
           "name": "new",
           "text": [
            "new"
           ],
           "x": [
            27
           ],
           "y": [
            1.6666666666666667
           ]
          },
          {
           "marker": {
            "size": [
             39
            ],
            "sizemode": "area",
            "sizeref": 0.2
           },
           "mode": "markers",
           "name": "use",
           "text": [
            "use"
           ],
           "x": [
            24
           ],
           "y": [
            1.625
           ]
          },
          {
           "marker": {
            "size": [
             46
            ],
            "sizemode": "area",
            "sizeref": 0.2
           },
           "mode": "markers",
           "name": "consumers",
           "text": [
            "consumers"
           ],
           "x": [
            19
           ],
           "y": [
            2.4210526315789473
           ]
          },
          {
           "marker": {
            "size": [
             32
            ],
            "sizemode": "area",
            "sizeref": 0.2
           },
           "mode": "markers",
           "name": "value",
           "text": [
            "value"
           ],
           "x": [
            13
           ],
           "y": [
            2.4615384615384617
           ]
          },
          {
           "marker": {
            "size": [
             60
            ],
            "sizemode": "area",
            "sizeref": 0.2
           },
           "mode": "markers",
           "name": "increase",
           "text": [
            "increase"
           ],
           "x": [
            40
           ],
           "y": [
            1.5
           ]
          },
          {
           "marker": {
            "size": [
             33
            ],
            "sizemode": "area",
            "sizeref": 0.2
           },
           "mode": "markers",
           "name": "effects",
           "text": [
            "effects"
           ],
           "x": [
            24
           ],
           "y": [
            1.375
           ]
          },
          {
           "marker": {
            "size": [
             37
            ],
            "sizemode": "area",
            "sizeref": 0.2
           },
           "mode": "markers",
           "name": "evidence",
           "text": [
            "evidence"
           ],
           "x": [
            28
           ],
           "y": [
            1.3214285714285714
           ]
          },
          {
           "marker": {
            "size": [
             38
            ],
            "sizemode": "area",
            "sizeref": 0.2
           },
           "mode": "markers",
           "name": "social",
           "text": [
            "social"
           ],
           "x": [
            13
           ],
           "y": [
            2.923076923076923
           ]
          },
          {
           "marker": {
            "size": [
             57
            ],
            "sizemode": "area",
            "sizeref": 0.2
           },
           "mode": "markers",
           "name": "impact",
           "text": [
            "impact"
           ],
           "x": [
            38
           ],
           "y": [
            1.5
           ]
          },
          {
           "marker": {
            "size": [
             35
            ],
            "sizemode": "area",
            "sizeref": 0.2
           },
           "mode": "markers",
           "name": "cost",
           "text": [
            "cost"
           ],
           "x": [
            18
           ],
           "y": [
            1.9444444444444444
           ]
          },
          {
           "marker": {
            "size": [
             53
            ],
            "sizemode": "area",
            "sizeref": 0.2
           },
           "mode": "markers",
           "name": "quality",
           "text": [
            "quality"
           ],
           "x": [
            13
           ],
           "y": [
            4.076923076923077
           ]
          },
          {
           "marker": {
            "size": [
             35
            ],
            "sizemode": "area",
            "sizeref": 0.2
           },
           "mode": "markers",
           "name": "different",
           "text": [
            "different"
           ],
           "x": [
            22
           ],
           "y": [
            1.5909090909090908
           ]
          },
          {
           "marker": {
            "size": [
             23
            ],
            "sizemode": "area",
            "sizeref": 0.2
           },
           "mode": "markers",
           "name": "one",
           "text": [
            "one"
           ],
           "x": [
            20
           ],
           "y": [
            1.15
           ]
          },
          {
           "marker": {
            "size": [
             17
            ],
            "sizemode": "area",
            "sizeref": 0.2
           },
           "mode": "markers",
           "name": "however,",
           "text": [
            "however,"
           ],
           "x": [
            11
           ],
           "y": [
            1.5454545454545454
           ]
          },
          {
           "marker": {
            "size": [
             38
            ],
            "sizemode": "area",
            "sizeref": 0.2
           },
           "mode": "markers",
           "name": "products",
           "text": [
            "products"
           ],
           "x": [
            11
           ],
           "y": [
            3.4545454545454546
           ]
          },
          {
           "marker": {
            "size": [
             24
            ],
            "sizemode": "area",
            "sizeref": 0.2
           },
           "mode": "markers",
           "name": "consumer",
           "text": [
            "consumer"
           ],
           "x": [
            8
           ],
           "y": [
            3
           ]
          },
          {
           "marker": {
            "size": [
             36
            ],
            "sizemode": "area",
            "sizeref": 0.2
           },
           "mode": "markers",
           "name": "financial",
           "text": [
            "financial"
           ],
           "x": [
            22
           ],
           "y": [
            1.6363636363636365
           ]
          },
          {
           "marker": {
            "size": [
             18
            ],
            "sizemode": "area",
            "sizeref": 0.2
           },
           "mode": "markers",
           "name": "lower",
           "text": [
            "lower"
           ],
           "x": [
            12
           ],
           "y": [
            1.5
           ]
          },
          {
           "marker": {
            "size": [
             38
            ],
            "sizemode": "area",
            "sizeref": 0.2
           },
           "mode": "markers",
           "name": "likely",
           "text": [
            "likely"
           ],
           "x": [
            27
           ],
           "y": [
            1.4074074074074074
           ]
          },
          {
           "marker": {
            "size": [
             45
            ],
            "sizemode": "area",
            "sizeref": 0.2
           },
           "mode": "markers",
           "name": "pricing",
           "text": [
            "pricing"
           ],
           "x": [
            22
           ],
           "y": [
            2.0454545454545454
           ]
          },
          {
           "marker": {
            "size": [
             33
            ],
            "sizemode": "area",
            "sizeref": 0.2
           },
           "mode": "markers",
           "name": "based",
           "text": [
            "based"
           ],
           "x": [
            27
           ],
           "y": [
            1.2222222222222223
           ]
          },
          {
           "marker": {
            "size": [
             30
            ],
            "sizemode": "area",
            "sizeref": 0.2
           },
           "mode": "markers",
           "name": "less",
           "text": [
            "less"
           ],
           "x": [
            25
           ],
           "y": [
            1.2
           ]
          },
          {
           "marker": {
            "size": [
             27
            ],
            "sizemode": "area",
            "sizeref": 0.2
           },
           "mode": "markers",
           "name": "whether",
           "text": [
            "whether"
           ],
           "x": [
            17
           ],
           "y": [
            1.588235294117647
           ]
          },
          {
           "marker": {
            "size": [
             30
            ],
            "sizemode": "area",
            "sizeref": 0.2
           },
           "mode": "markers",
           "name": "set",
           "text": [
            "set"
           ],
           "x": [
            28
           ],
           "y": [
            1.0714285714285714
           ]
          },
          {
           "marker": {
            "size": [
             51
            ],
            "sizemode": "area",
            "sizeref": 0.2
           },
           "mode": "markers",
           "name": "policy",
           "text": [
            "policy"
           ],
           "x": [
            28
           ],
           "y": [
            1.8214285714285714
           ]
          },
          {
           "marker": {
            "size": [
             26
            ],
            "sizemode": "area",
            "sizeref": 0.2
           },
           "mode": "markers",
           "name": "decision",
           "text": [
            "decision"
           ],
           "x": [
            16
           ],
           "y": [
            1.625
           ]
          },
          {
           "marker": {
            "size": [
             36
            ],
            "sizemode": "area",
            "sizeref": 0.2
           },
           "mode": "markers",
           "name": "high",
           "text": [
            "high"
           ],
           "x": [
            21
           ],
           "y": [
            1.7142857142857142
           ]
          },
          {
           "marker": {
            "size": [
             24
            ],
            "sizemode": "area",
            "sizeref": 0.2
           },
           "mode": "markers",
           "name": "problem",
           "text": [
            "problem"
           ],
           "x": [
            13
           ],
           "y": [
            1.8461538461538463
           ]
          },
          {
           "marker": {
            "size": [
             32
            ],
            "sizemode": "area",
            "sizeref": 0.2
           },
           "mode": "markers",
           "name": "sales",
           "text": [
            "sales"
           ],
           "x": [
            12
           ],
           "y": [
            2.6666666666666665
           ]
          }
         ],
         "name": "2015"
        },
        {
         "data": [
          {
           "marker": {
            "size": [
             52
            ],
            "sizemode": "area",
            "sizeref": 0.2
           },
           "mode": "markers",
           "name": "find",
           "text": [
            "find"
           ],
           "x": [
            42
           ],
           "y": [
            1.2380952380952381
           ]
          },
          {
           "marker": {
            "size": [
             36
            ],
            "sizemode": "area",
            "sizeref": 0.2
           },
           "mode": "markers",
           "name": "firms",
           "text": [
            "firms"
           ],
           "x": [
            18
           ],
           "y": [
            2
           ]
          },
          {
           "marker": {
            "size": [
             46
            ],
            "sizemode": "area",
            "sizeref": 0.2
           },
           "mode": "markers",
           "name": "information",
           "text": [
            "information"
           ],
           "x": [
            15
           ],
           "y": [
            3.066666666666667
           ]
          },
          {
           "marker": {
            "size": [
             29
            ],
            "sizemode": "area",
            "sizeref": 0.2
           },
           "mode": "markers",
           "name": "show",
           "text": [
            "show"
           ],
           "x": [
            23
           ],
           "y": [
            1.2608695652173914
           ]
          },
          {
           "marker": {
            "size": [
             27
            ],
            "sizemode": "area",
            "sizeref": 0.2
           },
           "mode": "markers",
           "name": "product",
           "text": [
            "product"
           ],
           "x": [
            9
           ],
           "y": [
            3
           ]
          },
          {
           "marker": {
            "size": [
             36
            ],
            "sizemode": "area",
            "sizeref": 0.2
           },
           "mode": "markers",
           "name": "market",
           "text": [
            "market"
           ],
           "x": [
            20
           ],
           "y": [
            1.8
           ]
          },
          {
           "marker": {
            "size": [
             30
            ],
            "sizemode": "area",
            "sizeref": 0.2
           },
           "mode": "markers",
           "name": "results",
           "text": [
            "results"
           ],
           "x": [
            27
           ],
           "y": [
            1.1111111111111112
           ]
          },
          {
           "marker": {
            "size": [
             20
            ],
            "sizemode": "area",
            "sizeref": 0.2
           },
           "mode": "markers",
           "name": "firm",
           "text": [
            "firm"
           ],
           "x": [
            13
           ],
           "y": [
            1.5384615384615385
           ]
          },
          {
           "marker": {
            "size": [
             20
            ],
            "sizemode": "area",
            "sizeref": 0.2
           },
           "mode": "markers",
           "name": "may",
           "text": [
            "may"
           ],
           "x": [
            14
           ],
           "y": [
            1.4285714285714286
           ]
          },
          {
           "marker": {
            "size": [
             17
            ],
            "sizemode": "area",
            "sizeref": 0.2
           },
           "mode": "markers",
           "name": "using",
           "text": [
            "using"
           ],
           "x": [
            14
           ],
           "y": [
            1.2142857142857142
           ]
          },
          {
           "marker": {
            "size": [
             14
            ],
            "sizemode": "area",
            "sizeref": 0.2
           },
           "mode": "markers",
           "name": "data",
           "text": [
            "data"
           ],
           "x": [
            9
           ],
           "y": [
            1.5555555555555556
           ]
          },
          {
           "marker": {
            "size": [
             19
            ],
            "sizemode": "area",
            "sizeref": 0.2
           },
           "mode": "markers",
           "name": "risk",
           "text": [
            "risk"
           ],
           "x": [
            9
           ],
           "y": [
            2.111111111111111
           ]
          },
          {
           "marker": {
            "size": [
             20
            ],
            "sizemode": "area",
            "sizeref": 0.2
           },
           "mode": "markers",
           "name": "two",
           "text": [
            "two"
           ],
           "x": [
            12
           ],
           "y": [
            1.6666666666666667
           ]
          },
          {
           "marker": {
            "size": [
             18
            ],
            "sizemode": "area",
            "sizeref": 0.2
           },
           "mode": "markers",
           "name": "effect",
           "text": [
            "effect"
           ],
           "x": [
            13
           ],
           "y": [
            1.3846153846153846
           ]
          },
          {
           "marker": {
            "size": [
             19
            ],
            "sizemode": "area",
            "sizeref": 0.2
           },
           "mode": "markers",
           "name": "price",
           "text": [
            "price"
           ],
           "x": [
            7
           ],
           "y": [
            2.7142857142857144
           ]
          },
          {
           "marker": {
            "size": [
             13
            ],
            "sizemode": "area",
            "sizeref": 0.2
           },
           "mode": "markers",
           "name": "optimal",
           "text": [
            "optimal"
           ],
           "x": [
            7
           ],
           "y": [
            1.8571428571428572
           ]
          },
          {
           "marker": {
            "size": [
             19
            ],
            "sizemode": "area",
            "sizeref": 0.2
           },
           "mode": "markers",
           "name": "performance",
           "text": [
            "performance"
           ],
           "x": [
            11
           ],
           "y": [
            1.7272727272727273
           ]
          },
          {
           "marker": {
            "size": [
             13
            ],
            "sizemode": "area",
            "sizeref": 0.2
           },
           "mode": "markers",
           "name": "paper",
           "text": [
            "paper"
           ],
           "x": [
            11
           ],
           "y": [
            1.1818181818181819
           ]
          },
          {
           "marker": {
            "size": [
             12
            ],
            "sizemode": "area",
            "sizeref": 0.2
           },
           "mode": "markers",
           "name": "study",
           "text": [
            "study"
           ],
           "x": [
            7
           ],
           "y": [
            1.7142857142857142
           ]
          },
          {
           "marker": {
            "size": [
             25
            ],
            "sizemode": "area",
            "sizeref": 0.2
           },
           "mode": "markers",
           "name": "higher",
           "text": [
            "higher"
           ],
           "x": [
            15
           ],
           "y": [
            1.6666666666666667
           ]
          },
          {
           "marker": {
            "size": [
             8
            ],
            "sizemode": "area",
            "sizeref": 0.2
           },
           "mode": "markers",
           "name": "demand",
           "text": [
            "demand"
           ],
           "x": [
            6
           ],
           "y": [
            1.3333333333333333
           ]
          },
          {
           "marker": {
            "size": [
             19
            ],
            "sizemode": "area",
            "sizeref": 0.2
           },
           "mode": "markers",
           "name": "new",
           "text": [
            "new"
           ],
           "x": [
            12
           ],
           "y": [
            1.5833333333333333
           ]
          },
          {
           "marker": {
            "size": [
             24
            ],
            "sizemode": "area",
            "sizeref": 0.2
           },
           "mode": "markers",
           "name": "use",
           "text": [
            "use"
           ],
           "x": [
            14
           ],
           "y": [
            1.7142857142857142
           ]
          },
          {
           "marker": {
            "size": [
             17
            ],
            "sizemode": "area",
            "sizeref": 0.2
           },
           "mode": "markers",
           "name": "consumers",
           "text": [
            "consumers"
           ],
           "x": [
            9
           ],
           "y": [
            1.8888888888888888
           ]
          },
          {
           "marker": {
            "size": [
             7
            ],
            "sizemode": "area",
            "sizeref": 0.2
           },
           "mode": "markers",
           "name": "value",
           "text": [
            "value"
           ],
           "x": [
            3
           ],
           "y": [
            2.3333333333333335
           ]
          },
          {
           "marker": {
            "size": [
             15
            ],
            "sizemode": "area",
            "sizeref": 0.2
           },
           "mode": "markers",
           "name": "increase",
           "text": [
            "increase"
           ],
           "x": [
            11
           ],
           "y": [
            1.3636363636363635
           ]
          },
          {
           "marker": {
            "size": [
             15
            ],
            "sizemode": "area",
            "sizeref": 0.2
           },
           "mode": "markers",
           "name": "effects",
           "text": [
            "effects"
           ],
           "x": [
            13
           ],
           "y": [
            1.1538461538461537
           ]
          },
          {
           "marker": {
            "size": [
             16
            ],
            "sizemode": "area",
            "sizeref": 0.2
           },
           "mode": "markers",
           "name": "evidence",
           "text": [
            "evidence"
           ],
           "x": [
            14
           ],
           "y": [
            1.1428571428571428
           ]
          },
          {
           "marker": {
            "size": [
             4
            ],
            "sizemode": "area",
            "sizeref": 0.2
           },
           "mode": "markers",
           "name": "social",
           "text": [
            "social"
           ],
           "x": [
            2
           ],
           "y": [
            2
           ]
          },
          {
           "marker": {
            "size": [
             24
            ],
            "sizemode": "area",
            "sizeref": 0.2
           },
           "mode": "markers",
           "name": "impact",
           "text": [
            "impact"
           ],
           "x": [
            15
           ],
           "y": [
            1.6
           ]
          },
          {
           "marker": {
            "size": [
             21
            ],
            "sizemode": "area",
            "sizeref": 0.2
           },
           "mode": "markers",
           "name": "cost",
           "text": [
            "cost"
           ],
           "x": [
            8
           ],
           "y": [
            2.625
           ]
          },
          {
           "marker": {
            "size": [
             15
            ],
            "sizemode": "area",
            "sizeref": 0.2
           },
           "mode": "markers",
           "name": "quality",
           "text": [
            "quality"
           ],
           "x": [
            9
           ],
           "y": [
            1.6666666666666667
           ]
          },
          {
           "marker": {
            "size": [
             6
            ],
            "sizemode": "area",
            "sizeref": 0.2
           },
           "mode": "markers",
           "name": "different",
           "text": [
            "different"
           ],
           "x": [
            5
           ],
           "y": [
            1.2
           ]
          },
          {
           "marker": {
            "size": [
             3
            ],
            "sizemode": "area",
            "sizeref": 0.2
           },
           "mode": "markers",
           "name": "one",
           "text": [
            "one"
           ],
           "x": [
            2
           ],
           "y": [
            1.5
           ]
          },
          {
           "marker": {
            "size": [
             7
            ],
            "sizemode": "area",
            "sizeref": 0.2
           },
           "mode": "markers",
           "name": "however,",
           "text": [
            "however,"
           ],
           "x": [
            5
           ],
           "y": [
            1.4
           ]
          },
          {
           "marker": {
            "size": [
             9
            ],
            "sizemode": "area",
            "sizeref": 0.2
           },
           "mode": "markers",
           "name": "products",
           "text": [
            "products"
           ],
           "x": [
            3
           ],
           "y": [
            3
           ]
          },
          {
           "marker": {
            "size": [
             12
            ],
            "sizemode": "area",
            "sizeref": 0.2
           },
           "mode": "markers",
           "name": "consumer",
           "text": [
            "consumer"
           ],
           "x": [
            4
           ],
           "y": [
            3
           ]
          },
          {
           "marker": {
            "size": [
             21
            ],
            "sizemode": "area",
            "sizeref": 0.2
           },
           "mode": "markers",
           "name": "financial",
           "text": [
            "financial"
           ],
           "x": [
            11
           ],
           "y": [
            1.9090909090909092
           ]
          },
          {
           "marker": {
            "size": [
             10
            ],
            "sizemode": "area",
            "sizeref": 0.2
           },
           "mode": "markers",
           "name": "lower",
           "text": [
            "lower"
           ],
           "x": [
            7
           ],
           "y": [
            1.4285714285714286
           ]
          },
          {
           "marker": {
            "size": [
             18
            ],
            "sizemode": "area",
            "sizeref": 0.2
           },
           "mode": "markers",
           "name": "likely",
           "text": [
            "likely"
           ],
           "x": [
            11
           ],
           "y": [
            1.6363636363636365
           ]
          },
          {
           "marker": {
            "size": [
             8
            ],
            "sizemode": "area",
            "sizeref": 0.2
           },
           "mode": "markers",
           "name": "pricing",
           "text": [
            "pricing"
           ],
           "x": [
            3
           ],
           "y": [
            2.6666666666666665
           ]
          },
          {
           "marker": {
            "size": [
             10
            ],
            "sizemode": "area",
            "sizeref": 0.2
           },
           "mode": "markers",
           "name": "based",
           "text": [
            "based"
           ],
           "x": [
            7
           ],
           "y": [
            1.4285714285714286
           ]
          },
          {
           "marker": {
            "size": [
             13
            ],
            "sizemode": "area",
            "sizeref": 0.2
           },
           "mode": "markers",
           "name": "less",
           "text": [
            "less"
           ],
           "x": [
            9
           ],
           "y": [
            1.4444444444444444
           ]
          },
          {
           "marker": {
            "size": [
             6
            ],
            "sizemode": "area",
            "sizeref": 0.2
           },
           "mode": "markers",
           "name": "whether",
           "text": [
            "whether"
           ],
           "x": [
            5
           ],
           "y": [
            1.2
           ]
          },
          {
           "marker": {
            "size": [
             16
            ],
            "sizemode": "area",
            "sizeref": 0.2
           },
           "mode": "markers",
           "name": "set",
           "text": [
            "set"
           ],
           "x": [
            13
           ],
           "y": [
            1.2307692307692308
           ]
          },
          {
           "marker": {
            "size": [
             9
            ],
            "sizemode": "area",
            "sizeref": 0.2
           },
           "mode": "markers",
           "name": "policy",
           "text": [
            "policy"
           ],
           "x": [
            7
           ],
           "y": [
            1.2857142857142858
           ]
          },
          {
           "marker": {
            "size": [
             10
            ],
            "sizemode": "area",
            "sizeref": 0.2
           },
           "mode": "markers",
           "name": "decision",
           "text": [
            "decision"
           ],
           "x": [
            6
           ],
           "y": [
            1.6666666666666667
           ]
          },
          {
           "marker": {
            "size": [
             6
            ],
            "sizemode": "area",
            "sizeref": 0.2
           },
           "mode": "markers",
           "name": "high",
           "text": [
            "high"
           ],
           "x": [
            4
           ],
           "y": [
            1.5
           ]
          },
          {
           "marker": {
            "size": [
             4
            ],
            "sizemode": "area",
            "sizeref": 0.2
           },
           "mode": "markers",
           "name": "problem",
           "text": [
            "problem"
           ],
           "x": [
            2
           ],
           "y": [
            2
           ]
          },
          {
           "marker": {
            "size": [
             18
            ],
            "sizemode": "area",
            "sizeref": 0.2
           },
           "mode": "markers",
           "name": "sales",
           "text": [
            "sales"
           ],
           "x": [
            4
           ],
           "y": [
            4.5
           ]
          }
         ],
         "name": "2016"
        }
       ],
       "layout": {
        "hovermode": "closest",
        "sliders": [
         {
          "active": 0,
          "currentvalue": {
           "font": {
            "size": 20
           },
           "prefix": "Year:",
           "visible": true,
           "xanchor": "right"
          },
          "len": 0.9,
          "pad": {
           "b": 10,
           "t": 50
          },
          "steps": [
           {
            "args": [
             [
              2010
             ],
             {
              "frame": {
               "duration": 300,
               "redraw": false
              },
              "mode": "immediate",
              "transition": {
               "duration": 300
              }
             }
            ],
            "label": 2010,
            "method": "animate"
           },
           {
            "args": [
             [
              2011
             ],
             {
              "frame": {
               "duration": 300,
               "redraw": false
              },
              "mode": "immediate",
              "transition": {
               "duration": 300
              }
             }
            ],
            "label": 2011,
            "method": "animate"
           },
           {
            "args": [
             [
              2012
             ],
             {
              "frame": {
               "duration": 300,
               "redraw": false
              },
              "mode": "immediate",
              "transition": {
               "duration": 300
              }
             }
            ],
            "label": 2012,
            "method": "animate"
           },
           {
            "args": [
             [
              2013
             ],
             {
              "frame": {
               "duration": 300,
               "redraw": false
              },
              "mode": "immediate",
              "transition": {
               "duration": 300
              }
             }
            ],
            "label": 2013,
            "method": "animate"
           },
           {
            "args": [
             [
              2014
             ],
             {
              "frame": {
               "duration": 300,
               "redraw": false
              },
              "mode": "immediate",
              "transition": {
               "duration": 300
              }
             }
            ],
            "label": 2014,
            "method": "animate"
           },
           {
            "args": [
             [
              2015
             ],
             {
              "frame": {
               "duration": 300,
               "redraw": false
              },
              "mode": "immediate",
              "transition": {
               "duration": 300
              }
             }
            ],
            "label": 2015,
            "method": "animate"
           },
           {
            "args": [
             [
              2016
             ],
             {
              "frame": {
               "duration": 300,
               "redraw": false
              },
              "mode": "immediate",
              "transition": {
               "duration": 300
              }
             }
            ],
            "label": 2016,
            "method": "animate"
           }
          ],
          "transition": {
           "duration": 300,
           "easing": "cubic-in-out"
          },
          "x": 0.1,
          "xanchor": "left",
          "y": 0,
          "yanchor": "top"
         }
        ],
        "updatemenus": [
         {
          "buttons": [
           {
            "args": [
             null,
             {
              "frame": {
               "duration": 500,
               "redraw": false
              },
              "fromcurrent": true,
              "transition": {
               "duration": 300,
               "easing": "quadratic-in-out"
              }
             }
            ],
            "label": "Play",
            "method": "animate"
           },
           {
            "args": [
             [
              null
             ],
             {
              "frame": {
               "duration": 0,
               "redraw": false
              },
              "mode": "immediate",
              "transition": {
               "duration": 0
              }
             }
            ],
            "label": "Pause",
            "method": "animate"
           }
          ],
          "direction": "left",
          "pad": {
           "r": 10,
           "t": 87
          },
          "showactive": false,
          "type": "buttons",
          "x": 0.1,
          "xanchor": "right",
          "y": 0,
          "yanchor": "top"
         }
        ],
        "xaxis": {
         "range": [
          0,
          50
         ],
         "title": "Number of Publications"
        },
        "yaxis": {
         "title": "Freq per publication",
         "type": "float"
        }
       }
      },
      "text/html": [
       "<div id=\"8f21a16e-a0af-4b34-8349-f421b962a2b7\" style=\"height: 525px; width: 100%;\" class=\"plotly-graph-div\"></div><script type=\"text/javascript\">require([\"plotly\"], function(Plotly) { window.PLOTLYENV=window.PLOTLYENV || {};window.PLOTLYENV.BASE_URL=\"https://plot.ly\";\n",
       "        Plotly.plot(\n",
       "            '8f21a16e-a0af-4b34-8349-f421b962a2b7',\n",
       "            [{\"name\": \"find\", \"text\": [\"find\"], \"y\": [1.0], \"mode\": \"markers\", \"marker\": {\"sizemode\": \"area\", \"sizeref\": 0.2, \"size\": [1.0]}, \"x\": [1]}, {\"name\": \"firms\", \"text\": [\"firms\"], \"y\": [3.0], \"mode\": \"markers\", \"marker\": {\"sizemode\": \"area\", \"sizeref\": 0.2, \"size\": [3.0]}, \"x\": [1]}, {\"name\": \"information\", \"text\": [\"information\"], \"y\": [0.0], \"mode\": \"markers\", \"marker\": {\"sizemode\": \"area\", \"sizeref\": 0.2, \"size\": [0.0]}, \"x\": [0]}, {\"name\": \"show\", \"text\": [\"show\"], \"y\": [0.0], \"mode\": \"markers\", \"marker\": {\"sizemode\": \"area\", \"sizeref\": 0.2, \"size\": [0.0]}, \"x\": [0]}, {\"name\": \"product\", \"text\": [\"product\"], \"y\": [0.0], \"mode\": \"markers\", \"marker\": {\"sizemode\": \"area\", \"sizeref\": 0.2, \"size\": [0.0]}, \"x\": [0]}, {\"name\": \"market\", \"text\": [\"market\"], \"y\": [1.0], \"mode\": \"markers\", \"marker\": {\"sizemode\": \"area\", \"sizeref\": 0.2, \"size\": [1.0]}, \"x\": [1]}, {\"name\": \"results\", \"text\": [\"results\"], \"y\": [1.0], \"mode\": \"markers\", \"marker\": {\"sizemode\": \"area\", \"sizeref\": 0.2, \"size\": [1.0]}, \"x\": [1]}, {\"name\": \"firm\", \"text\": [\"firm\"], \"y\": [0.0], \"mode\": \"markers\", \"marker\": {\"sizemode\": \"area\", \"sizeref\": 0.2, \"size\": [0.0]}, \"x\": [0]}, {\"name\": \"may\", \"text\": [\"may\"], \"y\": [0.0], \"mode\": \"markers\", \"marker\": {\"sizemode\": \"area\", \"sizeref\": 0.2, \"size\": [0.0]}, \"x\": [0]}, {\"name\": \"using\", \"text\": [\"using\"], \"y\": [1.0], \"mode\": \"markers\", \"marker\": {\"sizemode\": \"area\", \"sizeref\": 0.2, \"size\": [1.0]}, \"x\": [1]}, {\"name\": \"data\", \"text\": [\"data\"], \"y\": [3.0], \"mode\": \"markers\", \"marker\": {\"sizemode\": \"area\", \"sizeref\": 0.2, \"size\": [3.0]}, \"x\": [1]}, {\"name\": \"risk\", \"text\": [\"risk\"], \"y\": [2.0], \"mode\": \"markers\", \"marker\": {\"sizemode\": \"area\", \"sizeref\": 0.2, \"size\": [2.0]}, \"x\": [1]}, {\"name\": \"two\", \"text\": [\"two\"], \"y\": [1.0], \"mode\": \"markers\", \"marker\": {\"sizemode\": \"area\", \"sizeref\": 0.2, \"size\": [1.0]}, \"x\": [1]}, {\"name\": \"effect\", \"text\": [\"effect\"], \"y\": [0.0], \"mode\": \"markers\", \"marker\": {\"sizemode\": \"area\", \"sizeref\": 0.2, \"size\": [0.0]}, \"x\": [0]}, {\"name\": \"price\", \"text\": [\"price\"], \"y\": [0.0], \"mode\": \"markers\", \"marker\": {\"sizemode\": \"area\", \"sizeref\": 0.2, \"size\": [0.0]}, \"x\": [0]}, {\"name\": \"optimal\", \"text\": [\"optimal\"], \"y\": [0.0], \"mode\": \"markers\", \"marker\": {\"sizemode\": \"area\", \"sizeref\": 0.2, \"size\": [0.0]}, \"x\": [0]}, {\"name\": \"performance\", \"text\": [\"performance\"], \"y\": [0.0], \"mode\": \"markers\", \"marker\": {\"sizemode\": \"area\", \"sizeref\": 0.2, \"size\": [0.0]}, \"x\": [0]}, {\"name\": \"paper\", \"text\": [\"paper\"], \"y\": [1.0], \"mode\": \"markers\", \"marker\": {\"sizemode\": \"area\", \"sizeref\": 0.2, \"size\": [1.0]}, \"x\": [1]}, {\"name\": \"study\", \"text\": [\"study\"], \"y\": [0.0], \"mode\": \"markers\", \"marker\": {\"sizemode\": \"area\", \"sizeref\": 0.2, \"size\": [0.0]}, \"x\": [0]}, {\"name\": \"higher\", \"text\": [\"higher\"], \"y\": [0.0], \"mode\": \"markers\", \"marker\": {\"sizemode\": \"area\", \"sizeref\": 0.2, \"size\": [0.0]}, \"x\": [0]}, {\"name\": \"demand\", \"text\": [\"demand\"], \"y\": [0.0], \"mode\": \"markers\", \"marker\": {\"sizemode\": \"area\", \"sizeref\": 0.2, \"size\": [0.0]}, \"x\": [0]}, {\"name\": \"new\", \"text\": [\"new\"], \"y\": [0.0], \"mode\": \"markers\", \"marker\": {\"sizemode\": \"area\", \"sizeref\": 0.2, \"size\": [0.0]}, \"x\": [0]}, {\"name\": \"use\", \"text\": [\"use\"], \"y\": [0.0], \"mode\": \"markers\", \"marker\": {\"sizemode\": \"area\", \"sizeref\": 0.2, \"size\": [0.0]}, \"x\": [0]}, {\"name\": \"consumers\", \"text\": [\"consumers\"], \"y\": [0.0], \"mode\": \"markers\", \"marker\": {\"sizemode\": \"area\", \"sizeref\": 0.2, \"size\": [0.0]}, \"x\": [0]}, {\"name\": \"value\", \"text\": [\"value\"], \"y\": [0.0], \"mode\": \"markers\", \"marker\": {\"sizemode\": \"area\", \"sizeref\": 0.2, \"size\": [0.0]}, \"x\": [0]}, {\"name\": \"increase\", \"text\": [\"increase\"], \"y\": [0.0], \"mode\": \"markers\", \"marker\": {\"sizemode\": \"area\", \"sizeref\": 0.2, \"size\": [0.0]}, \"x\": [0]}, {\"name\": \"effects\", \"text\": [\"effects\"], \"y\": [0.0], \"mode\": \"markers\", \"marker\": {\"sizemode\": \"area\", \"sizeref\": 0.2, \"size\": [0.0]}, \"x\": [0]}, {\"name\": \"evidence\", \"text\": [\"evidence\"], \"y\": [1.0], \"mode\": \"markers\", \"marker\": {\"sizemode\": \"area\", \"sizeref\": 0.2, \"size\": [1.0]}, \"x\": [1]}, {\"name\": \"social\", \"text\": [\"social\"], \"y\": [0.0], \"mode\": \"markers\", \"marker\": {\"sizemode\": \"area\", \"sizeref\": 0.2, \"size\": [0.0]}, \"x\": [0]}, {\"name\": \"impact\", \"text\": [\"impact\"], \"y\": [0.0], \"mode\": \"markers\", \"marker\": {\"sizemode\": \"area\", \"sizeref\": 0.2, \"size\": [0.0]}, \"x\": [0]}, {\"name\": \"cost\", \"text\": [\"cost\"], \"y\": [0.0], \"mode\": \"markers\", \"marker\": {\"sizemode\": \"area\", \"sizeref\": 0.2, \"size\": [0.0]}, \"x\": [0]}, {\"name\": \"quality\", \"text\": [\"quality\"], \"y\": [0.0], \"mode\": \"markers\", \"marker\": {\"sizemode\": \"area\", \"sizeref\": 0.2, \"size\": [0.0]}, \"x\": [0]}, {\"name\": \"different\", \"text\": [\"different\"], \"y\": [0.0], \"mode\": \"markers\", \"marker\": {\"sizemode\": \"area\", \"sizeref\": 0.2, \"size\": [0.0]}, \"x\": [0]}, {\"name\": \"one\", \"text\": [\"one\"], \"y\": [0.0], \"mode\": \"markers\", \"marker\": {\"sizemode\": \"area\", \"sizeref\": 0.2, \"size\": [0.0]}, \"x\": [0]}, {\"name\": \"however,\", \"text\": [\"however,\"], \"y\": [0.0], \"mode\": \"markers\", \"marker\": {\"sizemode\": \"area\", \"sizeref\": 0.2, \"size\": [0.0]}, \"x\": [0]}, {\"name\": \"products\", \"text\": [\"products\"], \"y\": [0.0], \"mode\": \"markers\", \"marker\": {\"sizemode\": \"area\", \"sizeref\": 0.2, \"size\": [0.0]}, \"x\": [0]}, {\"name\": \"consumer\", \"text\": [\"consumer\"], \"y\": [0.0], \"mode\": \"markers\", \"marker\": {\"sizemode\": \"area\", \"sizeref\": 0.2, \"size\": [0.0]}, \"x\": [0]}, {\"name\": \"financial\", \"text\": [\"financial\"], \"y\": [6.0], \"mode\": \"markers\", \"marker\": {\"sizemode\": \"area\", \"sizeref\": 0.2, \"size\": [6.0]}, \"x\": [1]}, {\"name\": \"lower\", \"text\": [\"lower\"], \"y\": [0.0], \"mode\": \"markers\", \"marker\": {\"sizemode\": \"area\", \"sizeref\": 0.2, \"size\": [0.0]}, \"x\": [0]}, {\"name\": \"likely\", \"text\": [\"likely\"], \"y\": [0.0], \"mode\": \"markers\", \"marker\": {\"sizemode\": \"area\", \"sizeref\": 0.2, \"size\": [0.0]}, \"x\": [0]}, {\"name\": \"pricing\", \"text\": [\"pricing\"], \"y\": [0.0], \"mode\": \"markers\", \"marker\": {\"sizemode\": \"area\", \"sizeref\": 0.2, \"size\": [0.0]}, \"x\": [0]}, {\"name\": \"based\", \"text\": [\"based\"], \"y\": [0.0], \"mode\": \"markers\", \"marker\": {\"sizemode\": \"area\", \"sizeref\": 0.2, \"size\": [0.0]}, \"x\": [0]}, {\"name\": \"less\", \"text\": [\"less\"], \"y\": [0.0], \"mode\": \"markers\", \"marker\": {\"sizemode\": \"area\", \"sizeref\": 0.2, \"size\": [0.0]}, \"x\": [0]}, {\"name\": \"whether\", \"text\": [\"whether\"], \"y\": [0.0], \"mode\": \"markers\", \"marker\": {\"sizemode\": \"area\", \"sizeref\": 0.2, \"size\": [0.0]}, \"x\": [0]}, {\"name\": \"set\", \"text\": [\"set\"], \"y\": [2.0], \"mode\": \"markers\", \"marker\": {\"sizemode\": \"area\", \"sizeref\": 0.2, \"size\": [2.0]}, \"x\": [1]}, {\"name\": \"policy\", \"text\": [\"policy\"], \"y\": [0.0], \"mode\": \"markers\", \"marker\": {\"sizemode\": \"area\", \"sizeref\": 0.2, \"size\": [0.0]}, \"x\": [0]}, {\"name\": \"decision\", \"text\": [\"decision\"], \"y\": [0.0], \"mode\": \"markers\", \"marker\": {\"sizemode\": \"area\", \"sizeref\": 0.2, \"size\": [0.0]}, \"x\": [0]}, {\"name\": \"high\", \"text\": [\"high\"], \"y\": [0.0], \"mode\": \"markers\", \"marker\": {\"sizemode\": \"area\", \"sizeref\": 0.2, \"size\": [0.0]}, \"x\": [0]}, {\"name\": \"problem\", \"text\": [\"problem\"], \"y\": [0.0], \"mode\": \"markers\", \"marker\": {\"sizemode\": \"area\", \"sizeref\": 0.2, \"size\": [0.0]}, \"x\": [0]}, {\"name\": \"sales\", \"text\": [\"sales\"], \"y\": [0.0], \"mode\": \"markers\", \"marker\": {\"sizemode\": \"area\", \"sizeref\": 0.2, \"size\": [0.0]}, \"x\": [0]}],\n",
       "            {\"sliders\": [{\"yanchor\": \"top\", \"currentvalue\": {\"visible\": true, \"prefix\": \"Year:\", \"font\": {\"size\": 20}, \"xanchor\": \"right\"}, \"transition\": {\"duration\": 300, \"easing\": \"cubic-in-out\"}, \"xanchor\": \"left\", \"pad\": {\"b\": 10, \"t\": 50}, \"len\": 0.9, \"active\": 0, \"steps\": [{\"args\": [[2010], {\"frame\": {\"duration\": 300, \"redraw\": false}, \"transition\": {\"duration\": 300}, \"mode\": \"immediate\"}], \"method\": \"animate\", \"label\": 2010}, {\"args\": [[2011], {\"frame\": {\"duration\": 300, \"redraw\": false}, \"transition\": {\"duration\": 300}, \"mode\": \"immediate\"}], \"method\": \"animate\", \"label\": 2011}, {\"args\": [[2012], {\"frame\": {\"duration\": 300, \"redraw\": false}, \"transition\": {\"duration\": 300}, \"mode\": \"immediate\"}], \"method\": \"animate\", \"label\": 2012}, {\"args\": [[2013], {\"frame\": {\"duration\": 300, \"redraw\": false}, \"transition\": {\"duration\": 300}, \"mode\": \"immediate\"}], \"method\": \"animate\", \"label\": 2013}, {\"args\": [[2014], {\"frame\": {\"duration\": 300, \"redraw\": false}, \"transition\": {\"duration\": 300}, \"mode\": \"immediate\"}], \"method\": \"animate\", \"label\": 2014}, {\"args\": [[2015], {\"frame\": {\"duration\": 300, \"redraw\": false}, \"transition\": {\"duration\": 300}, \"mode\": \"immediate\"}], \"method\": \"animate\", \"label\": 2015}, {\"args\": [[2016], {\"frame\": {\"duration\": 300, \"redraw\": false}, \"transition\": {\"duration\": 300}, \"mode\": \"immediate\"}], \"method\": \"animate\", \"label\": 2016}], \"y\": 0, \"x\": 0.1}], \"hovermode\": \"closest\", \"xaxis\": {\"range\": [0, 50], \"title\": \"Number of Publications\"}, \"updatemenus\": [{\"yanchor\": \"top\", \"direction\": \"left\", \"showactive\": false, \"xanchor\": \"right\", \"buttons\": [{\"args\": [null, {\"frame\": {\"duration\": 500, \"redraw\": false}, \"transition\": {\"duration\": 300, \"easing\": \"quadratic-in-out\"}, \"fromcurrent\": true}], \"method\": \"animate\", \"label\": \"Play\"}, {\"args\": [[null], {\"frame\": {\"duration\": 0, \"redraw\": false}, \"transition\": {\"duration\": 0}, \"mode\": \"immediate\"}], \"method\": \"animate\", \"label\": \"Pause\"}], \"pad\": {\"r\": 10, \"t\": 87}, \"y\": 0, \"x\": 0.1, \"type\": \"buttons\"}], \"yaxis\": {\"type\": \"float\", \"title\": \"Freq per publication\"}},\n",
       "            {\"linkText\": \"Export to plot.ly\", \"showLink\": true}\n",
       "        ).then(function () {return Plotly.addFrames('8f21a16e-a0af-4b34-8349-f421b962a2b7',[{\"data\": [{\"name\": \"find\", \"text\": [\"find\"], \"y\": [0.0], \"mode\": \"markers\", \"marker\": {\"sizemode\": \"area\", \"sizeref\": 0.2, \"size\": [0.0]}, \"x\": [0]}, {\"name\": \"firms\", \"text\": [\"firms\"], \"y\": [2.0], \"mode\": \"markers\", \"marker\": {\"sizemode\": \"area\", \"sizeref\": 0.2, \"size\": [2.0]}, \"x\": [1]}, {\"name\": \"information\", \"text\": [\"information\"], \"y\": [0.0], \"mode\": \"markers\", \"marker\": {\"sizemode\": \"area\", \"sizeref\": 0.2, \"size\": [0.0]}, \"x\": [0]}, {\"name\": \"show\", \"text\": [\"show\"], \"y\": [0.0], \"mode\": \"markers\", \"marker\": {\"sizemode\": \"area\", \"sizeref\": 0.2, \"size\": [0.0]}, \"x\": [0]}, {\"name\": \"product\", \"text\": [\"product\"], \"y\": [0.0], \"mode\": \"markers\", \"marker\": {\"sizemode\": \"area\", \"sizeref\": 0.2, \"size\": [0.0]}, \"x\": [0]}, {\"name\": \"market\", \"text\": [\"market\"], \"y\": [2.0], \"mode\": \"markers\", \"marker\": {\"sizemode\": \"area\", \"sizeref\": 0.2, \"size\": [2.0]}, \"x\": [1]}, {\"name\": \"results\", \"text\": [\"results\"], \"y\": [1.0], \"mode\": \"markers\", \"marker\": {\"sizemode\": \"area\", \"sizeref\": 0.2, \"size\": [1.0]}, \"x\": [1]}, {\"name\": \"firm\", \"text\": [\"firm\"], \"y\": [0.0], \"mode\": \"markers\", \"marker\": {\"sizemode\": \"area\", \"sizeref\": 0.2, \"size\": [0.0]}, \"x\": [0]}, {\"name\": \"may\", \"text\": [\"may\"], \"y\": [0.0], \"mode\": \"markers\", \"marker\": {\"sizemode\": \"area\", \"sizeref\": 0.2, \"size\": [0.0]}, \"x\": [0]}, {\"name\": \"using\", \"text\": [\"using\"], \"y\": [1.0], \"mode\": \"markers\", \"marker\": {\"sizemode\": \"area\", \"sizeref\": 0.2, \"size\": [1.0]}, \"x\": [1]}, {\"name\": \"data\", \"text\": [\"data\"], \"y\": [0.0], \"mode\": \"markers\", \"marker\": {\"sizemode\": \"area\", \"sizeref\": 0.2, \"size\": [0.0]}, \"x\": [0]}, {\"name\": \"risk\", \"text\": [\"risk\"], \"y\": [0.0], \"mode\": \"markers\", \"marker\": {\"sizemode\": \"area\", \"sizeref\": 0.2, \"size\": [0.0]}, \"x\": [0]}, {\"name\": \"two\", \"text\": [\"two\"], \"y\": [0.0], \"mode\": \"markers\", \"marker\": {\"sizemode\": \"area\", \"sizeref\": 0.2, \"size\": [0.0]}, \"x\": [0]}, {\"name\": \"effect\", \"text\": [\"effect\"], \"y\": [0.0], \"mode\": \"markers\", \"marker\": {\"sizemode\": \"area\", \"sizeref\": 0.2, \"size\": [0.0]}, \"x\": [0]}, {\"name\": \"price\", \"text\": [\"price\"], \"y\": [0.0], \"mode\": \"markers\", \"marker\": {\"sizemode\": \"area\", \"sizeref\": 0.2, \"size\": [0.0]}, \"x\": [0]}, {\"name\": \"optimal\", \"text\": [\"optimal\"], \"y\": [0.0], \"mode\": \"markers\", \"marker\": {\"sizemode\": \"area\", \"sizeref\": 0.2, \"size\": [0.0]}, \"x\": [0]}, {\"name\": \"performance\", \"text\": [\"performance\"], \"y\": [0.0], \"mode\": \"markers\", \"marker\": {\"sizemode\": \"area\", \"sizeref\": 0.2, \"size\": [0.0]}, \"x\": [0]}, {\"name\": \"paper\", \"text\": [\"paper\"], \"y\": [0.0], \"mode\": \"markers\", \"marker\": {\"sizemode\": \"area\", \"sizeref\": 0.2, \"size\": [0.0]}, \"x\": [0]}, {\"name\": \"study\", \"text\": [\"study\"], \"y\": [1.0], \"mode\": \"markers\", \"marker\": {\"sizemode\": \"area\", \"sizeref\": 0.2, \"size\": [1.0]}, \"x\": [1]}, {\"name\": \"higher\", \"text\": [\"higher\"], \"y\": [0.0], \"mode\": \"markers\", \"marker\": {\"sizemode\": \"area\", \"sizeref\": 0.2, \"size\": [0.0]}, \"x\": [0]}, {\"name\": \"demand\", \"text\": [\"demand\"], \"y\": [0.0], \"mode\": \"markers\", \"marker\": {\"sizemode\": \"area\", \"sizeref\": 0.2, \"size\": [0.0]}, \"x\": [0]}, {\"name\": \"new\", \"text\": [\"new\"], \"y\": [1.0], \"mode\": \"markers\", \"marker\": {\"sizemode\": \"area\", \"sizeref\": 0.2, \"size\": [1.0]}, \"x\": [1]}, {\"name\": \"use\", \"text\": [\"use\"], \"y\": [0.0], \"mode\": \"markers\", \"marker\": {\"sizemode\": \"area\", \"sizeref\": 0.2, \"size\": [0.0]}, \"x\": [0]}, {\"name\": \"consumers\", \"text\": [\"consumers\"], \"y\": [0.0], \"mode\": \"markers\", \"marker\": {\"sizemode\": \"area\", \"sizeref\": 0.2, \"size\": [0.0]}, \"x\": [0]}, {\"name\": \"value\", \"text\": [\"value\"], \"y\": [0.0], \"mode\": \"markers\", \"marker\": {\"sizemode\": \"area\", \"sizeref\": 0.2, \"size\": [0.0]}, \"x\": [0]}, {\"name\": \"increase\", \"text\": [\"increase\"], \"y\": [0.0], \"mode\": \"markers\", \"marker\": {\"sizemode\": \"area\", \"sizeref\": 0.2, \"size\": [0.0]}, \"x\": [0]}, {\"name\": \"effects\", \"text\": [\"effects\"], \"y\": [0.0], \"mode\": \"markers\", \"marker\": {\"sizemode\": \"area\", \"sizeref\": 0.2, \"size\": [0.0]}, \"x\": [0]}, {\"name\": \"evidence\", \"text\": [\"evidence\"], \"y\": [0.0], \"mode\": \"markers\", \"marker\": {\"sizemode\": \"area\", \"sizeref\": 0.2, \"size\": [0.0]}, \"x\": [0]}, {\"name\": \"social\", \"text\": [\"social\"], \"y\": [0.0], \"mode\": \"markers\", \"marker\": {\"sizemode\": \"area\", \"sizeref\": 0.2, \"size\": [0.0]}, \"x\": [0]}, {\"name\": \"impact\", \"text\": [\"impact\"], \"y\": [1.0], \"mode\": \"markers\", \"marker\": {\"sizemode\": \"area\", \"sizeref\": 0.2, \"size\": [1.0]}, \"x\": [1]}, {\"name\": \"cost\", \"text\": [\"cost\"], \"y\": [0.0], \"mode\": \"markers\", \"marker\": {\"sizemode\": \"area\", \"sizeref\": 0.2, \"size\": [0.0]}, \"x\": [0]}, {\"name\": \"quality\", \"text\": [\"quality\"], \"y\": [0.0], \"mode\": \"markers\", \"marker\": {\"sizemode\": \"area\", \"sizeref\": 0.2, \"size\": [0.0]}, \"x\": [0]}, {\"name\": \"different\", \"text\": [\"different\"], \"y\": [0.0], \"mode\": \"markers\", \"marker\": {\"sizemode\": \"area\", \"sizeref\": 0.2, \"size\": [0.0]}, \"x\": [0]}, {\"name\": \"one\", \"text\": [\"one\"], \"y\": [0.0], \"mode\": \"markers\", \"marker\": {\"sizemode\": \"area\", \"sizeref\": 0.2, \"size\": [0.0]}, \"x\": [0]}, {\"name\": \"however,\", \"text\": [\"however,\"], \"y\": [0.0], \"mode\": \"markers\", \"marker\": {\"sizemode\": \"area\", \"sizeref\": 0.2, \"size\": [0.0]}, \"x\": [0]}, {\"name\": \"products\", \"text\": [\"products\"], \"y\": [0.0], \"mode\": \"markers\", \"marker\": {\"sizemode\": \"area\", \"sizeref\": 0.2, \"size\": [0.0]}, \"x\": [0]}, {\"name\": \"consumer\", \"text\": [\"consumer\"], \"y\": [0.0], \"mode\": \"markers\", \"marker\": {\"sizemode\": \"area\", \"sizeref\": 0.2, \"size\": [0.0]}, \"x\": [0]}, {\"name\": \"financial\", \"text\": [\"financial\"], \"y\": [2.0], \"mode\": \"markers\", \"marker\": {\"sizemode\": \"area\", \"sizeref\": 0.2, \"size\": [2.0]}, \"x\": [1]}, {\"name\": \"lower\", \"text\": [\"lower\"], \"y\": [0.0], \"mode\": \"markers\", \"marker\": {\"sizemode\": \"area\", \"sizeref\": 0.2, \"size\": [0.0]}, \"x\": [0]}, {\"name\": \"likely\", \"text\": [\"likely\"], \"y\": [0.0], \"mode\": \"markers\", \"marker\": {\"sizemode\": \"area\", \"sizeref\": 0.2, \"size\": [0.0]}, \"x\": [0]}, {\"name\": \"pricing\", \"text\": [\"pricing\"], \"y\": [0.0], \"mode\": \"markers\", \"marker\": {\"sizemode\": \"area\", \"sizeref\": 0.2, \"size\": [0.0]}, \"x\": [0]}, {\"name\": \"based\", \"text\": [\"based\"], \"y\": [0.0], \"mode\": \"markers\", \"marker\": {\"sizemode\": \"area\", \"sizeref\": 0.2, \"size\": [0.0]}, \"x\": [0]}, {\"name\": \"less\", \"text\": [\"less\"], \"y\": [0.0], \"mode\": \"markers\", \"marker\": {\"sizemode\": \"area\", \"sizeref\": 0.2, \"size\": [0.0]}, \"x\": [0]}, {\"name\": \"whether\", \"text\": [\"whether\"], \"y\": [0.0], \"mode\": \"markers\", \"marker\": {\"sizemode\": \"area\", \"sizeref\": 0.2, \"size\": [0.0]}, \"x\": [0]}, {\"name\": \"set\", \"text\": [\"set\"], \"y\": [0.0], \"mode\": \"markers\", \"marker\": {\"sizemode\": \"area\", \"sizeref\": 0.2, \"size\": [0.0]}, \"x\": [0]}, {\"name\": \"policy\", \"text\": [\"policy\"], \"y\": [0.0], \"mode\": \"markers\", \"marker\": {\"sizemode\": \"area\", \"sizeref\": 0.2, \"size\": [0.0]}, \"x\": [0]}, {\"name\": \"decision\", \"text\": [\"decision\"], \"y\": [0.0], \"mode\": \"markers\", \"marker\": {\"sizemode\": \"area\", \"sizeref\": 0.2, \"size\": [0.0]}, \"x\": [0]}, {\"name\": \"high\", \"text\": [\"high\"], \"y\": [0.0], \"mode\": \"markers\", \"marker\": {\"sizemode\": \"area\", \"sizeref\": 0.2, \"size\": [0.0]}, \"x\": [0]}, {\"name\": \"problem\", \"text\": [\"problem\"], \"y\": [0.0], \"mode\": \"markers\", \"marker\": {\"sizemode\": \"area\", \"sizeref\": 0.2, \"size\": [0.0]}, \"x\": [0]}, {\"name\": \"sales\", \"text\": [\"sales\"], \"y\": [0.0], \"mode\": \"markers\", \"marker\": {\"sizemode\": \"area\", \"sizeref\": 0.2, \"size\": [0.0]}, \"x\": [0]}], \"name\": \"2010\"}, {\"data\": [{\"name\": \"find\", \"text\": [\"find\"], \"y\": [1.375], \"mode\": \"markers\", \"marker\": {\"sizemode\": \"area\", \"sizeref\": 0.2, \"size\": [77.0]}, \"x\": [56]}, {\"name\": \"firms\", \"text\": [\"firms\"], \"y\": [2.6956521739130435], \"mode\": \"markers\", \"marker\": {\"sizemode\": \"area\", \"sizeref\": 0.2, \"size\": [62.0]}, \"x\": [23]}, {\"name\": \"information\", \"text\": [\"information\"], \"y\": [2.130434782608696], \"mode\": \"markers\", \"marker\": {\"sizemode\": \"area\", \"sizeref\": 0.2, \"size\": [49.0]}, \"x\": [23]}, {\"name\": \"show\", \"text\": [\"show\"], \"y\": [1.2647058823529411], \"mode\": \"markers\", \"marker\": {\"sizemode\": \"area\", \"sizeref\": 0.2, \"size\": [43.0]}, \"x\": [34]}, {\"name\": \"product\", \"text\": [\"product\"], \"y\": [3.75], \"mode\": \"markers\", \"marker\": {\"sizemode\": \"area\", \"sizeref\": 0.2, \"size\": [60.0]}, \"x\": [16]}, {\"name\": \"market\", \"text\": [\"market\"], \"y\": [2.0], \"mode\": \"markers\", \"marker\": {\"sizemode\": \"area\", \"sizeref\": 0.2, \"size\": [54.0]}, \"x\": [27]}, {\"name\": \"results\", \"text\": [\"results\"], \"y\": [1.1388888888888888], \"mode\": \"markers\", \"marker\": {\"sizemode\": \"area\", \"sizeref\": 0.2, \"size\": [41.0]}, \"x\": [36]}, {\"name\": \"firm\", \"text\": [\"firm\"], \"y\": [2.3], \"mode\": \"markers\", \"marker\": {\"sizemode\": \"area\", \"sizeref\": 0.2, \"size\": [46.0]}, \"x\": [20]}, {\"name\": \"may\", \"text\": [\"may\"], \"y\": [1.7619047619047619], \"mode\": \"markers\", \"marker\": {\"sizemode\": \"area\", \"sizeref\": 0.2, \"size\": [37.0]}, \"x\": [21]}, {\"name\": \"using\", \"text\": [\"using\"], \"y\": [1.2], \"mode\": \"markers\", \"marker\": {\"sizemode\": \"area\", \"sizeref\": 0.2, \"size\": [30.0]}, \"x\": [25]}, {\"name\": \"data\", \"text\": [\"data\"], \"y\": [2.125], \"mode\": \"markers\", \"marker\": {\"sizemode\": \"area\", \"sizeref\": 0.2, \"size\": [17.0]}, \"x\": [8]}, {\"name\": \"risk\", \"text\": [\"risk\"], \"y\": [2.2666666666666666], \"mode\": \"markers\", \"marker\": {\"sizemode\": \"area\", \"sizeref\": 0.2, \"size\": [34.0]}, \"x\": [15]}, {\"name\": \"two\", \"text\": [\"two\"], \"y\": [1.375], \"mode\": \"markers\", \"marker\": {\"sizemode\": \"area\", \"sizeref\": 0.2, \"size\": [33.0]}, \"x\": [24]}, {\"name\": \"effect\", \"text\": [\"effect\"], \"y\": [1.8333333333333333], \"mode\": \"markers\", \"marker\": {\"sizemode\": \"area\", \"sizeref\": 0.2, \"size\": [22.0]}, \"x\": [12]}, {\"name\": \"price\", \"text\": [\"price\"], \"y\": [2.5454545454545454], \"mode\": \"markers\", \"marker\": {\"sizemode\": \"area\", \"sizeref\": 0.2, \"size\": [28.0]}, \"x\": [11]}, {\"name\": \"optimal\", \"text\": [\"optimal\"], \"y\": [2.4444444444444446], \"mode\": \"markers\", \"marker\": {\"sizemode\": \"area\", \"sizeref\": 0.2, \"size\": [44.0]}, \"x\": [18]}, {\"name\": \"performance\", \"text\": [\"performance\"], \"y\": [1.65], \"mode\": \"markers\", \"marker\": {\"sizemode\": \"area\", \"sizeref\": 0.2, \"size\": [33.0]}, \"x\": [20]}, {\"name\": \"paper\", \"text\": [\"paper\"], \"y\": [1.1515151515151516], \"mode\": \"markers\", \"marker\": {\"sizemode\": \"area\", \"sizeref\": 0.2, \"size\": [38.0]}, \"x\": [33]}, {\"name\": \"study\", \"text\": [\"study\"], \"y\": [1.5], \"mode\": \"markers\", \"marker\": {\"sizemode\": \"area\", \"sizeref\": 0.2, \"size\": [12.0]}, \"x\": [8]}, {\"name\": \"higher\", \"text\": [\"higher\"], \"y\": [1.4705882352941178], \"mode\": \"markers\", \"marker\": {\"sizemode\": \"area\", \"sizeref\": 0.2, \"size\": [25.0]}, \"x\": [17]}, {\"name\": \"demand\", \"text\": [\"demand\"], \"y\": [2.111111111111111], \"mode\": \"markers\", \"marker\": {\"sizemode\": \"area\", \"sizeref\": 0.2, \"size\": [19.0]}, \"x\": [9]}, {\"name\": \"new\", \"text\": [\"new\"], \"y\": [1.3888888888888888], \"mode\": \"markers\", \"marker\": {\"sizemode\": \"area\", \"sizeref\": 0.2, \"size\": [25.0]}, \"x\": [18]}, {\"name\": \"use\", \"text\": [\"use\"], \"y\": [1.375], \"mode\": \"markers\", \"marker\": {\"sizemode\": \"area\", \"sizeref\": 0.2, \"size\": [22.0]}, \"x\": [16]}, {\"name\": \"consumers\", \"text\": [\"consumers\"], \"y\": [2.3846153846153846], \"mode\": \"markers\", \"marker\": {\"sizemode\": \"area\", \"sizeref\": 0.2, \"size\": [31.0]}, \"x\": [13]}, {\"name\": \"value\", \"text\": [\"value\"], \"y\": [1.8888888888888888], \"mode\": \"markers\", \"marker\": {\"sizemode\": \"area\", \"sizeref\": 0.2, \"size\": [17.0]}, \"x\": [9]}, {\"name\": \"increase\", \"text\": [\"increase\"], \"y\": [1.3571428571428572], \"mode\": \"markers\", \"marker\": {\"sizemode\": \"area\", \"sizeref\": 0.2, \"size\": [19.0]}, \"x\": [14]}, {\"name\": \"effects\", \"text\": [\"effects\"], \"y\": [1.5555555555555556], \"mode\": \"markers\", \"marker\": {\"sizemode\": \"area\", \"sizeref\": 0.2, \"size\": [14.0]}, \"x\": [9]}, {\"name\": \"evidence\", \"text\": [\"evidence\"], \"y\": [1.2222222222222223], \"mode\": \"markers\", \"marker\": {\"sizemode\": \"area\", \"sizeref\": 0.2, \"size\": [22.0]}, \"x\": [18]}, {\"name\": \"social\", \"text\": [\"social\"], \"y\": [3.1666666666666665], \"mode\": \"markers\", \"marker\": {\"sizemode\": \"area\", \"sizeref\": 0.2, \"size\": [19.0]}, \"x\": [6]}, {\"name\": \"impact\", \"text\": [\"impact\"], \"y\": [1.5333333333333334], \"mode\": \"markers\", \"marker\": {\"sizemode\": \"area\", \"sizeref\": 0.2, \"size\": [23.0]}, \"x\": [15]}, {\"name\": \"cost\", \"text\": [\"cost\"], \"y\": [1.8888888888888888], \"mode\": \"markers\", \"marker\": {\"sizemode\": \"area\", \"sizeref\": 0.2, \"size\": [17.0]}, \"x\": [9]}, {\"name\": \"quality\", \"text\": [\"quality\"], \"y\": [1.8], \"mode\": \"markers\", \"marker\": {\"sizemode\": \"area\", \"sizeref\": 0.2, \"size\": [9.0]}, \"x\": [5]}, {\"name\": \"different\", \"text\": [\"different\"], \"y\": [1.5714285714285714], \"mode\": \"markers\", \"marker\": {\"sizemode\": \"area\", \"sizeref\": 0.2, \"size\": [22.0]}, \"x\": [14]}, {\"name\": \"one\", \"text\": [\"one\"], \"y\": [1.5789473684210527], \"mode\": \"markers\", \"marker\": {\"sizemode\": \"area\", \"sizeref\": 0.2, \"size\": [30.0]}, \"x\": [19]}, {\"name\": \"however,\", \"text\": [\"however,\"], \"y\": [1.5], \"mode\": \"markers\", \"marker\": {\"sizemode\": \"area\", \"sizeref\": 0.2, \"size\": [3.0]}, \"x\": [2]}, {\"name\": \"products\", \"text\": [\"products\"], \"y\": [2.0], \"mode\": \"markers\", \"marker\": {\"sizemode\": \"area\", \"sizeref\": 0.2, \"size\": [14.0]}, \"x\": [7]}, {\"name\": \"consumer\", \"text\": [\"consumer\"], \"y\": [2.3333333333333335], \"mode\": \"markers\", \"marker\": {\"sizemode\": \"area\", \"sizeref\": 0.2, \"size\": [14.0]}, \"x\": [6]}, {\"name\": \"financial\", \"text\": [\"financial\"], \"y\": [1.3], \"mode\": \"markers\", \"marker\": {\"sizemode\": \"area\", \"sizeref\": 0.2, \"size\": [13.0]}, \"x\": [10]}, {\"name\": \"lower\", \"text\": [\"lower\"], \"y\": [1.75], \"mode\": \"markers\", \"marker\": {\"sizemode\": \"area\", \"sizeref\": 0.2, \"size\": [7.0]}, \"x\": [4]}, {\"name\": \"likely\", \"text\": [\"likely\"], \"y\": [1.6153846153846154], \"mode\": \"markers\", \"marker\": {\"sizemode\": \"area\", \"sizeref\": 0.2, \"size\": [21.0]}, \"x\": [13]}, {\"name\": \"pricing\", \"text\": [\"pricing\"], \"y\": [2.0], \"mode\": \"markers\", \"marker\": {\"sizemode\": \"area\", \"sizeref\": 0.2, \"size\": [22.0]}, \"x\": [11]}, {\"name\": \"based\", \"text\": [\"based\"], \"y\": [1.2777777777777777], \"mode\": \"markers\", \"marker\": {\"sizemode\": \"area\", \"sizeref\": 0.2, \"size\": [23.0]}, \"x\": [18]}, {\"name\": \"less\", \"text\": [\"less\"], \"y\": [1.2380952380952381], \"mode\": \"markers\", \"marker\": {\"sizemode\": \"area\", \"sizeref\": 0.2, \"size\": [26.0]}, \"x\": [21]}, {\"name\": \"whether\", \"text\": [\"whether\"], \"y\": [1.6], \"mode\": \"markers\", \"marker\": {\"sizemode\": \"area\", \"sizeref\": 0.2, \"size\": [8.0]}, \"x\": [5]}, {\"name\": \"set\", \"text\": [\"set\"], \"y\": [1.0625], \"mode\": \"markers\", \"marker\": {\"sizemode\": \"area\", \"sizeref\": 0.2, \"size\": [17.0]}, \"x\": [16]}, {\"name\": \"policy\", \"text\": [\"policy\"], \"y\": [2.6666666666666665], \"mode\": \"markers\", \"marker\": {\"sizemode\": \"area\", \"sizeref\": 0.2, \"size\": [8.0]}, \"x\": [3]}, {\"name\": \"decision\", \"text\": [\"decision\"], \"y\": [1.3333333333333333], \"mode\": \"markers\", \"marker\": {\"sizemode\": \"area\", \"sizeref\": 0.2, \"size\": [16.0]}, \"x\": [12]}, {\"name\": \"high\", \"text\": [\"high\"], \"y\": [2.0], \"mode\": \"markers\", \"marker\": {\"sizemode\": \"area\", \"sizeref\": 0.2, \"size\": [20.0]}, \"x\": [10]}, {\"name\": \"problem\", \"text\": [\"problem\"], \"y\": [3.0], \"mode\": \"markers\", \"marker\": {\"sizemode\": \"area\", \"sizeref\": 0.2, \"size\": [6.0]}, \"x\": [2]}, {\"name\": \"sales\", \"text\": [\"sales\"], \"y\": [1.75], \"mode\": \"markers\", \"marker\": {\"sizemode\": \"area\", \"sizeref\": 0.2, \"size\": [7.0]}, \"x\": [4]}], \"name\": \"2011\"}, {\"data\": [{\"name\": \"find\", \"text\": [\"find\"], \"y\": [1.3970588235294117], \"mode\": \"markers\", \"marker\": {\"sizemode\": \"area\", \"sizeref\": 0.2, \"size\": [95.0]}, \"x\": [68]}, {\"name\": \"firms\", \"text\": [\"firms\"], \"y\": [2.13953488372093], \"mode\": \"markers\", \"marker\": {\"sizemode\": \"area\", \"sizeref\": 0.2, \"size\": [92.0]}, \"x\": [43]}, {\"name\": \"information\", \"text\": [\"information\"], \"y\": [2.2], \"mode\": \"markers\", \"marker\": {\"sizemode\": \"area\", \"sizeref\": 0.2, \"size\": [66.0]}, \"x\": [30]}, {\"name\": \"show\", \"text\": [\"show\"], \"y\": [1.346938775510204], \"mode\": \"markers\", \"marker\": {\"sizemode\": \"area\", \"sizeref\": 0.2, \"size\": [66.0]}, \"x\": [49]}, {\"name\": \"product\", \"text\": [\"product\"], \"y\": [2.95], \"mode\": \"markers\", \"marker\": {\"sizemode\": \"area\", \"sizeref\": 0.2, \"size\": [59.0]}, \"x\": [20]}, {\"name\": \"market\", \"text\": [\"market\"], \"y\": [1.7916666666666667], \"mode\": \"markers\", \"marker\": {\"sizemode\": \"area\", \"sizeref\": 0.2, \"size\": [43.0]}, \"x\": [24]}, {\"name\": \"results\", \"text\": [\"results\"], \"y\": [1.2083333333333333], \"mode\": \"markers\", \"marker\": {\"sizemode\": \"area\", \"sizeref\": 0.2, \"size\": [58.0]}, \"x\": [48]}, {\"name\": \"firm\", \"text\": [\"firm\"], \"y\": [1.6521739130434783], \"mode\": \"markers\", \"marker\": {\"sizemode\": \"area\", \"sizeref\": 0.2, \"size\": [38.0]}, \"x\": [23]}, {\"name\": \"may\", \"text\": [\"may\"], \"y\": [1.8], \"mode\": \"markers\", \"marker\": {\"sizemode\": \"area\", \"sizeref\": 0.2, \"size\": [54.0]}, \"x\": [30]}, {\"name\": \"using\", \"text\": [\"using\"], \"y\": [1.2083333333333333], \"mode\": \"markers\", \"marker\": {\"sizemode\": \"area\", \"sizeref\": 0.2, \"size\": [29.0]}, \"x\": [24]}, {\"name\": \"data\", \"text\": [\"data\"], \"y\": [2.2142857142857144], \"mode\": \"markers\", \"marker\": {\"sizemode\": \"area\", \"sizeref\": 0.2, \"size\": [31.0]}, \"x\": [14]}, {\"name\": \"risk\", \"text\": [\"risk\"], \"y\": [2.526315789473684], \"mode\": \"markers\", \"marker\": {\"sizemode\": \"area\", \"sizeref\": 0.2, \"size\": [48.0]}, \"x\": [19]}, {\"name\": \"two\", \"text\": [\"two\"], \"y\": [1.7586206896551724], \"mode\": \"markers\", \"marker\": {\"sizemode\": \"area\", \"sizeref\": 0.2, \"size\": [51.0]}, \"x\": [29]}, {\"name\": \"effect\", \"text\": [\"effect\"], \"y\": [1.5263157894736843], \"mode\": \"markers\", \"marker\": {\"sizemode\": \"area\", \"sizeref\": 0.2, \"size\": [29.0]}, \"x\": [19]}, {\"name\": \"price\", \"text\": [\"price\"], \"y\": [2.5294117647058822], \"mode\": \"markers\", \"marker\": {\"sizemode\": \"area\", \"sizeref\": 0.2, \"size\": [43.0]}, \"x\": [17]}, {\"name\": \"optimal\", \"text\": [\"optimal\"], \"y\": [1.8333333333333333], \"mode\": \"markers\", \"marker\": {\"sizemode\": \"area\", \"sizeref\": 0.2, \"size\": [33.0]}, \"x\": [18]}, {\"name\": \"performance\", \"text\": [\"performance\"], \"y\": [1.55], \"mode\": \"markers\", \"marker\": {\"sizemode\": \"area\", \"sizeref\": 0.2, \"size\": [31.0]}, \"x\": [20]}, {\"name\": \"paper\", \"text\": [\"paper\"], \"y\": [1.1951219512195121], \"mode\": \"markers\", \"marker\": {\"sizemode\": \"area\", \"sizeref\": 0.2, \"size\": [49.0]}, \"x\": [41]}, {\"name\": \"study\", \"text\": [\"study\"], \"y\": [1.5555555555555556], \"mode\": \"markers\", \"marker\": {\"sizemode\": \"area\", \"sizeref\": 0.2, \"size\": [14.0]}, \"x\": [9]}, {\"name\": \"higher\", \"text\": [\"higher\"], \"y\": [1.588235294117647], \"mode\": \"markers\", \"marker\": {\"sizemode\": \"area\", \"sizeref\": 0.2, \"size\": [27.0]}, \"x\": [17]}, {\"name\": \"demand\", \"text\": [\"demand\"], \"y\": [3.25], \"mode\": \"markers\", \"marker\": {\"sizemode\": \"area\", \"sizeref\": 0.2, \"size\": [39.0]}, \"x\": [12]}, {\"name\": \"new\", \"text\": [\"new\"], \"y\": [1.2608695652173914], \"mode\": \"markers\", \"marker\": {\"sizemode\": \"area\", \"sizeref\": 0.2, \"size\": [29.0]}, \"x\": [23]}, {\"name\": \"use\", \"text\": [\"use\"], \"y\": [1.2083333333333333], \"mode\": \"markers\", \"marker\": {\"sizemode\": \"area\", \"sizeref\": 0.2, \"size\": [29.0]}, \"x\": [24]}, {\"name\": \"consumers\", \"text\": [\"consumers\"], \"y\": [1.5625], \"mode\": \"markers\", \"marker\": {\"sizemode\": \"area\", \"sizeref\": 0.2, \"size\": [25.0]}, \"x\": [16]}, {\"name\": \"value\", \"text\": [\"value\"], \"y\": [2.272727272727273], \"mode\": \"markers\", \"marker\": {\"sizemode\": \"area\", \"sizeref\": 0.2, \"size\": [25.0]}, \"x\": [11]}, {\"name\": \"increase\", \"text\": [\"increase\"], \"y\": [1.375], \"mode\": \"markers\", \"marker\": {\"sizemode\": \"area\", \"sizeref\": 0.2, \"size\": [22.0]}, \"x\": [16]}, {\"name\": \"effects\", \"text\": [\"effects\"], \"y\": [1.375], \"mode\": \"markers\", \"marker\": {\"sizemode\": \"area\", \"sizeref\": 0.2, \"size\": [22.0]}, \"x\": [16]}, {\"name\": \"evidence\", \"text\": [\"evidence\"], \"y\": [1.411764705882353], \"mode\": \"markers\", \"marker\": {\"sizemode\": \"area\", \"sizeref\": 0.2, \"size\": [24.0]}, \"x\": [17]}, {\"name\": \"social\", \"text\": [\"social\"], \"y\": [2.0], \"mode\": \"markers\", \"marker\": {\"sizemode\": \"area\", \"sizeref\": 0.2, \"size\": [12.0]}, \"x\": [6]}, {\"name\": \"impact\", \"text\": [\"impact\"], \"y\": [1.0714285714285714], \"mode\": \"markers\", \"marker\": {\"sizemode\": \"area\", \"sizeref\": 0.2, \"size\": [15.0]}, \"x\": [14]}, {\"name\": \"cost\", \"text\": [\"cost\"], \"y\": [2.0588235294117645], \"mode\": \"markers\", \"marker\": {\"sizemode\": \"area\", \"sizeref\": 0.2, \"size\": [35.0]}, \"x\": [17]}, {\"name\": \"quality\", \"text\": [\"quality\"], \"y\": [2.5833333333333335], \"mode\": \"markers\", \"marker\": {\"sizemode\": \"area\", \"sizeref\": 0.2, \"size\": [31.0]}, \"x\": [12]}, {\"name\": \"different\", \"text\": [\"different\"], \"y\": [1.2666666666666666], \"mode\": \"markers\", \"marker\": {\"sizemode\": \"area\", \"sizeref\": 0.2, \"size\": [19.0]}, \"x\": [15]}, {\"name\": \"one\", \"text\": [\"one\"], \"y\": [1.391304347826087], \"mode\": \"markers\", \"marker\": {\"sizemode\": \"area\", \"sizeref\": 0.2, \"size\": [32.0]}, \"x\": [23]}, {\"name\": \"however,\", \"text\": [\"however,\"], \"y\": [1.25], \"mode\": \"markers\", \"marker\": {\"sizemode\": \"area\", \"sizeref\": 0.2, \"size\": [5.0]}, \"x\": [4]}, {\"name\": \"products\", \"text\": [\"products\"], \"y\": [2.6666666666666665], \"mode\": \"markers\", \"marker\": {\"sizemode\": \"area\", \"sizeref\": 0.2, \"size\": [16.0]}, \"x\": [6]}, {\"name\": \"consumer\", \"text\": [\"consumer\"], \"y\": [2.6], \"mode\": \"markers\", \"marker\": {\"sizemode\": \"area\", \"sizeref\": 0.2, \"size\": [26.0]}, \"x\": [10]}, {\"name\": \"financial\", \"text\": [\"financial\"], \"y\": [1.6153846153846154], \"mode\": \"markers\", \"marker\": {\"sizemode\": \"area\", \"sizeref\": 0.2, \"size\": [21.0]}, \"x\": [13]}, {\"name\": \"lower\", \"text\": [\"lower\"], \"y\": [2.0], \"mode\": \"markers\", \"marker\": {\"sizemode\": \"area\", \"sizeref\": 0.2, \"size\": [12.0]}, \"x\": [6]}, {\"name\": \"likely\", \"text\": [\"likely\"], \"y\": [1.1818181818181819], \"mode\": \"markers\", \"marker\": {\"sizemode\": \"area\", \"sizeref\": 0.2, \"size\": [13.0]}, \"x\": [11]}, {\"name\": \"pricing\", \"text\": [\"pricing\"], \"y\": [2.0], \"mode\": \"markers\", \"marker\": {\"sizemode\": \"area\", \"sizeref\": 0.2, \"size\": [30.0]}, \"x\": [15]}, {\"name\": \"based\", \"text\": [\"based\"], \"y\": [1.0384615384615385], \"mode\": \"markers\", \"marker\": {\"sizemode\": \"area\", \"sizeref\": 0.2, \"size\": [27.0]}, \"x\": [26]}, {\"name\": \"less\", \"text\": [\"less\"], \"y\": [1.1818181818181819], \"mode\": \"markers\", \"marker\": {\"sizemode\": \"area\", \"sizeref\": 0.2, \"size\": [26.0]}, \"x\": [22]}, {\"name\": \"whether\", \"text\": [\"whether\"], \"y\": [1.5], \"mode\": \"markers\", \"marker\": {\"sizemode\": \"area\", \"sizeref\": 0.2, \"size\": [3.0]}, \"x\": [2]}, {\"name\": \"set\", \"text\": [\"set\"], \"y\": [1.173913043478261], \"mode\": \"markers\", \"marker\": {\"sizemode\": \"area\", \"sizeref\": 0.2, \"size\": [27.0]}, \"x\": [23]}, {\"name\": \"policy\", \"text\": [\"policy\"], \"y\": [2.1], \"mode\": \"markers\", \"marker\": {\"sizemode\": \"area\", \"sizeref\": 0.2, \"size\": [21.0]}, \"x\": [10]}, {\"name\": \"decision\", \"text\": [\"decision\"], \"y\": [1.5714285714285714], \"mode\": \"markers\", \"marker\": {\"sizemode\": \"area\", \"sizeref\": 0.2, \"size\": [22.0]}, \"x\": [14]}, {\"name\": \"high\", \"text\": [\"high\"], \"y\": [1.5555555555555556], \"mode\": \"markers\", \"marker\": {\"sizemode\": \"area\", \"sizeref\": 0.2, \"size\": [14.0]}, \"x\": [9]}, {\"name\": \"problem\", \"text\": [\"problem\"], \"y\": [2.4444444444444446], \"mode\": \"markers\", \"marker\": {\"sizemode\": \"area\", \"sizeref\": 0.2, \"size\": [22.0]}, \"x\": [9]}, {\"name\": \"sales\", \"text\": [\"sales\"], \"y\": [2.8333333333333335], \"mode\": \"markers\", \"marker\": {\"sizemode\": \"area\", \"sizeref\": 0.2, \"size\": [17.0]}, \"x\": [6]}], \"name\": \"2012\"}, {\"data\": [{\"name\": \"find\", \"text\": [\"find\"], \"y\": [1.5510204081632653], \"mode\": \"markers\", \"marker\": {\"sizemode\": \"area\", \"sizeref\": 0.2, \"size\": [76.0]}, \"x\": [49]}, {\"name\": \"firms\", \"text\": [\"firms\"], \"y\": [2.742857142857143], \"mode\": \"markers\", \"marker\": {\"sizemode\": \"area\", \"sizeref\": 0.2, \"size\": [96.0]}, \"x\": [35]}, {\"name\": \"information\", \"text\": [\"information\"], \"y\": [2.3333333333333335], \"mode\": \"markers\", \"marker\": {\"sizemode\": \"area\", \"sizeref\": 0.2, \"size\": [42.0]}, \"x\": [18]}, {\"name\": \"show\", \"text\": [\"show\"], \"y\": [1.3488372093023255], \"mode\": \"markers\", \"marker\": {\"sizemode\": \"area\", \"sizeref\": 0.2, \"size\": [58.0]}, \"x\": [43]}, {\"name\": \"product\", \"text\": [\"product\"], \"y\": [2.235294117647059], \"mode\": \"markers\", \"marker\": {\"sizemode\": \"area\", \"sizeref\": 0.2, \"size\": [38.0]}, \"x\": [17]}, {\"name\": \"market\", \"text\": [\"market\"], \"y\": [2.230769230769231], \"mode\": \"markers\", \"marker\": {\"sizemode\": \"area\", \"sizeref\": 0.2, \"size\": [58.0]}, \"x\": [26]}, {\"name\": \"results\", \"text\": [\"results\"], \"y\": [1.1891891891891893], \"mode\": \"markers\", \"marker\": {\"sizemode\": \"area\", \"sizeref\": 0.2, \"size\": [44.0]}, \"x\": [37]}, {\"name\": \"firm\", \"text\": [\"firm\"], \"y\": [2.608695652173913], \"mode\": \"markers\", \"marker\": {\"sizemode\": \"area\", \"sizeref\": 0.2, \"size\": [60.0]}, \"x\": [23]}, {\"name\": \"may\", \"text\": [\"may\"], \"y\": [2.0476190476190474], \"mode\": \"markers\", \"marker\": {\"sizemode\": \"area\", \"sizeref\": 0.2, \"size\": [43.0]}, \"x\": [21]}, {\"name\": \"using\", \"text\": [\"using\"], \"y\": [1.3548387096774193], \"mode\": \"markers\", \"marker\": {\"sizemode\": \"area\", \"sizeref\": 0.2, \"size\": [42.0]}, \"x\": [31]}, {\"name\": \"data\", \"text\": [\"data\"], \"y\": [1.6666666666666667], \"mode\": \"markers\", \"marker\": {\"sizemode\": \"area\", \"sizeref\": 0.2, \"size\": [20.0]}, \"x\": [12]}, {\"name\": \"risk\", \"text\": [\"risk\"], \"y\": [2.9411764705882355], \"mode\": \"markers\", \"marker\": {\"sizemode\": \"area\", \"sizeref\": 0.2, \"size\": [50.0]}, \"x\": [17]}, {\"name\": \"two\", \"text\": [\"two\"], \"y\": [1.4090909090909092], \"mode\": \"markers\", \"marker\": {\"sizemode\": \"area\", \"sizeref\": 0.2, \"size\": [31.0]}, \"x\": [22]}, {\"name\": \"effect\", \"text\": [\"effect\"], \"y\": [1.894736842105263], \"mode\": \"markers\", \"marker\": {\"sizemode\": \"area\", \"sizeref\": 0.2, \"size\": [36.0]}, \"x\": [19]}, {\"name\": \"price\", \"text\": [\"price\"], \"y\": [2.6842105263157894], \"mode\": \"markers\", \"marker\": {\"sizemode\": \"area\", \"sizeref\": 0.2, \"size\": [51.0]}, \"x\": [19]}, {\"name\": \"optimal\", \"text\": [\"optimal\"], \"y\": [2.05], \"mode\": \"markers\", \"marker\": {\"sizemode\": \"area\", \"sizeref\": 0.2, \"size\": [41.0]}, \"x\": [20]}, {\"name\": \"performance\", \"text\": [\"performance\"], \"y\": [2.230769230769231], \"mode\": \"markers\", \"marker\": {\"sizemode\": \"area\", \"sizeref\": 0.2, \"size\": [29.0]}, \"x\": [13]}, {\"name\": \"paper\", \"text\": [\"paper\"], \"y\": [1.064516129032258], \"mode\": \"markers\", \"marker\": {\"sizemode\": \"area\", \"sizeref\": 0.2, \"size\": [33.0]}, \"x\": [31]}, {\"name\": \"study\", \"text\": [\"study\"], \"y\": [1.0909090909090908], \"mode\": \"markers\", \"marker\": {\"sizemode\": \"area\", \"sizeref\": 0.2, \"size\": [12.0]}, \"x\": [11]}, {\"name\": \"higher\", \"text\": [\"higher\"], \"y\": [1.65], \"mode\": \"markers\", \"marker\": {\"sizemode\": \"area\", \"sizeref\": 0.2, \"size\": [33.0]}, \"x\": [20]}, {\"name\": \"demand\", \"text\": [\"demand\"], \"y\": [2.272727272727273], \"mode\": \"markers\", \"marker\": {\"sizemode\": \"area\", \"sizeref\": 0.2, \"size\": [25.0]}, \"x\": [11]}, {\"name\": \"new\", \"text\": [\"new\"], \"y\": [1.6111111111111112], \"mode\": \"markers\", \"marker\": {\"sizemode\": \"area\", \"sizeref\": 0.2, \"size\": [29.0]}, \"x\": [18]}, {\"name\": \"use\", \"text\": [\"use\"], \"y\": [1.5], \"mode\": \"markers\", \"marker\": {\"sizemode\": \"area\", \"sizeref\": 0.2, \"size\": [24.0]}, \"x\": [16]}, {\"name\": \"consumers\", \"text\": [\"consumers\"], \"y\": [2.9], \"mode\": \"markers\", \"marker\": {\"sizemode\": \"area\", \"sizeref\": 0.2, \"size\": [29.0]}, \"x\": [10]}, {\"name\": \"value\", \"text\": [\"value\"], \"y\": [1.8888888888888888], \"mode\": \"markers\", \"marker\": {\"sizemode\": \"area\", \"sizeref\": 0.2, \"size\": [17.0]}, \"x\": [9]}, {\"name\": \"increase\", \"text\": [\"increase\"], \"y\": [1.5714285714285714], \"mode\": \"markers\", \"marker\": {\"sizemode\": \"area\", \"sizeref\": 0.2, \"size\": [33.0]}, \"x\": [21]}, {\"name\": \"effects\", \"text\": [\"effects\"], \"y\": [1.6470588235294117], \"mode\": \"markers\", \"marker\": {\"sizemode\": \"area\", \"sizeref\": 0.2, \"size\": [28.0]}, \"x\": [17]}, {\"name\": \"evidence\", \"text\": [\"evidence\"], \"y\": [1.3571428571428572], \"mode\": \"markers\", \"marker\": {\"sizemode\": \"area\", \"sizeref\": 0.2, \"size\": [19.0]}, \"x\": [14]}, {\"name\": \"social\", \"text\": [\"social\"], \"y\": [4.0], \"mode\": \"markers\", \"marker\": {\"sizemode\": \"area\", \"sizeref\": 0.2, \"size\": [20.0]}, \"x\": [5]}, {\"name\": \"impact\", \"text\": [\"impact\"], \"y\": [1.0476190476190477], \"mode\": \"markers\", \"marker\": {\"sizemode\": \"area\", \"sizeref\": 0.2, \"size\": [22.0]}, \"x\": [21]}, {\"name\": \"cost\", \"text\": [\"cost\"], \"y\": [1.4375], \"mode\": \"markers\", \"marker\": {\"sizemode\": \"area\", \"sizeref\": 0.2, \"size\": [23.0]}, \"x\": [16]}, {\"name\": \"quality\", \"text\": [\"quality\"], \"y\": [1.6666666666666667], \"mode\": \"markers\", \"marker\": {\"sizemode\": \"area\", \"sizeref\": 0.2, \"size\": [20.0]}, \"x\": [12]}, {\"name\": \"different\", \"text\": [\"different\"], \"y\": [1.5], \"mode\": \"markers\", \"marker\": {\"sizemode\": \"area\", \"sizeref\": 0.2, \"size\": [21.0]}, \"x\": [14]}, {\"name\": \"one\", \"text\": [\"one\"], \"y\": [1.2352941176470589], \"mode\": \"markers\", \"marker\": {\"sizemode\": \"area\", \"sizeref\": 0.2, \"size\": [21.0]}, \"x\": [17]}, {\"name\": \"however,\", \"text\": [\"however,\"], \"y\": [1.3333333333333333], \"mode\": \"markers\", \"marker\": {\"sizemode\": \"area\", \"sizeref\": 0.2, \"size\": [8.0]}, \"x\": [6]}, {\"name\": \"products\", \"text\": [\"products\"], \"y\": [2.25], \"mode\": \"markers\", \"marker\": {\"sizemode\": \"area\", \"sizeref\": 0.2, \"size\": [9.0]}, \"x\": [4]}, {\"name\": \"consumer\", \"text\": [\"consumer\"], \"y\": [3.1666666666666665], \"mode\": \"markers\", \"marker\": {\"sizemode\": \"area\", \"sizeref\": 0.2, \"size\": [19.0]}, \"x\": [6]}, {\"name\": \"financial\", \"text\": [\"financial\"], \"y\": [2.0], \"mode\": \"markers\", \"marker\": {\"sizemode\": \"area\", \"sizeref\": 0.2, \"size\": [32.0]}, \"x\": [16]}, {\"name\": \"lower\", \"text\": [\"lower\"], \"y\": [2.0], \"mode\": \"markers\", \"marker\": {\"sizemode\": \"area\", \"sizeref\": 0.2, \"size\": [14.0]}, \"x\": [7]}, {\"name\": \"likely\", \"text\": [\"likely\"], \"y\": [1.2857142857142858], \"mode\": \"markers\", \"marker\": {\"sizemode\": \"area\", \"sizeref\": 0.2, \"size\": [9.0]}, \"x\": [7]}, {\"name\": \"pricing\", \"text\": [\"pricing\"], \"y\": [1.9285714285714286], \"mode\": \"markers\", \"marker\": {\"sizemode\": \"area\", \"sizeref\": 0.2, \"size\": [27.0]}, \"x\": [14]}, {\"name\": \"based\", \"text\": [\"based\"], \"y\": [1.0833333333333333], \"mode\": \"markers\", \"marker\": {\"sizemode\": \"area\", \"sizeref\": 0.2, \"size\": [13.0]}, \"x\": [12]}, {\"name\": \"less\", \"text\": [\"less\"], \"y\": [1.2352941176470589], \"mode\": \"markers\", \"marker\": {\"sizemode\": \"area\", \"sizeref\": 0.2, \"size\": [21.0]}, \"x\": [17]}, {\"name\": \"whether\", \"text\": [\"whether\"], \"y\": [1.5454545454545454], \"mode\": \"markers\", \"marker\": {\"sizemode\": \"area\", \"sizeref\": 0.2, \"size\": [17.0]}, \"x\": [11]}, {\"name\": \"set\", \"text\": [\"set\"], \"y\": [1.2727272727272727], \"mode\": \"markers\", \"marker\": {\"sizemode\": \"area\", \"sizeref\": 0.2, \"size\": [14.0]}, \"x\": [11]}, {\"name\": \"policy\", \"text\": [\"policy\"], \"y\": [1.5714285714285714], \"mode\": \"markers\", \"marker\": {\"sizemode\": \"area\", \"sizeref\": 0.2, \"size\": [11.0]}, \"x\": [7]}, {\"name\": \"decision\", \"text\": [\"decision\"], \"y\": [1.5294117647058822], \"mode\": \"markers\", \"marker\": {\"sizemode\": \"area\", \"sizeref\": 0.2, \"size\": [26.0]}, \"x\": [17]}, {\"name\": \"high\", \"text\": [\"high\"], \"y\": [1.0], \"mode\": \"markers\", \"marker\": {\"sizemode\": \"area\", \"sizeref\": 0.2, \"size\": [9.0]}, \"x\": [9]}, {\"name\": \"problem\", \"text\": [\"problem\"], \"y\": [2.2], \"mode\": \"markers\", \"marker\": {\"sizemode\": \"area\", \"sizeref\": 0.2, \"size\": [11.0]}, \"x\": [5]}, {\"name\": \"sales\", \"text\": [\"sales\"], \"y\": [1.875], \"mode\": \"markers\", \"marker\": {\"sizemode\": \"area\", \"sizeref\": 0.2, \"size\": [15.0]}, \"x\": [8]}], \"name\": \"2013\"}, {\"data\": [{\"name\": \"find\", \"text\": [\"find\"], \"y\": [1.3296703296703296], \"mode\": \"markers\", \"marker\": {\"sizemode\": \"area\", \"sizeref\": 0.2, \"size\": [121.0]}, \"x\": [91]}, {\"name\": \"firms\", \"text\": [\"firms\"], \"y\": [2.1944444444444446], \"mode\": \"markers\", \"marker\": {\"sizemode\": \"area\", \"sizeref\": 0.2, \"size\": [79.0]}, \"x\": [36]}, {\"name\": \"information\", \"text\": [\"information\"], \"y\": [2.1315789473684212], \"mode\": \"markers\", \"marker\": {\"sizemode\": \"area\", \"sizeref\": 0.2, \"size\": [81.0]}, \"x\": [38]}, {\"name\": \"show\", \"text\": [\"show\"], \"y\": [1.3582089552238805], \"mode\": \"markers\", \"marker\": {\"sizemode\": \"area\", \"sizeref\": 0.2, \"size\": [91.0]}, \"x\": [67]}, {\"name\": \"product\", \"text\": [\"product\"], \"y\": [3.235294117647059], \"mode\": \"markers\", \"marker\": {\"sizemode\": \"area\", \"sizeref\": 0.2, \"size\": [55.0]}, \"x\": [17]}, {\"name\": \"market\", \"text\": [\"market\"], \"y\": [1.7857142857142858], \"mode\": \"markers\", \"marker\": {\"sizemode\": \"area\", \"sizeref\": 0.2, \"size\": [75.0]}, \"x\": [42]}, {\"name\": \"results\", \"text\": [\"results\"], \"y\": [1.1403508771929824], \"mode\": \"markers\", \"marker\": {\"sizemode\": \"area\", \"sizeref\": 0.2, \"size\": [65.0]}, \"x\": [57]}, {\"name\": \"firm\", \"text\": [\"firm\"], \"y\": [2.25], \"mode\": \"markers\", \"marker\": {\"sizemode\": \"area\", \"sizeref\": 0.2, \"size\": [63.0]}, \"x\": [28]}, {\"name\": \"may\", \"text\": [\"may\"], \"y\": [1.6666666666666667], \"mode\": \"markers\", \"marker\": {\"sizemode\": \"area\", \"sizeref\": 0.2, \"size\": [45.0]}, \"x\": [27]}, {\"name\": \"using\", \"text\": [\"using\"], \"y\": [1.3333333333333333], \"mode\": \"markers\", \"marker\": {\"sizemode\": \"area\", \"sizeref\": 0.2, \"size\": [48.0]}, \"x\": [36]}, {\"name\": \"data\", \"text\": [\"data\"], \"y\": [1.6818181818181819], \"mode\": \"markers\", \"marker\": {\"sizemode\": \"area\", \"sizeref\": 0.2, \"size\": [37.0]}, \"x\": [22]}, {\"name\": \"risk\", \"text\": [\"risk\"], \"y\": [3.1363636363636362], \"mode\": \"markers\", \"marker\": {\"sizemode\": \"area\", \"sizeref\": 0.2, \"size\": [69.0]}, \"x\": [22]}, {\"name\": \"two\", \"text\": [\"two\"], \"y\": [1.6153846153846154], \"mode\": \"markers\", \"marker\": {\"sizemode\": \"area\", \"sizeref\": 0.2, \"size\": [42.0]}, \"x\": [26]}, {\"name\": \"effect\", \"text\": [\"effect\"], \"y\": [1.6956521739130435], \"mode\": \"markers\", \"marker\": {\"sizemode\": \"area\", \"sizeref\": 0.2, \"size\": [39.0]}, \"x\": [23]}, {\"name\": \"price\", \"text\": [\"price\"], \"y\": [2.590909090909091], \"mode\": \"markers\", \"marker\": {\"sizemode\": \"area\", \"sizeref\": 0.2, \"size\": [57.0]}, \"x\": [22]}, {\"name\": \"optimal\", \"text\": [\"optimal\"], \"y\": [1.6153846153846154], \"mode\": \"markers\", \"marker\": {\"sizemode\": \"area\", \"sizeref\": 0.2, \"size\": [42.0]}, \"x\": [26]}, {\"name\": \"performance\", \"text\": [\"performance\"], \"y\": [1.7037037037037037], \"mode\": \"markers\", \"marker\": {\"sizemode\": \"area\", \"sizeref\": 0.2, \"size\": [46.0]}, \"x\": [27]}, {\"name\": \"paper\", \"text\": [\"paper\"], \"y\": [1.0851063829787233], \"mode\": \"markers\", \"marker\": {\"sizemode\": \"area\", \"sizeref\": 0.2, \"size\": [51.0]}, \"x\": [47]}, {\"name\": \"study\", \"text\": [\"study\"], \"y\": [1.4285714285714286], \"mode\": \"markers\", \"marker\": {\"sizemode\": \"area\", \"sizeref\": 0.2, \"size\": [30.0]}, \"x\": [21]}, {\"name\": \"higher\", \"text\": [\"higher\"], \"y\": [1.6842105263157894], \"mode\": \"markers\", \"marker\": {\"sizemode\": \"area\", \"sizeref\": 0.2, \"size\": [32.0]}, \"x\": [19]}, {\"name\": \"demand\", \"text\": [\"demand\"], \"y\": [2.6666666666666665], \"mode\": \"markers\", \"marker\": {\"sizemode\": \"area\", \"sizeref\": 0.2, \"size\": [48.0]}, \"x\": [18]}, {\"name\": \"new\", \"text\": [\"new\"], \"y\": [1.6111111111111112], \"mode\": \"markers\", \"marker\": {\"sizemode\": \"area\", \"sizeref\": 0.2, \"size\": [58.0]}, \"x\": [36]}, {\"name\": \"use\", \"text\": [\"use\"], \"y\": [1.3888888888888888], \"mode\": \"markers\", \"marker\": {\"sizemode\": \"area\", \"sizeref\": 0.2, \"size\": [25.0]}, \"x\": [18]}, {\"name\": \"consumers\", \"text\": [\"consumers\"], \"y\": [2.8], \"mode\": \"markers\", \"marker\": {\"sizemode\": \"area\", \"sizeref\": 0.2, \"size\": [42.0]}, \"x\": [15]}, {\"name\": \"value\", \"text\": [\"value\"], \"y\": [2.3846153846153846], \"mode\": \"markers\", \"marker\": {\"sizemode\": \"area\", \"sizeref\": 0.2, \"size\": [31.0]}, \"x\": [13]}, {\"name\": \"increase\", \"text\": [\"increase\"], \"y\": [1.2173913043478262], \"mode\": \"markers\", \"marker\": {\"sizemode\": \"area\", \"sizeref\": 0.2, \"size\": [28.0]}, \"x\": [23]}, {\"name\": \"effects\", \"text\": [\"effects\"], \"y\": [1.8148148148148149], \"mode\": \"markers\", \"marker\": {\"sizemode\": \"area\", \"sizeref\": 0.2, \"size\": [49.0]}, \"x\": [27]}, {\"name\": \"evidence\", \"text\": [\"evidence\"], \"y\": [1.2], \"mode\": \"markers\", \"marker\": {\"sizemode\": \"area\", \"sizeref\": 0.2, \"size\": [30.0]}, \"x\": [25]}, {\"name\": \"social\", \"text\": [\"social\"], \"y\": [3.0], \"mode\": \"markers\", \"marker\": {\"sizemode\": \"area\", \"sizeref\": 0.2, \"size\": [42.0]}, \"x\": [14]}, {\"name\": \"impact\", \"text\": [\"impact\"], \"y\": [1.3333333333333333], \"mode\": \"markers\", \"marker\": {\"sizemode\": \"area\", \"sizeref\": 0.2, \"size\": [36.0]}, \"x\": [27]}, {\"name\": \"cost\", \"text\": [\"cost\"], \"y\": [2.12], \"mode\": \"markers\", \"marker\": {\"sizemode\": \"area\", \"sizeref\": 0.2, \"size\": [53.0]}, \"x\": [25]}, {\"name\": \"quality\", \"text\": [\"quality\"], \"y\": [2.2142857142857144], \"mode\": \"markers\", \"marker\": {\"sizemode\": \"area\", \"sizeref\": 0.2, \"size\": [31.0]}, \"x\": [14]}, {\"name\": \"different\", \"text\": [\"different\"], \"y\": [1.3125], \"mode\": \"markers\", \"marker\": {\"sizemode\": \"area\", \"sizeref\": 0.2, \"size\": [21.0]}, \"x\": [16]}, {\"name\": \"one\", \"text\": [\"one\"], \"y\": [1.588235294117647], \"mode\": \"markers\", \"marker\": {\"sizemode\": \"area\", \"sizeref\": 0.2, \"size\": [27.0]}, \"x\": [17]}, {\"name\": \"however,\", \"text\": [\"however,\"], \"y\": [1.4285714285714286], \"mode\": \"markers\", \"marker\": {\"sizemode\": \"area\", \"sizeref\": 0.2, \"size\": [10.0]}, \"x\": [7]}, {\"name\": \"products\", \"text\": [\"products\"], \"y\": [2.857142857142857], \"mode\": \"markers\", \"marker\": {\"sizemode\": \"area\", \"sizeref\": 0.2, \"size\": [20.0]}, \"x\": [7]}, {\"name\": \"consumer\", \"text\": [\"consumer\"], \"y\": [1.9166666666666667], \"mode\": \"markers\", \"marker\": {\"sizemode\": \"area\", \"sizeref\": 0.2, \"size\": [23.0]}, \"x\": [12]}, {\"name\": \"financial\", \"text\": [\"financial\"], \"y\": [2.8461538461538463], \"mode\": \"markers\", \"marker\": {\"sizemode\": \"area\", \"sizeref\": 0.2, \"size\": [37.0]}, \"x\": [13]}, {\"name\": \"lower\", \"text\": [\"lower\"], \"y\": [1.6363636363636365], \"mode\": \"markers\", \"marker\": {\"sizemode\": \"area\", \"sizeref\": 0.2, \"size\": [18.0]}, \"x\": [11]}, {\"name\": \"likely\", \"text\": [\"likely\"], \"y\": [1.3793103448275863], \"mode\": \"markers\", \"marker\": {\"sizemode\": \"area\", \"sizeref\": 0.2, \"size\": [40.0]}, \"x\": [29]}, {\"name\": \"pricing\", \"text\": [\"pricing\"], \"y\": [1.6153846153846154], \"mode\": \"markers\", \"marker\": {\"sizemode\": \"area\", \"sizeref\": 0.2, \"size\": [21.0]}, \"x\": [13]}, {\"name\": \"based\", \"text\": [\"based\"], \"y\": [1.1578947368421053], \"mode\": \"markers\", \"marker\": {\"sizemode\": \"area\", \"sizeref\": 0.2, \"size\": [22.0]}, \"x\": [19]}, {\"name\": \"less\", \"text\": [\"less\"], \"y\": [1.0833333333333333], \"mode\": \"markers\", \"marker\": {\"sizemode\": \"area\", \"sizeref\": 0.2, \"size\": [26.0]}, \"x\": [24]}, {\"name\": \"whether\", \"text\": [\"whether\"], \"y\": [1.4], \"mode\": \"markers\", \"marker\": {\"sizemode\": \"area\", \"sizeref\": 0.2, \"size\": [7.0]}, \"x\": [5]}, {\"name\": \"set\", \"text\": [\"set\"], \"y\": [1.4444444444444444], \"mode\": \"markers\", \"marker\": {\"sizemode\": \"area\", \"sizeref\": 0.2, \"size\": [26.0]}, \"x\": [18]}, {\"name\": \"policy\", \"text\": [\"policy\"], \"y\": [1.7391304347826086], \"mode\": \"markers\", \"marker\": {\"sizemode\": \"area\", \"sizeref\": 0.2, \"size\": [40.0]}, \"x\": [23]}, {\"name\": \"decision\", \"text\": [\"decision\"], \"y\": [1.736842105263158], \"mode\": \"markers\", \"marker\": {\"sizemode\": \"area\", \"sizeref\": 0.2, \"size\": [33.0]}, \"x\": [19]}, {\"name\": \"high\", \"text\": [\"high\"], \"y\": [1.8181818181818181], \"mode\": \"markers\", \"marker\": {\"sizemode\": \"area\", \"sizeref\": 0.2, \"size\": [20.0]}, \"x\": [11]}, {\"name\": \"problem\", \"text\": [\"problem\"], \"y\": [2.5454545454545454], \"mode\": \"markers\", \"marker\": {\"sizemode\": \"area\", \"sizeref\": 0.2, \"size\": [28.0]}, \"x\": [11]}, {\"name\": \"sales\", \"text\": [\"sales\"], \"y\": [2.5714285714285716], \"mode\": \"markers\", \"marker\": {\"sizemode\": \"area\", \"sizeref\": 0.2, \"size\": [36.0]}, \"x\": [14]}], \"name\": \"2014\"}, {\"data\": [{\"name\": \"find\", \"text\": [\"find\"], \"y\": [1.4210526315789473], \"mode\": \"markers\", \"marker\": {\"sizemode\": \"area\", \"sizeref\": 0.2, \"size\": [162.0]}, \"x\": [114]}, {\"name\": \"firms\", \"text\": [\"firms\"], \"y\": [2.6363636363636362], \"mode\": \"markers\", \"marker\": {\"sizemode\": \"area\", \"sizeref\": 0.2, \"size\": [116.0]}, \"x\": [44]}, {\"name\": \"information\", \"text\": [\"information\"], \"y\": [2.736842105263158], \"mode\": \"markers\", \"marker\": {\"sizemode\": \"area\", \"sizeref\": 0.2, \"size\": [104.0]}, \"x\": [38]}, {\"name\": \"show\", \"text\": [\"show\"], \"y\": [1.2615384615384615], \"mode\": \"markers\", \"marker\": {\"sizemode\": \"area\", \"sizeref\": 0.2, \"size\": [82.0]}, \"x\": [65]}, {\"name\": \"product\", \"text\": [\"product\"], \"y\": [2.6842105263157894], \"mode\": \"markers\", \"marker\": {\"sizemode\": \"area\", \"sizeref\": 0.2, \"size\": [51.0]}, \"x\": [19]}, {\"name\": \"market\", \"text\": [\"market\"], \"y\": [1.8181818181818181], \"mode\": \"markers\", \"marker\": {\"sizemode\": \"area\", \"sizeref\": 0.2, \"size\": [40.0]}, \"x\": [22]}, {\"name\": \"results\", \"text\": [\"results\"], \"y\": [1.2794117647058822], \"mode\": \"markers\", \"marker\": {\"sizemode\": \"area\", \"sizeref\": 0.2, \"size\": [87.0]}, \"x\": [68]}, {\"name\": \"firm\", \"text\": [\"firm\"], \"y\": [1.875], \"mode\": \"markers\", \"marker\": {\"sizemode\": \"area\", \"sizeref\": 0.2, \"size\": [60.0]}, \"x\": [32]}, {\"name\": \"may\", \"text\": [\"may\"], \"y\": [1.8709677419354838], \"mode\": \"markers\", \"marker\": {\"sizemode\": \"area\", \"sizeref\": 0.2, \"size\": [58.0]}, \"x\": [31]}, {\"name\": \"using\", \"text\": [\"using\"], \"y\": [1.28], \"mode\": \"markers\", \"marker\": {\"sizemode\": \"area\", \"sizeref\": 0.2, \"size\": [64.0]}, \"x\": [50]}, {\"name\": \"data\", \"text\": [\"data\"], \"y\": [1.45], \"mode\": \"markers\", \"marker\": {\"sizemode\": \"area\", \"sizeref\": 0.2, \"size\": [29.0]}, \"x\": [20]}, {\"name\": \"risk\", \"text\": [\"risk\"], \"y\": [2.8095238095238093], \"mode\": \"markers\", \"marker\": {\"sizemode\": \"area\", \"sizeref\": 0.2, \"size\": [59.0]}, \"x\": [21]}, {\"name\": \"two\", \"text\": [\"two\"], \"y\": [1.6785714285714286], \"mode\": \"markers\", \"marker\": {\"sizemode\": \"area\", \"sizeref\": 0.2, \"size\": [47.0]}, \"x\": [28]}, {\"name\": \"effect\", \"text\": [\"effect\"], \"y\": [1.6857142857142857], \"mode\": \"markers\", \"marker\": {\"sizemode\": \"area\", \"sizeref\": 0.2, \"size\": [59.0]}, \"x\": [35]}, {\"name\": \"price\", \"text\": [\"price\"], \"y\": [2.0588235294117645], \"mode\": \"markers\", \"marker\": {\"sizemode\": \"area\", \"sizeref\": 0.2, \"size\": [35.0]}, \"x\": [17]}, {\"name\": \"optimal\", \"text\": [\"optimal\"], \"y\": [2.263157894736842], \"mode\": \"markers\", \"marker\": {\"sizemode\": \"area\", \"sizeref\": 0.2, \"size\": [43.0]}, \"x\": [19]}, {\"name\": \"performance\", \"text\": [\"performance\"], \"y\": [2.090909090909091], \"mode\": \"markers\", \"marker\": {\"sizemode\": \"area\", \"sizeref\": 0.2, \"size\": [46.0]}, \"x\": [22]}, {\"name\": \"paper\", \"text\": [\"paper\"], \"y\": [1.0454545454545454], \"mode\": \"markers\", \"marker\": {\"sizemode\": \"area\", \"sizeref\": 0.2, \"size\": [46.0]}, \"x\": [44]}, {\"name\": \"study\", \"text\": [\"study\"], \"y\": [1.391304347826087], \"mode\": \"markers\", \"marker\": {\"sizemode\": \"area\", \"sizeref\": 0.2, \"size\": [32.0]}, \"x\": [23]}, {\"name\": \"higher\", \"text\": [\"higher\"], \"y\": [1.3888888888888888], \"mode\": \"markers\", \"marker\": {\"sizemode\": \"area\", \"sizeref\": 0.2, \"size\": [25.0]}, \"x\": [18]}, {\"name\": \"demand\", \"text\": [\"demand\"], \"y\": [2.933333333333333], \"mode\": \"markers\", \"marker\": {\"sizemode\": \"area\", \"sizeref\": 0.2, \"size\": [44.0]}, \"x\": [15]}, {\"name\": \"new\", \"text\": [\"new\"], \"y\": [1.6666666666666667], \"mode\": \"markers\", \"marker\": {\"sizemode\": \"area\", \"sizeref\": 0.2, \"size\": [45.0]}, \"x\": [27]}, {\"name\": \"use\", \"text\": [\"use\"], \"y\": [1.625], \"mode\": \"markers\", \"marker\": {\"sizemode\": \"area\", \"sizeref\": 0.2, \"size\": [39.0]}, \"x\": [24]}, {\"name\": \"consumers\", \"text\": [\"consumers\"], \"y\": [2.4210526315789473], \"mode\": \"markers\", \"marker\": {\"sizemode\": \"area\", \"sizeref\": 0.2, \"size\": [46.0]}, \"x\": [19]}, {\"name\": \"value\", \"text\": [\"value\"], \"y\": [2.4615384615384617], \"mode\": \"markers\", \"marker\": {\"sizemode\": \"area\", \"sizeref\": 0.2, \"size\": [32.0]}, \"x\": [13]}, {\"name\": \"increase\", \"text\": [\"increase\"], \"y\": [1.5], \"mode\": \"markers\", \"marker\": {\"sizemode\": \"area\", \"sizeref\": 0.2, \"size\": [60.0]}, \"x\": [40]}, {\"name\": \"effects\", \"text\": [\"effects\"], \"y\": [1.375], \"mode\": \"markers\", \"marker\": {\"sizemode\": \"area\", \"sizeref\": 0.2, \"size\": [33.0]}, \"x\": [24]}, {\"name\": \"evidence\", \"text\": [\"evidence\"], \"y\": [1.3214285714285714], \"mode\": \"markers\", \"marker\": {\"sizemode\": \"area\", \"sizeref\": 0.2, \"size\": [37.0]}, \"x\": [28]}, {\"name\": \"social\", \"text\": [\"social\"], \"y\": [2.923076923076923], \"mode\": \"markers\", \"marker\": {\"sizemode\": \"area\", \"sizeref\": 0.2, \"size\": [38.0]}, \"x\": [13]}, {\"name\": \"impact\", \"text\": [\"impact\"], \"y\": [1.5], \"mode\": \"markers\", \"marker\": {\"sizemode\": \"area\", \"sizeref\": 0.2, \"size\": [57.0]}, \"x\": [38]}, {\"name\": \"cost\", \"text\": [\"cost\"], \"y\": [1.9444444444444444], \"mode\": \"markers\", \"marker\": {\"sizemode\": \"area\", \"sizeref\": 0.2, \"size\": [35.0]}, \"x\": [18]}, {\"name\": \"quality\", \"text\": [\"quality\"], \"y\": [4.076923076923077], \"mode\": \"markers\", \"marker\": {\"sizemode\": \"area\", \"sizeref\": 0.2, \"size\": [53.0]}, \"x\": [13]}, {\"name\": \"different\", \"text\": [\"different\"], \"y\": [1.5909090909090908], \"mode\": \"markers\", \"marker\": {\"sizemode\": \"area\", \"sizeref\": 0.2, \"size\": [35.0]}, \"x\": [22]}, {\"name\": \"one\", \"text\": [\"one\"], \"y\": [1.15], \"mode\": \"markers\", \"marker\": {\"sizemode\": \"area\", \"sizeref\": 0.2, \"size\": [23.0]}, \"x\": [20]}, {\"name\": \"however,\", \"text\": [\"however,\"], \"y\": [1.5454545454545454], \"mode\": \"markers\", \"marker\": {\"sizemode\": \"area\", \"sizeref\": 0.2, \"size\": [17.0]}, \"x\": [11]}, {\"name\": \"products\", \"text\": [\"products\"], \"y\": [3.4545454545454546], \"mode\": \"markers\", \"marker\": {\"sizemode\": \"area\", \"sizeref\": 0.2, \"size\": [38.0]}, \"x\": [11]}, {\"name\": \"consumer\", \"text\": [\"consumer\"], \"y\": [3.0], \"mode\": \"markers\", \"marker\": {\"sizemode\": \"area\", \"sizeref\": 0.2, \"size\": [24.0]}, \"x\": [8]}, {\"name\": \"financial\", \"text\": [\"financial\"], \"y\": [1.6363636363636365], \"mode\": \"markers\", \"marker\": {\"sizemode\": \"area\", \"sizeref\": 0.2, \"size\": [36.0]}, \"x\": [22]}, {\"name\": \"lower\", \"text\": [\"lower\"], \"y\": [1.5], \"mode\": \"markers\", \"marker\": {\"sizemode\": \"area\", \"sizeref\": 0.2, \"size\": [18.0]}, \"x\": [12]}, {\"name\": \"likely\", \"text\": [\"likely\"], \"y\": [1.4074074074074074], \"mode\": \"markers\", \"marker\": {\"sizemode\": \"area\", \"sizeref\": 0.2, \"size\": [38.0]}, \"x\": [27]}, {\"name\": \"pricing\", \"text\": [\"pricing\"], \"y\": [2.0454545454545454], \"mode\": \"markers\", \"marker\": {\"sizemode\": \"area\", \"sizeref\": 0.2, \"size\": [45.0]}, \"x\": [22]}, {\"name\": \"based\", \"text\": [\"based\"], \"y\": [1.2222222222222223], \"mode\": \"markers\", \"marker\": {\"sizemode\": \"area\", \"sizeref\": 0.2, \"size\": [33.0]}, \"x\": [27]}, {\"name\": \"less\", \"text\": [\"less\"], \"y\": [1.2], \"mode\": \"markers\", \"marker\": {\"sizemode\": \"area\", \"sizeref\": 0.2, \"size\": [30.0]}, \"x\": [25]}, {\"name\": \"whether\", \"text\": [\"whether\"], \"y\": [1.588235294117647], \"mode\": \"markers\", \"marker\": {\"sizemode\": \"area\", \"sizeref\": 0.2, \"size\": [27.0]}, \"x\": [17]}, {\"name\": \"set\", \"text\": [\"set\"], \"y\": [1.0714285714285714], \"mode\": \"markers\", \"marker\": {\"sizemode\": \"area\", \"sizeref\": 0.2, \"size\": [30.0]}, \"x\": [28]}, {\"name\": \"policy\", \"text\": [\"policy\"], \"y\": [1.8214285714285714], \"mode\": \"markers\", \"marker\": {\"sizemode\": \"area\", \"sizeref\": 0.2, \"size\": [51.0]}, \"x\": [28]}, {\"name\": \"decision\", \"text\": [\"decision\"], \"y\": [1.625], \"mode\": \"markers\", \"marker\": {\"sizemode\": \"area\", \"sizeref\": 0.2, \"size\": [26.0]}, \"x\": [16]}, {\"name\": \"high\", \"text\": [\"high\"], \"y\": [1.7142857142857142], \"mode\": \"markers\", \"marker\": {\"sizemode\": \"area\", \"sizeref\": 0.2, \"size\": [36.0]}, \"x\": [21]}, {\"name\": \"problem\", \"text\": [\"problem\"], \"y\": [1.8461538461538463], \"mode\": \"markers\", \"marker\": {\"sizemode\": \"area\", \"sizeref\": 0.2, \"size\": [24.0]}, \"x\": [13]}, {\"name\": \"sales\", \"text\": [\"sales\"], \"y\": [2.6666666666666665], \"mode\": \"markers\", \"marker\": {\"sizemode\": \"area\", \"sizeref\": 0.2, \"size\": [32.0]}, \"x\": [12]}], \"name\": \"2015\"}, {\"data\": [{\"name\": \"find\", \"text\": [\"find\"], \"y\": [1.2380952380952381], \"mode\": \"markers\", \"marker\": {\"sizemode\": \"area\", \"sizeref\": 0.2, \"size\": [52.0]}, \"x\": [42]}, {\"name\": \"firms\", \"text\": [\"firms\"], \"y\": [2.0], \"mode\": \"markers\", \"marker\": {\"sizemode\": \"area\", \"sizeref\": 0.2, \"size\": [36.0]}, \"x\": [18]}, {\"name\": \"information\", \"text\": [\"information\"], \"y\": [3.066666666666667], \"mode\": \"markers\", \"marker\": {\"sizemode\": \"area\", \"sizeref\": 0.2, \"size\": [46.0]}, \"x\": [15]}, {\"name\": \"show\", \"text\": [\"show\"], \"y\": [1.2608695652173914], \"mode\": \"markers\", \"marker\": {\"sizemode\": \"area\", \"sizeref\": 0.2, \"size\": [29.0]}, \"x\": [23]}, {\"name\": \"product\", \"text\": [\"product\"], \"y\": [3.0], \"mode\": \"markers\", \"marker\": {\"sizemode\": \"area\", \"sizeref\": 0.2, \"size\": [27.0]}, \"x\": [9]}, {\"name\": \"market\", \"text\": [\"market\"], \"y\": [1.8], \"mode\": \"markers\", \"marker\": {\"sizemode\": \"area\", \"sizeref\": 0.2, \"size\": [36.0]}, \"x\": [20]}, {\"name\": \"results\", \"text\": [\"results\"], \"y\": [1.1111111111111112], \"mode\": \"markers\", \"marker\": {\"sizemode\": \"area\", \"sizeref\": 0.2, \"size\": [30.0]}, \"x\": [27]}, {\"name\": \"firm\", \"text\": [\"firm\"], \"y\": [1.5384615384615385], \"mode\": \"markers\", \"marker\": {\"sizemode\": \"area\", \"sizeref\": 0.2, \"size\": [20.0]}, \"x\": [13]}, {\"name\": \"may\", \"text\": [\"may\"], \"y\": [1.4285714285714286], \"mode\": \"markers\", \"marker\": {\"sizemode\": \"area\", \"sizeref\": 0.2, \"size\": [20.0]}, \"x\": [14]}, {\"name\": \"using\", \"text\": [\"using\"], \"y\": [1.2142857142857142], \"mode\": \"markers\", \"marker\": {\"sizemode\": \"area\", \"sizeref\": 0.2, \"size\": [17.0]}, \"x\": [14]}, {\"name\": \"data\", \"text\": [\"data\"], \"y\": [1.5555555555555556], \"mode\": \"markers\", \"marker\": {\"sizemode\": \"area\", \"sizeref\": 0.2, \"size\": [14.0]}, \"x\": [9]}, {\"name\": \"risk\", \"text\": [\"risk\"], \"y\": [2.111111111111111], \"mode\": \"markers\", \"marker\": {\"sizemode\": \"area\", \"sizeref\": 0.2, \"size\": [19.0]}, \"x\": [9]}, {\"name\": \"two\", \"text\": [\"two\"], \"y\": [1.6666666666666667], \"mode\": \"markers\", \"marker\": {\"sizemode\": \"area\", \"sizeref\": 0.2, \"size\": [20.0]}, \"x\": [12]}, {\"name\": \"effect\", \"text\": [\"effect\"], \"y\": [1.3846153846153846], \"mode\": \"markers\", \"marker\": {\"sizemode\": \"area\", \"sizeref\": 0.2, \"size\": [18.0]}, \"x\": [13]}, {\"name\": \"price\", \"text\": [\"price\"], \"y\": [2.7142857142857144], \"mode\": \"markers\", \"marker\": {\"sizemode\": \"area\", \"sizeref\": 0.2, \"size\": [19.0]}, \"x\": [7]}, {\"name\": \"optimal\", \"text\": [\"optimal\"], \"y\": [1.8571428571428572], \"mode\": \"markers\", \"marker\": {\"sizemode\": \"area\", \"sizeref\": 0.2, \"size\": [13.0]}, \"x\": [7]}, {\"name\": \"performance\", \"text\": [\"performance\"], \"y\": [1.7272727272727273], \"mode\": \"markers\", \"marker\": {\"sizemode\": \"area\", \"sizeref\": 0.2, \"size\": [19.0]}, \"x\": [11]}, {\"name\": \"paper\", \"text\": [\"paper\"], \"y\": [1.1818181818181819], \"mode\": \"markers\", \"marker\": {\"sizemode\": \"area\", \"sizeref\": 0.2, \"size\": [13.0]}, \"x\": [11]}, {\"name\": \"study\", \"text\": [\"study\"], \"y\": [1.7142857142857142], \"mode\": \"markers\", \"marker\": {\"sizemode\": \"area\", \"sizeref\": 0.2, \"size\": [12.0]}, \"x\": [7]}, {\"name\": \"higher\", \"text\": [\"higher\"], \"y\": [1.6666666666666667], \"mode\": \"markers\", \"marker\": {\"sizemode\": \"area\", \"sizeref\": 0.2, \"size\": [25.0]}, \"x\": [15]}, {\"name\": \"demand\", \"text\": [\"demand\"], \"y\": [1.3333333333333333], \"mode\": \"markers\", \"marker\": {\"sizemode\": \"area\", \"sizeref\": 0.2, \"size\": [8.0]}, \"x\": [6]}, {\"name\": \"new\", \"text\": [\"new\"], \"y\": [1.5833333333333333], \"mode\": \"markers\", \"marker\": {\"sizemode\": \"area\", \"sizeref\": 0.2, \"size\": [19.0]}, \"x\": [12]}, {\"name\": \"use\", \"text\": [\"use\"], \"y\": [1.7142857142857142], \"mode\": \"markers\", \"marker\": {\"sizemode\": \"area\", \"sizeref\": 0.2, \"size\": [24.0]}, \"x\": [14]}, {\"name\": \"consumers\", \"text\": [\"consumers\"], \"y\": [1.8888888888888888], \"mode\": \"markers\", \"marker\": {\"sizemode\": \"area\", \"sizeref\": 0.2, \"size\": [17.0]}, \"x\": [9]}, {\"name\": \"value\", \"text\": [\"value\"], \"y\": [2.3333333333333335], \"mode\": \"markers\", \"marker\": {\"sizemode\": \"area\", \"sizeref\": 0.2, \"size\": [7.0]}, \"x\": [3]}, {\"name\": \"increase\", \"text\": [\"increase\"], \"y\": [1.3636363636363635], \"mode\": \"markers\", \"marker\": {\"sizemode\": \"area\", \"sizeref\": 0.2, \"size\": [15.0]}, \"x\": [11]}, {\"name\": \"effects\", \"text\": [\"effects\"], \"y\": [1.1538461538461537], \"mode\": \"markers\", \"marker\": {\"sizemode\": \"area\", \"sizeref\": 0.2, \"size\": [15.0]}, \"x\": [13]}, {\"name\": \"evidence\", \"text\": [\"evidence\"], \"y\": [1.1428571428571428], \"mode\": \"markers\", \"marker\": {\"sizemode\": \"area\", \"sizeref\": 0.2, \"size\": [16.0]}, \"x\": [14]}, {\"name\": \"social\", \"text\": [\"social\"], \"y\": [2.0], \"mode\": \"markers\", \"marker\": {\"sizemode\": \"area\", \"sizeref\": 0.2, \"size\": [4.0]}, \"x\": [2]}, {\"name\": \"impact\", \"text\": [\"impact\"], \"y\": [1.6], \"mode\": \"markers\", \"marker\": {\"sizemode\": \"area\", \"sizeref\": 0.2, \"size\": [24.0]}, \"x\": [15]}, {\"name\": \"cost\", \"text\": [\"cost\"], \"y\": [2.625], \"mode\": \"markers\", \"marker\": {\"sizemode\": \"area\", \"sizeref\": 0.2, \"size\": [21.0]}, \"x\": [8]}, {\"name\": \"quality\", \"text\": [\"quality\"], \"y\": [1.6666666666666667], \"mode\": \"markers\", \"marker\": {\"sizemode\": \"area\", \"sizeref\": 0.2, \"size\": [15.0]}, \"x\": [9]}, {\"name\": \"different\", \"text\": [\"different\"], \"y\": [1.2], \"mode\": \"markers\", \"marker\": {\"sizemode\": \"area\", \"sizeref\": 0.2, \"size\": [6.0]}, \"x\": [5]}, {\"name\": \"one\", \"text\": [\"one\"], \"y\": [1.5], \"mode\": \"markers\", \"marker\": {\"sizemode\": \"area\", \"sizeref\": 0.2, \"size\": [3.0]}, \"x\": [2]}, {\"name\": \"however,\", \"text\": [\"however,\"], \"y\": [1.4], \"mode\": \"markers\", \"marker\": {\"sizemode\": \"area\", \"sizeref\": 0.2, \"size\": [7.0]}, \"x\": [5]}, {\"name\": \"products\", \"text\": [\"products\"], \"y\": [3.0], \"mode\": \"markers\", \"marker\": {\"sizemode\": \"area\", \"sizeref\": 0.2, \"size\": [9.0]}, \"x\": [3]}, {\"name\": \"consumer\", \"text\": [\"consumer\"], \"y\": [3.0], \"mode\": \"markers\", \"marker\": {\"sizemode\": \"area\", \"sizeref\": 0.2, \"size\": [12.0]}, \"x\": [4]}, {\"name\": \"financial\", \"text\": [\"financial\"], \"y\": [1.9090909090909092], \"mode\": \"markers\", \"marker\": {\"sizemode\": \"area\", \"sizeref\": 0.2, \"size\": [21.0]}, \"x\": [11]}, {\"name\": \"lower\", \"text\": [\"lower\"], \"y\": [1.4285714285714286], \"mode\": \"markers\", \"marker\": {\"sizemode\": \"area\", \"sizeref\": 0.2, \"size\": [10.0]}, \"x\": [7]}, {\"name\": \"likely\", \"text\": [\"likely\"], \"y\": [1.6363636363636365], \"mode\": \"markers\", \"marker\": {\"sizemode\": \"area\", \"sizeref\": 0.2, \"size\": [18.0]}, \"x\": [11]}, {\"name\": \"pricing\", \"text\": [\"pricing\"], \"y\": [2.6666666666666665], \"mode\": \"markers\", \"marker\": {\"sizemode\": \"area\", \"sizeref\": 0.2, \"size\": [8.0]}, \"x\": [3]}, {\"name\": \"based\", \"text\": [\"based\"], \"y\": [1.4285714285714286], \"mode\": \"markers\", \"marker\": {\"sizemode\": \"area\", \"sizeref\": 0.2, \"size\": [10.0]}, \"x\": [7]}, {\"name\": \"less\", \"text\": [\"less\"], \"y\": [1.4444444444444444], \"mode\": \"markers\", \"marker\": {\"sizemode\": \"area\", \"sizeref\": 0.2, \"size\": [13.0]}, \"x\": [9]}, {\"name\": \"whether\", \"text\": [\"whether\"], \"y\": [1.2], \"mode\": \"markers\", \"marker\": {\"sizemode\": \"area\", \"sizeref\": 0.2, \"size\": [6.0]}, \"x\": [5]}, {\"name\": \"set\", \"text\": [\"set\"], \"y\": [1.2307692307692308], \"mode\": \"markers\", \"marker\": {\"sizemode\": \"area\", \"sizeref\": 0.2, \"size\": [16.0]}, \"x\": [13]}, {\"name\": \"policy\", \"text\": [\"policy\"], \"y\": [1.2857142857142858], \"mode\": \"markers\", \"marker\": {\"sizemode\": \"area\", \"sizeref\": 0.2, \"size\": [9.0]}, \"x\": [7]}, {\"name\": \"decision\", \"text\": [\"decision\"], \"y\": [1.6666666666666667], \"mode\": \"markers\", \"marker\": {\"sizemode\": \"area\", \"sizeref\": 0.2, \"size\": [10.0]}, \"x\": [6]}, {\"name\": \"high\", \"text\": [\"high\"], \"y\": [1.5], \"mode\": \"markers\", \"marker\": {\"sizemode\": \"area\", \"sizeref\": 0.2, \"size\": [6.0]}, \"x\": [4]}, {\"name\": \"problem\", \"text\": [\"problem\"], \"y\": [2.0], \"mode\": \"markers\", \"marker\": {\"sizemode\": \"area\", \"sizeref\": 0.2, \"size\": [4.0]}, \"x\": [2]}, {\"name\": \"sales\", \"text\": [\"sales\"], \"y\": [4.5], \"mode\": \"markers\", \"marker\": {\"sizemode\": \"area\", \"sizeref\": 0.2, \"size\": [18.0]}, \"x\": [4]}], \"name\": \"2016\"}]);}).then(function(){Plotly.animate('8f21a16e-a0af-4b34-8349-f421b962a2b7');})\n",
       "        });</script>"
      ],
      "text/vnd.plotly.v1+html": [
       "<div id=\"8f21a16e-a0af-4b34-8349-f421b962a2b7\" style=\"height: 525px; width: 100%;\" class=\"plotly-graph-div\"></div><script type=\"text/javascript\">require([\"plotly\"], function(Plotly) { window.PLOTLYENV=window.PLOTLYENV || {};window.PLOTLYENV.BASE_URL=\"https://plot.ly\";\n",
       "        Plotly.plot(\n",
       "            '8f21a16e-a0af-4b34-8349-f421b962a2b7',\n",
       "            [{\"name\": \"find\", \"text\": [\"find\"], \"y\": [1.0], \"mode\": \"markers\", \"marker\": {\"sizemode\": \"area\", \"sizeref\": 0.2, \"size\": [1.0]}, \"x\": [1]}, {\"name\": \"firms\", \"text\": [\"firms\"], \"y\": [3.0], \"mode\": \"markers\", \"marker\": {\"sizemode\": \"area\", \"sizeref\": 0.2, \"size\": [3.0]}, \"x\": [1]}, {\"name\": \"information\", \"text\": [\"information\"], \"y\": [0.0], \"mode\": \"markers\", \"marker\": {\"sizemode\": \"area\", \"sizeref\": 0.2, \"size\": [0.0]}, \"x\": [0]}, {\"name\": \"show\", \"text\": [\"show\"], \"y\": [0.0], \"mode\": \"markers\", \"marker\": {\"sizemode\": \"area\", \"sizeref\": 0.2, \"size\": [0.0]}, \"x\": [0]}, {\"name\": \"product\", \"text\": [\"product\"], \"y\": [0.0], \"mode\": \"markers\", \"marker\": {\"sizemode\": \"area\", \"sizeref\": 0.2, \"size\": [0.0]}, \"x\": [0]}, {\"name\": \"market\", \"text\": [\"market\"], \"y\": [1.0], \"mode\": \"markers\", \"marker\": {\"sizemode\": \"area\", \"sizeref\": 0.2, \"size\": [1.0]}, \"x\": [1]}, {\"name\": \"results\", \"text\": [\"results\"], \"y\": [1.0], \"mode\": \"markers\", \"marker\": {\"sizemode\": \"area\", \"sizeref\": 0.2, \"size\": [1.0]}, \"x\": [1]}, {\"name\": \"firm\", \"text\": [\"firm\"], \"y\": [0.0], \"mode\": \"markers\", \"marker\": {\"sizemode\": \"area\", \"sizeref\": 0.2, \"size\": [0.0]}, \"x\": [0]}, {\"name\": \"may\", \"text\": [\"may\"], \"y\": [0.0], \"mode\": \"markers\", \"marker\": {\"sizemode\": \"area\", \"sizeref\": 0.2, \"size\": [0.0]}, \"x\": [0]}, {\"name\": \"using\", \"text\": [\"using\"], \"y\": [1.0], \"mode\": \"markers\", \"marker\": {\"sizemode\": \"area\", \"sizeref\": 0.2, \"size\": [1.0]}, \"x\": [1]}, {\"name\": \"data\", \"text\": [\"data\"], \"y\": [3.0], \"mode\": \"markers\", \"marker\": {\"sizemode\": \"area\", \"sizeref\": 0.2, \"size\": [3.0]}, \"x\": [1]}, {\"name\": \"risk\", \"text\": [\"risk\"], \"y\": [2.0], \"mode\": \"markers\", \"marker\": {\"sizemode\": \"area\", \"sizeref\": 0.2, \"size\": [2.0]}, \"x\": [1]}, {\"name\": \"two\", \"text\": [\"two\"], \"y\": [1.0], \"mode\": \"markers\", \"marker\": {\"sizemode\": \"area\", \"sizeref\": 0.2, \"size\": [1.0]}, \"x\": [1]}, {\"name\": \"effect\", \"text\": [\"effect\"], \"y\": [0.0], \"mode\": \"markers\", \"marker\": {\"sizemode\": \"area\", \"sizeref\": 0.2, \"size\": [0.0]}, \"x\": [0]}, {\"name\": \"price\", \"text\": [\"price\"], \"y\": [0.0], \"mode\": \"markers\", \"marker\": {\"sizemode\": \"area\", \"sizeref\": 0.2, \"size\": [0.0]}, \"x\": [0]}, {\"name\": \"optimal\", \"text\": [\"optimal\"], \"y\": [0.0], \"mode\": \"markers\", \"marker\": {\"sizemode\": \"area\", \"sizeref\": 0.2, \"size\": [0.0]}, \"x\": [0]}, {\"name\": \"performance\", \"text\": [\"performance\"], \"y\": [0.0], \"mode\": \"markers\", \"marker\": {\"sizemode\": \"area\", \"sizeref\": 0.2, \"size\": [0.0]}, \"x\": [0]}, {\"name\": \"paper\", \"text\": [\"paper\"], \"y\": [1.0], \"mode\": \"markers\", \"marker\": {\"sizemode\": \"area\", \"sizeref\": 0.2, \"size\": [1.0]}, \"x\": [1]}, {\"name\": \"study\", \"text\": [\"study\"], \"y\": [0.0], \"mode\": \"markers\", \"marker\": {\"sizemode\": \"area\", \"sizeref\": 0.2, \"size\": [0.0]}, \"x\": [0]}, {\"name\": \"higher\", \"text\": [\"higher\"], \"y\": [0.0], \"mode\": \"markers\", \"marker\": {\"sizemode\": \"area\", \"sizeref\": 0.2, \"size\": [0.0]}, \"x\": [0]}, {\"name\": \"demand\", \"text\": [\"demand\"], \"y\": [0.0], \"mode\": \"markers\", \"marker\": {\"sizemode\": \"area\", \"sizeref\": 0.2, \"size\": [0.0]}, \"x\": [0]}, {\"name\": \"new\", \"text\": [\"new\"], \"y\": [0.0], \"mode\": \"markers\", \"marker\": {\"sizemode\": \"area\", \"sizeref\": 0.2, \"size\": [0.0]}, \"x\": [0]}, {\"name\": \"use\", \"text\": [\"use\"], \"y\": [0.0], \"mode\": \"markers\", \"marker\": {\"sizemode\": \"area\", \"sizeref\": 0.2, \"size\": [0.0]}, \"x\": [0]}, {\"name\": \"consumers\", \"text\": [\"consumers\"], \"y\": [0.0], \"mode\": \"markers\", \"marker\": {\"sizemode\": \"area\", \"sizeref\": 0.2, \"size\": [0.0]}, \"x\": [0]}, {\"name\": \"value\", \"text\": [\"value\"], \"y\": [0.0], \"mode\": \"markers\", \"marker\": {\"sizemode\": \"area\", \"sizeref\": 0.2, \"size\": [0.0]}, \"x\": [0]}, {\"name\": \"increase\", \"text\": [\"increase\"], \"y\": [0.0], \"mode\": \"markers\", \"marker\": {\"sizemode\": \"area\", \"sizeref\": 0.2, \"size\": [0.0]}, \"x\": [0]}, {\"name\": \"effects\", \"text\": [\"effects\"], \"y\": [0.0], \"mode\": \"markers\", \"marker\": {\"sizemode\": \"area\", \"sizeref\": 0.2, \"size\": [0.0]}, \"x\": [0]}, {\"name\": \"evidence\", \"text\": [\"evidence\"], \"y\": [1.0], \"mode\": \"markers\", \"marker\": {\"sizemode\": \"area\", \"sizeref\": 0.2, \"size\": [1.0]}, \"x\": [1]}, {\"name\": \"social\", \"text\": [\"social\"], \"y\": [0.0], \"mode\": \"markers\", \"marker\": {\"sizemode\": \"area\", \"sizeref\": 0.2, \"size\": [0.0]}, \"x\": [0]}, {\"name\": \"impact\", \"text\": [\"impact\"], \"y\": [0.0], \"mode\": \"markers\", \"marker\": {\"sizemode\": \"area\", \"sizeref\": 0.2, \"size\": [0.0]}, \"x\": [0]}, {\"name\": \"cost\", \"text\": [\"cost\"], \"y\": [0.0], \"mode\": \"markers\", \"marker\": {\"sizemode\": \"area\", \"sizeref\": 0.2, \"size\": [0.0]}, \"x\": [0]}, {\"name\": \"quality\", \"text\": [\"quality\"], \"y\": [0.0], \"mode\": \"markers\", \"marker\": {\"sizemode\": \"area\", \"sizeref\": 0.2, \"size\": [0.0]}, \"x\": [0]}, {\"name\": \"different\", \"text\": [\"different\"], \"y\": [0.0], \"mode\": \"markers\", \"marker\": {\"sizemode\": \"area\", \"sizeref\": 0.2, \"size\": [0.0]}, \"x\": [0]}, {\"name\": \"one\", \"text\": [\"one\"], \"y\": [0.0], \"mode\": \"markers\", \"marker\": {\"sizemode\": \"area\", \"sizeref\": 0.2, \"size\": [0.0]}, \"x\": [0]}, {\"name\": \"however,\", \"text\": [\"however,\"], \"y\": [0.0], \"mode\": \"markers\", \"marker\": {\"sizemode\": \"area\", \"sizeref\": 0.2, \"size\": [0.0]}, \"x\": [0]}, {\"name\": \"products\", \"text\": [\"products\"], \"y\": [0.0], \"mode\": \"markers\", \"marker\": {\"sizemode\": \"area\", \"sizeref\": 0.2, \"size\": [0.0]}, \"x\": [0]}, {\"name\": \"consumer\", \"text\": [\"consumer\"], \"y\": [0.0], \"mode\": \"markers\", \"marker\": {\"sizemode\": \"area\", \"sizeref\": 0.2, \"size\": [0.0]}, \"x\": [0]}, {\"name\": \"financial\", \"text\": [\"financial\"], \"y\": [6.0], \"mode\": \"markers\", \"marker\": {\"sizemode\": \"area\", \"sizeref\": 0.2, \"size\": [6.0]}, \"x\": [1]}, {\"name\": \"lower\", \"text\": [\"lower\"], \"y\": [0.0], \"mode\": \"markers\", \"marker\": {\"sizemode\": \"area\", \"sizeref\": 0.2, \"size\": [0.0]}, \"x\": [0]}, {\"name\": \"likely\", \"text\": [\"likely\"], \"y\": [0.0], \"mode\": \"markers\", \"marker\": {\"sizemode\": \"area\", \"sizeref\": 0.2, \"size\": [0.0]}, \"x\": [0]}, {\"name\": \"pricing\", \"text\": [\"pricing\"], \"y\": [0.0], \"mode\": \"markers\", \"marker\": {\"sizemode\": \"area\", \"sizeref\": 0.2, \"size\": [0.0]}, \"x\": [0]}, {\"name\": \"based\", \"text\": [\"based\"], \"y\": [0.0], \"mode\": \"markers\", \"marker\": {\"sizemode\": \"area\", \"sizeref\": 0.2, \"size\": [0.0]}, \"x\": [0]}, {\"name\": \"less\", \"text\": [\"less\"], \"y\": [0.0], \"mode\": \"markers\", \"marker\": {\"sizemode\": \"area\", \"sizeref\": 0.2, \"size\": [0.0]}, \"x\": [0]}, {\"name\": \"whether\", \"text\": [\"whether\"], \"y\": [0.0], \"mode\": \"markers\", \"marker\": {\"sizemode\": \"area\", \"sizeref\": 0.2, \"size\": [0.0]}, \"x\": [0]}, {\"name\": \"set\", \"text\": [\"set\"], \"y\": [2.0], \"mode\": \"markers\", \"marker\": {\"sizemode\": \"area\", \"sizeref\": 0.2, \"size\": [2.0]}, \"x\": [1]}, {\"name\": \"policy\", \"text\": [\"policy\"], \"y\": [0.0], \"mode\": \"markers\", \"marker\": {\"sizemode\": \"area\", \"sizeref\": 0.2, \"size\": [0.0]}, \"x\": [0]}, {\"name\": \"decision\", \"text\": [\"decision\"], \"y\": [0.0], \"mode\": \"markers\", \"marker\": {\"sizemode\": \"area\", \"sizeref\": 0.2, \"size\": [0.0]}, \"x\": [0]}, {\"name\": \"high\", \"text\": [\"high\"], \"y\": [0.0], \"mode\": \"markers\", \"marker\": {\"sizemode\": \"area\", \"sizeref\": 0.2, \"size\": [0.0]}, \"x\": [0]}, {\"name\": \"problem\", \"text\": [\"problem\"], \"y\": [0.0], \"mode\": \"markers\", \"marker\": {\"sizemode\": \"area\", \"sizeref\": 0.2, \"size\": [0.0]}, \"x\": [0]}, {\"name\": \"sales\", \"text\": [\"sales\"], \"y\": [0.0], \"mode\": \"markers\", \"marker\": {\"sizemode\": \"area\", \"sizeref\": 0.2, \"size\": [0.0]}, \"x\": [0]}],\n",
       "            {\"sliders\": [{\"yanchor\": \"top\", \"currentvalue\": {\"visible\": true, \"prefix\": \"Year:\", \"font\": {\"size\": 20}, \"xanchor\": \"right\"}, \"transition\": {\"duration\": 300, \"easing\": \"cubic-in-out\"}, \"xanchor\": \"left\", \"pad\": {\"b\": 10, \"t\": 50}, \"len\": 0.9, \"active\": 0, \"steps\": [{\"args\": [[2010], {\"frame\": {\"duration\": 300, \"redraw\": false}, \"transition\": {\"duration\": 300}, \"mode\": \"immediate\"}], \"method\": \"animate\", \"label\": 2010}, {\"args\": [[2011], {\"frame\": {\"duration\": 300, \"redraw\": false}, \"transition\": {\"duration\": 300}, \"mode\": \"immediate\"}], \"method\": \"animate\", \"label\": 2011}, {\"args\": [[2012], {\"frame\": {\"duration\": 300, \"redraw\": false}, \"transition\": {\"duration\": 300}, \"mode\": \"immediate\"}], \"method\": \"animate\", \"label\": 2012}, {\"args\": [[2013], {\"frame\": {\"duration\": 300, \"redraw\": false}, \"transition\": {\"duration\": 300}, \"mode\": \"immediate\"}], \"method\": \"animate\", \"label\": 2013}, {\"args\": [[2014], {\"frame\": {\"duration\": 300, \"redraw\": false}, \"transition\": {\"duration\": 300}, \"mode\": \"immediate\"}], \"method\": \"animate\", \"label\": 2014}, {\"args\": [[2015], {\"frame\": {\"duration\": 300, \"redraw\": false}, \"transition\": {\"duration\": 300}, \"mode\": \"immediate\"}], \"method\": \"animate\", \"label\": 2015}, {\"args\": [[2016], {\"frame\": {\"duration\": 300, \"redraw\": false}, \"transition\": {\"duration\": 300}, \"mode\": \"immediate\"}], \"method\": \"animate\", \"label\": 2016}], \"y\": 0, \"x\": 0.1}], \"hovermode\": \"closest\", \"xaxis\": {\"range\": [0, 50], \"title\": \"Number of Publications\"}, \"updatemenus\": [{\"yanchor\": \"top\", \"direction\": \"left\", \"showactive\": false, \"xanchor\": \"right\", \"buttons\": [{\"args\": [null, {\"frame\": {\"duration\": 500, \"redraw\": false}, \"transition\": {\"duration\": 300, \"easing\": \"quadratic-in-out\"}, \"fromcurrent\": true}], \"method\": \"animate\", \"label\": \"Play\"}, {\"args\": [[null], {\"frame\": {\"duration\": 0, \"redraw\": false}, \"transition\": {\"duration\": 0}, \"mode\": \"immediate\"}], \"method\": \"animate\", \"label\": \"Pause\"}], \"pad\": {\"r\": 10, \"t\": 87}, \"y\": 0, \"x\": 0.1, \"type\": \"buttons\"}], \"yaxis\": {\"type\": \"float\", \"title\": \"Freq per publication\"}},\n",
       "            {\"linkText\": \"Export to plot.ly\", \"showLink\": true}\n",
       "        ).then(function () {return Plotly.addFrames('8f21a16e-a0af-4b34-8349-f421b962a2b7',[{\"data\": [{\"name\": \"find\", \"text\": [\"find\"], \"y\": [0.0], \"mode\": \"markers\", \"marker\": {\"sizemode\": \"area\", \"sizeref\": 0.2, \"size\": [0.0]}, \"x\": [0]}, {\"name\": \"firms\", \"text\": [\"firms\"], \"y\": [2.0], \"mode\": \"markers\", \"marker\": {\"sizemode\": \"area\", \"sizeref\": 0.2, \"size\": [2.0]}, \"x\": [1]}, {\"name\": \"information\", \"text\": [\"information\"], \"y\": [0.0], \"mode\": \"markers\", \"marker\": {\"sizemode\": \"area\", \"sizeref\": 0.2, \"size\": [0.0]}, \"x\": [0]}, {\"name\": \"show\", \"text\": [\"show\"], \"y\": [0.0], \"mode\": \"markers\", \"marker\": {\"sizemode\": \"area\", \"sizeref\": 0.2, \"size\": [0.0]}, \"x\": [0]}, {\"name\": \"product\", \"text\": [\"product\"], \"y\": [0.0], \"mode\": \"markers\", \"marker\": {\"sizemode\": \"area\", \"sizeref\": 0.2, \"size\": [0.0]}, \"x\": [0]}, {\"name\": \"market\", \"text\": [\"market\"], \"y\": [2.0], \"mode\": \"markers\", \"marker\": {\"sizemode\": \"area\", \"sizeref\": 0.2, \"size\": [2.0]}, \"x\": [1]}, {\"name\": \"results\", \"text\": [\"results\"], \"y\": [1.0], \"mode\": \"markers\", \"marker\": {\"sizemode\": \"area\", \"sizeref\": 0.2, \"size\": [1.0]}, \"x\": [1]}, {\"name\": \"firm\", \"text\": [\"firm\"], \"y\": [0.0], \"mode\": \"markers\", \"marker\": {\"sizemode\": \"area\", \"sizeref\": 0.2, \"size\": [0.0]}, \"x\": [0]}, {\"name\": \"may\", \"text\": [\"may\"], \"y\": [0.0], \"mode\": \"markers\", \"marker\": {\"sizemode\": \"area\", \"sizeref\": 0.2, \"size\": [0.0]}, \"x\": [0]}, {\"name\": \"using\", \"text\": [\"using\"], \"y\": [1.0], \"mode\": \"markers\", \"marker\": {\"sizemode\": \"area\", \"sizeref\": 0.2, \"size\": [1.0]}, \"x\": [1]}, {\"name\": \"data\", \"text\": [\"data\"], \"y\": [0.0], \"mode\": \"markers\", \"marker\": {\"sizemode\": \"area\", \"sizeref\": 0.2, \"size\": [0.0]}, \"x\": [0]}, {\"name\": \"risk\", \"text\": [\"risk\"], \"y\": [0.0], \"mode\": \"markers\", \"marker\": {\"sizemode\": \"area\", \"sizeref\": 0.2, \"size\": [0.0]}, \"x\": [0]}, {\"name\": \"two\", \"text\": [\"two\"], \"y\": [0.0], \"mode\": \"markers\", \"marker\": {\"sizemode\": \"area\", \"sizeref\": 0.2, \"size\": [0.0]}, \"x\": [0]}, {\"name\": \"effect\", \"text\": [\"effect\"], \"y\": [0.0], \"mode\": \"markers\", \"marker\": {\"sizemode\": \"area\", \"sizeref\": 0.2, \"size\": [0.0]}, \"x\": [0]}, {\"name\": \"price\", \"text\": [\"price\"], \"y\": [0.0], \"mode\": \"markers\", \"marker\": {\"sizemode\": \"area\", \"sizeref\": 0.2, \"size\": [0.0]}, \"x\": [0]}, {\"name\": \"optimal\", \"text\": [\"optimal\"], \"y\": [0.0], \"mode\": \"markers\", \"marker\": {\"sizemode\": \"area\", \"sizeref\": 0.2, \"size\": [0.0]}, \"x\": [0]}, {\"name\": \"performance\", \"text\": [\"performance\"], \"y\": [0.0], \"mode\": \"markers\", \"marker\": {\"sizemode\": \"area\", \"sizeref\": 0.2, \"size\": [0.0]}, \"x\": [0]}, {\"name\": \"paper\", \"text\": [\"paper\"], \"y\": [0.0], \"mode\": \"markers\", \"marker\": {\"sizemode\": \"area\", \"sizeref\": 0.2, \"size\": [0.0]}, \"x\": [0]}, {\"name\": \"study\", \"text\": [\"study\"], \"y\": [1.0], \"mode\": \"markers\", \"marker\": {\"sizemode\": \"area\", \"sizeref\": 0.2, \"size\": [1.0]}, \"x\": [1]}, {\"name\": \"higher\", \"text\": [\"higher\"], \"y\": [0.0], \"mode\": \"markers\", \"marker\": {\"sizemode\": \"area\", \"sizeref\": 0.2, \"size\": [0.0]}, \"x\": [0]}, {\"name\": \"demand\", \"text\": [\"demand\"], \"y\": [0.0], \"mode\": \"markers\", \"marker\": {\"sizemode\": \"area\", \"sizeref\": 0.2, \"size\": [0.0]}, \"x\": [0]}, {\"name\": \"new\", \"text\": [\"new\"], \"y\": [1.0], \"mode\": \"markers\", \"marker\": {\"sizemode\": \"area\", \"sizeref\": 0.2, \"size\": [1.0]}, \"x\": [1]}, {\"name\": \"use\", \"text\": [\"use\"], \"y\": [0.0], \"mode\": \"markers\", \"marker\": {\"sizemode\": \"area\", \"sizeref\": 0.2, \"size\": [0.0]}, \"x\": [0]}, {\"name\": \"consumers\", \"text\": [\"consumers\"], \"y\": [0.0], \"mode\": \"markers\", \"marker\": {\"sizemode\": \"area\", \"sizeref\": 0.2, \"size\": [0.0]}, \"x\": [0]}, {\"name\": \"value\", \"text\": [\"value\"], \"y\": [0.0], \"mode\": \"markers\", \"marker\": {\"sizemode\": \"area\", \"sizeref\": 0.2, \"size\": [0.0]}, \"x\": [0]}, {\"name\": \"increase\", \"text\": [\"increase\"], \"y\": [0.0], \"mode\": \"markers\", \"marker\": {\"sizemode\": \"area\", \"sizeref\": 0.2, \"size\": [0.0]}, \"x\": [0]}, {\"name\": \"effects\", \"text\": [\"effects\"], \"y\": [0.0], \"mode\": \"markers\", \"marker\": {\"sizemode\": \"area\", \"sizeref\": 0.2, \"size\": [0.0]}, \"x\": [0]}, {\"name\": \"evidence\", \"text\": [\"evidence\"], \"y\": [0.0], \"mode\": \"markers\", \"marker\": {\"sizemode\": \"area\", \"sizeref\": 0.2, \"size\": [0.0]}, \"x\": [0]}, {\"name\": \"social\", \"text\": [\"social\"], \"y\": [0.0], \"mode\": \"markers\", \"marker\": {\"sizemode\": \"area\", \"sizeref\": 0.2, \"size\": [0.0]}, \"x\": [0]}, {\"name\": \"impact\", \"text\": [\"impact\"], \"y\": [1.0], \"mode\": \"markers\", \"marker\": {\"sizemode\": \"area\", \"sizeref\": 0.2, \"size\": [1.0]}, \"x\": [1]}, {\"name\": \"cost\", \"text\": [\"cost\"], \"y\": [0.0], \"mode\": \"markers\", \"marker\": {\"sizemode\": \"area\", \"sizeref\": 0.2, \"size\": [0.0]}, \"x\": [0]}, {\"name\": \"quality\", \"text\": [\"quality\"], \"y\": [0.0], \"mode\": \"markers\", \"marker\": {\"sizemode\": \"area\", \"sizeref\": 0.2, \"size\": [0.0]}, \"x\": [0]}, {\"name\": \"different\", \"text\": [\"different\"], \"y\": [0.0], \"mode\": \"markers\", \"marker\": {\"sizemode\": \"area\", \"sizeref\": 0.2, \"size\": [0.0]}, \"x\": [0]}, {\"name\": \"one\", \"text\": [\"one\"], \"y\": [0.0], \"mode\": \"markers\", \"marker\": {\"sizemode\": \"area\", \"sizeref\": 0.2, \"size\": [0.0]}, \"x\": [0]}, {\"name\": \"however,\", \"text\": [\"however,\"], \"y\": [0.0], \"mode\": \"markers\", \"marker\": {\"sizemode\": \"area\", \"sizeref\": 0.2, \"size\": [0.0]}, \"x\": [0]}, {\"name\": \"products\", \"text\": [\"products\"], \"y\": [0.0], \"mode\": \"markers\", \"marker\": {\"sizemode\": \"area\", \"sizeref\": 0.2, \"size\": [0.0]}, \"x\": [0]}, {\"name\": \"consumer\", \"text\": [\"consumer\"], \"y\": [0.0], \"mode\": \"markers\", \"marker\": {\"sizemode\": \"area\", \"sizeref\": 0.2, \"size\": [0.0]}, \"x\": [0]}, {\"name\": \"financial\", \"text\": [\"financial\"], \"y\": [2.0], \"mode\": \"markers\", \"marker\": {\"sizemode\": \"area\", \"sizeref\": 0.2, \"size\": [2.0]}, \"x\": [1]}, {\"name\": \"lower\", \"text\": [\"lower\"], \"y\": [0.0], \"mode\": \"markers\", \"marker\": {\"sizemode\": \"area\", \"sizeref\": 0.2, \"size\": [0.0]}, \"x\": [0]}, {\"name\": \"likely\", \"text\": [\"likely\"], \"y\": [0.0], \"mode\": \"markers\", \"marker\": {\"sizemode\": \"area\", \"sizeref\": 0.2, \"size\": [0.0]}, \"x\": [0]}, {\"name\": \"pricing\", \"text\": [\"pricing\"], \"y\": [0.0], \"mode\": \"markers\", \"marker\": {\"sizemode\": \"area\", \"sizeref\": 0.2, \"size\": [0.0]}, \"x\": [0]}, {\"name\": \"based\", \"text\": [\"based\"], \"y\": [0.0], \"mode\": \"markers\", \"marker\": {\"sizemode\": \"area\", \"sizeref\": 0.2, \"size\": [0.0]}, \"x\": [0]}, {\"name\": \"less\", \"text\": [\"less\"], \"y\": [0.0], \"mode\": \"markers\", \"marker\": {\"sizemode\": \"area\", \"sizeref\": 0.2, \"size\": [0.0]}, \"x\": [0]}, {\"name\": \"whether\", \"text\": [\"whether\"], \"y\": [0.0], \"mode\": \"markers\", \"marker\": {\"sizemode\": \"area\", \"sizeref\": 0.2, \"size\": [0.0]}, \"x\": [0]}, {\"name\": \"set\", \"text\": [\"set\"], \"y\": [0.0], \"mode\": \"markers\", \"marker\": {\"sizemode\": \"area\", \"sizeref\": 0.2, \"size\": [0.0]}, \"x\": [0]}, {\"name\": \"policy\", \"text\": [\"policy\"], \"y\": [0.0], \"mode\": \"markers\", \"marker\": {\"sizemode\": \"area\", \"sizeref\": 0.2, \"size\": [0.0]}, \"x\": [0]}, {\"name\": \"decision\", \"text\": [\"decision\"], \"y\": [0.0], \"mode\": \"markers\", \"marker\": {\"sizemode\": \"area\", \"sizeref\": 0.2, \"size\": [0.0]}, \"x\": [0]}, {\"name\": \"high\", \"text\": [\"high\"], \"y\": [0.0], \"mode\": \"markers\", \"marker\": {\"sizemode\": \"area\", \"sizeref\": 0.2, \"size\": [0.0]}, \"x\": [0]}, {\"name\": \"problem\", \"text\": [\"problem\"], \"y\": [0.0], \"mode\": \"markers\", \"marker\": {\"sizemode\": \"area\", \"sizeref\": 0.2, \"size\": [0.0]}, \"x\": [0]}, {\"name\": \"sales\", \"text\": [\"sales\"], \"y\": [0.0], \"mode\": \"markers\", \"marker\": {\"sizemode\": \"area\", \"sizeref\": 0.2, \"size\": [0.0]}, \"x\": [0]}], \"name\": \"2010\"}, {\"data\": [{\"name\": \"find\", \"text\": [\"find\"], \"y\": [1.375], \"mode\": \"markers\", \"marker\": {\"sizemode\": \"area\", \"sizeref\": 0.2, \"size\": [77.0]}, \"x\": [56]}, {\"name\": \"firms\", \"text\": [\"firms\"], \"y\": [2.6956521739130435], \"mode\": \"markers\", \"marker\": {\"sizemode\": \"area\", \"sizeref\": 0.2, \"size\": [62.0]}, \"x\": [23]}, {\"name\": \"information\", \"text\": [\"information\"], \"y\": [2.130434782608696], \"mode\": \"markers\", \"marker\": {\"sizemode\": \"area\", \"sizeref\": 0.2, \"size\": [49.0]}, \"x\": [23]}, {\"name\": \"show\", \"text\": [\"show\"], \"y\": [1.2647058823529411], \"mode\": \"markers\", \"marker\": {\"sizemode\": \"area\", \"sizeref\": 0.2, \"size\": [43.0]}, \"x\": [34]}, {\"name\": \"product\", \"text\": [\"product\"], \"y\": [3.75], \"mode\": \"markers\", \"marker\": {\"sizemode\": \"area\", \"sizeref\": 0.2, \"size\": [60.0]}, \"x\": [16]}, {\"name\": \"market\", \"text\": [\"market\"], \"y\": [2.0], \"mode\": \"markers\", \"marker\": {\"sizemode\": \"area\", \"sizeref\": 0.2, \"size\": [54.0]}, \"x\": [27]}, {\"name\": \"results\", \"text\": [\"results\"], \"y\": [1.1388888888888888], \"mode\": \"markers\", \"marker\": {\"sizemode\": \"area\", \"sizeref\": 0.2, \"size\": [41.0]}, \"x\": [36]}, {\"name\": \"firm\", \"text\": [\"firm\"], \"y\": [2.3], \"mode\": \"markers\", \"marker\": {\"sizemode\": \"area\", \"sizeref\": 0.2, \"size\": [46.0]}, \"x\": [20]}, {\"name\": \"may\", \"text\": [\"may\"], \"y\": [1.7619047619047619], \"mode\": \"markers\", \"marker\": {\"sizemode\": \"area\", \"sizeref\": 0.2, \"size\": [37.0]}, \"x\": [21]}, {\"name\": \"using\", \"text\": [\"using\"], \"y\": [1.2], \"mode\": \"markers\", \"marker\": {\"sizemode\": \"area\", \"sizeref\": 0.2, \"size\": [30.0]}, \"x\": [25]}, {\"name\": \"data\", \"text\": [\"data\"], \"y\": [2.125], \"mode\": \"markers\", \"marker\": {\"sizemode\": \"area\", \"sizeref\": 0.2, \"size\": [17.0]}, \"x\": [8]}, {\"name\": \"risk\", \"text\": [\"risk\"], \"y\": [2.2666666666666666], \"mode\": \"markers\", \"marker\": {\"sizemode\": \"area\", \"sizeref\": 0.2, \"size\": [34.0]}, \"x\": [15]}, {\"name\": \"two\", \"text\": [\"two\"], \"y\": [1.375], \"mode\": \"markers\", \"marker\": {\"sizemode\": \"area\", \"sizeref\": 0.2, \"size\": [33.0]}, \"x\": [24]}, {\"name\": \"effect\", \"text\": [\"effect\"], \"y\": [1.8333333333333333], \"mode\": \"markers\", \"marker\": {\"sizemode\": \"area\", \"sizeref\": 0.2, \"size\": [22.0]}, \"x\": [12]}, {\"name\": \"price\", \"text\": [\"price\"], \"y\": [2.5454545454545454], \"mode\": \"markers\", \"marker\": {\"sizemode\": \"area\", \"sizeref\": 0.2, \"size\": [28.0]}, \"x\": [11]}, {\"name\": \"optimal\", \"text\": [\"optimal\"], \"y\": [2.4444444444444446], \"mode\": \"markers\", \"marker\": {\"sizemode\": \"area\", \"sizeref\": 0.2, \"size\": [44.0]}, \"x\": [18]}, {\"name\": \"performance\", \"text\": [\"performance\"], \"y\": [1.65], \"mode\": \"markers\", \"marker\": {\"sizemode\": \"area\", \"sizeref\": 0.2, \"size\": [33.0]}, \"x\": [20]}, {\"name\": \"paper\", \"text\": [\"paper\"], \"y\": [1.1515151515151516], \"mode\": \"markers\", \"marker\": {\"sizemode\": \"area\", \"sizeref\": 0.2, \"size\": [38.0]}, \"x\": [33]}, {\"name\": \"study\", \"text\": [\"study\"], \"y\": [1.5], \"mode\": \"markers\", \"marker\": {\"sizemode\": \"area\", \"sizeref\": 0.2, \"size\": [12.0]}, \"x\": [8]}, {\"name\": \"higher\", \"text\": [\"higher\"], \"y\": [1.4705882352941178], \"mode\": \"markers\", \"marker\": {\"sizemode\": \"area\", \"sizeref\": 0.2, \"size\": [25.0]}, \"x\": [17]}, {\"name\": \"demand\", \"text\": [\"demand\"], \"y\": [2.111111111111111], \"mode\": \"markers\", \"marker\": {\"sizemode\": \"area\", \"sizeref\": 0.2, \"size\": [19.0]}, \"x\": [9]}, {\"name\": \"new\", \"text\": [\"new\"], \"y\": [1.3888888888888888], \"mode\": \"markers\", \"marker\": {\"sizemode\": \"area\", \"sizeref\": 0.2, \"size\": [25.0]}, \"x\": [18]}, {\"name\": \"use\", \"text\": [\"use\"], \"y\": [1.375], \"mode\": \"markers\", \"marker\": {\"sizemode\": \"area\", \"sizeref\": 0.2, \"size\": [22.0]}, \"x\": [16]}, {\"name\": \"consumers\", \"text\": [\"consumers\"], \"y\": [2.3846153846153846], \"mode\": \"markers\", \"marker\": {\"sizemode\": \"area\", \"sizeref\": 0.2, \"size\": [31.0]}, \"x\": [13]}, {\"name\": \"value\", \"text\": [\"value\"], \"y\": [1.8888888888888888], \"mode\": \"markers\", \"marker\": {\"sizemode\": \"area\", \"sizeref\": 0.2, \"size\": [17.0]}, \"x\": [9]}, {\"name\": \"increase\", \"text\": [\"increase\"], \"y\": [1.3571428571428572], \"mode\": \"markers\", \"marker\": {\"sizemode\": \"area\", \"sizeref\": 0.2, \"size\": [19.0]}, \"x\": [14]}, {\"name\": \"effects\", \"text\": [\"effects\"], \"y\": [1.5555555555555556], \"mode\": \"markers\", \"marker\": {\"sizemode\": \"area\", \"sizeref\": 0.2, \"size\": [14.0]}, \"x\": [9]}, {\"name\": \"evidence\", \"text\": [\"evidence\"], \"y\": [1.2222222222222223], \"mode\": \"markers\", \"marker\": {\"sizemode\": \"area\", \"sizeref\": 0.2, \"size\": [22.0]}, \"x\": [18]}, {\"name\": \"social\", \"text\": [\"social\"], \"y\": [3.1666666666666665], \"mode\": \"markers\", \"marker\": {\"sizemode\": \"area\", \"sizeref\": 0.2, \"size\": [19.0]}, \"x\": [6]}, {\"name\": \"impact\", \"text\": [\"impact\"], \"y\": [1.5333333333333334], \"mode\": \"markers\", \"marker\": {\"sizemode\": \"area\", \"sizeref\": 0.2, \"size\": [23.0]}, \"x\": [15]}, {\"name\": \"cost\", \"text\": [\"cost\"], \"y\": [1.8888888888888888], \"mode\": \"markers\", \"marker\": {\"sizemode\": \"area\", \"sizeref\": 0.2, \"size\": [17.0]}, \"x\": [9]}, {\"name\": \"quality\", \"text\": [\"quality\"], \"y\": [1.8], \"mode\": \"markers\", \"marker\": {\"sizemode\": \"area\", \"sizeref\": 0.2, \"size\": [9.0]}, \"x\": [5]}, {\"name\": \"different\", \"text\": [\"different\"], \"y\": [1.5714285714285714], \"mode\": \"markers\", \"marker\": {\"sizemode\": \"area\", \"sizeref\": 0.2, \"size\": [22.0]}, \"x\": [14]}, {\"name\": \"one\", \"text\": [\"one\"], \"y\": [1.5789473684210527], \"mode\": \"markers\", \"marker\": {\"sizemode\": \"area\", \"sizeref\": 0.2, \"size\": [30.0]}, \"x\": [19]}, {\"name\": \"however,\", \"text\": [\"however,\"], \"y\": [1.5], \"mode\": \"markers\", \"marker\": {\"sizemode\": \"area\", \"sizeref\": 0.2, \"size\": [3.0]}, \"x\": [2]}, {\"name\": \"products\", \"text\": [\"products\"], \"y\": [2.0], \"mode\": \"markers\", \"marker\": {\"sizemode\": \"area\", \"sizeref\": 0.2, \"size\": [14.0]}, \"x\": [7]}, {\"name\": \"consumer\", \"text\": [\"consumer\"], \"y\": [2.3333333333333335], \"mode\": \"markers\", \"marker\": {\"sizemode\": \"area\", \"sizeref\": 0.2, \"size\": [14.0]}, \"x\": [6]}, {\"name\": \"financial\", \"text\": [\"financial\"], \"y\": [1.3], \"mode\": \"markers\", \"marker\": {\"sizemode\": \"area\", \"sizeref\": 0.2, \"size\": [13.0]}, \"x\": [10]}, {\"name\": \"lower\", \"text\": [\"lower\"], \"y\": [1.75], \"mode\": \"markers\", \"marker\": {\"sizemode\": \"area\", \"sizeref\": 0.2, \"size\": [7.0]}, \"x\": [4]}, {\"name\": \"likely\", \"text\": [\"likely\"], \"y\": [1.6153846153846154], \"mode\": \"markers\", \"marker\": {\"sizemode\": \"area\", \"sizeref\": 0.2, \"size\": [21.0]}, \"x\": [13]}, {\"name\": \"pricing\", \"text\": [\"pricing\"], \"y\": [2.0], \"mode\": \"markers\", \"marker\": {\"sizemode\": \"area\", \"sizeref\": 0.2, \"size\": [22.0]}, \"x\": [11]}, {\"name\": \"based\", \"text\": [\"based\"], \"y\": [1.2777777777777777], \"mode\": \"markers\", \"marker\": {\"sizemode\": \"area\", \"sizeref\": 0.2, \"size\": [23.0]}, \"x\": [18]}, {\"name\": \"less\", \"text\": [\"less\"], \"y\": [1.2380952380952381], \"mode\": \"markers\", \"marker\": {\"sizemode\": \"area\", \"sizeref\": 0.2, \"size\": [26.0]}, \"x\": [21]}, {\"name\": \"whether\", \"text\": [\"whether\"], \"y\": [1.6], \"mode\": \"markers\", \"marker\": {\"sizemode\": \"area\", \"sizeref\": 0.2, \"size\": [8.0]}, \"x\": [5]}, {\"name\": \"set\", \"text\": [\"set\"], \"y\": [1.0625], \"mode\": \"markers\", \"marker\": {\"sizemode\": \"area\", \"sizeref\": 0.2, \"size\": [17.0]}, \"x\": [16]}, {\"name\": \"policy\", \"text\": [\"policy\"], \"y\": [2.6666666666666665], \"mode\": \"markers\", \"marker\": {\"sizemode\": \"area\", \"sizeref\": 0.2, \"size\": [8.0]}, \"x\": [3]}, {\"name\": \"decision\", \"text\": [\"decision\"], \"y\": [1.3333333333333333], \"mode\": \"markers\", \"marker\": {\"sizemode\": \"area\", \"sizeref\": 0.2, \"size\": [16.0]}, \"x\": [12]}, {\"name\": \"high\", \"text\": [\"high\"], \"y\": [2.0], \"mode\": \"markers\", \"marker\": {\"sizemode\": \"area\", \"sizeref\": 0.2, \"size\": [20.0]}, \"x\": [10]}, {\"name\": \"problem\", \"text\": [\"problem\"], \"y\": [3.0], \"mode\": \"markers\", \"marker\": {\"sizemode\": \"area\", \"sizeref\": 0.2, \"size\": [6.0]}, \"x\": [2]}, {\"name\": \"sales\", \"text\": [\"sales\"], \"y\": [1.75], \"mode\": \"markers\", \"marker\": {\"sizemode\": \"area\", \"sizeref\": 0.2, \"size\": [7.0]}, \"x\": [4]}], \"name\": \"2011\"}, {\"data\": [{\"name\": \"find\", \"text\": [\"find\"], \"y\": [1.3970588235294117], \"mode\": \"markers\", \"marker\": {\"sizemode\": \"area\", \"sizeref\": 0.2, \"size\": [95.0]}, \"x\": [68]}, {\"name\": \"firms\", \"text\": [\"firms\"], \"y\": [2.13953488372093], \"mode\": \"markers\", \"marker\": {\"sizemode\": \"area\", \"sizeref\": 0.2, \"size\": [92.0]}, \"x\": [43]}, {\"name\": \"information\", \"text\": [\"information\"], \"y\": [2.2], \"mode\": \"markers\", \"marker\": {\"sizemode\": \"area\", \"sizeref\": 0.2, \"size\": [66.0]}, \"x\": [30]}, {\"name\": \"show\", \"text\": [\"show\"], \"y\": [1.346938775510204], \"mode\": \"markers\", \"marker\": {\"sizemode\": \"area\", \"sizeref\": 0.2, \"size\": [66.0]}, \"x\": [49]}, {\"name\": \"product\", \"text\": [\"product\"], \"y\": [2.95], \"mode\": \"markers\", \"marker\": {\"sizemode\": \"area\", \"sizeref\": 0.2, \"size\": [59.0]}, \"x\": [20]}, {\"name\": \"market\", \"text\": [\"market\"], \"y\": [1.7916666666666667], \"mode\": \"markers\", \"marker\": {\"sizemode\": \"area\", \"sizeref\": 0.2, \"size\": [43.0]}, \"x\": [24]}, {\"name\": \"results\", \"text\": [\"results\"], \"y\": [1.2083333333333333], \"mode\": \"markers\", \"marker\": {\"sizemode\": \"area\", \"sizeref\": 0.2, \"size\": [58.0]}, \"x\": [48]}, {\"name\": \"firm\", \"text\": [\"firm\"], \"y\": [1.6521739130434783], \"mode\": \"markers\", \"marker\": {\"sizemode\": \"area\", \"sizeref\": 0.2, \"size\": [38.0]}, \"x\": [23]}, {\"name\": \"may\", \"text\": [\"may\"], \"y\": [1.8], \"mode\": \"markers\", \"marker\": {\"sizemode\": \"area\", \"sizeref\": 0.2, \"size\": [54.0]}, \"x\": [30]}, {\"name\": \"using\", \"text\": [\"using\"], \"y\": [1.2083333333333333], \"mode\": \"markers\", \"marker\": {\"sizemode\": \"area\", \"sizeref\": 0.2, \"size\": [29.0]}, \"x\": [24]}, {\"name\": \"data\", \"text\": [\"data\"], \"y\": [2.2142857142857144], \"mode\": \"markers\", \"marker\": {\"sizemode\": \"area\", \"sizeref\": 0.2, \"size\": [31.0]}, \"x\": [14]}, {\"name\": \"risk\", \"text\": [\"risk\"], \"y\": [2.526315789473684], \"mode\": \"markers\", \"marker\": {\"sizemode\": \"area\", \"sizeref\": 0.2, \"size\": [48.0]}, \"x\": [19]}, {\"name\": \"two\", \"text\": [\"two\"], \"y\": [1.7586206896551724], \"mode\": \"markers\", \"marker\": {\"sizemode\": \"area\", \"sizeref\": 0.2, \"size\": [51.0]}, \"x\": [29]}, {\"name\": \"effect\", \"text\": [\"effect\"], \"y\": [1.5263157894736843], \"mode\": \"markers\", \"marker\": {\"sizemode\": \"area\", \"sizeref\": 0.2, \"size\": [29.0]}, \"x\": [19]}, {\"name\": \"price\", \"text\": [\"price\"], \"y\": [2.5294117647058822], \"mode\": \"markers\", \"marker\": {\"sizemode\": \"area\", \"sizeref\": 0.2, \"size\": [43.0]}, \"x\": [17]}, {\"name\": \"optimal\", \"text\": [\"optimal\"], \"y\": [1.8333333333333333], \"mode\": \"markers\", \"marker\": {\"sizemode\": \"area\", \"sizeref\": 0.2, \"size\": [33.0]}, \"x\": [18]}, {\"name\": \"performance\", \"text\": [\"performance\"], \"y\": [1.55], \"mode\": \"markers\", \"marker\": {\"sizemode\": \"area\", \"sizeref\": 0.2, \"size\": [31.0]}, \"x\": [20]}, {\"name\": \"paper\", \"text\": [\"paper\"], \"y\": [1.1951219512195121], \"mode\": \"markers\", \"marker\": {\"sizemode\": \"area\", \"sizeref\": 0.2, \"size\": [49.0]}, \"x\": [41]}, {\"name\": \"study\", \"text\": [\"study\"], \"y\": [1.5555555555555556], \"mode\": \"markers\", \"marker\": {\"sizemode\": \"area\", \"sizeref\": 0.2, \"size\": [14.0]}, \"x\": [9]}, {\"name\": \"higher\", \"text\": [\"higher\"], \"y\": [1.588235294117647], \"mode\": \"markers\", \"marker\": {\"sizemode\": \"area\", \"sizeref\": 0.2, \"size\": [27.0]}, \"x\": [17]}, {\"name\": \"demand\", \"text\": [\"demand\"], \"y\": [3.25], \"mode\": \"markers\", \"marker\": {\"sizemode\": \"area\", \"sizeref\": 0.2, \"size\": [39.0]}, \"x\": [12]}, {\"name\": \"new\", \"text\": [\"new\"], \"y\": [1.2608695652173914], \"mode\": \"markers\", \"marker\": {\"sizemode\": \"area\", \"sizeref\": 0.2, \"size\": [29.0]}, \"x\": [23]}, {\"name\": \"use\", \"text\": [\"use\"], \"y\": [1.2083333333333333], \"mode\": \"markers\", \"marker\": {\"sizemode\": \"area\", \"sizeref\": 0.2, \"size\": [29.0]}, \"x\": [24]}, {\"name\": \"consumers\", \"text\": [\"consumers\"], \"y\": [1.5625], \"mode\": \"markers\", \"marker\": {\"sizemode\": \"area\", \"sizeref\": 0.2, \"size\": [25.0]}, \"x\": [16]}, {\"name\": \"value\", \"text\": [\"value\"], \"y\": [2.272727272727273], \"mode\": \"markers\", \"marker\": {\"sizemode\": \"area\", \"sizeref\": 0.2, \"size\": [25.0]}, \"x\": [11]}, {\"name\": \"increase\", \"text\": [\"increase\"], \"y\": [1.375], \"mode\": \"markers\", \"marker\": {\"sizemode\": \"area\", \"sizeref\": 0.2, \"size\": [22.0]}, \"x\": [16]}, {\"name\": \"effects\", \"text\": [\"effects\"], \"y\": [1.375], \"mode\": \"markers\", \"marker\": {\"sizemode\": \"area\", \"sizeref\": 0.2, \"size\": [22.0]}, \"x\": [16]}, {\"name\": \"evidence\", \"text\": [\"evidence\"], \"y\": [1.411764705882353], \"mode\": \"markers\", \"marker\": {\"sizemode\": \"area\", \"sizeref\": 0.2, \"size\": [24.0]}, \"x\": [17]}, {\"name\": \"social\", \"text\": [\"social\"], \"y\": [2.0], \"mode\": \"markers\", \"marker\": {\"sizemode\": \"area\", \"sizeref\": 0.2, \"size\": [12.0]}, \"x\": [6]}, {\"name\": \"impact\", \"text\": [\"impact\"], \"y\": [1.0714285714285714], \"mode\": \"markers\", \"marker\": {\"sizemode\": \"area\", \"sizeref\": 0.2, \"size\": [15.0]}, \"x\": [14]}, {\"name\": \"cost\", \"text\": [\"cost\"], \"y\": [2.0588235294117645], \"mode\": \"markers\", \"marker\": {\"sizemode\": \"area\", \"sizeref\": 0.2, \"size\": [35.0]}, \"x\": [17]}, {\"name\": \"quality\", \"text\": [\"quality\"], \"y\": [2.5833333333333335], \"mode\": \"markers\", \"marker\": {\"sizemode\": \"area\", \"sizeref\": 0.2, \"size\": [31.0]}, \"x\": [12]}, {\"name\": \"different\", \"text\": [\"different\"], \"y\": [1.2666666666666666], \"mode\": \"markers\", \"marker\": {\"sizemode\": \"area\", \"sizeref\": 0.2, \"size\": [19.0]}, \"x\": [15]}, {\"name\": \"one\", \"text\": [\"one\"], \"y\": [1.391304347826087], \"mode\": \"markers\", \"marker\": {\"sizemode\": \"area\", \"sizeref\": 0.2, \"size\": [32.0]}, \"x\": [23]}, {\"name\": \"however,\", \"text\": [\"however,\"], \"y\": [1.25], \"mode\": \"markers\", \"marker\": {\"sizemode\": \"area\", \"sizeref\": 0.2, \"size\": [5.0]}, \"x\": [4]}, {\"name\": \"products\", \"text\": [\"products\"], \"y\": [2.6666666666666665], \"mode\": \"markers\", \"marker\": {\"sizemode\": \"area\", \"sizeref\": 0.2, \"size\": [16.0]}, \"x\": [6]}, {\"name\": \"consumer\", \"text\": [\"consumer\"], \"y\": [2.6], \"mode\": \"markers\", \"marker\": {\"sizemode\": \"area\", \"sizeref\": 0.2, \"size\": [26.0]}, \"x\": [10]}, {\"name\": \"financial\", \"text\": [\"financial\"], \"y\": [1.6153846153846154], \"mode\": \"markers\", \"marker\": {\"sizemode\": \"area\", \"sizeref\": 0.2, \"size\": [21.0]}, \"x\": [13]}, {\"name\": \"lower\", \"text\": [\"lower\"], \"y\": [2.0], \"mode\": \"markers\", \"marker\": {\"sizemode\": \"area\", \"sizeref\": 0.2, \"size\": [12.0]}, \"x\": [6]}, {\"name\": \"likely\", \"text\": [\"likely\"], \"y\": [1.1818181818181819], \"mode\": \"markers\", \"marker\": {\"sizemode\": \"area\", \"sizeref\": 0.2, \"size\": [13.0]}, \"x\": [11]}, {\"name\": \"pricing\", \"text\": [\"pricing\"], \"y\": [2.0], \"mode\": \"markers\", \"marker\": {\"sizemode\": \"area\", \"sizeref\": 0.2, \"size\": [30.0]}, \"x\": [15]}, {\"name\": \"based\", \"text\": [\"based\"], \"y\": [1.0384615384615385], \"mode\": \"markers\", \"marker\": {\"sizemode\": \"area\", \"sizeref\": 0.2, \"size\": [27.0]}, \"x\": [26]}, {\"name\": \"less\", \"text\": [\"less\"], \"y\": [1.1818181818181819], \"mode\": \"markers\", \"marker\": {\"sizemode\": \"area\", \"sizeref\": 0.2, \"size\": [26.0]}, \"x\": [22]}, {\"name\": \"whether\", \"text\": [\"whether\"], \"y\": [1.5], \"mode\": \"markers\", \"marker\": {\"sizemode\": \"area\", \"sizeref\": 0.2, \"size\": [3.0]}, \"x\": [2]}, {\"name\": \"set\", \"text\": [\"set\"], \"y\": [1.173913043478261], \"mode\": \"markers\", \"marker\": {\"sizemode\": \"area\", \"sizeref\": 0.2, \"size\": [27.0]}, \"x\": [23]}, {\"name\": \"policy\", \"text\": [\"policy\"], \"y\": [2.1], \"mode\": \"markers\", \"marker\": {\"sizemode\": \"area\", \"sizeref\": 0.2, \"size\": [21.0]}, \"x\": [10]}, {\"name\": \"decision\", \"text\": [\"decision\"], \"y\": [1.5714285714285714], \"mode\": \"markers\", \"marker\": {\"sizemode\": \"area\", \"sizeref\": 0.2, \"size\": [22.0]}, \"x\": [14]}, {\"name\": \"high\", \"text\": [\"high\"], \"y\": [1.5555555555555556], \"mode\": \"markers\", \"marker\": {\"sizemode\": \"area\", \"sizeref\": 0.2, \"size\": [14.0]}, \"x\": [9]}, {\"name\": \"problem\", \"text\": [\"problem\"], \"y\": [2.4444444444444446], \"mode\": \"markers\", \"marker\": {\"sizemode\": \"area\", \"sizeref\": 0.2, \"size\": [22.0]}, \"x\": [9]}, {\"name\": \"sales\", \"text\": [\"sales\"], \"y\": [2.8333333333333335], \"mode\": \"markers\", \"marker\": {\"sizemode\": \"area\", \"sizeref\": 0.2, \"size\": [17.0]}, \"x\": [6]}], \"name\": \"2012\"}, {\"data\": [{\"name\": \"find\", \"text\": [\"find\"], \"y\": [1.5510204081632653], \"mode\": \"markers\", \"marker\": {\"sizemode\": \"area\", \"sizeref\": 0.2, \"size\": [76.0]}, \"x\": [49]}, {\"name\": \"firms\", \"text\": [\"firms\"], \"y\": [2.742857142857143], \"mode\": \"markers\", \"marker\": {\"sizemode\": \"area\", \"sizeref\": 0.2, \"size\": [96.0]}, \"x\": [35]}, {\"name\": \"information\", \"text\": [\"information\"], \"y\": [2.3333333333333335], \"mode\": \"markers\", \"marker\": {\"sizemode\": \"area\", \"sizeref\": 0.2, \"size\": [42.0]}, \"x\": [18]}, {\"name\": \"show\", \"text\": [\"show\"], \"y\": [1.3488372093023255], \"mode\": \"markers\", \"marker\": {\"sizemode\": \"area\", \"sizeref\": 0.2, \"size\": [58.0]}, \"x\": [43]}, {\"name\": \"product\", \"text\": [\"product\"], \"y\": [2.235294117647059], \"mode\": \"markers\", \"marker\": {\"sizemode\": \"area\", \"sizeref\": 0.2, \"size\": [38.0]}, \"x\": [17]}, {\"name\": \"market\", \"text\": [\"market\"], \"y\": [2.230769230769231], \"mode\": \"markers\", \"marker\": {\"sizemode\": \"area\", \"sizeref\": 0.2, \"size\": [58.0]}, \"x\": [26]}, {\"name\": \"results\", \"text\": [\"results\"], \"y\": [1.1891891891891893], \"mode\": \"markers\", \"marker\": {\"sizemode\": \"area\", \"sizeref\": 0.2, \"size\": [44.0]}, \"x\": [37]}, {\"name\": \"firm\", \"text\": [\"firm\"], \"y\": [2.608695652173913], \"mode\": \"markers\", \"marker\": {\"sizemode\": \"area\", \"sizeref\": 0.2, \"size\": [60.0]}, \"x\": [23]}, {\"name\": \"may\", \"text\": [\"may\"], \"y\": [2.0476190476190474], \"mode\": \"markers\", \"marker\": {\"sizemode\": \"area\", \"sizeref\": 0.2, \"size\": [43.0]}, \"x\": [21]}, {\"name\": \"using\", \"text\": [\"using\"], \"y\": [1.3548387096774193], \"mode\": \"markers\", \"marker\": {\"sizemode\": \"area\", \"sizeref\": 0.2, \"size\": [42.0]}, \"x\": [31]}, {\"name\": \"data\", \"text\": [\"data\"], \"y\": [1.6666666666666667], \"mode\": \"markers\", \"marker\": {\"sizemode\": \"area\", \"sizeref\": 0.2, \"size\": [20.0]}, \"x\": [12]}, {\"name\": \"risk\", \"text\": [\"risk\"], \"y\": [2.9411764705882355], \"mode\": \"markers\", \"marker\": {\"sizemode\": \"area\", \"sizeref\": 0.2, \"size\": [50.0]}, \"x\": [17]}, {\"name\": \"two\", \"text\": [\"two\"], \"y\": [1.4090909090909092], \"mode\": \"markers\", \"marker\": {\"sizemode\": \"area\", \"sizeref\": 0.2, \"size\": [31.0]}, \"x\": [22]}, {\"name\": \"effect\", \"text\": [\"effect\"], \"y\": [1.894736842105263], \"mode\": \"markers\", \"marker\": {\"sizemode\": \"area\", \"sizeref\": 0.2, \"size\": [36.0]}, \"x\": [19]}, {\"name\": \"price\", \"text\": [\"price\"], \"y\": [2.6842105263157894], \"mode\": \"markers\", \"marker\": {\"sizemode\": \"area\", \"sizeref\": 0.2, \"size\": [51.0]}, \"x\": [19]}, {\"name\": \"optimal\", \"text\": [\"optimal\"], \"y\": [2.05], \"mode\": \"markers\", \"marker\": {\"sizemode\": \"area\", \"sizeref\": 0.2, \"size\": [41.0]}, \"x\": [20]}, {\"name\": \"performance\", \"text\": [\"performance\"], \"y\": [2.230769230769231], \"mode\": \"markers\", \"marker\": {\"sizemode\": \"area\", \"sizeref\": 0.2, \"size\": [29.0]}, \"x\": [13]}, {\"name\": \"paper\", \"text\": [\"paper\"], \"y\": [1.064516129032258], \"mode\": \"markers\", \"marker\": {\"sizemode\": \"area\", \"sizeref\": 0.2, \"size\": [33.0]}, \"x\": [31]}, {\"name\": \"study\", \"text\": [\"study\"], \"y\": [1.0909090909090908], \"mode\": \"markers\", \"marker\": {\"sizemode\": \"area\", \"sizeref\": 0.2, \"size\": [12.0]}, \"x\": [11]}, {\"name\": \"higher\", \"text\": [\"higher\"], \"y\": [1.65], \"mode\": \"markers\", \"marker\": {\"sizemode\": \"area\", \"sizeref\": 0.2, \"size\": [33.0]}, \"x\": [20]}, {\"name\": \"demand\", \"text\": [\"demand\"], \"y\": [2.272727272727273], \"mode\": \"markers\", \"marker\": {\"sizemode\": \"area\", \"sizeref\": 0.2, \"size\": [25.0]}, \"x\": [11]}, {\"name\": \"new\", \"text\": [\"new\"], \"y\": [1.6111111111111112], \"mode\": \"markers\", \"marker\": {\"sizemode\": \"area\", \"sizeref\": 0.2, \"size\": [29.0]}, \"x\": [18]}, {\"name\": \"use\", \"text\": [\"use\"], \"y\": [1.5], \"mode\": \"markers\", \"marker\": {\"sizemode\": \"area\", \"sizeref\": 0.2, \"size\": [24.0]}, \"x\": [16]}, {\"name\": \"consumers\", \"text\": [\"consumers\"], \"y\": [2.9], \"mode\": \"markers\", \"marker\": {\"sizemode\": \"area\", \"sizeref\": 0.2, \"size\": [29.0]}, \"x\": [10]}, {\"name\": \"value\", \"text\": [\"value\"], \"y\": [1.8888888888888888], \"mode\": \"markers\", \"marker\": {\"sizemode\": \"area\", \"sizeref\": 0.2, \"size\": [17.0]}, \"x\": [9]}, {\"name\": \"increase\", \"text\": [\"increase\"], \"y\": [1.5714285714285714], \"mode\": \"markers\", \"marker\": {\"sizemode\": \"area\", \"sizeref\": 0.2, \"size\": [33.0]}, \"x\": [21]}, {\"name\": \"effects\", \"text\": [\"effects\"], \"y\": [1.6470588235294117], \"mode\": \"markers\", \"marker\": {\"sizemode\": \"area\", \"sizeref\": 0.2, \"size\": [28.0]}, \"x\": [17]}, {\"name\": \"evidence\", \"text\": [\"evidence\"], \"y\": [1.3571428571428572], \"mode\": \"markers\", \"marker\": {\"sizemode\": \"area\", \"sizeref\": 0.2, \"size\": [19.0]}, \"x\": [14]}, {\"name\": \"social\", \"text\": [\"social\"], \"y\": [4.0], \"mode\": \"markers\", \"marker\": {\"sizemode\": \"area\", \"sizeref\": 0.2, \"size\": [20.0]}, \"x\": [5]}, {\"name\": \"impact\", \"text\": [\"impact\"], \"y\": [1.0476190476190477], \"mode\": \"markers\", \"marker\": {\"sizemode\": \"area\", \"sizeref\": 0.2, \"size\": [22.0]}, \"x\": [21]}, {\"name\": \"cost\", \"text\": [\"cost\"], \"y\": [1.4375], \"mode\": \"markers\", \"marker\": {\"sizemode\": \"area\", \"sizeref\": 0.2, \"size\": [23.0]}, \"x\": [16]}, {\"name\": \"quality\", \"text\": [\"quality\"], \"y\": [1.6666666666666667], \"mode\": \"markers\", \"marker\": {\"sizemode\": \"area\", \"sizeref\": 0.2, \"size\": [20.0]}, \"x\": [12]}, {\"name\": \"different\", \"text\": [\"different\"], \"y\": [1.5], \"mode\": \"markers\", \"marker\": {\"sizemode\": \"area\", \"sizeref\": 0.2, \"size\": [21.0]}, \"x\": [14]}, {\"name\": \"one\", \"text\": [\"one\"], \"y\": [1.2352941176470589], \"mode\": \"markers\", \"marker\": {\"sizemode\": \"area\", \"sizeref\": 0.2, \"size\": [21.0]}, \"x\": [17]}, {\"name\": \"however,\", \"text\": [\"however,\"], \"y\": [1.3333333333333333], \"mode\": \"markers\", \"marker\": {\"sizemode\": \"area\", \"sizeref\": 0.2, \"size\": [8.0]}, \"x\": [6]}, {\"name\": \"products\", \"text\": [\"products\"], \"y\": [2.25], \"mode\": \"markers\", \"marker\": {\"sizemode\": \"area\", \"sizeref\": 0.2, \"size\": [9.0]}, \"x\": [4]}, {\"name\": \"consumer\", \"text\": [\"consumer\"], \"y\": [3.1666666666666665], \"mode\": \"markers\", \"marker\": {\"sizemode\": \"area\", \"sizeref\": 0.2, \"size\": [19.0]}, \"x\": [6]}, {\"name\": \"financial\", \"text\": [\"financial\"], \"y\": [2.0], \"mode\": \"markers\", \"marker\": {\"sizemode\": \"area\", \"sizeref\": 0.2, \"size\": [32.0]}, \"x\": [16]}, {\"name\": \"lower\", \"text\": [\"lower\"], \"y\": [2.0], \"mode\": \"markers\", \"marker\": {\"sizemode\": \"area\", \"sizeref\": 0.2, \"size\": [14.0]}, \"x\": [7]}, {\"name\": \"likely\", \"text\": [\"likely\"], \"y\": [1.2857142857142858], \"mode\": \"markers\", \"marker\": {\"sizemode\": \"area\", \"sizeref\": 0.2, \"size\": [9.0]}, \"x\": [7]}, {\"name\": \"pricing\", \"text\": [\"pricing\"], \"y\": [1.9285714285714286], \"mode\": \"markers\", \"marker\": {\"sizemode\": \"area\", \"sizeref\": 0.2, \"size\": [27.0]}, \"x\": [14]}, {\"name\": \"based\", \"text\": [\"based\"], \"y\": [1.0833333333333333], \"mode\": \"markers\", \"marker\": {\"sizemode\": \"area\", \"sizeref\": 0.2, \"size\": [13.0]}, \"x\": [12]}, {\"name\": \"less\", \"text\": [\"less\"], \"y\": [1.2352941176470589], \"mode\": \"markers\", \"marker\": {\"sizemode\": \"area\", \"sizeref\": 0.2, \"size\": [21.0]}, \"x\": [17]}, {\"name\": \"whether\", \"text\": [\"whether\"], \"y\": [1.5454545454545454], \"mode\": \"markers\", \"marker\": {\"sizemode\": \"area\", \"sizeref\": 0.2, \"size\": [17.0]}, \"x\": [11]}, {\"name\": \"set\", \"text\": [\"set\"], \"y\": [1.2727272727272727], \"mode\": \"markers\", \"marker\": {\"sizemode\": \"area\", \"sizeref\": 0.2, \"size\": [14.0]}, \"x\": [11]}, {\"name\": \"policy\", \"text\": [\"policy\"], \"y\": [1.5714285714285714], \"mode\": \"markers\", \"marker\": {\"sizemode\": \"area\", \"sizeref\": 0.2, \"size\": [11.0]}, \"x\": [7]}, {\"name\": \"decision\", \"text\": [\"decision\"], \"y\": [1.5294117647058822], \"mode\": \"markers\", \"marker\": {\"sizemode\": \"area\", \"sizeref\": 0.2, \"size\": [26.0]}, \"x\": [17]}, {\"name\": \"high\", \"text\": [\"high\"], \"y\": [1.0], \"mode\": \"markers\", \"marker\": {\"sizemode\": \"area\", \"sizeref\": 0.2, \"size\": [9.0]}, \"x\": [9]}, {\"name\": \"problem\", \"text\": [\"problem\"], \"y\": [2.2], \"mode\": \"markers\", \"marker\": {\"sizemode\": \"area\", \"sizeref\": 0.2, \"size\": [11.0]}, \"x\": [5]}, {\"name\": \"sales\", \"text\": [\"sales\"], \"y\": [1.875], \"mode\": \"markers\", \"marker\": {\"sizemode\": \"area\", \"sizeref\": 0.2, \"size\": [15.0]}, \"x\": [8]}], \"name\": \"2013\"}, {\"data\": [{\"name\": \"find\", \"text\": [\"find\"], \"y\": [1.3296703296703296], \"mode\": \"markers\", \"marker\": {\"sizemode\": \"area\", \"sizeref\": 0.2, \"size\": [121.0]}, \"x\": [91]}, {\"name\": \"firms\", \"text\": [\"firms\"], \"y\": [2.1944444444444446], \"mode\": \"markers\", \"marker\": {\"sizemode\": \"area\", \"sizeref\": 0.2, \"size\": [79.0]}, \"x\": [36]}, {\"name\": \"information\", \"text\": [\"information\"], \"y\": [2.1315789473684212], \"mode\": \"markers\", \"marker\": {\"sizemode\": \"area\", \"sizeref\": 0.2, \"size\": [81.0]}, \"x\": [38]}, {\"name\": \"show\", \"text\": [\"show\"], \"y\": [1.3582089552238805], \"mode\": \"markers\", \"marker\": {\"sizemode\": \"area\", \"sizeref\": 0.2, \"size\": [91.0]}, \"x\": [67]}, {\"name\": \"product\", \"text\": [\"product\"], \"y\": [3.235294117647059], \"mode\": \"markers\", \"marker\": {\"sizemode\": \"area\", \"sizeref\": 0.2, \"size\": [55.0]}, \"x\": [17]}, {\"name\": \"market\", \"text\": [\"market\"], \"y\": [1.7857142857142858], \"mode\": \"markers\", \"marker\": {\"sizemode\": \"area\", \"sizeref\": 0.2, \"size\": [75.0]}, \"x\": [42]}, {\"name\": \"results\", \"text\": [\"results\"], \"y\": [1.1403508771929824], \"mode\": \"markers\", \"marker\": {\"sizemode\": \"area\", \"sizeref\": 0.2, \"size\": [65.0]}, \"x\": [57]}, {\"name\": \"firm\", \"text\": [\"firm\"], \"y\": [2.25], \"mode\": \"markers\", \"marker\": {\"sizemode\": \"area\", \"sizeref\": 0.2, \"size\": [63.0]}, \"x\": [28]}, {\"name\": \"may\", \"text\": [\"may\"], \"y\": [1.6666666666666667], \"mode\": \"markers\", \"marker\": {\"sizemode\": \"area\", \"sizeref\": 0.2, \"size\": [45.0]}, \"x\": [27]}, {\"name\": \"using\", \"text\": [\"using\"], \"y\": [1.3333333333333333], \"mode\": \"markers\", \"marker\": {\"sizemode\": \"area\", \"sizeref\": 0.2, \"size\": [48.0]}, \"x\": [36]}, {\"name\": \"data\", \"text\": [\"data\"], \"y\": [1.6818181818181819], \"mode\": \"markers\", \"marker\": {\"sizemode\": \"area\", \"sizeref\": 0.2, \"size\": [37.0]}, \"x\": [22]}, {\"name\": \"risk\", \"text\": [\"risk\"], \"y\": [3.1363636363636362], \"mode\": \"markers\", \"marker\": {\"sizemode\": \"area\", \"sizeref\": 0.2, \"size\": [69.0]}, \"x\": [22]}, {\"name\": \"two\", \"text\": [\"two\"], \"y\": [1.6153846153846154], \"mode\": \"markers\", \"marker\": {\"sizemode\": \"area\", \"sizeref\": 0.2, \"size\": [42.0]}, \"x\": [26]}, {\"name\": \"effect\", \"text\": [\"effect\"], \"y\": [1.6956521739130435], \"mode\": \"markers\", \"marker\": {\"sizemode\": \"area\", \"sizeref\": 0.2, \"size\": [39.0]}, \"x\": [23]}, {\"name\": \"price\", \"text\": [\"price\"], \"y\": [2.590909090909091], \"mode\": \"markers\", \"marker\": {\"sizemode\": \"area\", \"sizeref\": 0.2, \"size\": [57.0]}, \"x\": [22]}, {\"name\": \"optimal\", \"text\": [\"optimal\"], \"y\": [1.6153846153846154], \"mode\": \"markers\", \"marker\": {\"sizemode\": \"area\", \"sizeref\": 0.2, \"size\": [42.0]}, \"x\": [26]}, {\"name\": \"performance\", \"text\": [\"performance\"], \"y\": [1.7037037037037037], \"mode\": \"markers\", \"marker\": {\"sizemode\": \"area\", \"sizeref\": 0.2, \"size\": [46.0]}, \"x\": [27]}, {\"name\": \"paper\", \"text\": [\"paper\"], \"y\": [1.0851063829787233], \"mode\": \"markers\", \"marker\": {\"sizemode\": \"area\", \"sizeref\": 0.2, \"size\": [51.0]}, \"x\": [47]}, {\"name\": \"study\", \"text\": [\"study\"], \"y\": [1.4285714285714286], \"mode\": \"markers\", \"marker\": {\"sizemode\": \"area\", \"sizeref\": 0.2, \"size\": [30.0]}, \"x\": [21]}, {\"name\": \"higher\", \"text\": [\"higher\"], \"y\": [1.6842105263157894], \"mode\": \"markers\", \"marker\": {\"sizemode\": \"area\", \"sizeref\": 0.2, \"size\": [32.0]}, \"x\": [19]}, {\"name\": \"demand\", \"text\": [\"demand\"], \"y\": [2.6666666666666665], \"mode\": \"markers\", \"marker\": {\"sizemode\": \"area\", \"sizeref\": 0.2, \"size\": [48.0]}, \"x\": [18]}, {\"name\": \"new\", \"text\": [\"new\"], \"y\": [1.6111111111111112], \"mode\": \"markers\", \"marker\": {\"sizemode\": \"area\", \"sizeref\": 0.2, \"size\": [58.0]}, \"x\": [36]}, {\"name\": \"use\", \"text\": [\"use\"], \"y\": [1.3888888888888888], \"mode\": \"markers\", \"marker\": {\"sizemode\": \"area\", \"sizeref\": 0.2, \"size\": [25.0]}, \"x\": [18]}, {\"name\": \"consumers\", \"text\": [\"consumers\"], \"y\": [2.8], \"mode\": \"markers\", \"marker\": {\"sizemode\": \"area\", \"sizeref\": 0.2, \"size\": [42.0]}, \"x\": [15]}, {\"name\": \"value\", \"text\": [\"value\"], \"y\": [2.3846153846153846], \"mode\": \"markers\", \"marker\": {\"sizemode\": \"area\", \"sizeref\": 0.2, \"size\": [31.0]}, \"x\": [13]}, {\"name\": \"increase\", \"text\": [\"increase\"], \"y\": [1.2173913043478262], \"mode\": \"markers\", \"marker\": {\"sizemode\": \"area\", \"sizeref\": 0.2, \"size\": [28.0]}, \"x\": [23]}, {\"name\": \"effects\", \"text\": [\"effects\"], \"y\": [1.8148148148148149], \"mode\": \"markers\", \"marker\": {\"sizemode\": \"area\", \"sizeref\": 0.2, \"size\": [49.0]}, \"x\": [27]}, {\"name\": \"evidence\", \"text\": [\"evidence\"], \"y\": [1.2], \"mode\": \"markers\", \"marker\": {\"sizemode\": \"area\", \"sizeref\": 0.2, \"size\": [30.0]}, \"x\": [25]}, {\"name\": \"social\", \"text\": [\"social\"], \"y\": [3.0], \"mode\": \"markers\", \"marker\": {\"sizemode\": \"area\", \"sizeref\": 0.2, \"size\": [42.0]}, \"x\": [14]}, {\"name\": \"impact\", \"text\": [\"impact\"], \"y\": [1.3333333333333333], \"mode\": \"markers\", \"marker\": {\"sizemode\": \"area\", \"sizeref\": 0.2, \"size\": [36.0]}, \"x\": [27]}, {\"name\": \"cost\", \"text\": [\"cost\"], \"y\": [2.12], \"mode\": \"markers\", \"marker\": {\"sizemode\": \"area\", \"sizeref\": 0.2, \"size\": [53.0]}, \"x\": [25]}, {\"name\": \"quality\", \"text\": [\"quality\"], \"y\": [2.2142857142857144], \"mode\": \"markers\", \"marker\": {\"sizemode\": \"area\", \"sizeref\": 0.2, \"size\": [31.0]}, \"x\": [14]}, {\"name\": \"different\", \"text\": [\"different\"], \"y\": [1.3125], \"mode\": \"markers\", \"marker\": {\"sizemode\": \"area\", \"sizeref\": 0.2, \"size\": [21.0]}, \"x\": [16]}, {\"name\": \"one\", \"text\": [\"one\"], \"y\": [1.588235294117647], \"mode\": \"markers\", \"marker\": {\"sizemode\": \"area\", \"sizeref\": 0.2, \"size\": [27.0]}, \"x\": [17]}, {\"name\": \"however,\", \"text\": [\"however,\"], \"y\": [1.4285714285714286], \"mode\": \"markers\", \"marker\": {\"sizemode\": \"area\", \"sizeref\": 0.2, \"size\": [10.0]}, \"x\": [7]}, {\"name\": \"products\", \"text\": [\"products\"], \"y\": [2.857142857142857], \"mode\": \"markers\", \"marker\": {\"sizemode\": \"area\", \"sizeref\": 0.2, \"size\": [20.0]}, \"x\": [7]}, {\"name\": \"consumer\", \"text\": [\"consumer\"], \"y\": [1.9166666666666667], \"mode\": \"markers\", \"marker\": {\"sizemode\": \"area\", \"sizeref\": 0.2, \"size\": [23.0]}, \"x\": [12]}, {\"name\": \"financial\", \"text\": [\"financial\"], \"y\": [2.8461538461538463], \"mode\": \"markers\", \"marker\": {\"sizemode\": \"area\", \"sizeref\": 0.2, \"size\": [37.0]}, \"x\": [13]}, {\"name\": \"lower\", \"text\": [\"lower\"], \"y\": [1.6363636363636365], \"mode\": \"markers\", \"marker\": {\"sizemode\": \"area\", \"sizeref\": 0.2, \"size\": [18.0]}, \"x\": [11]}, {\"name\": \"likely\", \"text\": [\"likely\"], \"y\": [1.3793103448275863], \"mode\": \"markers\", \"marker\": {\"sizemode\": \"area\", \"sizeref\": 0.2, \"size\": [40.0]}, \"x\": [29]}, {\"name\": \"pricing\", \"text\": [\"pricing\"], \"y\": [1.6153846153846154], \"mode\": \"markers\", \"marker\": {\"sizemode\": \"area\", \"sizeref\": 0.2, \"size\": [21.0]}, \"x\": [13]}, {\"name\": \"based\", \"text\": [\"based\"], \"y\": [1.1578947368421053], \"mode\": \"markers\", \"marker\": {\"sizemode\": \"area\", \"sizeref\": 0.2, \"size\": [22.0]}, \"x\": [19]}, {\"name\": \"less\", \"text\": [\"less\"], \"y\": [1.0833333333333333], \"mode\": \"markers\", \"marker\": {\"sizemode\": \"area\", \"sizeref\": 0.2, \"size\": [26.0]}, \"x\": [24]}, {\"name\": \"whether\", \"text\": [\"whether\"], \"y\": [1.4], \"mode\": \"markers\", \"marker\": {\"sizemode\": \"area\", \"sizeref\": 0.2, \"size\": [7.0]}, \"x\": [5]}, {\"name\": \"set\", \"text\": [\"set\"], \"y\": [1.4444444444444444], \"mode\": \"markers\", \"marker\": {\"sizemode\": \"area\", \"sizeref\": 0.2, \"size\": [26.0]}, \"x\": [18]}, {\"name\": \"policy\", \"text\": [\"policy\"], \"y\": [1.7391304347826086], \"mode\": \"markers\", \"marker\": {\"sizemode\": \"area\", \"sizeref\": 0.2, \"size\": [40.0]}, \"x\": [23]}, {\"name\": \"decision\", \"text\": [\"decision\"], \"y\": [1.736842105263158], \"mode\": \"markers\", \"marker\": {\"sizemode\": \"area\", \"sizeref\": 0.2, \"size\": [33.0]}, \"x\": [19]}, {\"name\": \"high\", \"text\": [\"high\"], \"y\": [1.8181818181818181], \"mode\": \"markers\", \"marker\": {\"sizemode\": \"area\", \"sizeref\": 0.2, \"size\": [20.0]}, \"x\": [11]}, {\"name\": \"problem\", \"text\": [\"problem\"], \"y\": [2.5454545454545454], \"mode\": \"markers\", \"marker\": {\"sizemode\": \"area\", \"sizeref\": 0.2, \"size\": [28.0]}, \"x\": [11]}, {\"name\": \"sales\", \"text\": [\"sales\"], \"y\": [2.5714285714285716], \"mode\": \"markers\", \"marker\": {\"sizemode\": \"area\", \"sizeref\": 0.2, \"size\": [36.0]}, \"x\": [14]}], \"name\": \"2014\"}, {\"data\": [{\"name\": \"find\", \"text\": [\"find\"], \"y\": [1.4210526315789473], \"mode\": \"markers\", \"marker\": {\"sizemode\": \"area\", \"sizeref\": 0.2, \"size\": [162.0]}, \"x\": [114]}, {\"name\": \"firms\", \"text\": [\"firms\"], \"y\": [2.6363636363636362], \"mode\": \"markers\", \"marker\": {\"sizemode\": \"area\", \"sizeref\": 0.2, \"size\": [116.0]}, \"x\": [44]}, {\"name\": \"information\", \"text\": [\"information\"], \"y\": [2.736842105263158], \"mode\": \"markers\", \"marker\": {\"sizemode\": \"area\", \"sizeref\": 0.2, \"size\": [104.0]}, \"x\": [38]}, {\"name\": \"show\", \"text\": [\"show\"], \"y\": [1.2615384615384615], \"mode\": \"markers\", \"marker\": {\"sizemode\": \"area\", \"sizeref\": 0.2, \"size\": [82.0]}, \"x\": [65]}, {\"name\": \"product\", \"text\": [\"product\"], \"y\": [2.6842105263157894], \"mode\": \"markers\", \"marker\": {\"sizemode\": \"area\", \"sizeref\": 0.2, \"size\": [51.0]}, \"x\": [19]}, {\"name\": \"market\", \"text\": [\"market\"], \"y\": [1.8181818181818181], \"mode\": \"markers\", \"marker\": {\"sizemode\": \"area\", \"sizeref\": 0.2, \"size\": [40.0]}, \"x\": [22]}, {\"name\": \"results\", \"text\": [\"results\"], \"y\": [1.2794117647058822], \"mode\": \"markers\", \"marker\": {\"sizemode\": \"area\", \"sizeref\": 0.2, \"size\": [87.0]}, \"x\": [68]}, {\"name\": \"firm\", \"text\": [\"firm\"], \"y\": [1.875], \"mode\": \"markers\", \"marker\": {\"sizemode\": \"area\", \"sizeref\": 0.2, \"size\": [60.0]}, \"x\": [32]}, {\"name\": \"may\", \"text\": [\"may\"], \"y\": [1.8709677419354838], \"mode\": \"markers\", \"marker\": {\"sizemode\": \"area\", \"sizeref\": 0.2, \"size\": [58.0]}, \"x\": [31]}, {\"name\": \"using\", \"text\": [\"using\"], \"y\": [1.28], \"mode\": \"markers\", \"marker\": {\"sizemode\": \"area\", \"sizeref\": 0.2, \"size\": [64.0]}, \"x\": [50]}, {\"name\": \"data\", \"text\": [\"data\"], \"y\": [1.45], \"mode\": \"markers\", \"marker\": {\"sizemode\": \"area\", \"sizeref\": 0.2, \"size\": [29.0]}, \"x\": [20]}, {\"name\": \"risk\", \"text\": [\"risk\"], \"y\": [2.8095238095238093], \"mode\": \"markers\", \"marker\": {\"sizemode\": \"area\", \"sizeref\": 0.2, \"size\": [59.0]}, \"x\": [21]}, {\"name\": \"two\", \"text\": [\"two\"], \"y\": [1.6785714285714286], \"mode\": \"markers\", \"marker\": {\"sizemode\": \"area\", \"sizeref\": 0.2, \"size\": [47.0]}, \"x\": [28]}, {\"name\": \"effect\", \"text\": [\"effect\"], \"y\": [1.6857142857142857], \"mode\": \"markers\", \"marker\": {\"sizemode\": \"area\", \"sizeref\": 0.2, \"size\": [59.0]}, \"x\": [35]}, {\"name\": \"price\", \"text\": [\"price\"], \"y\": [2.0588235294117645], \"mode\": \"markers\", \"marker\": {\"sizemode\": \"area\", \"sizeref\": 0.2, \"size\": [35.0]}, \"x\": [17]}, {\"name\": \"optimal\", \"text\": [\"optimal\"], \"y\": [2.263157894736842], \"mode\": \"markers\", \"marker\": {\"sizemode\": \"area\", \"sizeref\": 0.2, \"size\": [43.0]}, \"x\": [19]}, {\"name\": \"performance\", \"text\": [\"performance\"], \"y\": [2.090909090909091], \"mode\": \"markers\", \"marker\": {\"sizemode\": \"area\", \"sizeref\": 0.2, \"size\": [46.0]}, \"x\": [22]}, {\"name\": \"paper\", \"text\": [\"paper\"], \"y\": [1.0454545454545454], \"mode\": \"markers\", \"marker\": {\"sizemode\": \"area\", \"sizeref\": 0.2, \"size\": [46.0]}, \"x\": [44]}, {\"name\": \"study\", \"text\": [\"study\"], \"y\": [1.391304347826087], \"mode\": \"markers\", \"marker\": {\"sizemode\": \"area\", \"sizeref\": 0.2, \"size\": [32.0]}, \"x\": [23]}, {\"name\": \"higher\", \"text\": [\"higher\"], \"y\": [1.3888888888888888], \"mode\": \"markers\", \"marker\": {\"sizemode\": \"area\", \"sizeref\": 0.2, \"size\": [25.0]}, \"x\": [18]}, {\"name\": \"demand\", \"text\": [\"demand\"], \"y\": [2.933333333333333], \"mode\": \"markers\", \"marker\": {\"sizemode\": \"area\", \"sizeref\": 0.2, \"size\": [44.0]}, \"x\": [15]}, {\"name\": \"new\", \"text\": [\"new\"], \"y\": [1.6666666666666667], \"mode\": \"markers\", \"marker\": {\"sizemode\": \"area\", \"sizeref\": 0.2, \"size\": [45.0]}, \"x\": [27]}, {\"name\": \"use\", \"text\": [\"use\"], \"y\": [1.625], \"mode\": \"markers\", \"marker\": {\"sizemode\": \"area\", \"sizeref\": 0.2, \"size\": [39.0]}, \"x\": [24]}, {\"name\": \"consumers\", \"text\": [\"consumers\"], \"y\": [2.4210526315789473], \"mode\": \"markers\", \"marker\": {\"sizemode\": \"area\", \"sizeref\": 0.2, \"size\": [46.0]}, \"x\": [19]}, {\"name\": \"value\", \"text\": [\"value\"], \"y\": [2.4615384615384617], \"mode\": \"markers\", \"marker\": {\"sizemode\": \"area\", \"sizeref\": 0.2, \"size\": [32.0]}, \"x\": [13]}, {\"name\": \"increase\", \"text\": [\"increase\"], \"y\": [1.5], \"mode\": \"markers\", \"marker\": {\"sizemode\": \"area\", \"sizeref\": 0.2, \"size\": [60.0]}, \"x\": [40]}, {\"name\": \"effects\", \"text\": [\"effects\"], \"y\": [1.375], \"mode\": \"markers\", \"marker\": {\"sizemode\": \"area\", \"sizeref\": 0.2, \"size\": [33.0]}, \"x\": [24]}, {\"name\": \"evidence\", \"text\": [\"evidence\"], \"y\": [1.3214285714285714], \"mode\": \"markers\", \"marker\": {\"sizemode\": \"area\", \"sizeref\": 0.2, \"size\": [37.0]}, \"x\": [28]}, {\"name\": \"social\", \"text\": [\"social\"], \"y\": [2.923076923076923], \"mode\": \"markers\", \"marker\": {\"sizemode\": \"area\", \"sizeref\": 0.2, \"size\": [38.0]}, \"x\": [13]}, {\"name\": \"impact\", \"text\": [\"impact\"], \"y\": [1.5], \"mode\": \"markers\", \"marker\": {\"sizemode\": \"area\", \"sizeref\": 0.2, \"size\": [57.0]}, \"x\": [38]}, {\"name\": \"cost\", \"text\": [\"cost\"], \"y\": [1.9444444444444444], \"mode\": \"markers\", \"marker\": {\"sizemode\": \"area\", \"sizeref\": 0.2, \"size\": [35.0]}, \"x\": [18]}, {\"name\": \"quality\", \"text\": [\"quality\"], \"y\": [4.076923076923077], \"mode\": \"markers\", \"marker\": {\"sizemode\": \"area\", \"sizeref\": 0.2, \"size\": [53.0]}, \"x\": [13]}, {\"name\": \"different\", \"text\": [\"different\"], \"y\": [1.5909090909090908], \"mode\": \"markers\", \"marker\": {\"sizemode\": \"area\", \"sizeref\": 0.2, \"size\": [35.0]}, \"x\": [22]}, {\"name\": \"one\", \"text\": [\"one\"], \"y\": [1.15], \"mode\": \"markers\", \"marker\": {\"sizemode\": \"area\", \"sizeref\": 0.2, \"size\": [23.0]}, \"x\": [20]}, {\"name\": \"however,\", \"text\": [\"however,\"], \"y\": [1.5454545454545454], \"mode\": \"markers\", \"marker\": {\"sizemode\": \"area\", \"sizeref\": 0.2, \"size\": [17.0]}, \"x\": [11]}, {\"name\": \"products\", \"text\": [\"products\"], \"y\": [3.4545454545454546], \"mode\": \"markers\", \"marker\": {\"sizemode\": \"area\", \"sizeref\": 0.2, \"size\": [38.0]}, \"x\": [11]}, {\"name\": \"consumer\", \"text\": [\"consumer\"], \"y\": [3.0], \"mode\": \"markers\", \"marker\": {\"sizemode\": \"area\", \"sizeref\": 0.2, \"size\": [24.0]}, \"x\": [8]}, {\"name\": \"financial\", \"text\": [\"financial\"], \"y\": [1.6363636363636365], \"mode\": \"markers\", \"marker\": {\"sizemode\": \"area\", \"sizeref\": 0.2, \"size\": [36.0]}, \"x\": [22]}, {\"name\": \"lower\", \"text\": [\"lower\"], \"y\": [1.5], \"mode\": \"markers\", \"marker\": {\"sizemode\": \"area\", \"sizeref\": 0.2, \"size\": [18.0]}, \"x\": [12]}, {\"name\": \"likely\", \"text\": [\"likely\"], \"y\": [1.4074074074074074], \"mode\": \"markers\", \"marker\": {\"sizemode\": \"area\", \"sizeref\": 0.2, \"size\": [38.0]}, \"x\": [27]}, {\"name\": \"pricing\", \"text\": [\"pricing\"], \"y\": [2.0454545454545454], \"mode\": \"markers\", \"marker\": {\"sizemode\": \"area\", \"sizeref\": 0.2, \"size\": [45.0]}, \"x\": [22]}, {\"name\": \"based\", \"text\": [\"based\"], \"y\": [1.2222222222222223], \"mode\": \"markers\", \"marker\": {\"sizemode\": \"area\", \"sizeref\": 0.2, \"size\": [33.0]}, \"x\": [27]}, {\"name\": \"less\", \"text\": [\"less\"], \"y\": [1.2], \"mode\": \"markers\", \"marker\": {\"sizemode\": \"area\", \"sizeref\": 0.2, \"size\": [30.0]}, \"x\": [25]}, {\"name\": \"whether\", \"text\": [\"whether\"], \"y\": [1.588235294117647], \"mode\": \"markers\", \"marker\": {\"sizemode\": \"area\", \"sizeref\": 0.2, \"size\": [27.0]}, \"x\": [17]}, {\"name\": \"set\", \"text\": [\"set\"], \"y\": [1.0714285714285714], \"mode\": \"markers\", \"marker\": {\"sizemode\": \"area\", \"sizeref\": 0.2, \"size\": [30.0]}, \"x\": [28]}, {\"name\": \"policy\", \"text\": [\"policy\"], \"y\": [1.8214285714285714], \"mode\": \"markers\", \"marker\": {\"sizemode\": \"area\", \"sizeref\": 0.2, \"size\": [51.0]}, \"x\": [28]}, {\"name\": \"decision\", \"text\": [\"decision\"], \"y\": [1.625], \"mode\": \"markers\", \"marker\": {\"sizemode\": \"area\", \"sizeref\": 0.2, \"size\": [26.0]}, \"x\": [16]}, {\"name\": \"high\", \"text\": [\"high\"], \"y\": [1.7142857142857142], \"mode\": \"markers\", \"marker\": {\"sizemode\": \"area\", \"sizeref\": 0.2, \"size\": [36.0]}, \"x\": [21]}, {\"name\": \"problem\", \"text\": [\"problem\"], \"y\": [1.8461538461538463], \"mode\": \"markers\", \"marker\": {\"sizemode\": \"area\", \"sizeref\": 0.2, \"size\": [24.0]}, \"x\": [13]}, {\"name\": \"sales\", \"text\": [\"sales\"], \"y\": [2.6666666666666665], \"mode\": \"markers\", \"marker\": {\"sizemode\": \"area\", \"sizeref\": 0.2, \"size\": [32.0]}, \"x\": [12]}], \"name\": \"2015\"}, {\"data\": [{\"name\": \"find\", \"text\": [\"find\"], \"y\": [1.2380952380952381], \"mode\": \"markers\", \"marker\": {\"sizemode\": \"area\", \"sizeref\": 0.2, \"size\": [52.0]}, \"x\": [42]}, {\"name\": \"firms\", \"text\": [\"firms\"], \"y\": [2.0], \"mode\": \"markers\", \"marker\": {\"sizemode\": \"area\", \"sizeref\": 0.2, \"size\": [36.0]}, \"x\": [18]}, {\"name\": \"information\", \"text\": [\"information\"], \"y\": [3.066666666666667], \"mode\": \"markers\", \"marker\": {\"sizemode\": \"area\", \"sizeref\": 0.2, \"size\": [46.0]}, \"x\": [15]}, {\"name\": \"show\", \"text\": [\"show\"], \"y\": [1.2608695652173914], \"mode\": \"markers\", \"marker\": {\"sizemode\": \"area\", \"sizeref\": 0.2, \"size\": [29.0]}, \"x\": [23]}, {\"name\": \"product\", \"text\": [\"product\"], \"y\": [3.0], \"mode\": \"markers\", \"marker\": {\"sizemode\": \"area\", \"sizeref\": 0.2, \"size\": [27.0]}, \"x\": [9]}, {\"name\": \"market\", \"text\": [\"market\"], \"y\": [1.8], \"mode\": \"markers\", \"marker\": {\"sizemode\": \"area\", \"sizeref\": 0.2, \"size\": [36.0]}, \"x\": [20]}, {\"name\": \"results\", \"text\": [\"results\"], \"y\": [1.1111111111111112], \"mode\": \"markers\", \"marker\": {\"sizemode\": \"area\", \"sizeref\": 0.2, \"size\": [30.0]}, \"x\": [27]}, {\"name\": \"firm\", \"text\": [\"firm\"], \"y\": [1.5384615384615385], \"mode\": \"markers\", \"marker\": {\"sizemode\": \"area\", \"sizeref\": 0.2, \"size\": [20.0]}, \"x\": [13]}, {\"name\": \"may\", \"text\": [\"may\"], \"y\": [1.4285714285714286], \"mode\": \"markers\", \"marker\": {\"sizemode\": \"area\", \"sizeref\": 0.2, \"size\": [20.0]}, \"x\": [14]}, {\"name\": \"using\", \"text\": [\"using\"], \"y\": [1.2142857142857142], \"mode\": \"markers\", \"marker\": {\"sizemode\": \"area\", \"sizeref\": 0.2, \"size\": [17.0]}, \"x\": [14]}, {\"name\": \"data\", \"text\": [\"data\"], \"y\": [1.5555555555555556], \"mode\": \"markers\", \"marker\": {\"sizemode\": \"area\", \"sizeref\": 0.2, \"size\": [14.0]}, \"x\": [9]}, {\"name\": \"risk\", \"text\": [\"risk\"], \"y\": [2.111111111111111], \"mode\": \"markers\", \"marker\": {\"sizemode\": \"area\", \"sizeref\": 0.2, \"size\": [19.0]}, \"x\": [9]}, {\"name\": \"two\", \"text\": [\"two\"], \"y\": [1.6666666666666667], \"mode\": \"markers\", \"marker\": {\"sizemode\": \"area\", \"sizeref\": 0.2, \"size\": [20.0]}, \"x\": [12]}, {\"name\": \"effect\", \"text\": [\"effect\"], \"y\": [1.3846153846153846], \"mode\": \"markers\", \"marker\": {\"sizemode\": \"area\", \"sizeref\": 0.2, \"size\": [18.0]}, \"x\": [13]}, {\"name\": \"price\", \"text\": [\"price\"], \"y\": [2.7142857142857144], \"mode\": \"markers\", \"marker\": {\"sizemode\": \"area\", \"sizeref\": 0.2, \"size\": [19.0]}, \"x\": [7]}, {\"name\": \"optimal\", \"text\": [\"optimal\"], \"y\": [1.8571428571428572], \"mode\": \"markers\", \"marker\": {\"sizemode\": \"area\", \"sizeref\": 0.2, \"size\": [13.0]}, \"x\": [7]}, {\"name\": \"performance\", \"text\": [\"performance\"], \"y\": [1.7272727272727273], \"mode\": \"markers\", \"marker\": {\"sizemode\": \"area\", \"sizeref\": 0.2, \"size\": [19.0]}, \"x\": [11]}, {\"name\": \"paper\", \"text\": [\"paper\"], \"y\": [1.1818181818181819], \"mode\": \"markers\", \"marker\": {\"sizemode\": \"area\", \"sizeref\": 0.2, \"size\": [13.0]}, \"x\": [11]}, {\"name\": \"study\", \"text\": [\"study\"], \"y\": [1.7142857142857142], \"mode\": \"markers\", \"marker\": {\"sizemode\": \"area\", \"sizeref\": 0.2, \"size\": [12.0]}, \"x\": [7]}, {\"name\": \"higher\", \"text\": [\"higher\"], \"y\": [1.6666666666666667], \"mode\": \"markers\", \"marker\": {\"sizemode\": \"area\", \"sizeref\": 0.2, \"size\": [25.0]}, \"x\": [15]}, {\"name\": \"demand\", \"text\": [\"demand\"], \"y\": [1.3333333333333333], \"mode\": \"markers\", \"marker\": {\"sizemode\": \"area\", \"sizeref\": 0.2, \"size\": [8.0]}, \"x\": [6]}, {\"name\": \"new\", \"text\": [\"new\"], \"y\": [1.5833333333333333], \"mode\": \"markers\", \"marker\": {\"sizemode\": \"area\", \"sizeref\": 0.2, \"size\": [19.0]}, \"x\": [12]}, {\"name\": \"use\", \"text\": [\"use\"], \"y\": [1.7142857142857142], \"mode\": \"markers\", \"marker\": {\"sizemode\": \"area\", \"sizeref\": 0.2, \"size\": [24.0]}, \"x\": [14]}, {\"name\": \"consumers\", \"text\": [\"consumers\"], \"y\": [1.8888888888888888], \"mode\": \"markers\", \"marker\": {\"sizemode\": \"area\", \"sizeref\": 0.2, \"size\": [17.0]}, \"x\": [9]}, {\"name\": \"value\", \"text\": [\"value\"], \"y\": [2.3333333333333335], \"mode\": \"markers\", \"marker\": {\"sizemode\": \"area\", \"sizeref\": 0.2, \"size\": [7.0]}, \"x\": [3]}, {\"name\": \"increase\", \"text\": [\"increase\"], \"y\": [1.3636363636363635], \"mode\": \"markers\", \"marker\": {\"sizemode\": \"area\", \"sizeref\": 0.2, \"size\": [15.0]}, \"x\": [11]}, {\"name\": \"effects\", \"text\": [\"effects\"], \"y\": [1.1538461538461537], \"mode\": \"markers\", \"marker\": {\"sizemode\": \"area\", \"sizeref\": 0.2, \"size\": [15.0]}, \"x\": [13]}, {\"name\": \"evidence\", \"text\": [\"evidence\"], \"y\": [1.1428571428571428], \"mode\": \"markers\", \"marker\": {\"sizemode\": \"area\", \"sizeref\": 0.2, \"size\": [16.0]}, \"x\": [14]}, {\"name\": \"social\", \"text\": [\"social\"], \"y\": [2.0], \"mode\": \"markers\", \"marker\": {\"sizemode\": \"area\", \"sizeref\": 0.2, \"size\": [4.0]}, \"x\": [2]}, {\"name\": \"impact\", \"text\": [\"impact\"], \"y\": [1.6], \"mode\": \"markers\", \"marker\": {\"sizemode\": \"area\", \"sizeref\": 0.2, \"size\": [24.0]}, \"x\": [15]}, {\"name\": \"cost\", \"text\": [\"cost\"], \"y\": [2.625], \"mode\": \"markers\", \"marker\": {\"sizemode\": \"area\", \"sizeref\": 0.2, \"size\": [21.0]}, \"x\": [8]}, {\"name\": \"quality\", \"text\": [\"quality\"], \"y\": [1.6666666666666667], \"mode\": \"markers\", \"marker\": {\"sizemode\": \"area\", \"sizeref\": 0.2, \"size\": [15.0]}, \"x\": [9]}, {\"name\": \"different\", \"text\": [\"different\"], \"y\": [1.2], \"mode\": \"markers\", \"marker\": {\"sizemode\": \"area\", \"sizeref\": 0.2, \"size\": [6.0]}, \"x\": [5]}, {\"name\": \"one\", \"text\": [\"one\"], \"y\": [1.5], \"mode\": \"markers\", \"marker\": {\"sizemode\": \"area\", \"sizeref\": 0.2, \"size\": [3.0]}, \"x\": [2]}, {\"name\": \"however,\", \"text\": [\"however,\"], \"y\": [1.4], \"mode\": \"markers\", \"marker\": {\"sizemode\": \"area\", \"sizeref\": 0.2, \"size\": [7.0]}, \"x\": [5]}, {\"name\": \"products\", \"text\": [\"products\"], \"y\": [3.0], \"mode\": \"markers\", \"marker\": {\"sizemode\": \"area\", \"sizeref\": 0.2, \"size\": [9.0]}, \"x\": [3]}, {\"name\": \"consumer\", \"text\": [\"consumer\"], \"y\": [3.0], \"mode\": \"markers\", \"marker\": {\"sizemode\": \"area\", \"sizeref\": 0.2, \"size\": [12.0]}, \"x\": [4]}, {\"name\": \"financial\", \"text\": [\"financial\"], \"y\": [1.9090909090909092], \"mode\": \"markers\", \"marker\": {\"sizemode\": \"area\", \"sizeref\": 0.2, \"size\": [21.0]}, \"x\": [11]}, {\"name\": \"lower\", \"text\": [\"lower\"], \"y\": [1.4285714285714286], \"mode\": \"markers\", \"marker\": {\"sizemode\": \"area\", \"sizeref\": 0.2, \"size\": [10.0]}, \"x\": [7]}, {\"name\": \"likely\", \"text\": [\"likely\"], \"y\": [1.6363636363636365], \"mode\": \"markers\", \"marker\": {\"sizemode\": \"area\", \"sizeref\": 0.2, \"size\": [18.0]}, \"x\": [11]}, {\"name\": \"pricing\", \"text\": [\"pricing\"], \"y\": [2.6666666666666665], \"mode\": \"markers\", \"marker\": {\"sizemode\": \"area\", \"sizeref\": 0.2, \"size\": [8.0]}, \"x\": [3]}, {\"name\": \"based\", \"text\": [\"based\"], \"y\": [1.4285714285714286], \"mode\": \"markers\", \"marker\": {\"sizemode\": \"area\", \"sizeref\": 0.2, \"size\": [10.0]}, \"x\": [7]}, {\"name\": \"less\", \"text\": [\"less\"], \"y\": [1.4444444444444444], \"mode\": \"markers\", \"marker\": {\"sizemode\": \"area\", \"sizeref\": 0.2, \"size\": [13.0]}, \"x\": [9]}, {\"name\": \"whether\", \"text\": [\"whether\"], \"y\": [1.2], \"mode\": \"markers\", \"marker\": {\"sizemode\": \"area\", \"sizeref\": 0.2, \"size\": [6.0]}, \"x\": [5]}, {\"name\": \"set\", \"text\": [\"set\"], \"y\": [1.2307692307692308], \"mode\": \"markers\", \"marker\": {\"sizemode\": \"area\", \"sizeref\": 0.2, \"size\": [16.0]}, \"x\": [13]}, {\"name\": \"policy\", \"text\": [\"policy\"], \"y\": [1.2857142857142858], \"mode\": \"markers\", \"marker\": {\"sizemode\": \"area\", \"sizeref\": 0.2, \"size\": [9.0]}, \"x\": [7]}, {\"name\": \"decision\", \"text\": [\"decision\"], \"y\": [1.6666666666666667], \"mode\": \"markers\", \"marker\": {\"sizemode\": \"area\", \"sizeref\": 0.2, \"size\": [10.0]}, \"x\": [6]}, {\"name\": \"high\", \"text\": [\"high\"], \"y\": [1.5], \"mode\": \"markers\", \"marker\": {\"sizemode\": \"area\", \"sizeref\": 0.2, \"size\": [6.0]}, \"x\": [4]}, {\"name\": \"problem\", \"text\": [\"problem\"], \"y\": [2.0], \"mode\": \"markers\", \"marker\": {\"sizemode\": \"area\", \"sizeref\": 0.2, \"size\": [4.0]}, \"x\": [2]}, {\"name\": \"sales\", \"text\": [\"sales\"], \"y\": [4.5], \"mode\": \"markers\", \"marker\": {\"sizemode\": \"area\", \"sizeref\": 0.2, \"size\": [18.0]}, \"x\": [4]}], \"name\": \"2016\"}]);}).then(function(){Plotly.animate('8f21a16e-a0af-4b34-8349-f421b962a2b7');})\n",
       "        });</script>"
      ]
     },
     "metadata": {},
     "output_type": "display_data"
    }
   ],
   "source": [
    "init_notebook_mode(connected=True)\n",
    "\n",
    "years = [2009, 2010, 2011, 2012, 2013, 2014, 2015, 2016]\n",
    "# make list of continents\n",
    "continents = []\n",
    "for continent in c['words']:\n",
    "    if continent not in continents:\n",
    "        continents.append(continent)\n",
    "# make figure\n",
    "figure = {\n",
    "    'data': [],\n",
    "    'layout': {},\n",
    "    'frames': []\n",
    "}\n",
    "\n",
    "# fill in most of layout\n",
    "figure['layout']['xaxis'] = {'range': [0, 50], 'title': 'Number of Publications'}\n",
    "figure['layout']['yaxis'] = {'title': 'Freq per publication', 'type': 'float'}\n",
    "figure['layout']['hovermode'] = 'closest'\n",
    "figure['layout']['sliders'] = {\n",
    "    'args': [\n",
    "        'transition', {\n",
    "            'duration': 400,\n",
    "            'easing': 'cubic-in-out'\n",
    "        }\n",
    "    ],\n",
    "    'initialValue': 2009,\n",
    "    'plotlycommand': 'animate',\n",
    "    'values': years,\n",
    "    'visible': True\n",
    "}\n",
    "figure['layout']['updatemenus'] = [\n",
    "    {\n",
    "        'buttons': [\n",
    "            {\n",
    "                'args': [None, {'frame': {'duration': 500, 'redraw': False},\n",
    "                                'fromcurrent': True, 'transition': {'duration': 300, 'easing': 'quadratic-in-out'}}],\n",
    "                'label': 'Play',\n",
    "                'method': 'animate'\n",
    "            },\n",
    "            {\n",
    "                'args': [[None], {'frame': {'duration': 0, 'redraw': False}, 'mode': 'immediate',\n",
    "                                  'transition': {'duration': 0}}],\n",
    "                'label': 'Pause',\n",
    "                'method': 'animate'\n",
    "            }\n",
    "        ],\n",
    "        'direction': 'left',\n",
    "        'pad': {'r': 10, 't': 87},\n",
    "        'showactive': False,\n",
    "        'type': 'buttons',\n",
    "        'x': 0.1,\n",
    "        'xanchor': 'right',\n",
    "        'y': 0,\n",
    "        'yanchor': 'top'\n",
    "    }\n",
    "]\n",
    "\n",
    "sliders_dict = {\n",
    "    'active': 0,\n",
    "    'yanchor': 'top',\n",
    "    'xanchor': 'left',\n",
    "    'currentvalue': {\n",
    "        'font': {'size': 20},\n",
    "        'prefix': 'Year:',\n",
    "        'visible': True,\n",
    "        'xanchor': 'right'\n",
    "    },\n",
    "    'transition': {'duration': 300, 'easing': 'cubic-in-out'},\n",
    "    'pad': {'b': 10, 't': 50},\n",
    "    'len': 0.9,\n",
    "    'x': 0.1,\n",
    "    'y': 0,\n",
    "    'steps': []\n",
    "}\n",
    "\n",
    "# make data\n",
    "year = 2009\n",
    "for continent in continents:\n",
    "    dataset_by_year = c[c['year'] == year]\n",
    "    dataset_by_year_and_cont = dataset_by_year[dataset_by_year['words'] == continent]\n",
    "\n",
    "    data_dict = {\n",
    "        'x': list(dataset_by_year_and_cont['number_of_papers']),\n",
    "        'y': list(dataset_by_year_and_cont['freq_per_paper']),\n",
    "        'mode': 'markers',\n",
    "        'text': list(dataset_by_year_and_cont['words']),\n",
    "        'marker': {\n",
    "            'sizemode': 'area',\n",
    "            'sizeref': 0.2,\n",
    "            'size': list(dataset_by_year_and_cont['freq_words'])\n",
    "        },\n",
    "        'name': continent\n",
    "    }\n",
    "    figure['data'].append(data_dict)\n",
    "\n",
    "\n",
    "# make frames\n",
    "for year in [2010, 2011, 2012, 2013, 2014, 2015, 2016]:\n",
    "    frame = {'data': [], 'name': str(year)}\n",
    "    for continent in continents:\n",
    "        dataset_by_year = c[c['year'] == int(year)]\n",
    "        dataset_by_year_and_cont = dataset_by_year[dataset_by_year['words'] == continent]\n",
    "        data_dict = {\n",
    "            'x': list(dataset_by_year_and_cont['number_of_papers']),\n",
    "            'y': list(dataset_by_year_and_cont['freq_per_paper']),\n",
    "            'mode': 'markers',\n",
    "            'text': list(dataset_by_year_and_cont['words']),\n",
    "            'marker': {\n",
    "                'sizemode': 'area',\n",
    "                'sizeref': 0.2,\n",
    "                'size': list(dataset_by_year_and_cont['freq_words'])\n",
    "            },\n",
    "            'name': continent\n",
    "        }\n",
    "        frame['data'].append(data_dict)\n",
    "    \n",
    "    figure['frames'].append(frame)\n",
    "    slider_step = {'args': [\n",
    "        [year],\n",
    "        {'frame': {'duration': 300, 'redraw': False},\n",
    "         'mode': 'immediate',\n",
    "         'transition': {'duration': 300}}\n",
    "    ],\n",
    "        'label': year,\n",
    "        'method': 'animate'}\n",
    "    sliders_dict['steps'].append(slider_step)\n",
    "\n",
    "figure['layout']['sliders'] = [sliders_dict]\n",
    "\n",
    "iplot(figure)\n"
   ]
  },
  {
   "cell_type": "code",
   "execution_count": 12,
   "metadata": {},
   "outputs": [
    {
     "data": {
      "text/plain": [
       "{'marker': {'size': [52.0,\n",
       "   36.0,\n",
       "   46.0,\n",
       "   29.0,\n",
       "   27.0,\n",
       "   36.0,\n",
       "   30.0,\n",
       "   20.0,\n",
       "   20.0,\n",
       "   17.0,\n",
       "   14.0,\n",
       "   19.0,\n",
       "   20.0,\n",
       "   18.0,\n",
       "   19.0,\n",
       "   13.0,\n",
       "   19.0,\n",
       "   13.0,\n",
       "   12.0,\n",
       "   25.0,\n",
       "   8.0,\n",
       "   19.0,\n",
       "   24.0,\n",
       "   17.0,\n",
       "   7.0,\n",
       "   15.0,\n",
       "   15.0,\n",
       "   16.0,\n",
       "   4.0,\n",
       "   24.0,\n",
       "   21.0,\n",
       "   15.0,\n",
       "   6.0,\n",
       "   3.0,\n",
       "   7.0,\n",
       "   9.0,\n",
       "   12.0,\n",
       "   21.0,\n",
       "   10.0,\n",
       "   18.0,\n",
       "   8.0,\n",
       "   10.0,\n",
       "   13.0,\n",
       "   6.0,\n",
       "   16.0,\n",
       "   9.0,\n",
       "   10.0,\n",
       "   6.0,\n",
       "   4.0,\n",
       "   18.0],\n",
       "  'sizemode': 'area',\n",
       "  'sizeref': 200000},\n",
       " 'mode': 'markers',\n",
       " 'text': [u'find',\n",
       "  u'firms',\n",
       "  u'information',\n",
       "  u'show',\n",
       "  u'product',\n",
       "  u'market',\n",
       "  u'results',\n",
       "  u'firm',\n",
       "  u'may',\n",
       "  u'using',\n",
       "  u'data',\n",
       "  u'risk',\n",
       "  u'two',\n",
       "  u'effect',\n",
       "  u'price',\n",
       "  u'optimal',\n",
       "  u'performance',\n",
       "  u'paper',\n",
       "  u'study',\n",
       "  u'higher',\n",
       "  u'demand',\n",
       "  u'new',\n",
       "  u'use',\n",
       "  u'consumers',\n",
       "  u'value',\n",
       "  u'increase',\n",
       "  u'effects',\n",
       "  u'evidence',\n",
       "  u'social',\n",
       "  u'impact',\n",
       "  u'cost',\n",
       "  u'quality',\n",
       "  u'different',\n",
       "  u'one',\n",
       "  u'however,',\n",
       "  u'products',\n",
       "  u'consumer',\n",
       "  u'financial',\n",
       "  u'lower',\n",
       "  u'likely',\n",
       "  u'pricing',\n",
       "  u'based',\n",
       "  u'less',\n",
       "  u'whether',\n",
       "  u'set',\n",
       "  u'policy',\n",
       "  u'decision',\n",
       "  u'high',\n",
       "  u'problem',\n",
       "  u'sales'],\n",
       " 'x': [42,\n",
       "  18,\n",
       "  15,\n",
       "  23,\n",
       "  9,\n",
       "  20,\n",
       "  27,\n",
       "  13,\n",
       "  14,\n",
       "  14,\n",
       "  9,\n",
       "  9,\n",
       "  12,\n",
       "  13,\n",
       "  7,\n",
       "  7,\n",
       "  11,\n",
       "  11,\n",
       "  7,\n",
       "  15,\n",
       "  6,\n",
       "  12,\n",
       "  14,\n",
       "  9,\n",
       "  3,\n",
       "  11,\n",
       "  13,\n",
       "  14,\n",
       "  2,\n",
       "  15,\n",
       "  8,\n",
       "  9,\n",
       "  5,\n",
       "  2,\n",
       "  5,\n",
       "  3,\n",
       "  4,\n",
       "  11,\n",
       "  7,\n",
       "  11,\n",
       "  3,\n",
       "  7,\n",
       "  9,\n",
       "  5,\n",
       "  13,\n",
       "  7,\n",
       "  6,\n",
       "  4,\n",
       "  2,\n",
       "  4],\n",
       " 'y': [1.2380952380952381,\n",
       "  2.0,\n",
       "  3.0666666666666669,\n",
       "  1.2608695652173914,\n",
       "  3.0,\n",
       "  1.8,\n",
       "  1.1111111111111112,\n",
       "  1.5384615384615385,\n",
       "  1.4285714285714286,\n",
       "  1.2142857142857142,\n",
       "  1.5555555555555556,\n",
       "  2.1111111111111112,\n",
       "  1.6666666666666667,\n",
       "  1.3846153846153846,\n",
       "  2.7142857142857144,\n",
       "  1.8571428571428572,\n",
       "  1.7272727272727273,\n",
       "  1.1818181818181819,\n",
       "  1.7142857142857142,\n",
       "  1.6666666666666667,\n",
       "  1.3333333333333333,\n",
       "  1.5833333333333333,\n",
       "  1.7142857142857142,\n",
       "  1.8888888888888888,\n",
       "  2.3333333333333335,\n",
       "  1.3636363636363635,\n",
       "  1.1538461538461537,\n",
       "  1.1428571428571428,\n",
       "  2.0,\n",
       "  1.6000000000000001,\n",
       "  2.625,\n",
       "  1.6666666666666667,\n",
       "  1.2,\n",
       "  1.5,\n",
       "  1.3999999999999999,\n",
       "  3.0,\n",
       "  3.0,\n",
       "  1.9090909090909092,\n",
       "  1.4285714285714286,\n",
       "  1.6363636363636365,\n",
       "  2.6666666666666665,\n",
       "  1.4285714285714286,\n",
       "  1.4444444444444444,\n",
       "  1.2,\n",
       "  1.2307692307692308,\n",
       "  1.2857142857142858,\n",
       "  1.6666666666666667,\n",
       "  1.5,\n",
       "  2.0,\n",
       "  4.5]}"
      ]
     },
     "execution_count": 12,
     "metadata": {},
     "output_type": "execute_result"
    }
   ],
   "source": [
    "data_dict"
   ]
  },
  {
   "cell_type": "code",
   "execution_count": null,
   "metadata": {
    "collapsed": true
   },
   "outputs": [],
   "source": []
  }
 ],
 "metadata": {
  "kernelspec": {
   "display_name": "Python 2",
   "language": "python",
   "name": "python2"
  },
  "language_info": {
   "codemirror_mode": {
    "name": "ipython",
    "version": 2
   },
   "file_extension": ".py",
   "mimetype": "text/x-python",
   "name": "python",
   "nbconvert_exporter": "python",
   "pygments_lexer": "ipython2",
   "version": "2.7.13"
  }
 },
 "nbformat": 4,
 "nbformat_minor": 2
}
