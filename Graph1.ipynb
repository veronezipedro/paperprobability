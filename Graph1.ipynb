{
 "cells": [
  {
   "cell_type": "code",
   "execution_count": 5,
   "metadata": {},
   "outputs": [],
   "source": [
    "# encoding: utf-8\n",
    "import sqlite3 as sql\n",
    "import pandas as pd\n",
    "import datetime\n",
    "import numpy as np\n",
    "from wordcloud import WordCloud, STOPWORDS\n",
    "import matplotlib.pyplot as plt\n",
    "import itertools\n",
    "import networkx as nx\n",
    "import re\n",
    "from collections import Counter\n",
    "from plotly.offline import init_notebook_mode, iplot\n",
    "from IPython.display import display, HTML\n",
    "from nltk.corpus import stopwords as ntlk_stop\n",
    "\n",
    "columns = ['link_id', 'title', 'author', 'affiliations', 'keywords', 'received_date', 'accepted_date',\n",
    "           'published_date', 'abstract']\n",
    "\n",
    "conn = sql.connect(\"MSOM.db\")\n",
    "cursor = conn.cursor()\n",
    "MSOM = cursor.execute(\"SELECT * FROM informations;\")\n",
    "df_msom = pd.DataFrame.from_records(MSOM.fetchall(), columns=columns)\n",
    "\n",
    "conn = sql.connect(\"MNSC.db\")\n",
    "cursor = conn.cursor()\n",
    "MNSC = cursor.execute(\"SELECT * FROM informations;\")\n",
    "df_mnsc = pd.DataFrame.from_records(MNSC.fetchall(), columns=columns)\n",
    "conn.close()\n",
    "\n",
    "df_msom.dropna(inplace=True, subset=['received_date', 'accepted_date', 'published_date'])\n",
    "df_mnsc.dropna(inplace=True, subset=['received_date', 'accepted_date', 'published_date'])\n",
    "\n",
    "\n",
    "def convert_date(date_string):\n",
    "    \"\"\"\n",
    "    Function to convert string to datetime\n",
    "    :param date_string:\n",
    "    :return:\n",
    "    \"\"\"\n",
    "    try:\n",
    "        date_string = date_string.strip()\n",
    "        date_string = date_string.replace('Published Online:', \"\")\n",
    "        date_string = date_string.strip()\n",
    "        date = datetime.datetime.strptime(date_string, \"%B %d, %Y\")\n",
    "    except:\n",
    "        date = np.nan\n",
    "\n",
    "    return date\n",
    "\n",
    "\n",
    "def generate_wordcloud(strings):\n",
    "    \"\"\"\n",
    "    Functiokn to generate wordcloud\n",
    "    :param strings:\n",
    "    :return: plot wordcloud\n",
    "    \"\"\"\n",
    "\n",
    "    # Create empty stopwords list\n",
    "    stopwords = set(STOPWORDS)\n",
    "    stopwords.add('Keywords')\n",
    "    stopwords.add('Keyword')\n",
    "    stopwords.add('model')\n",
    "    stopwords.add('models')\n",
    "\n",
    "    # Plot word cloud\n",
    "    wc = WordCloud(background_color=\"white\", max_words=2000, stopwords=stopwords)\n",
    "    wc.generate(strings)\n",
    "    plt.imshow(wc)\n",
    "    plt.axis('off')\n",
    "    plt.show()\n",
    "\n",
    "\n",
    "def create_authors_by_year(data):\n",
    "    \"\"\"\n",
    "\n",
    "    :param data:\n",
    "    :return:\n",
    "    \"\"\"\n",
    "\n",
    "    authors = []\n",
    "    year_publish = []\n",
    "    time_publish = []\n",
    "\n",
    "    for i in range(0, data.shape[0]):\n",
    "        for j in range(0, len(data['author'][i])):\n",
    "            authors.append(data['author'][i][j])\n",
    "            year_publish.append(data['year_publish'][i])\n",
    "            time_publish.append(data['time_publish'][i])\n",
    "\n",
    "    return pd.DataFrame(data={'author': authors, 'year_publish': year_publish, 'time_publish': time_publish})\n",
    "\n",
    "\n",
    "def create_network_data(data):\n",
    "    \"\"\"\n",
    "    Function to create data necessary to generate the network plot\n",
    "    :param data:\n",
    "    :return:\n",
    "    \"\"\"\n",
    "\n",
    "    # Create empty data frame\n",
    "    return_df = pd.DataFrame()\n",
    "\n",
    "    # For each row of the data read the authors and create every possible combination\n",
    "    for i in range(0, data.shape[0]):\n",
    "        return_df = pd.concat([return_df, pd.DataFrame(list(itertools.combinations(data['author'][i], 2)))], axis=0)\n",
    "\n",
    "    return_df.columns = ['from', 'to']\n",
    "\n",
    "    return return_df\n",
    "\n",
    "\n",
    "def create_network_data_university(data):\n",
    "    \"\"\"\n",
    "    Function to create data necessary to generate the network plot\n",
    "    :param data:\n",
    "    :return:\n",
    "    \"\"\"\n",
    "\n",
    "    # Create empty data frame\n",
    "    return_df = pd.DataFrame()\n",
    "\n",
    "    # For each row of the data read the authors and create every possible combination\n",
    "    for i in range(0, data.shape[0]):\n",
    "        return_df = pd.concat([return_df, pd.DataFrame(list(itertools.combinations(data['affiliations'][i], 2)))], axis=0)\n",
    "\n",
    "    return_df.columns = ['from', 'to']\n",
    "\n",
    "    return return_df\n",
    "\n",
    "\n",
    "def generate_network_plot(df_journal, label):\n",
    "    \"\"\"\n",
    "\n",
    "    :param df_journal:\n",
    "    :return:\n",
    "    \"\"\"\n",
    "\n",
    "    # Create network dataframe\n",
    "    network_data = create_network_data(df_journal)\n",
    "\n",
    "    # Create new column with number of publications by authors\n",
    "    network_data['count'] = ''\n",
    "\n",
    "    n_publications = network_data['from'].value_counts()\n",
    "\n",
    "    # Set the number of publications to each author\n",
    "    for name in n_publications.index:\n",
    "        network_data.loc[(network_data['from'] == name), 'count'] = int(\n",
    "            n_publications[n_publications.index == name].values)\n",
    "\n",
    "    # Build your graph\n",
    "    G = nx.from_pandas_dataframe(network_data, 'from', 'to')\n",
    "\n",
    "    # labels = {}\n",
    "    #\n",
    "    # for node in G.nodes():\n",
    "    #     if node in list(network_data['label'].dropna().values):\n",
    "    #         labels[node] = node\n",
    "\n",
    "    # Plot it\n",
    "    nx.draw(G, with_labels=label, node_size=list(network_data['count'].values * 30))\n",
    "    plt.show()\n",
    "\n",
    "    # g = nx.Graph()\n",
    "    # g.add_nodes_from(network_data['from'].unique()[0:10])\n",
    "    # g.add_edges_from([tuple(x) for x in list(network_data[['from', 'to']].values)])\n",
    "    # node_sizes = list(network_data['from'].value_counts()[0:10])\n",
    "    #\n",
    "    # nx.draw_circular(g, node_size=node_sizes, with_labels=False)\n",
    "\n",
    "\n",
    "def generate_network_plot_univ(network_data, label):\n",
    "    \"\"\"\n",
    "\n",
    "    :param df_journal:\n",
    "    :return:\n",
    "    \"\"\"\n",
    "\n",
    "    # Create new column with number of publications by authors\n",
    "    network_data['count'] = ''\n",
    "\n",
    "    n_publications = network_data['from'].value_counts()\n",
    "\n",
    "    # Set the number of publications to each author\n",
    "    for name in n_publications.index:\n",
    "        network_data.loc[(network_data['from'] == name), 'count'] = int(\n",
    "            n_publications[n_publications.index == name].values)\n",
    "\n",
    "    # Build your graph\n",
    "    G = nx.from_pandas_dataframe(network_data, 'from', 'to')\n",
    "\n",
    "    # labels = {}\n",
    "    #\n",
    "    # for node in G.nodes():\n",
    "    #     if node in list(network_data['label'].dropna().values):\n",
    "    #         labels[node] = node\n",
    "\n",
    "    # Plot it\n",
    "    nx.draw(G, with_labels=label, node_size=list(network_data['count'].values * 10))\n",
    "    plt.show()\n",
    "\n",
    "    # g = nx.Graph()\n",
    "    # g.add_nodes_from(network_data['from'].unique()[0:10])\n",
    "    # g.add_edges_from([tuple(x) for x in list(network_data[['from', 'to']].values)])\n",
    "    # node_sizes = list(network_data['from'].value_counts()[0:10])\n",
    "    #\n",
    "    # nx.draw_circular(g, node_size=node_sizes, with_labels=False)\n",
    "\n",
    "\n",
    "def create_university_by_year(data):\n",
    "    \"\"\"\n",
    "\n",
    "    :param data:\n",
    "    :return:\n",
    "    \"\"\"\n",
    "\n",
    "    university = []\n",
    "    year_publish = []\n",
    "    time_publish = []\n",
    "\n",
    "    for i in range(0, data.shape[0]):\n",
    "        for j in range(0, len(data['affiliations'][i])):\n",
    "            print data['affiliations'][i][j]\n",
    "            affiliations = data['affiliations'][i][j].split(',')\n",
    "            b = [x if re.search('(University|College|Institute)', x, re.IGNORECASE) else None for x in affiliations]\n",
    "            try:\n",
    "                c = filter(None, b)\n",
    "                c = c[len(c) - 1]\n",
    "                university.append(c.strip())\n",
    "                year_publish.append(data['year_publish'][i])\n",
    "                time_publish.append(data['time_publish'][i])\n",
    "            except:\n",
    "                continue\n",
    "\n",
    "    return pd.DataFrame(data={'university': university, 'year_publish': year_publish, 'time_publish': time_publish})\n",
    "\n",
    "\n",
    "def change_affiliation(affiliations):\n",
    "    \"\"\"\n",
    "\n",
    "    :param affiliations: data['affiliations'][0]\n",
    "    :return:\n",
    "    \"\"\"\n",
    "\n",
    "    new_affiliation = []\n",
    "    for affiliation in affiliations:\n",
    "        b = [x if re.search('(University|College|Institute)', x, re.IGNORECASE) else None for x in affiliation.split(',')]\n",
    "\n",
    "        try:\n",
    "            c = filter(None, b)\n",
    "            c = c[len(c) - 1].strip()\n",
    "            new_affiliation.append(c)\n",
    "        except:\n",
    "            continue\n",
    "\n",
    "    return new_affiliation\n",
    "\n",
    "\n",
    "def get_word_count(astring):\n",
    "    \"\"\"\n",
    "    \n",
    "    :param astring: \n",
    "    :return: \n",
    "    \"\"\"\n",
    "    stopwords = set(STOPWORDS)\n",
    "    stopwords.add('Keywords')\n",
    "    stopwords.add('Keyword')\n",
    "    stopwords.add('model')\n",
    "    stopwords.add('models')\n",
    "    stopwords.add('may')\n",
    "    stopwords.add('one')\n",
    "    stopwords.add('two')\n",
    "    stopwords.add('three')\n",
    "    \n",
    "    stopwords = [x.lower() for x in stopwords]\n",
    "    stopwords = list(stopwords)\n",
    "    alist = astring.lower().strip().split()\n",
    "    alist = [x for x in alist if x not in stopwords]\n",
    "    return Counter(alist).most_common(20)\n",
    "\n",
    "\n",
    "def func1(alist_of_tuples, item_to_check):\n",
    "    try:\n",
    "        return [x[1] for x in alist_of_tuples if x[0] == item_to_check][0]\n",
    "    except IndexError:\n",
    "        return np.nan\n",
    "\n",
    "\n",
    "def flatten_list_of_tuples(list_of_tuples):\n",
    "    list_fixed_words = []\n",
    "    for item in fixed_words:\n",
    "        list_fixed_words.append(item[0])\n",
    "    return list_fixed_words\n",
    "\n",
    "# Convert received, accepted, and published dates to datetime\n",
    "# MSOM journal\n",
    "df_msom['received_date'] = df_msom['received_date'].apply(convert_date)\n",
    "df_msom['accepted_date'] = df_msom['accepted_date'].apply(convert_date)\n",
    "df_msom['published_date'] = df_msom['published_date'].apply(convert_date)\n",
    "\n",
    "# MNSC journal\n",
    "df_mnsc['received_date'] = df_mnsc['received_date'].apply(convert_date)\n",
    "df_mnsc['accepted_date'] = df_mnsc['accepted_date'].apply(convert_date)\n",
    "df_mnsc['published_date'] = df_mnsc['published_date'].apply(convert_date)\n",
    "\n",
    "# Create new attribute total time to publish\n",
    "df_msom['time_publish'] = df_msom['published_date'] - df_msom['received_date']\n",
    "df_mnsc['time_publish'] = df_mnsc['published_date'] - df_mnsc['received_date']\n",
    "\n",
    "# Create new attribute with the year of publication\n",
    "df_msom['year_publish'] = df_msom['published_date'].dt.year\n",
    "df_mnsc['year_publish'] = df_mnsc['published_date'].dt.year\n",
    "\n",
    "# Fill missing values for the year of publication with 1\n",
    "df_msom['year_publish'].fillna(1, inplace=True)\n",
    "df_mnsc['year_publish'].fillna(1, inplace=True)\n",
    "\n",
    "# Convert year of publication to integer\n",
    "df_msom['year_publish'] = df_msom['year_publish'].astype(int)\n",
    "df_mnsc['year_publish'] = df_mnsc['year_publish'].astype(int)\n",
    "\n",
    "# Get number of days for publication\n",
    "df_msom['time_publish'] = df_msom['time_publish'].dt.days\n",
    "df_mnsc['time_publish'] = df_mnsc['time_publish'].dt.days\n",
    "\n",
    "\n",
    "#### CREATE WORD FREQ\n",
    "df_mnsc['word_freq'] = df_mnsc['abstract'].apply(get_word_count)\n",
    "yearly_abs = df_mnsc.groupby(['year_publish'])['abstract'].apply(lambda x: ' '.join(x))\n",
    "yearly_abs = pd.DataFrame(yearly_abs)\n",
    "yearly_abs['word_count'] = yearly_abs['abstract'].apply(get_word_count)\n",
    "fixed_words = ' '.join(df_mnsc['abstract'].values)\n",
    "fixed_words = get_word_count(fixed_words)\n",
    "fixed_words_list = [x[0] for x in fixed_words]\n",
    "fixed_words_list.extend(['abstract'])\n",
    "\n",
    "\n",
    "for item in fixed_words:\n",
    "    df_mnsc[item[0]] = np.nan\n",
    "    df_mnsc[item[0]] = df_mnsc['word_freq'].apply(func1, args=(item[0], ))\n",
    "\n",
    "i = 0\n",
    "for item in fixed_words:\n",
    "    a = pd.DataFrame(df_mnsc[[item[0], 'year_publish']].groupby('year_publish').sum())\n",
    "    a.columns = ['freq_words']\n",
    "    b = pd.DataFrame(df_mnsc[[item[0], 'year_publish']].groupby('year_publish').count())\n",
    "    b.columns = ['number_of_papers']\n",
    "    a = pd.concat([a, b], axis=1)\n",
    "    a['words'] = item[0]\n",
    "    if i == 0:\n",
    "        c = a\n",
    "    else:\n",
    "        c = c.append(a)\n",
    "    i += 1\n",
    "\n",
    "c['freq_per_paper'] = c['freq_words'] / c['number_of_papers']\n",
    "c.fillna(0, inplace=True)\n",
    "\n",
    "c['year'] = c.index.values\n",
    "c = c[c['year'] != 1]\n",
    "c.reset_index(inplace=True)\n"
   ]
  },
  {
   "cell_type": "code",
   "execution_count": 9,
   "metadata": {},
   "outputs": [
    {
     "data": {
      "text/html": [
       "<script>requirejs.config({paths: { 'plotly': ['https://cdn.plot.ly/plotly-latest.min']},});if(!window.Plotly) {{require(['plotly'],function(plotly) {window.Plotly=plotly;});}}</script>"
      ],
      "text/vnd.plotly.v1+html": [
       "<script>requirejs.config({paths: { 'plotly': ['https://cdn.plot.ly/plotly-latest.min']},});if(!window.Plotly) {{require(['plotly'],function(plotly) {window.Plotly=plotly;});}}</script>"
      ]
     },
     "metadata": {},
     "output_type": "display_data"
    },
    {
     "data": {
      "application/vnd.plotly.v1+json": {
       "data": [
        {
         "marker": {
          "size": [
           0
          ],
          "sizemode": "area",
          "sizeref": 0.2
         },
         "mode": "markers",
         "name": "find",
         "text": [
          "find"
         ],
         "x": [
          0
         ],
         "y": [
          0
         ]
        },
        {
         "marker": {
          "size": [
           3
          ],
          "sizemode": "area",
          "sizeref": 0.2
         },
         "mode": "markers",
         "name": "firms",
         "text": [
          "firms"
         ],
         "x": [
          1
         ],
         "y": [
          3
         ]
        },
        {
         "marker": {
          "size": [
           0
          ],
          "sizemode": "area",
          "sizeref": 0.2
         },
         "mode": "markers",
         "name": "information",
         "text": [
          "information"
         ],
         "x": [
          0
         ],
         "y": [
          0
         ]
        },
        {
         "marker": {
          "size": [
           0
          ],
          "sizemode": "area",
          "sizeref": 0.2
         },
         "mode": "markers",
         "name": "show",
         "text": [
          "show"
         ],
         "x": [
          0
         ],
         "y": [
          0
         ]
        },
        {
         "marker": {
          "size": [
           0
          ],
          "sizemode": "area",
          "sizeref": 0.2
         },
         "mode": "markers",
         "name": "product",
         "text": [
          "product"
         ],
         "x": [
          0
         ],
         "y": [
          0
         ]
        },
        {
         "marker": {
          "size": [
           0
          ],
          "sizemode": "area",
          "sizeref": 0.2
         },
         "mode": "markers",
         "name": "market",
         "text": [
          "market"
         ],
         "x": [
          0
         ],
         "y": [
          0
         ]
        },
        {
         "marker": {
          "size": [
           0
          ],
          "sizemode": "area",
          "sizeref": 0.2
         },
         "mode": "markers",
         "name": "results",
         "text": [
          "results"
         ],
         "x": [
          0
         ],
         "y": [
          0
         ]
        },
        {
         "marker": {
          "size": [
           0
          ],
          "sizemode": "area",
          "sizeref": 0.2
         },
         "mode": "markers",
         "name": "firm",
         "text": [
          "firm"
         ],
         "x": [
          0
         ],
         "y": [
          0
         ]
        },
        {
         "marker": {
          "size": [
           0
          ],
          "sizemode": "area",
          "sizeref": 0.2
         },
         "mode": "markers",
         "name": "using",
         "text": [
          "using"
         ],
         "x": [
          0
         ],
         "y": [
          0
         ]
        },
        {
         "marker": {
          "size": [
           3
          ],
          "sizemode": "area",
          "sizeref": 0.2
         },
         "mode": "markers",
         "name": "data",
         "text": [
          "data"
         ],
         "x": [
          1
         ],
         "y": [
          3
         ]
        },
        {
         "marker": {
          "size": [
           2
          ],
          "sizemode": "area",
          "sizeref": 0.2
         },
         "mode": "markers",
         "name": "risk",
         "text": [
          "risk"
         ],
         "x": [
          1
         ],
         "y": [
          2
         ]
        },
        {
         "marker": {
          "size": [
           0
          ],
          "sizemode": "area",
          "sizeref": 0.2
         },
         "mode": "markers",
         "name": "effect",
         "text": [
          "effect"
         ],
         "x": [
          0
         ],
         "y": [
          0
         ]
        },
        {
         "marker": {
          "size": [
           0
          ],
          "sizemode": "area",
          "sizeref": 0.2
         },
         "mode": "markers",
         "name": "price",
         "text": [
          "price"
         ],
         "x": [
          0
         ],
         "y": [
          0
         ]
        },
        {
         "marker": {
          "size": [
           0
          ],
          "sizemode": "area",
          "sizeref": 0.2
         },
         "mode": "markers",
         "name": "optimal",
         "text": [
          "optimal"
         ],
         "x": [
          0
         ],
         "y": [
          0
         ]
        },
        {
         "marker": {
          "size": [
           0
          ],
          "sizemode": "area",
          "sizeref": 0.2
         },
         "mode": "markers",
         "name": "performance",
         "text": [
          "performance"
         ],
         "x": [
          0
         ],
         "y": [
          0
         ]
        },
        {
         "marker": {
          "size": [
           1
          ],
          "sizemode": "area",
          "sizeref": 0.2
         },
         "mode": "markers",
         "name": "paper",
         "text": [
          "paper"
         ],
         "x": [
          1
         ],
         "y": [
          1
         ]
        },
        {
         "marker": {
          "size": [
           0
          ],
          "sizemode": "area",
          "sizeref": 0.2
         },
         "mode": "markers",
         "name": "study",
         "text": [
          "study"
         ],
         "x": [
          0
         ],
         "y": [
          0
         ]
        },
        {
         "marker": {
          "size": [
           0
          ],
          "sizemode": "area",
          "sizeref": 0.2
         },
         "mode": "markers",
         "name": "higher",
         "text": [
          "higher"
         ],
         "x": [
          0
         ],
         "y": [
          0
         ]
        },
        {
         "marker": {
          "size": [
           0
          ],
          "sizemode": "area",
          "sizeref": 0.2
         },
         "mode": "markers",
         "name": "demand",
         "text": [
          "demand"
         ],
         "x": [
          0
         ],
         "y": [
          0
         ]
        },
        {
         "marker": {
          "size": [
           0
          ],
          "sizemode": "area",
          "sizeref": 0.2
         },
         "mode": "markers",
         "name": "new",
         "text": [
          "new"
         ],
         "x": [
          0
         ],
         "y": [
          0
         ]
        }
       ],
       "frames": [
        {
         "data": [
          {
           "marker": {
            "size": [
             0
            ],
            "sizemode": "area",
            "sizeref": 0.2
           },
           "mode": "markers",
           "name": "find",
           "text": [
            "find"
           ],
           "x": [
            0
           ],
           "y": [
            0
           ]
          },
          {
           "marker": {
            "size": [
             2
            ],
            "sizemode": "area",
            "sizeref": 0.2
           },
           "mode": "markers",
           "name": "firms",
           "text": [
            "firms"
           ],
           "x": [
            1
           ],
           "y": [
            2
           ]
          },
          {
           "marker": {
            "size": [
             0
            ],
            "sizemode": "area",
            "sizeref": 0.2
           },
           "mode": "markers",
           "name": "information",
           "text": [
            "information"
           ],
           "x": [
            0
           ],
           "y": [
            0
           ]
          },
          {
           "marker": {
            "size": [
             0
            ],
            "sizemode": "area",
            "sizeref": 0.2
           },
           "mode": "markers",
           "name": "show",
           "text": [
            "show"
           ],
           "x": [
            0
           ],
           "y": [
            0
           ]
          },
          {
           "marker": {
            "size": [
             0
            ],
            "sizemode": "area",
            "sizeref": 0.2
           },
           "mode": "markers",
           "name": "product",
           "text": [
            "product"
           ],
           "x": [
            0
           ],
           "y": [
            0
           ]
          },
          {
           "marker": {
            "size": [
             2
            ],
            "sizemode": "area",
            "sizeref": 0.2
           },
           "mode": "markers",
           "name": "market",
           "text": [
            "market"
           ],
           "x": [
            1
           ],
           "y": [
            2
           ]
          },
          {
           "marker": {
            "size": [
             1
            ],
            "sizemode": "area",
            "sizeref": 0.2
           },
           "mode": "markers",
           "name": "results",
           "text": [
            "results"
           ],
           "x": [
            1
           ],
           "y": [
            1
           ]
          },
          {
           "marker": {
            "size": [
             0
            ],
            "sizemode": "area",
            "sizeref": 0.2
           },
           "mode": "markers",
           "name": "firm",
           "text": [
            "firm"
           ],
           "x": [
            0
           ],
           "y": [
            0
           ]
          },
          {
           "marker": {
            "size": [
             0
            ],
            "sizemode": "area",
            "sizeref": 0.2
           },
           "mode": "markers",
           "name": "using",
           "text": [
            "using"
           ],
           "x": [
            0
           ],
           "y": [
            0
           ]
          },
          {
           "marker": {
            "size": [
             0
            ],
            "sizemode": "area",
            "sizeref": 0.2
           },
           "mode": "markers",
           "name": "data",
           "text": [
            "data"
           ],
           "x": [
            0
           ],
           "y": [
            0
           ]
          },
          {
           "marker": {
            "size": [
             0
            ],
            "sizemode": "area",
            "sizeref": 0.2
           },
           "mode": "markers",
           "name": "risk",
           "text": [
            "risk"
           ],
           "x": [
            0
           ],
           "y": [
            0
           ]
          },
          {
           "marker": {
            "size": [
             0
            ],
            "sizemode": "area",
            "sizeref": 0.2
           },
           "mode": "markers",
           "name": "effect",
           "text": [
            "effect"
           ],
           "x": [
            0
           ],
           "y": [
            0
           ]
          },
          {
           "marker": {
            "size": [
             0
            ],
            "sizemode": "area",
            "sizeref": 0.2
           },
           "mode": "markers",
           "name": "price",
           "text": [
            "price"
           ],
           "x": [
            0
           ],
           "y": [
            0
           ]
          },
          {
           "marker": {
            "size": [
             0
            ],
            "sizemode": "area",
            "sizeref": 0.2
           },
           "mode": "markers",
           "name": "optimal",
           "text": [
            "optimal"
           ],
           "x": [
            0
           ],
           "y": [
            0
           ]
          },
          {
           "marker": {
            "size": [
             0
            ],
            "sizemode": "area",
            "sizeref": 0.2
           },
           "mode": "markers",
           "name": "performance",
           "text": [
            "performance"
           ],
           "x": [
            0
           ],
           "y": [
            0
           ]
          },
          {
           "marker": {
            "size": [
             0
            ],
            "sizemode": "area",
            "sizeref": 0.2
           },
           "mode": "markers",
           "name": "paper",
           "text": [
            "paper"
           ],
           "x": [
            0
           ],
           "y": [
            0
           ]
          },
          {
           "marker": {
            "size": [
             0
            ],
            "sizemode": "area",
            "sizeref": 0.2
           },
           "mode": "markers",
           "name": "study",
           "text": [
            "study"
           ],
           "x": [
            0
           ],
           "y": [
            0
           ]
          },
          {
           "marker": {
            "size": [
             0
            ],
            "sizemode": "area",
            "sizeref": 0.2
           },
           "mode": "markers",
           "name": "higher",
           "text": [
            "higher"
           ],
           "x": [
            0
           ],
           "y": [
            0
           ]
          },
          {
           "marker": {
            "size": [
             0
            ],
            "sizemode": "area",
            "sizeref": 0.2
           },
           "mode": "markers",
           "name": "demand",
           "text": [
            "demand"
           ],
           "x": [
            0
           ],
           "y": [
            0
           ]
          },
          {
           "marker": {
            "size": [
             0
            ],
            "sizemode": "area",
            "sizeref": 0.2
           },
           "mode": "markers",
           "name": "new",
           "text": [
            "new"
           ],
           "x": [
            0
           ],
           "y": [
            0
           ]
          }
         ],
         "name": "2010"
        },
        {
         "data": [
          {
           "marker": {
            "size": [
             49
            ],
            "sizemode": "area",
            "sizeref": 0.2
           },
           "mode": "markers",
           "name": "find",
           "text": [
            "find"
           ],
           "x": [
            28
           ],
           "y": [
            1.75
           ]
          },
          {
           "marker": {
            "size": [
             55
            ],
            "sizemode": "area",
            "sizeref": 0.2
           },
           "mode": "markers",
           "name": "firms",
           "text": [
            "firms"
           ],
           "x": [
            16
           ],
           "y": [
            3.4375
           ]
          },
          {
           "marker": {
            "size": [
             41
            ],
            "sizemode": "area",
            "sizeref": 0.2
           },
           "mode": "markers",
           "name": "information",
           "text": [
            "information"
           ],
           "x": [
            15
           ],
           "y": [
            2.7333333333333334
           ]
          },
          {
           "marker": {
            "size": [
             34
            ],
            "sizemode": "area",
            "sizeref": 0.2
           },
           "mode": "markers",
           "name": "show",
           "text": [
            "show"
           ],
           "x": [
            25
           ],
           "y": [
            1.36
           ]
          },
          {
           "marker": {
            "size": [
             57
            ],
            "sizemode": "area",
            "sizeref": 0.2
           },
           "mode": "markers",
           "name": "product",
           "text": [
            "product"
           ],
           "x": [
            13
           ],
           "y": [
            4.384615384615385
           ]
          },
          {
           "marker": {
            "size": [
             44
            ],
            "sizemode": "area",
            "sizeref": 0.2
           },
           "mode": "markers",
           "name": "market",
           "text": [
            "market"
           ],
           "x": [
            17
           ],
           "y": [
            2.588235294117647
           ]
          },
          {
           "marker": {
            "size": [
             25
            ],
            "sizemode": "area",
            "sizeref": 0.2
           },
           "mode": "markers",
           "name": "results",
           "text": [
            "results"
           ],
           "x": [
            20
           ],
           "y": [
            1.25
           ]
          },
          {
           "marker": {
            "size": [
             40
            ],
            "sizemode": "area",
            "sizeref": 0.2
           },
           "mode": "markers",
           "name": "firm",
           "text": [
            "firm"
           ],
           "x": [
            15
           ],
           "y": [
            2.6666666666666665
           ]
          },
          {
           "marker": {
            "size": [
             10
            ],
            "sizemode": "area",
            "sizeref": 0.2
           },
           "mode": "markers",
           "name": "using",
           "text": [
            "using"
           ],
           "x": [
            5
           ],
           "y": [
            2
           ]
          },
          {
           "marker": {
            "size": [
             13
            ],
            "sizemode": "area",
            "sizeref": 0.2
           },
           "mode": "markers",
           "name": "data",
           "text": [
            "data"
           ],
           "x": [
            4
           ],
           "y": [
            3.25
           ]
          },
          {
           "marker": {
            "size": [
             29
            ],
            "sizemode": "area",
            "sizeref": 0.2
           },
           "mode": "markers",
           "name": "risk",
           "text": [
            "risk"
           ],
           "x": [
            10
           ],
           "y": [
            2.9
           ]
          },
          {
           "marker": {
            "size": [
             14
            ],
            "sizemode": "area",
            "sizeref": 0.2
           },
           "mode": "markers",
           "name": "effect",
           "text": [
            "effect"
           ],
           "x": [
            5
           ],
           "y": [
            2.8
           ]
          },
          {
           "marker": {
            "size": [
             25
            ],
            "sizemode": "area",
            "sizeref": 0.2
           },
           "mode": "markers",
           "name": "price",
           "text": [
            "price"
           ],
           "x": [
            8
           ],
           "y": [
            3.125
           ]
          },
          {
           "marker": {
            "size": [
             39
            ],
            "sizemode": "area",
            "sizeref": 0.2
           },
           "mode": "markers",
           "name": "optimal",
           "text": [
            "optimal"
           ],
           "x": [
            14
           ],
           "y": [
            2.7857142857142856
           ]
          },
          {
           "marker": {
            "size": [
             24
            ],
            "sizemode": "area",
            "sizeref": 0.2
           },
           "mode": "markers",
           "name": "performance",
           "text": [
            "performance"
           ],
           "x": [
            11
           ],
           "y": [
            2.1818181818181817
           ]
          },
          {
           "marker": {
            "size": [
             20
            ],
            "sizemode": "area",
            "sizeref": 0.2
           },
           "mode": "markers",
           "name": "paper",
           "text": [
            "paper"
           ],
           "x": [
            15
           ],
           "y": [
            1.3333333333333333
           ]
          },
          {
           "marker": {
            "size": [
             4
            ],
            "sizemode": "area",
            "sizeref": 0.2
           },
           "mode": "markers",
           "name": "study",
           "text": [
            "study"
           ],
           "x": [
            2
           ],
           "y": [
            2
           ]
          },
          {
           "marker": {
            "size": [
             13
            ],
            "sizemode": "area",
            "sizeref": 0.2
           },
           "mode": "markers",
           "name": "higher",
           "text": [
            "higher"
           ],
           "x": [
            5
           ],
           "y": [
            2.6
           ]
          },
          {
           "marker": {
            "size": [
             19
            ],
            "sizemode": "area",
            "sizeref": 0.2
           },
           "mode": "markers",
           "name": "demand",
           "text": [
            "demand"
           ],
           "x": [
            9
           ],
           "y": [
            2.111111111111111
           ]
          },
          {
           "marker": {
            "size": [
             12
            ],
            "sizemode": "area",
            "sizeref": 0.2
           },
           "mode": "markers",
           "name": "new",
           "text": [
            "new"
           ],
           "x": [
            5
           ],
           "y": [
            2.4
           ]
          }
         ],
         "name": "2011"
        },
        {
         "data": [
          {
           "marker": {
            "size": [
             59
            ],
            "sizemode": "area",
            "sizeref": 0.2
           },
           "mode": "markers",
           "name": "find",
           "text": [
            "find"
           ],
           "x": [
            32
           ],
           "y": [
            1.84375
           ]
          },
          {
           "marker": {
            "size": [
             73
            ],
            "sizemode": "area",
            "sizeref": 0.2
           },
           "mode": "markers",
           "name": "firms",
           "text": [
            "firms"
           ],
           "x": [
            25
           ],
           "y": [
            2.92
           ]
          },
          {
           "marker": {
            "size": [
             52
            ],
            "sizemode": "area",
            "sizeref": 0.2
           },
           "mode": "markers",
           "name": "information",
           "text": [
            "information"
           ],
           "x": [
            16
           ],
           "y": [
            3.25
           ]
          },
          {
           "marker": {
            "size": [
             49
            ],
            "sizemode": "area",
            "sizeref": 0.2
           },
           "mode": "markers",
           "name": "show",
           "text": [
            "show"
           ],
           "x": [
            32
           ],
           "y": [
            1.53125
           ]
          },
          {
           "marker": {
            "size": [
             55
            ],
            "sizemode": "area",
            "sizeref": 0.2
           },
           "mode": "markers",
           "name": "product",
           "text": [
            "product"
           ],
           "x": [
            16
           ],
           "y": [
            3.4375
           ]
          },
          {
           "marker": {
            "size": [
             31
            ],
            "sizemode": "area",
            "sizeref": 0.2
           },
           "mode": "markers",
           "name": "market",
           "text": [
            "market"
           ],
           "x": [
            12
           ],
           "y": [
            2.5833333333333335
           ]
          },
          {
           "marker": {
            "size": [
             42
            ],
            "sizemode": "area",
            "sizeref": 0.2
           },
           "mode": "markers",
           "name": "results",
           "text": [
            "results"
           ],
           "x": [
            32
           ],
           "y": [
            1.3125
           ]
          },
          {
           "marker": {
            "size": [
             27
            ],
            "sizemode": "area",
            "sizeref": 0.2
           },
           "mode": "markers",
           "name": "firm",
           "text": [
            "firm"
           ],
           "x": [
            12
           ],
           "y": [
            2.25
           ]
          },
          {
           "marker": {
            "size": [
             11
            ],
            "sizemode": "area",
            "sizeref": 0.2
           },
           "mode": "markers",
           "name": "using",
           "text": [
            "using"
           ],
           "x": [
            6
           ],
           "y": [
            1.8333333333333333
           ]
          },
          {
           "marker": {
            "size": [
             27
            ],
            "sizemode": "area",
            "sizeref": 0.2
           },
           "mode": "markers",
           "name": "data",
           "text": [
            "data"
           ],
           "x": [
            10
           ],
           "y": [
            2.7
           ]
          },
          {
           "marker": {
            "size": [
             43
            ],
            "sizemode": "area",
            "sizeref": 0.2
           },
           "mode": "markers",
           "name": "risk",
           "text": [
            "risk"
           ],
           "x": [
            14
           ],
           "y": [
            3.0714285714285716
           ]
          },
          {
           "marker": {
            "size": [
             17
            ],
            "sizemode": "area",
            "sizeref": 0.2
           },
           "mode": "markers",
           "name": "effect",
           "text": [
            "effect"
           ],
           "x": [
            8
           ],
           "y": [
            2.125
           ]
          },
          {
           "marker": {
            "size": [
             37
            ],
            "sizemode": "area",
            "sizeref": 0.2
           },
           "mode": "markers",
           "name": "price",
           "text": [
            "price"
           ],
           "x": [
            12
           ],
           "y": [
            3.0833333333333335
           ]
          },
          {
           "marker": {
            "size": [
             27
            ],
            "sizemode": "area",
            "sizeref": 0.2
           },
           "mode": "markers",
           "name": "optimal",
           "text": [
            "optimal"
           ],
           "x": [
            12
           ],
           "y": [
            2.25
           ]
          },
          {
           "marker": {
            "size": [
             22
            ],
            "sizemode": "area",
            "sizeref": 0.2
           },
           "mode": "markers",
           "name": "performance",
           "text": [
            "performance"
           ],
           "x": [
            11
           ],
           "y": [
            2
           ]
          },
          {
           "marker": {
            "size": [
             30
            ],
            "sizemode": "area",
            "sizeref": 0.2
           },
           "mode": "markers",
           "name": "paper",
           "text": [
            "paper"
           ],
           "x": [
            22
           ],
           "y": [
            1.3636363636363635
           ]
          },
          {
           "marker": {
            "size": [
             10
            ],
            "sizemode": "area",
            "sizeref": 0.2
           },
           "mode": "markers",
           "name": "study",
           "text": [
            "study"
           ],
           "x": [
            5
           ],
           "y": [
            2
           ]
          },
          {
           "marker": {
            "size": [
             18
            ],
            "sizemode": "area",
            "sizeref": 0.2
           },
           "mode": "markers",
           "name": "higher",
           "text": [
            "higher"
           ],
           "x": [
            8
           ],
           "y": [
            2.25
           ]
          },
          {
           "marker": {
            "size": [
             35
            ],
            "sizemode": "area",
            "sizeref": 0.2
           },
           "mode": "markers",
           "name": "demand",
           "text": [
            "demand"
           ],
           "x": [
            9
           ],
           "y": [
            3.888888888888889
           ]
          },
          {
           "marker": {
            "size": [
             11
            ],
            "sizemode": "area",
            "sizeref": 0.2
           },
           "mode": "markers",
           "name": "new",
           "text": [
            "new"
           ],
           "x": [
            5
           ],
           "y": [
            2.2
           ]
          }
         ],
         "name": "2012"
        },
        {
         "data": [
          {
           "marker": {
            "size": [
             60
            ],
            "sizemode": "area",
            "sizeref": 0.2
           },
           "mode": "markers",
           "name": "find",
           "text": [
            "find"
           ],
           "x": [
            33
           ],
           "y": [
            1.8181818181818181
           ]
          },
          {
           "marker": {
            "size": [
             87
            ],
            "sizemode": "area",
            "sizeref": 0.2
           },
           "mode": "markers",
           "name": "firms",
           "text": [
            "firms"
           ],
           "x": [
            26
           ],
           "y": [
            3.3461538461538463
           ]
          },
          {
           "marker": {
            "size": [
             33
            ],
            "sizemode": "area",
            "sizeref": 0.2
           },
           "mode": "markers",
           "name": "information",
           "text": [
            "information"
           ],
           "x": [
            10
           ],
           "y": [
            3.3
           ]
          },
          {
           "marker": {
            "size": [
             50
            ],
            "sizemode": "area",
            "sizeref": 0.2
           },
           "mode": "markers",
           "name": "show",
           "text": [
            "show"
           ],
           "x": [
            35
           ],
           "y": [
            1.4285714285714286
           ]
          },
          {
           "marker": {
            "size": [
             35
            ],
            "sizemode": "area",
            "sizeref": 0.2
           },
           "mode": "markers",
           "name": "product",
           "text": [
            "product"
           ],
           "x": [
            14
           ],
           "y": [
            2.5
           ]
          },
          {
           "marker": {
            "size": [
             50
            ],
            "sizemode": "area",
            "sizeref": 0.2
           },
           "mode": "markers",
           "name": "market",
           "text": [
            "market"
           ],
           "x": [
            18
           ],
           "y": [
            2.7777777777777777
           ]
          },
          {
           "marker": {
            "size": [
             31
            ],
            "sizemode": "area",
            "sizeref": 0.2
           },
           "mode": "markers",
           "name": "results",
           "text": [
            "results"
           ],
           "x": [
            24
           ],
           "y": [
            1.2916666666666667
           ]
          },
          {
           "marker": {
            "size": [
             53
            ],
            "sizemode": "area",
            "sizeref": 0.2
           },
           "mode": "markers",
           "name": "firm",
           "text": [
            "firm"
           ],
           "x": [
            16
           ],
           "y": [
            3.3125
           ]
          },
          {
           "marker": {
            "size": [
             25
            ],
            "sizemode": "area",
            "sizeref": 0.2
           },
           "mode": "markers",
           "name": "using",
           "text": [
            "using"
           ],
           "x": [
            14
           ],
           "y": [
            1.7857142857142858
           ]
          },
          {
           "marker": {
            "size": [
             14
            ],
            "sizemode": "area",
            "sizeref": 0.2
           },
           "mode": "markers",
           "name": "data",
           "text": [
            "data"
           ],
           "x": [
            6
           ],
           "y": [
            2.3333333333333335
           ]
          },
          {
           "marker": {
            "size": [
             41
            ],
            "sizemode": "area",
            "sizeref": 0.2
           },
           "mode": "markers",
           "name": "risk",
           "text": [
            "risk"
           ],
           "x": [
            8
           ],
           "y": [
            5.125
           ]
          },
          {
           "marker": {
            "size": [
             26
            ],
            "sizemode": "area",
            "sizeref": 0.2
           },
           "mode": "markers",
           "name": "effect",
           "text": [
            "effect"
           ],
           "x": [
            9
           ],
           "y": [
            2.888888888888889
           ]
          },
          {
           "marker": {
            "size": [
             41
            ],
            "sizemode": "area",
            "sizeref": 0.2
           },
           "mode": "markers",
           "name": "price",
           "text": [
            "price"
           ],
           "x": [
            10
           ],
           "y": [
            4.1
           ]
          },
          {
           "marker": {
            "size": [
             35
            ],
            "sizemode": "area",
            "sizeref": 0.2
           },
           "mode": "markers",
           "name": "optimal",
           "text": [
            "optimal"
           ],
           "x": [
            14
           ],
           "y": [
            2.5
           ]
          },
          {
           "marker": {
            "size": [
             24
            ],
            "sizemode": "area",
            "sizeref": 0.2
           },
           "mode": "markers",
           "name": "performance",
           "text": [
            "performance"
           ],
           "x": [
            8
           ],
           "y": [
            3
           ]
          },
          {
           "marker": {
            "size": [
             22
            ],
            "sizemode": "area",
            "sizeref": 0.2
           },
           "mode": "markers",
           "name": "paper",
           "text": [
            "paper"
           ],
           "x": [
            20
           ],
           "y": [
            1.1
           ]
          },
          {
           "marker": {
            "size": [
             3
            ],
            "sizemode": "area",
            "sizeref": 0.2
           },
           "mode": "markers",
           "name": "study",
           "text": [
            "study"
           ],
           "x": [
            2
           ],
           "y": [
            1.5
           ]
          },
          {
           "marker": {
            "size": [
             24
            ],
            "sizemode": "area",
            "sizeref": 0.2
           },
           "mode": "markers",
           "name": "higher",
           "text": [
            "higher"
           ],
           "x": [
            11
           ],
           "y": [
            2.1818181818181817
           ]
          },
          {
           "marker": {
            "size": [
             21
            ],
            "sizemode": "area",
            "sizeref": 0.2
           },
           "mode": "markers",
           "name": "demand",
           "text": [
            "demand"
           ],
           "x": [
            7
           ],
           "y": [
            3
           ]
          },
          {
           "marker": {
            "size": [
             17
            ],
            "sizemode": "area",
            "sizeref": 0.2
           },
           "mode": "markers",
           "name": "new",
           "text": [
            "new"
           ],
           "x": [
            6
           ],
           "y": [
            2.8333333333333335
           ]
          }
         ],
         "name": "2013"
        },
        {
         "data": [
          {
           "marker": {
            "size": [
             74
            ],
            "sizemode": "area",
            "sizeref": 0.2
           },
           "mode": "markers",
           "name": "find",
           "text": [
            "find"
           ],
           "x": [
            44
           ],
           "y": [
            1.6818181818181819
           ]
          },
          {
           "marker": {
            "size": [
             65
            ],
            "sizemode": "area",
            "sizeref": 0.2
           },
           "mode": "markers",
           "name": "firms",
           "text": [
            "firms"
           ],
           "x": [
            22
           ],
           "y": [
            2.9545454545454546
           ]
          },
          {
           "marker": {
            "size": [
             62
            ],
            "sizemode": "area",
            "sizeref": 0.2
           },
           "mode": "markers",
           "name": "information",
           "text": [
            "information"
           ],
           "x": [
            21
           ],
           "y": [
            2.9523809523809526
           ]
          },
          {
           "marker": {
            "size": [
             68
            ],
            "sizemode": "area",
            "sizeref": 0.2
           },
           "mode": "markers",
           "name": "show",
           "text": [
            "show"
           ],
           "x": [
            44
           ],
           "y": [
            1.5454545454545454
           ]
          },
          {
           "marker": {
            "size": [
             50
            ],
            "sizemode": "area",
            "sizeref": 0.2
           },
           "mode": "markers",
           "name": "product",
           "text": [
            "product"
           ],
           "x": [
            13
           ],
           "y": [
            3.8461538461538463
           ]
          },
          {
           "marker": {
            "size": [
             59
            ],
            "sizemode": "area",
            "sizeref": 0.2
           },
           "mode": "markers",
           "name": "market",
           "text": [
            "market"
           ],
           "x": [
            26
           ],
           "y": [
            2.269230769230769
           ]
          },
          {
           "marker": {
            "size": [
             40
            ],
            "sizemode": "area",
            "sizeref": 0.2
           },
           "mode": "markers",
           "name": "results",
           "text": [
            "results"
           ],
           "x": [
            32
           ],
           "y": [
            1.25
           ]
          },
          {
           "marker": {
            "size": [
             58
            ],
            "sizemode": "area",
            "sizeref": 0.2
           },
           "mode": "markers",
           "name": "firm",
           "text": [
            "firm"
           ],
           "x": [
            23
           ],
           "y": [
            2.5217391304347827
           ]
          },
          {
           "marker": {
            "size": [
             19
            ],
            "sizemode": "area",
            "sizeref": 0.2
           },
           "mode": "markers",
           "name": "using",
           "text": [
            "using"
           ],
           "x": [
            7
           ],
           "y": [
            2.7142857142857144
           ]
          },
          {
           "marker": {
            "size": [
             28
            ],
            "sizemode": "area",
            "sizeref": 0.2
           },
           "mode": "markers",
           "name": "data",
           "text": [
            "data"
           ],
           "x": [
            13
           ],
           "y": [
            2.1538461538461537
           ]
          },
          {
           "marker": {
            "size": [
             66
            ],
            "sizemode": "area",
            "sizeref": 0.2
           },
           "mode": "markers",
           "name": "risk",
           "text": [
            "risk"
           ],
           "x": [
            19
           ],
           "y": [
            3.473684210526316
           ]
          },
          {
           "marker": {
            "size": [
             26
            ],
            "sizemode": "area",
            "sizeref": 0.2
           },
           "mode": "markers",
           "name": "effect",
           "text": [
            "effect"
           ],
           "x": [
            10
           ],
           "y": [
            2.6
           ]
          },
          {
           "marker": {
            "size": [
             50
            ],
            "sizemode": "area",
            "sizeref": 0.2
           },
           "mode": "markers",
           "name": "price",
           "text": [
            "price"
           ],
           "x": [
            15
           ],
           "y": [
            3.3333333333333335
           ]
          },
          {
           "marker": {
            "size": [
             24
            ],
            "sizemode": "area",
            "sizeref": 0.2
           },
           "mode": "markers",
           "name": "optimal",
           "text": [
            "optimal"
           ],
           "x": [
            11
           ],
           "y": [
            2.1818181818181817
           ]
          },
          {
           "marker": {
            "size": [
             28
            ],
            "sizemode": "area",
            "sizeref": 0.2
           },
           "mode": "markers",
           "name": "performance",
           "text": [
            "performance"
           ],
           "x": [
            9
           ],
           "y": [
            3.111111111111111
           ]
          },
          {
           "marker": {
            "size": [
             33
            ],
            "sizemode": "area",
            "sizeref": 0.2
           },
           "mode": "markers",
           "name": "paper",
           "text": [
            "paper"
           ],
           "x": [
            29
           ],
           "y": [
            1.1379310344827587
           ]
          },
          {
           "marker": {
            "size": [
             14
            ],
            "sizemode": "area",
            "sizeref": 0.2
           },
           "mode": "markers",
           "name": "study",
           "text": [
            "study"
           ],
           "x": [
            6
           ],
           "y": [
            2.3333333333333335
           ]
          },
          {
           "marker": {
            "size": [
             21
            ],
            "sizemode": "area",
            "sizeref": 0.2
           },
           "mode": "markers",
           "name": "higher",
           "text": [
            "higher"
           ],
           "x": [
            9
           ],
           "y": [
            2.3333333333333335
           ]
          },
          {
           "marker": {
            "size": [
             44
            ],
            "sizemode": "area",
            "sizeref": 0.2
           },
           "mode": "markers",
           "name": "demand",
           "text": [
            "demand"
           ],
           "x": [
            14
           ],
           "y": [
            3.142857142857143
           ]
          },
          {
           "marker": {
            "size": [
             33
            ],
            "sizemode": "area",
            "sizeref": 0.2
           },
           "mode": "markers",
           "name": "new",
           "text": [
            "new"
           ],
           "x": [
            11
           ],
           "y": [
            3
           ]
          }
         ],
         "name": "2014"
        },
        {
         "data": [
          {
           "marker": {
            "size": [
             102
            ],
            "sizemode": "area",
            "sizeref": 0.2
           },
           "mode": "markers",
           "name": "find",
           "text": [
            "find"
           ],
           "x": [
            54
           ],
           "y": [
            1.8888888888888888
           ]
          },
          {
           "marker": {
            "size": [
             103
            ],
            "sizemode": "area",
            "sizeref": 0.2
           },
           "mode": "markers",
           "name": "firms",
           "text": [
            "firms"
           ],
           "x": [
            31
           ],
           "y": [
            3.3225806451612905
           ]
          },
          {
           "marker": {
            "size": [
             91
            ],
            "sizemode": "area",
            "sizeref": 0.2
           },
           "mode": "markers",
           "name": "information",
           "text": [
            "information"
           ],
           "x": [
            25
           ],
           "y": [
            3.64
           ]
          },
          {
           "marker": {
            "size": [
             63
            ],
            "sizemode": "area",
            "sizeref": 0.2
           },
           "mode": "markers",
           "name": "show",
           "text": [
            "show"
           ],
           "x": [
            46
           ],
           "y": [
            1.3695652173913044
           ]
          },
          {
           "marker": {
            "size": [
             41
            ],
            "sizemode": "area",
            "sizeref": 0.2
           },
           "mode": "markers",
           "name": "product",
           "text": [
            "product"
           ],
           "x": [
            11
           ],
           "y": [
            3.727272727272727
           ]
          },
          {
           "marker": {
            "size": [
             33
            ],
            "sizemode": "area",
            "sizeref": 0.2
           },
           "mode": "markers",
           "name": "market",
           "text": [
            "market"
           ],
           "x": [
            16
           ],
           "y": [
            2.0625
           ]
          },
          {
           "marker": {
            "size": [
             58
            ],
            "sizemode": "area",
            "sizeref": 0.2
           },
           "mode": "markers",
           "name": "results",
           "text": [
            "results"
           ],
           "x": [
            39
           ],
           "y": [
            1.4871794871794872
           ]
          },
          {
           "marker": {
            "size": [
             45
            ],
            "sizemode": "area",
            "sizeref": 0.2
           },
           "mode": "markers",
           "name": "firm",
           "text": [
            "firm"
           ],
           "x": [
            17
           ],
           "y": [
            2.6470588235294117
           ]
          },
          {
           "marker": {
            "size": [
             29
            ],
            "sizemode": "area",
            "sizeref": 0.2
           },
           "mode": "markers",
           "name": "using",
           "text": [
            "using"
           ],
           "x": [
            15
           ],
           "y": [
            1.9333333333333333
           ]
          },
          {
           "marker": {
            "size": [
             15
            ],
            "sizemode": "area",
            "sizeref": 0.2
           },
           "mode": "markers",
           "name": "data",
           "text": [
            "data"
           ],
           "x": [
            7
           ],
           "y": [
            2.142857142857143
           ]
          },
          {
           "marker": {
            "size": [
             51
            ],
            "sizemode": "area",
            "sizeref": 0.2
           },
           "mode": "markers",
           "name": "risk",
           "text": [
            "risk"
           ],
           "x": [
            13
           ],
           "y": [
            3.923076923076923
           ]
          },
          {
           "marker": {
            "size": [
             40
            ],
            "sizemode": "area",
            "sizeref": 0.2
           },
           "mode": "markers",
           "name": "effect",
           "text": [
            "effect"
           ],
           "x": [
            18
           ],
           "y": [
            2.2222222222222223
           ]
          },
          {
           "marker": {
            "size": [
             27
            ],
            "sizemode": "area",
            "sizeref": 0.2
           },
           "mode": "markers",
           "name": "price",
           "text": [
            "price"
           ],
           "x": [
            10
           ],
           "y": [
            2.7
           ]
          },
          {
           "marker": {
            "size": [
             40
            ],
            "sizemode": "area",
            "sizeref": 0.2
           },
           "mode": "markers",
           "name": "optimal",
           "text": [
            "optimal"
           ],
           "x": [
            16
           ],
           "y": [
            2.5
           ]
          },
          {
           "marker": {
            "size": [
             35
            ],
            "sizemode": "area",
            "sizeref": 0.2
           },
           "mode": "markers",
           "name": "performance",
           "text": [
            "performance"
           ],
           "x": [
            12
           ],
           "y": [
            2.9166666666666665
           ]
          },
          {
           "marker": {
            "size": [
             20
            ],
            "sizemode": "area",
            "sizeref": 0.2
           },
           "mode": "markers",
           "name": "paper",
           "text": [
            "paper"
           ],
           "x": [
            18
           ],
           "y": [
            1.1111111111111112
           ]
          },
          {
           "marker": {
            "size": [
             19
            ],
            "sizemode": "area",
            "sizeref": 0.2
           },
           "mode": "markers",
           "name": "study",
           "text": [
            "study"
           ],
           "x": [
            10
           ],
           "y": [
            1.9
           ]
          },
          {
           "marker": {
            "size": [
             13
            ],
            "sizemode": "area",
            "sizeref": 0.2
           },
           "mode": "markers",
           "name": "higher",
           "text": [
            "higher"
           ],
           "x": [
            6
           ],
           "y": [
            2.1666666666666665
           ]
          },
          {
           "marker": {
            "size": [
             43
            ],
            "sizemode": "area",
            "sizeref": 0.2
           },
           "mode": "markers",
           "name": "demand",
           "text": [
            "demand"
           ],
           "x": [
            14
           ],
           "y": [
            3.0714285714285716
           ]
          },
          {
           "marker": {
            "size": [
             28
            ],
            "sizemode": "area",
            "sizeref": 0.2
           },
           "mode": "markers",
           "name": "new",
           "text": [
            "new"
           ],
           "x": [
            10
           ],
           "y": [
            2.8
           ]
          }
         ],
         "name": "2015"
        },
        {
         "data": [
          {
           "marker": {
            "size": [
             26
            ],
            "sizemode": "area",
            "sizeref": 0.2
           },
           "mode": "markers",
           "name": "find",
           "text": [
            "find"
           ],
           "x": [
            16
           ],
           "y": [
            1.625
           ]
          },
          {
           "marker": {
            "size": [
             27
            ],
            "sizemode": "area",
            "sizeref": 0.2
           },
           "mode": "markers",
           "name": "firms",
           "text": [
            "firms"
           ],
           "x": [
            9
           ],
           "y": [
            3
           ]
          },
          {
           "marker": {
            "size": [
             40
            ],
            "sizemode": "area",
            "sizeref": 0.2
           },
           "mode": "markers",
           "name": "information",
           "text": [
            "information"
           ],
           "x": [
            9
           ],
           "y": [
            4.444444444444445
           ]
          },
          {
           "marker": {
            "size": [
             22
            ],
            "sizemode": "area",
            "sizeref": 0.2
           },
           "mode": "markers",
           "name": "show",
           "text": [
            "show"
           ],
           "x": [
            16
           ],
           "y": [
            1.375
           ]
          },
          {
           "marker": {
            "size": [
             26
            ],
            "sizemode": "area",
            "sizeref": 0.2
           },
           "mode": "markers",
           "name": "product",
           "text": [
            "product"
           ],
           "x": [
            8
           ],
           "y": [
            3.25
           ]
          },
          {
           "marker": {
            "size": [
             30
            ],
            "sizemode": "area",
            "sizeref": 0.2
           },
           "mode": "markers",
           "name": "market",
           "text": [
            "market"
           ],
           "x": [
            14
           ],
           "y": [
            2.142857142857143
           ]
          },
          {
           "marker": {
            "size": [
             22
            ],
            "sizemode": "area",
            "sizeref": 0.2
           },
           "mode": "markers",
           "name": "results",
           "text": [
            "results"
           ],
           "x": [
            19
           ],
           "y": [
            1.1578947368421053
           ]
          },
          {
           "marker": {
            "size": [
             11
            ],
            "sizemode": "area",
            "sizeref": 0.2
           },
           "mode": "markers",
           "name": "firm",
           "text": [
            "firm"
           ],
           "x": [
            4
           ],
           "y": [
            2.75
           ]
          },
          {
           "marker": {
            "size": [
             8
            ],
            "sizemode": "area",
            "sizeref": 0.2
           },
           "mode": "markers",
           "name": "using",
           "text": [
            "using"
           ],
           "x": [
            5
           ],
           "y": [
            1.6
           ]
          },
          {
           "marker": {
            "size": [
             9
            ],
            "sizemode": "area",
            "sizeref": 0.2
           },
           "mode": "markers",
           "name": "data",
           "text": [
            "data"
           ],
           "x": [
            4
           ],
           "y": [
            2.25
           ]
          },
          {
           "marker": {
            "size": [
             15
            ],
            "sizemode": "area",
            "sizeref": 0.2
           },
           "mode": "markers",
           "name": "risk",
           "text": [
            "risk"
           ],
           "x": [
            5
           ],
           "y": [
            3
           ]
          },
          {
           "marker": {
            "size": [
             9
            ],
            "sizemode": "area",
            "sizeref": 0.2
           },
           "mode": "markers",
           "name": "effect",
           "text": [
            "effect"
           ],
           "x": [
            4
           ],
           "y": [
            2.25
           ]
          },
          {
           "marker": {
            "size": [
             16
            ],
            "sizemode": "area",
            "sizeref": 0.2
           },
           "mode": "markers",
           "name": "price",
           "text": [
            "price"
           ],
           "x": [
            4
           ],
           "y": [
            4
           ]
          },
          {
           "marker": {
            "size": [
             12
            ],
            "sizemode": "area",
            "sizeref": 0.2
           },
           "mode": "markers",
           "name": "optimal",
           "text": [
            "optimal"
           ],
           "x": [
            6
           ],
           "y": [
            2
           ]
          },
          {
           "marker": {
            "size": [
             14
            ],
            "sizemode": "area",
            "sizeref": 0.2
           },
           "mode": "markers",
           "name": "performance",
           "text": [
            "performance"
           ],
           "x": [
            6
           ],
           "y": [
            2.3333333333333335
           ]
          },
          {
           "marker": {
            "size": [
             10
            ],
            "sizemode": "area",
            "sizeref": 0.2
           },
           "mode": "markers",
           "name": "paper",
           "text": [
            "paper"
           ],
           "x": [
            8
           ],
           "y": [
            1.25
           ]
          },
          {
           "marker": {
            "size": [
             10
            ],
            "sizemode": "area",
            "sizeref": 0.2
           },
           "mode": "markers",
           "name": "study",
           "text": [
            "study"
           ],
           "x": [
            5
           ],
           "y": [
            2
           ]
          },
          {
           "marker": {
            "size": [
             18
            ],
            "sizemode": "area",
            "sizeref": 0.2
           },
           "mode": "markers",
           "name": "higher",
           "text": [
            "higher"
           ],
           "x": [
            8
           ],
           "y": [
            2.25
           ]
          },
          {
           "marker": {
            "size": [
             2
            ],
            "sizemode": "area",
            "sizeref": 0.2
           },
           "mode": "markers",
           "name": "demand",
           "text": [
            "demand"
           ],
           "x": [
            1
           ],
           "y": [
            2
           ]
          },
          {
           "marker": {
            "size": [
             11
            ],
            "sizemode": "area",
            "sizeref": 0.2
           },
           "mode": "markers",
           "name": "new",
           "text": [
            "new"
           ],
           "x": [
            4
           ],
           "y": [
            2.75
           ]
          }
         ],
         "name": "2016"
        }
       ],
       "layout": {
        "hovermode": "closest",
        "sliders": [
         {
          "active": 0,
          "currentvalue": {
           "font": {
            "size": 20
           },
           "prefix": "Year:",
           "visible": true,
           "xanchor": "right"
          },
          "len": 0.9,
          "pad": {
           "b": 10,
           "t": 50
          },
          "steps": [
           {
            "args": [
             [
              2010
             ],
             {
              "frame": {
               "duration": 300,
               "redraw": false
              },
              "mode": "immediate",
              "transition": {
               "duration": 300
              }
             }
            ],
            "label": 2010,
            "method": "animate"
           },
           {
            "args": [
             [
              2011
             ],
             {
              "frame": {
               "duration": 300,
               "redraw": false
              },
              "mode": "immediate",
              "transition": {
               "duration": 300
              }
             }
            ],
            "label": 2011,
            "method": "animate"
           },
           {
            "args": [
             [
              2012
             ],
             {
              "frame": {
               "duration": 300,
               "redraw": false
              },
              "mode": "immediate",
              "transition": {
               "duration": 300
              }
             }
            ],
            "label": 2012,
            "method": "animate"
           },
           {
            "args": [
             [
              2013
             ],
             {
              "frame": {
               "duration": 300,
               "redraw": false
              },
              "mode": "immediate",
              "transition": {
               "duration": 300
              }
             }
            ],
            "label": 2013,
            "method": "animate"
           },
           {
            "args": [
             [
              2014
             ],
             {
              "frame": {
               "duration": 300,
               "redraw": false
              },
              "mode": "immediate",
              "transition": {
               "duration": 300
              }
             }
            ],
            "label": 2014,
            "method": "animate"
           },
           {
            "args": [
             [
              2015
             ],
             {
              "frame": {
               "duration": 300,
               "redraw": false
              },
              "mode": "immediate",
              "transition": {
               "duration": 300
              }
             }
            ],
            "label": 2015,
            "method": "animate"
           },
           {
            "args": [
             [
              2016
             ],
             {
              "frame": {
               "duration": 300,
               "redraw": false
              },
              "mode": "immediate",
              "transition": {
               "duration": 300
              }
             }
            ],
            "label": 2016,
            "method": "animate"
           }
          ],
          "transition": {
           "duration": 300,
           "easing": "cubic-in-out"
          },
          "x": 0.1,
          "xanchor": "left",
          "y": 0,
          "yanchor": "top"
         }
        ],
        "updatemenus": [
         {
          "buttons": [
           {
            "args": [
             null,
             {
              "frame": {
               "duration": 500,
               "redraw": false
              },
              "fromcurrent": true,
              "transition": {
               "duration": 300,
               "easing": "quadratic-in-out"
              }
             }
            ],
            "label": "Play",
            "method": "animate"
           },
           {
            "args": [
             [
              null
             ],
             {
              "frame": {
               "duration": 0,
               "redraw": false
              },
              "mode": "immediate",
              "transition": {
               "duration": 0
              }
             }
            ],
            "label": "Pause",
            "method": "animate"
           }
          ],
          "direction": "left",
          "pad": {
           "r": 10,
           "t": 87
          },
          "showactive": false,
          "type": "buttons",
          "x": 0.1,
          "xanchor": "right",
          "y": 0,
          "yanchor": "top"
         }
        ],
        "xaxis": {
         "range": [
          0,
          60
         ],
         "title": "Number of Publications"
        },
        "yaxis": {
         "range": [
          0,
          6
         ],
         "title": "Freq per publication",
         "type": "float"
        }
       }
      },
      "text/html": [
       "<div id=\"531a1a5d-2caa-4bc3-b6ca-cdb10d69ba49\" style=\"height: 525px; width: 100%;\" class=\"plotly-graph-div\"></div><script type=\"text/javascript\">require([\"plotly\"], function(Plotly) { window.PLOTLYENV=window.PLOTLYENV || {};window.PLOTLYENV.BASE_URL=\"https://plot.ly\";\n",
       "        Plotly.plot(\n",
       "            '531a1a5d-2caa-4bc3-b6ca-cdb10d69ba49',\n",
       "            [{\"name\": \"find\", \"text\": [\"find\"], \"y\": [0.0], \"mode\": \"markers\", \"marker\": {\"sizemode\": \"area\", \"sizeref\": 0.2, \"size\": [0.0]}, \"x\": [0]}, {\"name\": \"firms\", \"text\": [\"firms\"], \"y\": [3.0], \"mode\": \"markers\", \"marker\": {\"sizemode\": \"area\", \"sizeref\": 0.2, \"size\": [3.0]}, \"x\": [1]}, {\"name\": \"information\", \"text\": [\"information\"], \"y\": [0.0], \"mode\": \"markers\", \"marker\": {\"sizemode\": \"area\", \"sizeref\": 0.2, \"size\": [0.0]}, \"x\": [0]}, {\"name\": \"show\", \"text\": [\"show\"], \"y\": [0.0], \"mode\": \"markers\", \"marker\": {\"sizemode\": \"area\", \"sizeref\": 0.2, \"size\": [0.0]}, \"x\": [0]}, {\"name\": \"product\", \"text\": [\"product\"], \"y\": [0.0], \"mode\": \"markers\", \"marker\": {\"sizemode\": \"area\", \"sizeref\": 0.2, \"size\": [0.0]}, \"x\": [0]}, {\"name\": \"market\", \"text\": [\"market\"], \"y\": [0.0], \"mode\": \"markers\", \"marker\": {\"sizemode\": \"area\", \"sizeref\": 0.2, \"size\": [0.0]}, \"x\": [0]}, {\"name\": \"results\", \"text\": [\"results\"], \"y\": [0.0], \"mode\": \"markers\", \"marker\": {\"sizemode\": \"area\", \"sizeref\": 0.2, \"size\": [0.0]}, \"x\": [0]}, {\"name\": \"firm\", \"text\": [\"firm\"], \"y\": [0.0], \"mode\": \"markers\", \"marker\": {\"sizemode\": \"area\", \"sizeref\": 0.2, \"size\": [0.0]}, \"x\": [0]}, {\"name\": \"using\", \"text\": [\"using\"], \"y\": [0.0], \"mode\": \"markers\", \"marker\": {\"sizemode\": \"area\", \"sizeref\": 0.2, \"size\": [0.0]}, \"x\": [0]}, {\"name\": \"data\", \"text\": [\"data\"], \"y\": [3.0], \"mode\": \"markers\", \"marker\": {\"sizemode\": \"area\", \"sizeref\": 0.2, \"size\": [3.0]}, \"x\": [1]}, {\"name\": \"risk\", \"text\": [\"risk\"], \"y\": [2.0], \"mode\": \"markers\", \"marker\": {\"sizemode\": \"area\", \"sizeref\": 0.2, \"size\": [2.0]}, \"x\": [1]}, {\"name\": \"effect\", \"text\": [\"effect\"], \"y\": [0.0], \"mode\": \"markers\", \"marker\": {\"sizemode\": \"area\", \"sizeref\": 0.2, \"size\": [0.0]}, \"x\": [0]}, {\"name\": \"price\", \"text\": [\"price\"], \"y\": [0.0], \"mode\": \"markers\", \"marker\": {\"sizemode\": \"area\", \"sizeref\": 0.2, \"size\": [0.0]}, \"x\": [0]}, {\"name\": \"optimal\", \"text\": [\"optimal\"], \"y\": [0.0], \"mode\": \"markers\", \"marker\": {\"sizemode\": \"area\", \"sizeref\": 0.2, \"size\": [0.0]}, \"x\": [0]}, {\"name\": \"performance\", \"text\": [\"performance\"], \"y\": [0.0], \"mode\": \"markers\", \"marker\": {\"sizemode\": \"area\", \"sizeref\": 0.2, \"size\": [0.0]}, \"x\": [0]}, {\"name\": \"paper\", \"text\": [\"paper\"], \"y\": [1.0], \"mode\": \"markers\", \"marker\": {\"sizemode\": \"area\", \"sizeref\": 0.2, \"size\": [1.0]}, \"x\": [1]}, {\"name\": \"study\", \"text\": [\"study\"], \"y\": [0.0], \"mode\": \"markers\", \"marker\": {\"sizemode\": \"area\", \"sizeref\": 0.2, \"size\": [0.0]}, \"x\": [0]}, {\"name\": \"higher\", \"text\": [\"higher\"], \"y\": [0.0], \"mode\": \"markers\", \"marker\": {\"sizemode\": \"area\", \"sizeref\": 0.2, \"size\": [0.0]}, \"x\": [0]}, {\"name\": \"demand\", \"text\": [\"demand\"], \"y\": [0.0], \"mode\": \"markers\", \"marker\": {\"sizemode\": \"area\", \"sizeref\": 0.2, \"size\": [0.0]}, \"x\": [0]}, {\"name\": \"new\", \"text\": [\"new\"], \"y\": [0.0], \"mode\": \"markers\", \"marker\": {\"sizemode\": \"area\", \"sizeref\": 0.2, \"size\": [0.0]}, \"x\": [0]}],\n",
       "            {\"sliders\": [{\"yanchor\": \"top\", \"currentvalue\": {\"visible\": true, \"prefix\": \"Year:\", \"font\": {\"size\": 20}, \"xanchor\": \"right\"}, \"transition\": {\"duration\": 300, \"easing\": \"cubic-in-out\"}, \"xanchor\": \"left\", \"pad\": {\"b\": 10, \"t\": 50}, \"len\": 0.9, \"active\": 0, \"steps\": [{\"args\": [[2010], {\"frame\": {\"duration\": 300, \"redraw\": false}, \"transition\": {\"duration\": 300}, \"mode\": \"immediate\"}], \"method\": \"animate\", \"label\": 2010}, {\"args\": [[2011], {\"frame\": {\"duration\": 300, \"redraw\": false}, \"transition\": {\"duration\": 300}, \"mode\": \"immediate\"}], \"method\": \"animate\", \"label\": 2011}, {\"args\": [[2012], {\"frame\": {\"duration\": 300, \"redraw\": false}, \"transition\": {\"duration\": 300}, \"mode\": \"immediate\"}], \"method\": \"animate\", \"label\": 2012}, {\"args\": [[2013], {\"frame\": {\"duration\": 300, \"redraw\": false}, \"transition\": {\"duration\": 300}, \"mode\": \"immediate\"}], \"method\": \"animate\", \"label\": 2013}, {\"args\": [[2014], {\"frame\": {\"duration\": 300, \"redraw\": false}, \"transition\": {\"duration\": 300}, \"mode\": \"immediate\"}], \"method\": \"animate\", \"label\": 2014}, {\"args\": [[2015], {\"frame\": {\"duration\": 300, \"redraw\": false}, \"transition\": {\"duration\": 300}, \"mode\": \"immediate\"}], \"method\": \"animate\", \"label\": 2015}, {\"args\": [[2016], {\"frame\": {\"duration\": 300, \"redraw\": false}, \"transition\": {\"duration\": 300}, \"mode\": \"immediate\"}], \"method\": \"animate\", \"label\": 2016}], \"y\": 0, \"x\": 0.1}], \"hovermode\": \"closest\", \"xaxis\": {\"range\": [0, 60], \"title\": \"Number of Publications\"}, \"updatemenus\": [{\"yanchor\": \"top\", \"direction\": \"left\", \"showactive\": false, \"xanchor\": \"right\", \"buttons\": [{\"args\": [null, {\"frame\": {\"duration\": 500, \"redraw\": false}, \"transition\": {\"duration\": 300, \"easing\": \"quadratic-in-out\"}, \"fromcurrent\": true}], \"method\": \"animate\", \"label\": \"Play\"}, {\"args\": [[null], {\"frame\": {\"duration\": 0, \"redraw\": false}, \"transition\": {\"duration\": 0}, \"mode\": \"immediate\"}], \"method\": \"animate\", \"label\": \"Pause\"}], \"pad\": {\"r\": 10, \"t\": 87}, \"y\": 0, \"x\": 0.1, \"type\": \"buttons\"}], \"yaxis\": {\"range\": [0, 6], \"type\": \"float\", \"title\": \"Freq per publication\"}},\n",
       "            {\"linkText\": \"Export to plot.ly\", \"showLink\": true}\n",
       "        ).then(function () {return Plotly.addFrames('531a1a5d-2caa-4bc3-b6ca-cdb10d69ba49',[{\"data\": [{\"name\": \"find\", \"text\": [\"find\"], \"y\": [0.0], \"mode\": \"markers\", \"marker\": {\"sizemode\": \"area\", \"sizeref\": 0.2, \"size\": [0.0]}, \"x\": [0]}, {\"name\": \"firms\", \"text\": [\"firms\"], \"y\": [2.0], \"mode\": \"markers\", \"marker\": {\"sizemode\": \"area\", \"sizeref\": 0.2, \"size\": [2.0]}, \"x\": [1]}, {\"name\": \"information\", \"text\": [\"information\"], \"y\": [0.0], \"mode\": \"markers\", \"marker\": {\"sizemode\": \"area\", \"sizeref\": 0.2, \"size\": [0.0]}, \"x\": [0]}, {\"name\": \"show\", \"text\": [\"show\"], \"y\": [0.0], \"mode\": \"markers\", \"marker\": {\"sizemode\": \"area\", \"sizeref\": 0.2, \"size\": [0.0]}, \"x\": [0]}, {\"name\": \"product\", \"text\": [\"product\"], \"y\": [0.0], \"mode\": \"markers\", \"marker\": {\"sizemode\": \"area\", \"sizeref\": 0.2, \"size\": [0.0]}, \"x\": [0]}, {\"name\": \"market\", \"text\": [\"market\"], \"y\": [2.0], \"mode\": \"markers\", \"marker\": {\"sizemode\": \"area\", \"sizeref\": 0.2, \"size\": [2.0]}, \"x\": [1]}, {\"name\": \"results\", \"text\": [\"results\"], \"y\": [1.0], \"mode\": \"markers\", \"marker\": {\"sizemode\": \"area\", \"sizeref\": 0.2, \"size\": [1.0]}, \"x\": [1]}, {\"name\": \"firm\", \"text\": [\"firm\"], \"y\": [0.0], \"mode\": \"markers\", \"marker\": {\"sizemode\": \"area\", \"sizeref\": 0.2, \"size\": [0.0]}, \"x\": [0]}, {\"name\": \"using\", \"text\": [\"using\"], \"y\": [0.0], \"mode\": \"markers\", \"marker\": {\"sizemode\": \"area\", \"sizeref\": 0.2, \"size\": [0.0]}, \"x\": [0]}, {\"name\": \"data\", \"text\": [\"data\"], \"y\": [0.0], \"mode\": \"markers\", \"marker\": {\"sizemode\": \"area\", \"sizeref\": 0.2, \"size\": [0.0]}, \"x\": [0]}, {\"name\": \"risk\", \"text\": [\"risk\"], \"y\": [0.0], \"mode\": \"markers\", \"marker\": {\"sizemode\": \"area\", \"sizeref\": 0.2, \"size\": [0.0]}, \"x\": [0]}, {\"name\": \"effect\", \"text\": [\"effect\"], \"y\": [0.0], \"mode\": \"markers\", \"marker\": {\"sizemode\": \"area\", \"sizeref\": 0.2, \"size\": [0.0]}, \"x\": [0]}, {\"name\": \"price\", \"text\": [\"price\"], \"y\": [0.0], \"mode\": \"markers\", \"marker\": {\"sizemode\": \"area\", \"sizeref\": 0.2, \"size\": [0.0]}, \"x\": [0]}, {\"name\": \"optimal\", \"text\": [\"optimal\"], \"y\": [0.0], \"mode\": \"markers\", \"marker\": {\"sizemode\": \"area\", \"sizeref\": 0.2, \"size\": [0.0]}, \"x\": [0]}, {\"name\": \"performance\", \"text\": [\"performance\"], \"y\": [0.0], \"mode\": \"markers\", \"marker\": {\"sizemode\": \"area\", \"sizeref\": 0.2, \"size\": [0.0]}, \"x\": [0]}, {\"name\": \"paper\", \"text\": [\"paper\"], \"y\": [0.0], \"mode\": \"markers\", \"marker\": {\"sizemode\": \"area\", \"sizeref\": 0.2, \"size\": [0.0]}, \"x\": [0]}, {\"name\": \"study\", \"text\": [\"study\"], \"y\": [0.0], \"mode\": \"markers\", \"marker\": {\"sizemode\": \"area\", \"sizeref\": 0.2, \"size\": [0.0]}, \"x\": [0]}, {\"name\": \"higher\", \"text\": [\"higher\"], \"y\": [0.0], \"mode\": \"markers\", \"marker\": {\"sizemode\": \"area\", \"sizeref\": 0.2, \"size\": [0.0]}, \"x\": [0]}, {\"name\": \"demand\", \"text\": [\"demand\"], \"y\": [0.0], \"mode\": \"markers\", \"marker\": {\"sizemode\": \"area\", \"sizeref\": 0.2, \"size\": [0.0]}, \"x\": [0]}, {\"name\": \"new\", \"text\": [\"new\"], \"y\": [0.0], \"mode\": \"markers\", \"marker\": {\"sizemode\": \"area\", \"sizeref\": 0.2, \"size\": [0.0]}, \"x\": [0]}], \"name\": \"2010\"}, {\"data\": [{\"name\": \"find\", \"text\": [\"find\"], \"y\": [1.75], \"mode\": \"markers\", \"marker\": {\"sizemode\": \"area\", \"sizeref\": 0.2, \"size\": [49.0]}, \"x\": [28]}, {\"name\": \"firms\", \"text\": [\"firms\"], \"y\": [3.4375], \"mode\": \"markers\", \"marker\": {\"sizemode\": \"area\", \"sizeref\": 0.2, \"size\": [55.0]}, \"x\": [16]}, {\"name\": \"information\", \"text\": [\"information\"], \"y\": [2.7333333333333334], \"mode\": \"markers\", \"marker\": {\"sizemode\": \"area\", \"sizeref\": 0.2, \"size\": [41.0]}, \"x\": [15]}, {\"name\": \"show\", \"text\": [\"show\"], \"y\": [1.36], \"mode\": \"markers\", \"marker\": {\"sizemode\": \"area\", \"sizeref\": 0.2, \"size\": [34.0]}, \"x\": [25]}, {\"name\": \"product\", \"text\": [\"product\"], \"y\": [4.384615384615385], \"mode\": \"markers\", \"marker\": {\"sizemode\": \"area\", \"sizeref\": 0.2, \"size\": [57.0]}, \"x\": [13]}, {\"name\": \"market\", \"text\": [\"market\"], \"y\": [2.588235294117647], \"mode\": \"markers\", \"marker\": {\"sizemode\": \"area\", \"sizeref\": 0.2, \"size\": [44.0]}, \"x\": [17]}, {\"name\": \"results\", \"text\": [\"results\"], \"y\": [1.25], \"mode\": \"markers\", \"marker\": {\"sizemode\": \"area\", \"sizeref\": 0.2, \"size\": [25.0]}, \"x\": [20]}, {\"name\": \"firm\", \"text\": [\"firm\"], \"y\": [2.6666666666666665], \"mode\": \"markers\", \"marker\": {\"sizemode\": \"area\", \"sizeref\": 0.2, \"size\": [40.0]}, \"x\": [15]}, {\"name\": \"using\", \"text\": [\"using\"], \"y\": [2.0], \"mode\": \"markers\", \"marker\": {\"sizemode\": \"area\", \"sizeref\": 0.2, \"size\": [10.0]}, \"x\": [5]}, {\"name\": \"data\", \"text\": [\"data\"], \"y\": [3.25], \"mode\": \"markers\", \"marker\": {\"sizemode\": \"area\", \"sizeref\": 0.2, \"size\": [13.0]}, \"x\": [4]}, {\"name\": \"risk\", \"text\": [\"risk\"], \"y\": [2.9], \"mode\": \"markers\", \"marker\": {\"sizemode\": \"area\", \"sizeref\": 0.2, \"size\": [29.0]}, \"x\": [10]}, {\"name\": \"effect\", \"text\": [\"effect\"], \"y\": [2.8], \"mode\": \"markers\", \"marker\": {\"sizemode\": \"area\", \"sizeref\": 0.2, \"size\": [14.0]}, \"x\": [5]}, {\"name\": \"price\", \"text\": [\"price\"], \"y\": [3.125], \"mode\": \"markers\", \"marker\": {\"sizemode\": \"area\", \"sizeref\": 0.2, \"size\": [25.0]}, \"x\": [8]}, {\"name\": \"optimal\", \"text\": [\"optimal\"], \"y\": [2.7857142857142856], \"mode\": \"markers\", \"marker\": {\"sizemode\": \"area\", \"sizeref\": 0.2, \"size\": [39.0]}, \"x\": [14]}, {\"name\": \"performance\", \"text\": [\"performance\"], \"y\": [2.1818181818181817], \"mode\": \"markers\", \"marker\": {\"sizemode\": \"area\", \"sizeref\": 0.2, \"size\": [24.0]}, \"x\": [11]}, {\"name\": \"paper\", \"text\": [\"paper\"], \"y\": [1.3333333333333333], \"mode\": \"markers\", \"marker\": {\"sizemode\": \"area\", \"sizeref\": 0.2, \"size\": [20.0]}, \"x\": [15]}, {\"name\": \"study\", \"text\": [\"study\"], \"y\": [2.0], \"mode\": \"markers\", \"marker\": {\"sizemode\": \"area\", \"sizeref\": 0.2, \"size\": [4.0]}, \"x\": [2]}, {\"name\": \"higher\", \"text\": [\"higher\"], \"y\": [2.6], \"mode\": \"markers\", \"marker\": {\"sizemode\": \"area\", \"sizeref\": 0.2, \"size\": [13.0]}, \"x\": [5]}, {\"name\": \"demand\", \"text\": [\"demand\"], \"y\": [2.111111111111111], \"mode\": \"markers\", \"marker\": {\"sizemode\": \"area\", \"sizeref\": 0.2, \"size\": [19.0]}, \"x\": [9]}, {\"name\": \"new\", \"text\": [\"new\"], \"y\": [2.4], \"mode\": \"markers\", \"marker\": {\"sizemode\": \"area\", \"sizeref\": 0.2, \"size\": [12.0]}, \"x\": [5]}], \"name\": \"2011\"}, {\"data\": [{\"name\": \"find\", \"text\": [\"find\"], \"y\": [1.84375], \"mode\": \"markers\", \"marker\": {\"sizemode\": \"area\", \"sizeref\": 0.2, \"size\": [59.0]}, \"x\": [32]}, {\"name\": \"firms\", \"text\": [\"firms\"], \"y\": [2.92], \"mode\": \"markers\", \"marker\": {\"sizemode\": \"area\", \"sizeref\": 0.2, \"size\": [73.0]}, \"x\": [25]}, {\"name\": \"information\", \"text\": [\"information\"], \"y\": [3.25], \"mode\": \"markers\", \"marker\": {\"sizemode\": \"area\", \"sizeref\": 0.2, \"size\": [52.0]}, \"x\": [16]}, {\"name\": \"show\", \"text\": [\"show\"], \"y\": [1.53125], \"mode\": \"markers\", \"marker\": {\"sizemode\": \"area\", \"sizeref\": 0.2, \"size\": [49.0]}, \"x\": [32]}, {\"name\": \"product\", \"text\": [\"product\"], \"y\": [3.4375], \"mode\": \"markers\", \"marker\": {\"sizemode\": \"area\", \"sizeref\": 0.2, \"size\": [55.0]}, \"x\": [16]}, {\"name\": \"market\", \"text\": [\"market\"], \"y\": [2.5833333333333335], \"mode\": \"markers\", \"marker\": {\"sizemode\": \"area\", \"sizeref\": 0.2, \"size\": [31.0]}, \"x\": [12]}, {\"name\": \"results\", \"text\": [\"results\"], \"y\": [1.3125], \"mode\": \"markers\", \"marker\": {\"sizemode\": \"area\", \"sizeref\": 0.2, \"size\": [42.0]}, \"x\": [32]}, {\"name\": \"firm\", \"text\": [\"firm\"], \"y\": [2.25], \"mode\": \"markers\", \"marker\": {\"sizemode\": \"area\", \"sizeref\": 0.2, \"size\": [27.0]}, \"x\": [12]}, {\"name\": \"using\", \"text\": [\"using\"], \"y\": [1.8333333333333333], \"mode\": \"markers\", \"marker\": {\"sizemode\": \"area\", \"sizeref\": 0.2, \"size\": [11.0]}, \"x\": [6]}, {\"name\": \"data\", \"text\": [\"data\"], \"y\": [2.7], \"mode\": \"markers\", \"marker\": {\"sizemode\": \"area\", \"sizeref\": 0.2, \"size\": [27.0]}, \"x\": [10]}, {\"name\": \"risk\", \"text\": [\"risk\"], \"y\": [3.0714285714285716], \"mode\": \"markers\", \"marker\": {\"sizemode\": \"area\", \"sizeref\": 0.2, \"size\": [43.0]}, \"x\": [14]}, {\"name\": \"effect\", \"text\": [\"effect\"], \"y\": [2.125], \"mode\": \"markers\", \"marker\": {\"sizemode\": \"area\", \"sizeref\": 0.2, \"size\": [17.0]}, \"x\": [8]}, {\"name\": \"price\", \"text\": [\"price\"], \"y\": [3.0833333333333335], \"mode\": \"markers\", \"marker\": {\"sizemode\": \"area\", \"sizeref\": 0.2, \"size\": [37.0]}, \"x\": [12]}, {\"name\": \"optimal\", \"text\": [\"optimal\"], \"y\": [2.25], \"mode\": \"markers\", \"marker\": {\"sizemode\": \"area\", \"sizeref\": 0.2, \"size\": [27.0]}, \"x\": [12]}, {\"name\": \"performance\", \"text\": [\"performance\"], \"y\": [2.0], \"mode\": \"markers\", \"marker\": {\"sizemode\": \"area\", \"sizeref\": 0.2, \"size\": [22.0]}, \"x\": [11]}, {\"name\": \"paper\", \"text\": [\"paper\"], \"y\": [1.3636363636363635], \"mode\": \"markers\", \"marker\": {\"sizemode\": \"area\", \"sizeref\": 0.2, \"size\": [30.0]}, \"x\": [22]}, {\"name\": \"study\", \"text\": [\"study\"], \"y\": [2.0], \"mode\": \"markers\", \"marker\": {\"sizemode\": \"area\", \"sizeref\": 0.2, \"size\": [10.0]}, \"x\": [5]}, {\"name\": \"higher\", \"text\": [\"higher\"], \"y\": [2.25], \"mode\": \"markers\", \"marker\": {\"sizemode\": \"area\", \"sizeref\": 0.2, \"size\": [18.0]}, \"x\": [8]}, {\"name\": \"demand\", \"text\": [\"demand\"], \"y\": [3.888888888888889], \"mode\": \"markers\", \"marker\": {\"sizemode\": \"area\", \"sizeref\": 0.2, \"size\": [35.0]}, \"x\": [9]}, {\"name\": \"new\", \"text\": [\"new\"], \"y\": [2.2], \"mode\": \"markers\", \"marker\": {\"sizemode\": \"area\", \"sizeref\": 0.2, \"size\": [11.0]}, \"x\": [5]}], \"name\": \"2012\"}, {\"data\": [{\"name\": \"find\", \"text\": [\"find\"], \"y\": [1.8181818181818181], \"mode\": \"markers\", \"marker\": {\"sizemode\": \"area\", \"sizeref\": 0.2, \"size\": [60.0]}, \"x\": [33]}, {\"name\": \"firms\", \"text\": [\"firms\"], \"y\": [3.3461538461538463], \"mode\": \"markers\", \"marker\": {\"sizemode\": \"area\", \"sizeref\": 0.2, \"size\": [87.0]}, \"x\": [26]}, {\"name\": \"information\", \"text\": [\"information\"], \"y\": [3.3], \"mode\": \"markers\", \"marker\": {\"sizemode\": \"area\", \"sizeref\": 0.2, \"size\": [33.0]}, \"x\": [10]}, {\"name\": \"show\", \"text\": [\"show\"], \"y\": [1.4285714285714286], \"mode\": \"markers\", \"marker\": {\"sizemode\": \"area\", \"sizeref\": 0.2, \"size\": [50.0]}, \"x\": [35]}, {\"name\": \"product\", \"text\": [\"product\"], \"y\": [2.5], \"mode\": \"markers\", \"marker\": {\"sizemode\": \"area\", \"sizeref\": 0.2, \"size\": [35.0]}, \"x\": [14]}, {\"name\": \"market\", \"text\": [\"market\"], \"y\": [2.7777777777777777], \"mode\": \"markers\", \"marker\": {\"sizemode\": \"area\", \"sizeref\": 0.2, \"size\": [50.0]}, \"x\": [18]}, {\"name\": \"results\", \"text\": [\"results\"], \"y\": [1.2916666666666667], \"mode\": \"markers\", \"marker\": {\"sizemode\": \"area\", \"sizeref\": 0.2, \"size\": [31.0]}, \"x\": [24]}, {\"name\": \"firm\", \"text\": [\"firm\"], \"y\": [3.3125], \"mode\": \"markers\", \"marker\": {\"sizemode\": \"area\", \"sizeref\": 0.2, \"size\": [53.0]}, \"x\": [16]}, {\"name\": \"using\", \"text\": [\"using\"], \"y\": [1.7857142857142858], \"mode\": \"markers\", \"marker\": {\"sizemode\": \"area\", \"sizeref\": 0.2, \"size\": [25.0]}, \"x\": [14]}, {\"name\": \"data\", \"text\": [\"data\"], \"y\": [2.3333333333333335], \"mode\": \"markers\", \"marker\": {\"sizemode\": \"area\", \"sizeref\": 0.2, \"size\": [14.0]}, \"x\": [6]}, {\"name\": \"risk\", \"text\": [\"risk\"], \"y\": [5.125], \"mode\": \"markers\", \"marker\": {\"sizemode\": \"area\", \"sizeref\": 0.2, \"size\": [41.0]}, \"x\": [8]}, {\"name\": \"effect\", \"text\": [\"effect\"], \"y\": [2.888888888888889], \"mode\": \"markers\", \"marker\": {\"sizemode\": \"area\", \"sizeref\": 0.2, \"size\": [26.0]}, \"x\": [9]}, {\"name\": \"price\", \"text\": [\"price\"], \"y\": [4.1], \"mode\": \"markers\", \"marker\": {\"sizemode\": \"area\", \"sizeref\": 0.2, \"size\": [41.0]}, \"x\": [10]}, {\"name\": \"optimal\", \"text\": [\"optimal\"], \"y\": [2.5], \"mode\": \"markers\", \"marker\": {\"sizemode\": \"area\", \"sizeref\": 0.2, \"size\": [35.0]}, \"x\": [14]}, {\"name\": \"performance\", \"text\": [\"performance\"], \"y\": [3.0], \"mode\": \"markers\", \"marker\": {\"sizemode\": \"area\", \"sizeref\": 0.2, \"size\": [24.0]}, \"x\": [8]}, {\"name\": \"paper\", \"text\": [\"paper\"], \"y\": [1.1], \"mode\": \"markers\", \"marker\": {\"sizemode\": \"area\", \"sizeref\": 0.2, \"size\": [22.0]}, \"x\": [20]}, {\"name\": \"study\", \"text\": [\"study\"], \"y\": [1.5], \"mode\": \"markers\", \"marker\": {\"sizemode\": \"area\", \"sizeref\": 0.2, \"size\": [3.0]}, \"x\": [2]}, {\"name\": \"higher\", \"text\": [\"higher\"], \"y\": [2.1818181818181817], \"mode\": \"markers\", \"marker\": {\"sizemode\": \"area\", \"sizeref\": 0.2, \"size\": [24.0]}, \"x\": [11]}, {\"name\": \"demand\", \"text\": [\"demand\"], \"y\": [3.0], \"mode\": \"markers\", \"marker\": {\"sizemode\": \"area\", \"sizeref\": 0.2, \"size\": [21.0]}, \"x\": [7]}, {\"name\": \"new\", \"text\": [\"new\"], \"y\": [2.8333333333333335], \"mode\": \"markers\", \"marker\": {\"sizemode\": \"area\", \"sizeref\": 0.2, \"size\": [17.0]}, \"x\": [6]}], \"name\": \"2013\"}, {\"data\": [{\"name\": \"find\", \"text\": [\"find\"], \"y\": [1.6818181818181819], \"mode\": \"markers\", \"marker\": {\"sizemode\": \"area\", \"sizeref\": 0.2, \"size\": [74.0]}, \"x\": [44]}, {\"name\": \"firms\", \"text\": [\"firms\"], \"y\": [2.9545454545454546], \"mode\": \"markers\", \"marker\": {\"sizemode\": \"area\", \"sizeref\": 0.2, \"size\": [65.0]}, \"x\": [22]}, {\"name\": \"information\", \"text\": [\"information\"], \"y\": [2.9523809523809526], \"mode\": \"markers\", \"marker\": {\"sizemode\": \"area\", \"sizeref\": 0.2, \"size\": [62.0]}, \"x\": [21]}, {\"name\": \"show\", \"text\": [\"show\"], \"y\": [1.5454545454545454], \"mode\": \"markers\", \"marker\": {\"sizemode\": \"area\", \"sizeref\": 0.2, \"size\": [68.0]}, \"x\": [44]}, {\"name\": \"product\", \"text\": [\"product\"], \"y\": [3.8461538461538463], \"mode\": \"markers\", \"marker\": {\"sizemode\": \"area\", \"sizeref\": 0.2, \"size\": [50.0]}, \"x\": [13]}, {\"name\": \"market\", \"text\": [\"market\"], \"y\": [2.269230769230769], \"mode\": \"markers\", \"marker\": {\"sizemode\": \"area\", \"sizeref\": 0.2, \"size\": [59.0]}, \"x\": [26]}, {\"name\": \"results\", \"text\": [\"results\"], \"y\": [1.25], \"mode\": \"markers\", \"marker\": {\"sizemode\": \"area\", \"sizeref\": 0.2, \"size\": [40.0]}, \"x\": [32]}, {\"name\": \"firm\", \"text\": [\"firm\"], \"y\": [2.5217391304347827], \"mode\": \"markers\", \"marker\": {\"sizemode\": \"area\", \"sizeref\": 0.2, \"size\": [58.0]}, \"x\": [23]}, {\"name\": \"using\", \"text\": [\"using\"], \"y\": [2.7142857142857144], \"mode\": \"markers\", \"marker\": {\"sizemode\": \"area\", \"sizeref\": 0.2, \"size\": [19.0]}, \"x\": [7]}, {\"name\": \"data\", \"text\": [\"data\"], \"y\": [2.1538461538461537], \"mode\": \"markers\", \"marker\": {\"sizemode\": \"area\", \"sizeref\": 0.2, \"size\": [28.0]}, \"x\": [13]}, {\"name\": \"risk\", \"text\": [\"risk\"], \"y\": [3.473684210526316], \"mode\": \"markers\", \"marker\": {\"sizemode\": \"area\", \"sizeref\": 0.2, \"size\": [66.0]}, \"x\": [19]}, {\"name\": \"effect\", \"text\": [\"effect\"], \"y\": [2.6], \"mode\": \"markers\", \"marker\": {\"sizemode\": \"area\", \"sizeref\": 0.2, \"size\": [26.0]}, \"x\": [10]}, {\"name\": \"price\", \"text\": [\"price\"], \"y\": [3.3333333333333335], \"mode\": \"markers\", \"marker\": {\"sizemode\": \"area\", \"sizeref\": 0.2, \"size\": [50.0]}, \"x\": [15]}, {\"name\": \"optimal\", \"text\": [\"optimal\"], \"y\": [2.1818181818181817], \"mode\": \"markers\", \"marker\": {\"sizemode\": \"area\", \"sizeref\": 0.2, \"size\": [24.0]}, \"x\": [11]}, {\"name\": \"performance\", \"text\": [\"performance\"], \"y\": [3.111111111111111], \"mode\": \"markers\", \"marker\": {\"sizemode\": \"area\", \"sizeref\": 0.2, \"size\": [28.0]}, \"x\": [9]}, {\"name\": \"paper\", \"text\": [\"paper\"], \"y\": [1.1379310344827587], \"mode\": \"markers\", \"marker\": {\"sizemode\": \"area\", \"sizeref\": 0.2, \"size\": [33.0]}, \"x\": [29]}, {\"name\": \"study\", \"text\": [\"study\"], \"y\": [2.3333333333333335], \"mode\": \"markers\", \"marker\": {\"sizemode\": \"area\", \"sizeref\": 0.2, \"size\": [14.0]}, \"x\": [6]}, {\"name\": \"higher\", \"text\": [\"higher\"], \"y\": [2.3333333333333335], \"mode\": \"markers\", \"marker\": {\"sizemode\": \"area\", \"sizeref\": 0.2, \"size\": [21.0]}, \"x\": [9]}, {\"name\": \"demand\", \"text\": [\"demand\"], \"y\": [3.142857142857143], \"mode\": \"markers\", \"marker\": {\"sizemode\": \"area\", \"sizeref\": 0.2, \"size\": [44.0]}, \"x\": [14]}, {\"name\": \"new\", \"text\": [\"new\"], \"y\": [3.0], \"mode\": \"markers\", \"marker\": {\"sizemode\": \"area\", \"sizeref\": 0.2, \"size\": [33.0]}, \"x\": [11]}], \"name\": \"2014\"}, {\"data\": [{\"name\": \"find\", \"text\": [\"find\"], \"y\": [1.8888888888888888], \"mode\": \"markers\", \"marker\": {\"sizemode\": \"area\", \"sizeref\": 0.2, \"size\": [102.0]}, \"x\": [54]}, {\"name\": \"firms\", \"text\": [\"firms\"], \"y\": [3.3225806451612905], \"mode\": \"markers\", \"marker\": {\"sizemode\": \"area\", \"sizeref\": 0.2, \"size\": [103.0]}, \"x\": [31]}, {\"name\": \"information\", \"text\": [\"information\"], \"y\": [3.64], \"mode\": \"markers\", \"marker\": {\"sizemode\": \"area\", \"sizeref\": 0.2, \"size\": [91.0]}, \"x\": [25]}, {\"name\": \"show\", \"text\": [\"show\"], \"y\": [1.3695652173913044], \"mode\": \"markers\", \"marker\": {\"sizemode\": \"area\", \"sizeref\": 0.2, \"size\": [63.0]}, \"x\": [46]}, {\"name\": \"product\", \"text\": [\"product\"], \"y\": [3.727272727272727], \"mode\": \"markers\", \"marker\": {\"sizemode\": \"area\", \"sizeref\": 0.2, \"size\": [41.0]}, \"x\": [11]}, {\"name\": \"market\", \"text\": [\"market\"], \"y\": [2.0625], \"mode\": \"markers\", \"marker\": {\"sizemode\": \"area\", \"sizeref\": 0.2, \"size\": [33.0]}, \"x\": [16]}, {\"name\": \"results\", \"text\": [\"results\"], \"y\": [1.4871794871794872], \"mode\": \"markers\", \"marker\": {\"sizemode\": \"area\", \"sizeref\": 0.2, \"size\": [58.0]}, \"x\": [39]}, {\"name\": \"firm\", \"text\": [\"firm\"], \"y\": [2.6470588235294117], \"mode\": \"markers\", \"marker\": {\"sizemode\": \"area\", \"sizeref\": 0.2, \"size\": [45.0]}, \"x\": [17]}, {\"name\": \"using\", \"text\": [\"using\"], \"y\": [1.9333333333333333], \"mode\": \"markers\", \"marker\": {\"sizemode\": \"area\", \"sizeref\": 0.2, \"size\": [29.0]}, \"x\": [15]}, {\"name\": \"data\", \"text\": [\"data\"], \"y\": [2.142857142857143], \"mode\": \"markers\", \"marker\": {\"sizemode\": \"area\", \"sizeref\": 0.2, \"size\": [15.0]}, \"x\": [7]}, {\"name\": \"risk\", \"text\": [\"risk\"], \"y\": [3.923076923076923], \"mode\": \"markers\", \"marker\": {\"sizemode\": \"area\", \"sizeref\": 0.2, \"size\": [51.0]}, \"x\": [13]}, {\"name\": \"effect\", \"text\": [\"effect\"], \"y\": [2.2222222222222223], \"mode\": \"markers\", \"marker\": {\"sizemode\": \"area\", \"sizeref\": 0.2, \"size\": [40.0]}, \"x\": [18]}, {\"name\": \"price\", \"text\": [\"price\"], \"y\": [2.7], \"mode\": \"markers\", \"marker\": {\"sizemode\": \"area\", \"sizeref\": 0.2, \"size\": [27.0]}, \"x\": [10]}, {\"name\": \"optimal\", \"text\": [\"optimal\"], \"y\": [2.5], \"mode\": \"markers\", \"marker\": {\"sizemode\": \"area\", \"sizeref\": 0.2, \"size\": [40.0]}, \"x\": [16]}, {\"name\": \"performance\", \"text\": [\"performance\"], \"y\": [2.9166666666666665], \"mode\": \"markers\", \"marker\": {\"sizemode\": \"area\", \"sizeref\": 0.2, \"size\": [35.0]}, \"x\": [12]}, {\"name\": \"paper\", \"text\": [\"paper\"], \"y\": [1.1111111111111112], \"mode\": \"markers\", \"marker\": {\"sizemode\": \"area\", \"sizeref\": 0.2, \"size\": [20.0]}, \"x\": [18]}, {\"name\": \"study\", \"text\": [\"study\"], \"y\": [1.9], \"mode\": \"markers\", \"marker\": {\"sizemode\": \"area\", \"sizeref\": 0.2, \"size\": [19.0]}, \"x\": [10]}, {\"name\": \"higher\", \"text\": [\"higher\"], \"y\": [2.1666666666666665], \"mode\": \"markers\", \"marker\": {\"sizemode\": \"area\", \"sizeref\": 0.2, \"size\": [13.0]}, \"x\": [6]}, {\"name\": \"demand\", \"text\": [\"demand\"], \"y\": [3.0714285714285716], \"mode\": \"markers\", \"marker\": {\"sizemode\": \"area\", \"sizeref\": 0.2, \"size\": [43.0]}, \"x\": [14]}, {\"name\": \"new\", \"text\": [\"new\"], \"y\": [2.8], \"mode\": \"markers\", \"marker\": {\"sizemode\": \"area\", \"sizeref\": 0.2, \"size\": [28.0]}, \"x\": [10]}], \"name\": \"2015\"}, {\"data\": [{\"name\": \"find\", \"text\": [\"find\"], \"y\": [1.625], \"mode\": \"markers\", \"marker\": {\"sizemode\": \"area\", \"sizeref\": 0.2, \"size\": [26.0]}, \"x\": [16]}, {\"name\": \"firms\", \"text\": [\"firms\"], \"y\": [3.0], \"mode\": \"markers\", \"marker\": {\"sizemode\": \"area\", \"sizeref\": 0.2, \"size\": [27.0]}, \"x\": [9]}, {\"name\": \"information\", \"text\": [\"information\"], \"y\": [4.444444444444445], \"mode\": \"markers\", \"marker\": {\"sizemode\": \"area\", \"sizeref\": 0.2, \"size\": [40.0]}, \"x\": [9]}, {\"name\": \"show\", \"text\": [\"show\"], \"y\": [1.375], \"mode\": \"markers\", \"marker\": {\"sizemode\": \"area\", \"sizeref\": 0.2, \"size\": [22.0]}, \"x\": [16]}, {\"name\": \"product\", \"text\": [\"product\"], \"y\": [3.25], \"mode\": \"markers\", \"marker\": {\"sizemode\": \"area\", \"sizeref\": 0.2, \"size\": [26.0]}, \"x\": [8]}, {\"name\": \"market\", \"text\": [\"market\"], \"y\": [2.142857142857143], \"mode\": \"markers\", \"marker\": {\"sizemode\": \"area\", \"sizeref\": 0.2, \"size\": [30.0]}, \"x\": [14]}, {\"name\": \"results\", \"text\": [\"results\"], \"y\": [1.1578947368421053], \"mode\": \"markers\", \"marker\": {\"sizemode\": \"area\", \"sizeref\": 0.2, \"size\": [22.0]}, \"x\": [19]}, {\"name\": \"firm\", \"text\": [\"firm\"], \"y\": [2.75], \"mode\": \"markers\", \"marker\": {\"sizemode\": \"area\", \"sizeref\": 0.2, \"size\": [11.0]}, \"x\": [4]}, {\"name\": \"using\", \"text\": [\"using\"], \"y\": [1.6], \"mode\": \"markers\", \"marker\": {\"sizemode\": \"area\", \"sizeref\": 0.2, \"size\": [8.0]}, \"x\": [5]}, {\"name\": \"data\", \"text\": [\"data\"], \"y\": [2.25], \"mode\": \"markers\", \"marker\": {\"sizemode\": \"area\", \"sizeref\": 0.2, \"size\": [9.0]}, \"x\": [4]}, {\"name\": \"risk\", \"text\": [\"risk\"], \"y\": [3.0], \"mode\": \"markers\", \"marker\": {\"sizemode\": \"area\", \"sizeref\": 0.2, \"size\": [15.0]}, \"x\": [5]}, {\"name\": \"effect\", \"text\": [\"effect\"], \"y\": [2.25], \"mode\": \"markers\", \"marker\": {\"sizemode\": \"area\", \"sizeref\": 0.2, \"size\": [9.0]}, \"x\": [4]}, {\"name\": \"price\", \"text\": [\"price\"], \"y\": [4.0], \"mode\": \"markers\", \"marker\": {\"sizemode\": \"area\", \"sizeref\": 0.2, \"size\": [16.0]}, \"x\": [4]}, {\"name\": \"optimal\", \"text\": [\"optimal\"], \"y\": [2.0], \"mode\": \"markers\", \"marker\": {\"sizemode\": \"area\", \"sizeref\": 0.2, \"size\": [12.0]}, \"x\": [6]}, {\"name\": \"performance\", \"text\": [\"performance\"], \"y\": [2.3333333333333335], \"mode\": \"markers\", \"marker\": {\"sizemode\": \"area\", \"sizeref\": 0.2, \"size\": [14.0]}, \"x\": [6]}, {\"name\": \"paper\", \"text\": [\"paper\"], \"y\": [1.25], \"mode\": \"markers\", \"marker\": {\"sizemode\": \"area\", \"sizeref\": 0.2, \"size\": [10.0]}, \"x\": [8]}, {\"name\": \"study\", \"text\": [\"study\"], \"y\": [2.0], \"mode\": \"markers\", \"marker\": {\"sizemode\": \"area\", \"sizeref\": 0.2, \"size\": [10.0]}, \"x\": [5]}, {\"name\": \"higher\", \"text\": [\"higher\"], \"y\": [2.25], \"mode\": \"markers\", \"marker\": {\"sizemode\": \"area\", \"sizeref\": 0.2, \"size\": [18.0]}, \"x\": [8]}, {\"name\": \"demand\", \"text\": [\"demand\"], \"y\": [2.0], \"mode\": \"markers\", \"marker\": {\"sizemode\": \"area\", \"sizeref\": 0.2, \"size\": [2.0]}, \"x\": [1]}, {\"name\": \"new\", \"text\": [\"new\"], \"y\": [2.75], \"mode\": \"markers\", \"marker\": {\"sizemode\": \"area\", \"sizeref\": 0.2, \"size\": [11.0]}, \"x\": [4]}], \"name\": \"2016\"}]);}).then(function(){Plotly.animate('531a1a5d-2caa-4bc3-b6ca-cdb10d69ba49');})\n",
       "        });</script>"
      ],
      "text/vnd.plotly.v1+html": [
       "<div id=\"531a1a5d-2caa-4bc3-b6ca-cdb10d69ba49\" style=\"height: 525px; width: 100%;\" class=\"plotly-graph-div\"></div><script type=\"text/javascript\">require([\"plotly\"], function(Plotly) { window.PLOTLYENV=window.PLOTLYENV || {};window.PLOTLYENV.BASE_URL=\"https://plot.ly\";\n",
       "        Plotly.plot(\n",
       "            '531a1a5d-2caa-4bc3-b6ca-cdb10d69ba49',\n",
       "            [{\"name\": \"find\", \"text\": [\"find\"], \"y\": [0.0], \"mode\": \"markers\", \"marker\": {\"sizemode\": \"area\", \"sizeref\": 0.2, \"size\": [0.0]}, \"x\": [0]}, {\"name\": \"firms\", \"text\": [\"firms\"], \"y\": [3.0], \"mode\": \"markers\", \"marker\": {\"sizemode\": \"area\", \"sizeref\": 0.2, \"size\": [3.0]}, \"x\": [1]}, {\"name\": \"information\", \"text\": [\"information\"], \"y\": [0.0], \"mode\": \"markers\", \"marker\": {\"sizemode\": \"area\", \"sizeref\": 0.2, \"size\": [0.0]}, \"x\": [0]}, {\"name\": \"show\", \"text\": [\"show\"], \"y\": [0.0], \"mode\": \"markers\", \"marker\": {\"sizemode\": \"area\", \"sizeref\": 0.2, \"size\": [0.0]}, \"x\": [0]}, {\"name\": \"product\", \"text\": [\"product\"], \"y\": [0.0], \"mode\": \"markers\", \"marker\": {\"sizemode\": \"area\", \"sizeref\": 0.2, \"size\": [0.0]}, \"x\": [0]}, {\"name\": \"market\", \"text\": [\"market\"], \"y\": [0.0], \"mode\": \"markers\", \"marker\": {\"sizemode\": \"area\", \"sizeref\": 0.2, \"size\": [0.0]}, \"x\": [0]}, {\"name\": \"results\", \"text\": [\"results\"], \"y\": [0.0], \"mode\": \"markers\", \"marker\": {\"sizemode\": \"area\", \"sizeref\": 0.2, \"size\": [0.0]}, \"x\": [0]}, {\"name\": \"firm\", \"text\": [\"firm\"], \"y\": [0.0], \"mode\": \"markers\", \"marker\": {\"sizemode\": \"area\", \"sizeref\": 0.2, \"size\": [0.0]}, \"x\": [0]}, {\"name\": \"using\", \"text\": [\"using\"], \"y\": [0.0], \"mode\": \"markers\", \"marker\": {\"sizemode\": \"area\", \"sizeref\": 0.2, \"size\": [0.0]}, \"x\": [0]}, {\"name\": \"data\", \"text\": [\"data\"], \"y\": [3.0], \"mode\": \"markers\", \"marker\": {\"sizemode\": \"area\", \"sizeref\": 0.2, \"size\": [3.0]}, \"x\": [1]}, {\"name\": \"risk\", \"text\": [\"risk\"], \"y\": [2.0], \"mode\": \"markers\", \"marker\": {\"sizemode\": \"area\", \"sizeref\": 0.2, \"size\": [2.0]}, \"x\": [1]}, {\"name\": \"effect\", \"text\": [\"effect\"], \"y\": [0.0], \"mode\": \"markers\", \"marker\": {\"sizemode\": \"area\", \"sizeref\": 0.2, \"size\": [0.0]}, \"x\": [0]}, {\"name\": \"price\", \"text\": [\"price\"], \"y\": [0.0], \"mode\": \"markers\", \"marker\": {\"sizemode\": \"area\", \"sizeref\": 0.2, \"size\": [0.0]}, \"x\": [0]}, {\"name\": \"optimal\", \"text\": [\"optimal\"], \"y\": [0.0], \"mode\": \"markers\", \"marker\": {\"sizemode\": \"area\", \"sizeref\": 0.2, \"size\": [0.0]}, \"x\": [0]}, {\"name\": \"performance\", \"text\": [\"performance\"], \"y\": [0.0], \"mode\": \"markers\", \"marker\": {\"sizemode\": \"area\", \"sizeref\": 0.2, \"size\": [0.0]}, \"x\": [0]}, {\"name\": \"paper\", \"text\": [\"paper\"], \"y\": [1.0], \"mode\": \"markers\", \"marker\": {\"sizemode\": \"area\", \"sizeref\": 0.2, \"size\": [1.0]}, \"x\": [1]}, {\"name\": \"study\", \"text\": [\"study\"], \"y\": [0.0], \"mode\": \"markers\", \"marker\": {\"sizemode\": \"area\", \"sizeref\": 0.2, \"size\": [0.0]}, \"x\": [0]}, {\"name\": \"higher\", \"text\": [\"higher\"], \"y\": [0.0], \"mode\": \"markers\", \"marker\": {\"sizemode\": \"area\", \"sizeref\": 0.2, \"size\": [0.0]}, \"x\": [0]}, {\"name\": \"demand\", \"text\": [\"demand\"], \"y\": [0.0], \"mode\": \"markers\", \"marker\": {\"sizemode\": \"area\", \"sizeref\": 0.2, \"size\": [0.0]}, \"x\": [0]}, {\"name\": \"new\", \"text\": [\"new\"], \"y\": [0.0], \"mode\": \"markers\", \"marker\": {\"sizemode\": \"area\", \"sizeref\": 0.2, \"size\": [0.0]}, \"x\": [0]}],\n",
       "            {\"sliders\": [{\"yanchor\": \"top\", \"currentvalue\": {\"visible\": true, \"prefix\": \"Year:\", \"font\": {\"size\": 20}, \"xanchor\": \"right\"}, \"transition\": {\"duration\": 300, \"easing\": \"cubic-in-out\"}, \"xanchor\": \"left\", \"pad\": {\"b\": 10, \"t\": 50}, \"len\": 0.9, \"active\": 0, \"steps\": [{\"args\": [[2010], {\"frame\": {\"duration\": 300, \"redraw\": false}, \"transition\": {\"duration\": 300}, \"mode\": \"immediate\"}], \"method\": \"animate\", \"label\": 2010}, {\"args\": [[2011], {\"frame\": {\"duration\": 300, \"redraw\": false}, \"transition\": {\"duration\": 300}, \"mode\": \"immediate\"}], \"method\": \"animate\", \"label\": 2011}, {\"args\": [[2012], {\"frame\": {\"duration\": 300, \"redraw\": false}, \"transition\": {\"duration\": 300}, \"mode\": \"immediate\"}], \"method\": \"animate\", \"label\": 2012}, {\"args\": [[2013], {\"frame\": {\"duration\": 300, \"redraw\": false}, \"transition\": {\"duration\": 300}, \"mode\": \"immediate\"}], \"method\": \"animate\", \"label\": 2013}, {\"args\": [[2014], {\"frame\": {\"duration\": 300, \"redraw\": false}, \"transition\": {\"duration\": 300}, \"mode\": \"immediate\"}], \"method\": \"animate\", \"label\": 2014}, {\"args\": [[2015], {\"frame\": {\"duration\": 300, \"redraw\": false}, \"transition\": {\"duration\": 300}, \"mode\": \"immediate\"}], \"method\": \"animate\", \"label\": 2015}, {\"args\": [[2016], {\"frame\": {\"duration\": 300, \"redraw\": false}, \"transition\": {\"duration\": 300}, \"mode\": \"immediate\"}], \"method\": \"animate\", \"label\": 2016}], \"y\": 0, \"x\": 0.1}], \"hovermode\": \"closest\", \"xaxis\": {\"range\": [0, 60], \"title\": \"Number of Publications\"}, \"updatemenus\": [{\"yanchor\": \"top\", \"direction\": \"left\", \"showactive\": false, \"xanchor\": \"right\", \"buttons\": [{\"args\": [null, {\"frame\": {\"duration\": 500, \"redraw\": false}, \"transition\": {\"duration\": 300, \"easing\": \"quadratic-in-out\"}, \"fromcurrent\": true}], \"method\": \"animate\", \"label\": \"Play\"}, {\"args\": [[null], {\"frame\": {\"duration\": 0, \"redraw\": false}, \"transition\": {\"duration\": 0}, \"mode\": \"immediate\"}], \"method\": \"animate\", \"label\": \"Pause\"}], \"pad\": {\"r\": 10, \"t\": 87}, \"y\": 0, \"x\": 0.1, \"type\": \"buttons\"}], \"yaxis\": {\"range\": [0, 6], \"type\": \"float\", \"title\": \"Freq per publication\"}},\n",
       "            {\"linkText\": \"Export to plot.ly\", \"showLink\": true}\n",
       "        ).then(function () {return Plotly.addFrames('531a1a5d-2caa-4bc3-b6ca-cdb10d69ba49',[{\"data\": [{\"name\": \"find\", \"text\": [\"find\"], \"y\": [0.0], \"mode\": \"markers\", \"marker\": {\"sizemode\": \"area\", \"sizeref\": 0.2, \"size\": [0.0]}, \"x\": [0]}, {\"name\": \"firms\", \"text\": [\"firms\"], \"y\": [2.0], \"mode\": \"markers\", \"marker\": {\"sizemode\": \"area\", \"sizeref\": 0.2, \"size\": [2.0]}, \"x\": [1]}, {\"name\": \"information\", \"text\": [\"information\"], \"y\": [0.0], \"mode\": \"markers\", \"marker\": {\"sizemode\": \"area\", \"sizeref\": 0.2, \"size\": [0.0]}, \"x\": [0]}, {\"name\": \"show\", \"text\": [\"show\"], \"y\": [0.0], \"mode\": \"markers\", \"marker\": {\"sizemode\": \"area\", \"sizeref\": 0.2, \"size\": [0.0]}, \"x\": [0]}, {\"name\": \"product\", \"text\": [\"product\"], \"y\": [0.0], \"mode\": \"markers\", \"marker\": {\"sizemode\": \"area\", \"sizeref\": 0.2, \"size\": [0.0]}, \"x\": [0]}, {\"name\": \"market\", \"text\": [\"market\"], \"y\": [2.0], \"mode\": \"markers\", \"marker\": {\"sizemode\": \"area\", \"sizeref\": 0.2, \"size\": [2.0]}, \"x\": [1]}, {\"name\": \"results\", \"text\": [\"results\"], \"y\": [1.0], \"mode\": \"markers\", \"marker\": {\"sizemode\": \"area\", \"sizeref\": 0.2, \"size\": [1.0]}, \"x\": [1]}, {\"name\": \"firm\", \"text\": [\"firm\"], \"y\": [0.0], \"mode\": \"markers\", \"marker\": {\"sizemode\": \"area\", \"sizeref\": 0.2, \"size\": [0.0]}, \"x\": [0]}, {\"name\": \"using\", \"text\": [\"using\"], \"y\": [0.0], \"mode\": \"markers\", \"marker\": {\"sizemode\": \"area\", \"sizeref\": 0.2, \"size\": [0.0]}, \"x\": [0]}, {\"name\": \"data\", \"text\": [\"data\"], \"y\": [0.0], \"mode\": \"markers\", \"marker\": {\"sizemode\": \"area\", \"sizeref\": 0.2, \"size\": [0.0]}, \"x\": [0]}, {\"name\": \"risk\", \"text\": [\"risk\"], \"y\": [0.0], \"mode\": \"markers\", \"marker\": {\"sizemode\": \"area\", \"sizeref\": 0.2, \"size\": [0.0]}, \"x\": [0]}, {\"name\": \"effect\", \"text\": [\"effect\"], \"y\": [0.0], \"mode\": \"markers\", \"marker\": {\"sizemode\": \"area\", \"sizeref\": 0.2, \"size\": [0.0]}, \"x\": [0]}, {\"name\": \"price\", \"text\": [\"price\"], \"y\": [0.0], \"mode\": \"markers\", \"marker\": {\"sizemode\": \"area\", \"sizeref\": 0.2, \"size\": [0.0]}, \"x\": [0]}, {\"name\": \"optimal\", \"text\": [\"optimal\"], \"y\": [0.0], \"mode\": \"markers\", \"marker\": {\"sizemode\": \"area\", \"sizeref\": 0.2, \"size\": [0.0]}, \"x\": [0]}, {\"name\": \"performance\", \"text\": [\"performance\"], \"y\": [0.0], \"mode\": \"markers\", \"marker\": {\"sizemode\": \"area\", \"sizeref\": 0.2, \"size\": [0.0]}, \"x\": [0]}, {\"name\": \"paper\", \"text\": [\"paper\"], \"y\": [0.0], \"mode\": \"markers\", \"marker\": {\"sizemode\": \"area\", \"sizeref\": 0.2, \"size\": [0.0]}, \"x\": [0]}, {\"name\": \"study\", \"text\": [\"study\"], \"y\": [0.0], \"mode\": \"markers\", \"marker\": {\"sizemode\": \"area\", \"sizeref\": 0.2, \"size\": [0.0]}, \"x\": [0]}, {\"name\": \"higher\", \"text\": [\"higher\"], \"y\": [0.0], \"mode\": \"markers\", \"marker\": {\"sizemode\": \"area\", \"sizeref\": 0.2, \"size\": [0.0]}, \"x\": [0]}, {\"name\": \"demand\", \"text\": [\"demand\"], \"y\": [0.0], \"mode\": \"markers\", \"marker\": {\"sizemode\": \"area\", \"sizeref\": 0.2, \"size\": [0.0]}, \"x\": [0]}, {\"name\": \"new\", \"text\": [\"new\"], \"y\": [0.0], \"mode\": \"markers\", \"marker\": {\"sizemode\": \"area\", \"sizeref\": 0.2, \"size\": [0.0]}, \"x\": [0]}], \"name\": \"2010\"}, {\"data\": [{\"name\": \"find\", \"text\": [\"find\"], \"y\": [1.75], \"mode\": \"markers\", \"marker\": {\"sizemode\": \"area\", \"sizeref\": 0.2, \"size\": [49.0]}, \"x\": [28]}, {\"name\": \"firms\", \"text\": [\"firms\"], \"y\": [3.4375], \"mode\": \"markers\", \"marker\": {\"sizemode\": \"area\", \"sizeref\": 0.2, \"size\": [55.0]}, \"x\": [16]}, {\"name\": \"information\", \"text\": [\"information\"], \"y\": [2.7333333333333334], \"mode\": \"markers\", \"marker\": {\"sizemode\": \"area\", \"sizeref\": 0.2, \"size\": [41.0]}, \"x\": [15]}, {\"name\": \"show\", \"text\": [\"show\"], \"y\": [1.36], \"mode\": \"markers\", \"marker\": {\"sizemode\": \"area\", \"sizeref\": 0.2, \"size\": [34.0]}, \"x\": [25]}, {\"name\": \"product\", \"text\": [\"product\"], \"y\": [4.384615384615385], \"mode\": \"markers\", \"marker\": {\"sizemode\": \"area\", \"sizeref\": 0.2, \"size\": [57.0]}, \"x\": [13]}, {\"name\": \"market\", \"text\": [\"market\"], \"y\": [2.588235294117647], \"mode\": \"markers\", \"marker\": {\"sizemode\": \"area\", \"sizeref\": 0.2, \"size\": [44.0]}, \"x\": [17]}, {\"name\": \"results\", \"text\": [\"results\"], \"y\": [1.25], \"mode\": \"markers\", \"marker\": {\"sizemode\": \"area\", \"sizeref\": 0.2, \"size\": [25.0]}, \"x\": [20]}, {\"name\": \"firm\", \"text\": [\"firm\"], \"y\": [2.6666666666666665], \"mode\": \"markers\", \"marker\": {\"sizemode\": \"area\", \"sizeref\": 0.2, \"size\": [40.0]}, \"x\": [15]}, {\"name\": \"using\", \"text\": [\"using\"], \"y\": [2.0], \"mode\": \"markers\", \"marker\": {\"sizemode\": \"area\", \"sizeref\": 0.2, \"size\": [10.0]}, \"x\": [5]}, {\"name\": \"data\", \"text\": [\"data\"], \"y\": [3.25], \"mode\": \"markers\", \"marker\": {\"sizemode\": \"area\", \"sizeref\": 0.2, \"size\": [13.0]}, \"x\": [4]}, {\"name\": \"risk\", \"text\": [\"risk\"], \"y\": [2.9], \"mode\": \"markers\", \"marker\": {\"sizemode\": \"area\", \"sizeref\": 0.2, \"size\": [29.0]}, \"x\": [10]}, {\"name\": \"effect\", \"text\": [\"effect\"], \"y\": [2.8], \"mode\": \"markers\", \"marker\": {\"sizemode\": \"area\", \"sizeref\": 0.2, \"size\": [14.0]}, \"x\": [5]}, {\"name\": \"price\", \"text\": [\"price\"], \"y\": [3.125], \"mode\": \"markers\", \"marker\": {\"sizemode\": \"area\", \"sizeref\": 0.2, \"size\": [25.0]}, \"x\": [8]}, {\"name\": \"optimal\", \"text\": [\"optimal\"], \"y\": [2.7857142857142856], \"mode\": \"markers\", \"marker\": {\"sizemode\": \"area\", \"sizeref\": 0.2, \"size\": [39.0]}, \"x\": [14]}, {\"name\": \"performance\", \"text\": [\"performance\"], \"y\": [2.1818181818181817], \"mode\": \"markers\", \"marker\": {\"sizemode\": \"area\", \"sizeref\": 0.2, \"size\": [24.0]}, \"x\": [11]}, {\"name\": \"paper\", \"text\": [\"paper\"], \"y\": [1.3333333333333333], \"mode\": \"markers\", \"marker\": {\"sizemode\": \"area\", \"sizeref\": 0.2, \"size\": [20.0]}, \"x\": [15]}, {\"name\": \"study\", \"text\": [\"study\"], \"y\": [2.0], \"mode\": \"markers\", \"marker\": {\"sizemode\": \"area\", \"sizeref\": 0.2, \"size\": [4.0]}, \"x\": [2]}, {\"name\": \"higher\", \"text\": [\"higher\"], \"y\": [2.6], \"mode\": \"markers\", \"marker\": {\"sizemode\": \"area\", \"sizeref\": 0.2, \"size\": [13.0]}, \"x\": [5]}, {\"name\": \"demand\", \"text\": [\"demand\"], \"y\": [2.111111111111111], \"mode\": \"markers\", \"marker\": {\"sizemode\": \"area\", \"sizeref\": 0.2, \"size\": [19.0]}, \"x\": [9]}, {\"name\": \"new\", \"text\": [\"new\"], \"y\": [2.4], \"mode\": \"markers\", \"marker\": {\"sizemode\": \"area\", \"sizeref\": 0.2, \"size\": [12.0]}, \"x\": [5]}], \"name\": \"2011\"}, {\"data\": [{\"name\": \"find\", \"text\": [\"find\"], \"y\": [1.84375], \"mode\": \"markers\", \"marker\": {\"sizemode\": \"area\", \"sizeref\": 0.2, \"size\": [59.0]}, \"x\": [32]}, {\"name\": \"firms\", \"text\": [\"firms\"], \"y\": [2.92], \"mode\": \"markers\", \"marker\": {\"sizemode\": \"area\", \"sizeref\": 0.2, \"size\": [73.0]}, \"x\": [25]}, {\"name\": \"information\", \"text\": [\"information\"], \"y\": [3.25], \"mode\": \"markers\", \"marker\": {\"sizemode\": \"area\", \"sizeref\": 0.2, \"size\": [52.0]}, \"x\": [16]}, {\"name\": \"show\", \"text\": [\"show\"], \"y\": [1.53125], \"mode\": \"markers\", \"marker\": {\"sizemode\": \"area\", \"sizeref\": 0.2, \"size\": [49.0]}, \"x\": [32]}, {\"name\": \"product\", \"text\": [\"product\"], \"y\": [3.4375], \"mode\": \"markers\", \"marker\": {\"sizemode\": \"area\", \"sizeref\": 0.2, \"size\": [55.0]}, \"x\": [16]}, {\"name\": \"market\", \"text\": [\"market\"], \"y\": [2.5833333333333335], \"mode\": \"markers\", \"marker\": {\"sizemode\": \"area\", \"sizeref\": 0.2, \"size\": [31.0]}, \"x\": [12]}, {\"name\": \"results\", \"text\": [\"results\"], \"y\": [1.3125], \"mode\": \"markers\", \"marker\": {\"sizemode\": \"area\", \"sizeref\": 0.2, \"size\": [42.0]}, \"x\": [32]}, {\"name\": \"firm\", \"text\": [\"firm\"], \"y\": [2.25], \"mode\": \"markers\", \"marker\": {\"sizemode\": \"area\", \"sizeref\": 0.2, \"size\": [27.0]}, \"x\": [12]}, {\"name\": \"using\", \"text\": [\"using\"], \"y\": [1.8333333333333333], \"mode\": \"markers\", \"marker\": {\"sizemode\": \"area\", \"sizeref\": 0.2, \"size\": [11.0]}, \"x\": [6]}, {\"name\": \"data\", \"text\": [\"data\"], \"y\": [2.7], \"mode\": \"markers\", \"marker\": {\"sizemode\": \"area\", \"sizeref\": 0.2, \"size\": [27.0]}, \"x\": [10]}, {\"name\": \"risk\", \"text\": [\"risk\"], \"y\": [3.0714285714285716], \"mode\": \"markers\", \"marker\": {\"sizemode\": \"area\", \"sizeref\": 0.2, \"size\": [43.0]}, \"x\": [14]}, {\"name\": \"effect\", \"text\": [\"effect\"], \"y\": [2.125], \"mode\": \"markers\", \"marker\": {\"sizemode\": \"area\", \"sizeref\": 0.2, \"size\": [17.0]}, \"x\": [8]}, {\"name\": \"price\", \"text\": [\"price\"], \"y\": [3.0833333333333335], \"mode\": \"markers\", \"marker\": {\"sizemode\": \"area\", \"sizeref\": 0.2, \"size\": [37.0]}, \"x\": [12]}, {\"name\": \"optimal\", \"text\": [\"optimal\"], \"y\": [2.25], \"mode\": \"markers\", \"marker\": {\"sizemode\": \"area\", \"sizeref\": 0.2, \"size\": [27.0]}, \"x\": [12]}, {\"name\": \"performance\", \"text\": [\"performance\"], \"y\": [2.0], \"mode\": \"markers\", \"marker\": {\"sizemode\": \"area\", \"sizeref\": 0.2, \"size\": [22.0]}, \"x\": [11]}, {\"name\": \"paper\", \"text\": [\"paper\"], \"y\": [1.3636363636363635], \"mode\": \"markers\", \"marker\": {\"sizemode\": \"area\", \"sizeref\": 0.2, \"size\": [30.0]}, \"x\": [22]}, {\"name\": \"study\", \"text\": [\"study\"], \"y\": [2.0], \"mode\": \"markers\", \"marker\": {\"sizemode\": \"area\", \"sizeref\": 0.2, \"size\": [10.0]}, \"x\": [5]}, {\"name\": \"higher\", \"text\": [\"higher\"], \"y\": [2.25], \"mode\": \"markers\", \"marker\": {\"sizemode\": \"area\", \"sizeref\": 0.2, \"size\": [18.0]}, \"x\": [8]}, {\"name\": \"demand\", \"text\": [\"demand\"], \"y\": [3.888888888888889], \"mode\": \"markers\", \"marker\": {\"sizemode\": \"area\", \"sizeref\": 0.2, \"size\": [35.0]}, \"x\": [9]}, {\"name\": \"new\", \"text\": [\"new\"], \"y\": [2.2], \"mode\": \"markers\", \"marker\": {\"sizemode\": \"area\", \"sizeref\": 0.2, \"size\": [11.0]}, \"x\": [5]}], \"name\": \"2012\"}, {\"data\": [{\"name\": \"find\", \"text\": [\"find\"], \"y\": [1.8181818181818181], \"mode\": \"markers\", \"marker\": {\"sizemode\": \"area\", \"sizeref\": 0.2, \"size\": [60.0]}, \"x\": [33]}, {\"name\": \"firms\", \"text\": [\"firms\"], \"y\": [3.3461538461538463], \"mode\": \"markers\", \"marker\": {\"sizemode\": \"area\", \"sizeref\": 0.2, \"size\": [87.0]}, \"x\": [26]}, {\"name\": \"information\", \"text\": [\"information\"], \"y\": [3.3], \"mode\": \"markers\", \"marker\": {\"sizemode\": \"area\", \"sizeref\": 0.2, \"size\": [33.0]}, \"x\": [10]}, {\"name\": \"show\", \"text\": [\"show\"], \"y\": [1.4285714285714286], \"mode\": \"markers\", \"marker\": {\"sizemode\": \"area\", \"sizeref\": 0.2, \"size\": [50.0]}, \"x\": [35]}, {\"name\": \"product\", \"text\": [\"product\"], \"y\": [2.5], \"mode\": \"markers\", \"marker\": {\"sizemode\": \"area\", \"sizeref\": 0.2, \"size\": [35.0]}, \"x\": [14]}, {\"name\": \"market\", \"text\": [\"market\"], \"y\": [2.7777777777777777], \"mode\": \"markers\", \"marker\": {\"sizemode\": \"area\", \"sizeref\": 0.2, \"size\": [50.0]}, \"x\": [18]}, {\"name\": \"results\", \"text\": [\"results\"], \"y\": [1.2916666666666667], \"mode\": \"markers\", \"marker\": {\"sizemode\": \"area\", \"sizeref\": 0.2, \"size\": [31.0]}, \"x\": [24]}, {\"name\": \"firm\", \"text\": [\"firm\"], \"y\": [3.3125], \"mode\": \"markers\", \"marker\": {\"sizemode\": \"area\", \"sizeref\": 0.2, \"size\": [53.0]}, \"x\": [16]}, {\"name\": \"using\", \"text\": [\"using\"], \"y\": [1.7857142857142858], \"mode\": \"markers\", \"marker\": {\"sizemode\": \"area\", \"sizeref\": 0.2, \"size\": [25.0]}, \"x\": [14]}, {\"name\": \"data\", \"text\": [\"data\"], \"y\": [2.3333333333333335], \"mode\": \"markers\", \"marker\": {\"sizemode\": \"area\", \"sizeref\": 0.2, \"size\": [14.0]}, \"x\": [6]}, {\"name\": \"risk\", \"text\": [\"risk\"], \"y\": [5.125], \"mode\": \"markers\", \"marker\": {\"sizemode\": \"area\", \"sizeref\": 0.2, \"size\": [41.0]}, \"x\": [8]}, {\"name\": \"effect\", \"text\": [\"effect\"], \"y\": [2.888888888888889], \"mode\": \"markers\", \"marker\": {\"sizemode\": \"area\", \"sizeref\": 0.2, \"size\": [26.0]}, \"x\": [9]}, {\"name\": \"price\", \"text\": [\"price\"], \"y\": [4.1], \"mode\": \"markers\", \"marker\": {\"sizemode\": \"area\", \"sizeref\": 0.2, \"size\": [41.0]}, \"x\": [10]}, {\"name\": \"optimal\", \"text\": [\"optimal\"], \"y\": [2.5], \"mode\": \"markers\", \"marker\": {\"sizemode\": \"area\", \"sizeref\": 0.2, \"size\": [35.0]}, \"x\": [14]}, {\"name\": \"performance\", \"text\": [\"performance\"], \"y\": [3.0], \"mode\": \"markers\", \"marker\": {\"sizemode\": \"area\", \"sizeref\": 0.2, \"size\": [24.0]}, \"x\": [8]}, {\"name\": \"paper\", \"text\": [\"paper\"], \"y\": [1.1], \"mode\": \"markers\", \"marker\": {\"sizemode\": \"area\", \"sizeref\": 0.2, \"size\": [22.0]}, \"x\": [20]}, {\"name\": \"study\", \"text\": [\"study\"], \"y\": [1.5], \"mode\": \"markers\", \"marker\": {\"sizemode\": \"area\", \"sizeref\": 0.2, \"size\": [3.0]}, \"x\": [2]}, {\"name\": \"higher\", \"text\": [\"higher\"], \"y\": [2.1818181818181817], \"mode\": \"markers\", \"marker\": {\"sizemode\": \"area\", \"sizeref\": 0.2, \"size\": [24.0]}, \"x\": [11]}, {\"name\": \"demand\", \"text\": [\"demand\"], \"y\": [3.0], \"mode\": \"markers\", \"marker\": {\"sizemode\": \"area\", \"sizeref\": 0.2, \"size\": [21.0]}, \"x\": [7]}, {\"name\": \"new\", \"text\": [\"new\"], \"y\": [2.8333333333333335], \"mode\": \"markers\", \"marker\": {\"sizemode\": \"area\", \"sizeref\": 0.2, \"size\": [17.0]}, \"x\": [6]}], \"name\": \"2013\"}, {\"data\": [{\"name\": \"find\", \"text\": [\"find\"], \"y\": [1.6818181818181819], \"mode\": \"markers\", \"marker\": {\"sizemode\": \"area\", \"sizeref\": 0.2, \"size\": [74.0]}, \"x\": [44]}, {\"name\": \"firms\", \"text\": [\"firms\"], \"y\": [2.9545454545454546], \"mode\": \"markers\", \"marker\": {\"sizemode\": \"area\", \"sizeref\": 0.2, \"size\": [65.0]}, \"x\": [22]}, {\"name\": \"information\", \"text\": [\"information\"], \"y\": [2.9523809523809526], \"mode\": \"markers\", \"marker\": {\"sizemode\": \"area\", \"sizeref\": 0.2, \"size\": [62.0]}, \"x\": [21]}, {\"name\": \"show\", \"text\": [\"show\"], \"y\": [1.5454545454545454], \"mode\": \"markers\", \"marker\": {\"sizemode\": \"area\", \"sizeref\": 0.2, \"size\": [68.0]}, \"x\": [44]}, {\"name\": \"product\", \"text\": [\"product\"], \"y\": [3.8461538461538463], \"mode\": \"markers\", \"marker\": {\"sizemode\": \"area\", \"sizeref\": 0.2, \"size\": [50.0]}, \"x\": [13]}, {\"name\": \"market\", \"text\": [\"market\"], \"y\": [2.269230769230769], \"mode\": \"markers\", \"marker\": {\"sizemode\": \"area\", \"sizeref\": 0.2, \"size\": [59.0]}, \"x\": [26]}, {\"name\": \"results\", \"text\": [\"results\"], \"y\": [1.25], \"mode\": \"markers\", \"marker\": {\"sizemode\": \"area\", \"sizeref\": 0.2, \"size\": [40.0]}, \"x\": [32]}, {\"name\": \"firm\", \"text\": [\"firm\"], \"y\": [2.5217391304347827], \"mode\": \"markers\", \"marker\": {\"sizemode\": \"area\", \"sizeref\": 0.2, \"size\": [58.0]}, \"x\": [23]}, {\"name\": \"using\", \"text\": [\"using\"], \"y\": [2.7142857142857144], \"mode\": \"markers\", \"marker\": {\"sizemode\": \"area\", \"sizeref\": 0.2, \"size\": [19.0]}, \"x\": [7]}, {\"name\": \"data\", \"text\": [\"data\"], \"y\": [2.1538461538461537], \"mode\": \"markers\", \"marker\": {\"sizemode\": \"area\", \"sizeref\": 0.2, \"size\": [28.0]}, \"x\": [13]}, {\"name\": \"risk\", \"text\": [\"risk\"], \"y\": [3.473684210526316], \"mode\": \"markers\", \"marker\": {\"sizemode\": \"area\", \"sizeref\": 0.2, \"size\": [66.0]}, \"x\": [19]}, {\"name\": \"effect\", \"text\": [\"effect\"], \"y\": [2.6], \"mode\": \"markers\", \"marker\": {\"sizemode\": \"area\", \"sizeref\": 0.2, \"size\": [26.0]}, \"x\": [10]}, {\"name\": \"price\", \"text\": [\"price\"], \"y\": [3.3333333333333335], \"mode\": \"markers\", \"marker\": {\"sizemode\": \"area\", \"sizeref\": 0.2, \"size\": [50.0]}, \"x\": [15]}, {\"name\": \"optimal\", \"text\": [\"optimal\"], \"y\": [2.1818181818181817], \"mode\": \"markers\", \"marker\": {\"sizemode\": \"area\", \"sizeref\": 0.2, \"size\": [24.0]}, \"x\": [11]}, {\"name\": \"performance\", \"text\": [\"performance\"], \"y\": [3.111111111111111], \"mode\": \"markers\", \"marker\": {\"sizemode\": \"area\", \"sizeref\": 0.2, \"size\": [28.0]}, \"x\": [9]}, {\"name\": \"paper\", \"text\": [\"paper\"], \"y\": [1.1379310344827587], \"mode\": \"markers\", \"marker\": {\"sizemode\": \"area\", \"sizeref\": 0.2, \"size\": [33.0]}, \"x\": [29]}, {\"name\": \"study\", \"text\": [\"study\"], \"y\": [2.3333333333333335], \"mode\": \"markers\", \"marker\": {\"sizemode\": \"area\", \"sizeref\": 0.2, \"size\": [14.0]}, \"x\": [6]}, {\"name\": \"higher\", \"text\": [\"higher\"], \"y\": [2.3333333333333335], \"mode\": \"markers\", \"marker\": {\"sizemode\": \"area\", \"sizeref\": 0.2, \"size\": [21.0]}, \"x\": [9]}, {\"name\": \"demand\", \"text\": [\"demand\"], \"y\": [3.142857142857143], \"mode\": \"markers\", \"marker\": {\"sizemode\": \"area\", \"sizeref\": 0.2, \"size\": [44.0]}, \"x\": [14]}, {\"name\": \"new\", \"text\": [\"new\"], \"y\": [3.0], \"mode\": \"markers\", \"marker\": {\"sizemode\": \"area\", \"sizeref\": 0.2, \"size\": [33.0]}, \"x\": [11]}], \"name\": \"2014\"}, {\"data\": [{\"name\": \"find\", \"text\": [\"find\"], \"y\": [1.8888888888888888], \"mode\": \"markers\", \"marker\": {\"sizemode\": \"area\", \"sizeref\": 0.2, \"size\": [102.0]}, \"x\": [54]}, {\"name\": \"firms\", \"text\": [\"firms\"], \"y\": [3.3225806451612905], \"mode\": \"markers\", \"marker\": {\"sizemode\": \"area\", \"sizeref\": 0.2, \"size\": [103.0]}, \"x\": [31]}, {\"name\": \"information\", \"text\": [\"information\"], \"y\": [3.64], \"mode\": \"markers\", \"marker\": {\"sizemode\": \"area\", \"sizeref\": 0.2, \"size\": [91.0]}, \"x\": [25]}, {\"name\": \"show\", \"text\": [\"show\"], \"y\": [1.3695652173913044], \"mode\": \"markers\", \"marker\": {\"sizemode\": \"area\", \"sizeref\": 0.2, \"size\": [63.0]}, \"x\": [46]}, {\"name\": \"product\", \"text\": [\"product\"], \"y\": [3.727272727272727], \"mode\": \"markers\", \"marker\": {\"sizemode\": \"area\", \"sizeref\": 0.2, \"size\": [41.0]}, \"x\": [11]}, {\"name\": \"market\", \"text\": [\"market\"], \"y\": [2.0625], \"mode\": \"markers\", \"marker\": {\"sizemode\": \"area\", \"sizeref\": 0.2, \"size\": [33.0]}, \"x\": [16]}, {\"name\": \"results\", \"text\": [\"results\"], \"y\": [1.4871794871794872], \"mode\": \"markers\", \"marker\": {\"sizemode\": \"area\", \"sizeref\": 0.2, \"size\": [58.0]}, \"x\": [39]}, {\"name\": \"firm\", \"text\": [\"firm\"], \"y\": [2.6470588235294117], \"mode\": \"markers\", \"marker\": {\"sizemode\": \"area\", \"sizeref\": 0.2, \"size\": [45.0]}, \"x\": [17]}, {\"name\": \"using\", \"text\": [\"using\"], \"y\": [1.9333333333333333], \"mode\": \"markers\", \"marker\": {\"sizemode\": \"area\", \"sizeref\": 0.2, \"size\": [29.0]}, \"x\": [15]}, {\"name\": \"data\", \"text\": [\"data\"], \"y\": [2.142857142857143], \"mode\": \"markers\", \"marker\": {\"sizemode\": \"area\", \"sizeref\": 0.2, \"size\": [15.0]}, \"x\": [7]}, {\"name\": \"risk\", \"text\": [\"risk\"], \"y\": [3.923076923076923], \"mode\": \"markers\", \"marker\": {\"sizemode\": \"area\", \"sizeref\": 0.2, \"size\": [51.0]}, \"x\": [13]}, {\"name\": \"effect\", \"text\": [\"effect\"], \"y\": [2.2222222222222223], \"mode\": \"markers\", \"marker\": {\"sizemode\": \"area\", \"sizeref\": 0.2, \"size\": [40.0]}, \"x\": [18]}, {\"name\": \"price\", \"text\": [\"price\"], \"y\": [2.7], \"mode\": \"markers\", \"marker\": {\"sizemode\": \"area\", \"sizeref\": 0.2, \"size\": [27.0]}, \"x\": [10]}, {\"name\": \"optimal\", \"text\": [\"optimal\"], \"y\": [2.5], \"mode\": \"markers\", \"marker\": {\"sizemode\": \"area\", \"sizeref\": 0.2, \"size\": [40.0]}, \"x\": [16]}, {\"name\": \"performance\", \"text\": [\"performance\"], \"y\": [2.9166666666666665], \"mode\": \"markers\", \"marker\": {\"sizemode\": \"area\", \"sizeref\": 0.2, \"size\": [35.0]}, \"x\": [12]}, {\"name\": \"paper\", \"text\": [\"paper\"], \"y\": [1.1111111111111112], \"mode\": \"markers\", \"marker\": {\"sizemode\": \"area\", \"sizeref\": 0.2, \"size\": [20.0]}, \"x\": [18]}, {\"name\": \"study\", \"text\": [\"study\"], \"y\": [1.9], \"mode\": \"markers\", \"marker\": {\"sizemode\": \"area\", \"sizeref\": 0.2, \"size\": [19.0]}, \"x\": [10]}, {\"name\": \"higher\", \"text\": [\"higher\"], \"y\": [2.1666666666666665], \"mode\": \"markers\", \"marker\": {\"sizemode\": \"area\", \"sizeref\": 0.2, \"size\": [13.0]}, \"x\": [6]}, {\"name\": \"demand\", \"text\": [\"demand\"], \"y\": [3.0714285714285716], \"mode\": \"markers\", \"marker\": {\"sizemode\": \"area\", \"sizeref\": 0.2, \"size\": [43.0]}, \"x\": [14]}, {\"name\": \"new\", \"text\": [\"new\"], \"y\": [2.8], \"mode\": \"markers\", \"marker\": {\"sizemode\": \"area\", \"sizeref\": 0.2, \"size\": [28.0]}, \"x\": [10]}], \"name\": \"2015\"}, {\"data\": [{\"name\": \"find\", \"text\": [\"find\"], \"y\": [1.625], \"mode\": \"markers\", \"marker\": {\"sizemode\": \"area\", \"sizeref\": 0.2, \"size\": [26.0]}, \"x\": [16]}, {\"name\": \"firms\", \"text\": [\"firms\"], \"y\": [3.0], \"mode\": \"markers\", \"marker\": {\"sizemode\": \"area\", \"sizeref\": 0.2, \"size\": [27.0]}, \"x\": [9]}, {\"name\": \"information\", \"text\": [\"information\"], \"y\": [4.444444444444445], \"mode\": \"markers\", \"marker\": {\"sizemode\": \"area\", \"sizeref\": 0.2, \"size\": [40.0]}, \"x\": [9]}, {\"name\": \"show\", \"text\": [\"show\"], \"y\": [1.375], \"mode\": \"markers\", \"marker\": {\"sizemode\": \"area\", \"sizeref\": 0.2, \"size\": [22.0]}, \"x\": [16]}, {\"name\": \"product\", \"text\": [\"product\"], \"y\": [3.25], \"mode\": \"markers\", \"marker\": {\"sizemode\": \"area\", \"sizeref\": 0.2, \"size\": [26.0]}, \"x\": [8]}, {\"name\": \"market\", \"text\": [\"market\"], \"y\": [2.142857142857143], \"mode\": \"markers\", \"marker\": {\"sizemode\": \"area\", \"sizeref\": 0.2, \"size\": [30.0]}, \"x\": [14]}, {\"name\": \"results\", \"text\": [\"results\"], \"y\": [1.1578947368421053], \"mode\": \"markers\", \"marker\": {\"sizemode\": \"area\", \"sizeref\": 0.2, \"size\": [22.0]}, \"x\": [19]}, {\"name\": \"firm\", \"text\": [\"firm\"], \"y\": [2.75], \"mode\": \"markers\", \"marker\": {\"sizemode\": \"area\", \"sizeref\": 0.2, \"size\": [11.0]}, \"x\": [4]}, {\"name\": \"using\", \"text\": [\"using\"], \"y\": [1.6], \"mode\": \"markers\", \"marker\": {\"sizemode\": \"area\", \"sizeref\": 0.2, \"size\": [8.0]}, \"x\": [5]}, {\"name\": \"data\", \"text\": [\"data\"], \"y\": [2.25], \"mode\": \"markers\", \"marker\": {\"sizemode\": \"area\", \"sizeref\": 0.2, \"size\": [9.0]}, \"x\": [4]}, {\"name\": \"risk\", \"text\": [\"risk\"], \"y\": [3.0], \"mode\": \"markers\", \"marker\": {\"sizemode\": \"area\", \"sizeref\": 0.2, \"size\": [15.0]}, \"x\": [5]}, {\"name\": \"effect\", \"text\": [\"effect\"], \"y\": [2.25], \"mode\": \"markers\", \"marker\": {\"sizemode\": \"area\", \"sizeref\": 0.2, \"size\": [9.0]}, \"x\": [4]}, {\"name\": \"price\", \"text\": [\"price\"], \"y\": [4.0], \"mode\": \"markers\", \"marker\": {\"sizemode\": \"area\", \"sizeref\": 0.2, \"size\": [16.0]}, \"x\": [4]}, {\"name\": \"optimal\", \"text\": [\"optimal\"], \"y\": [2.0], \"mode\": \"markers\", \"marker\": {\"sizemode\": \"area\", \"sizeref\": 0.2, \"size\": [12.0]}, \"x\": [6]}, {\"name\": \"performance\", \"text\": [\"performance\"], \"y\": [2.3333333333333335], \"mode\": \"markers\", \"marker\": {\"sizemode\": \"area\", \"sizeref\": 0.2, \"size\": [14.0]}, \"x\": [6]}, {\"name\": \"paper\", \"text\": [\"paper\"], \"y\": [1.25], \"mode\": \"markers\", \"marker\": {\"sizemode\": \"area\", \"sizeref\": 0.2, \"size\": [10.0]}, \"x\": [8]}, {\"name\": \"study\", \"text\": [\"study\"], \"y\": [2.0], \"mode\": \"markers\", \"marker\": {\"sizemode\": \"area\", \"sizeref\": 0.2, \"size\": [10.0]}, \"x\": [5]}, {\"name\": \"higher\", \"text\": [\"higher\"], \"y\": [2.25], \"mode\": \"markers\", \"marker\": {\"sizemode\": \"area\", \"sizeref\": 0.2, \"size\": [18.0]}, \"x\": [8]}, {\"name\": \"demand\", \"text\": [\"demand\"], \"y\": [2.0], \"mode\": \"markers\", \"marker\": {\"sizemode\": \"area\", \"sizeref\": 0.2, \"size\": [2.0]}, \"x\": [1]}, {\"name\": \"new\", \"text\": [\"new\"], \"y\": [2.75], \"mode\": \"markers\", \"marker\": {\"sizemode\": \"area\", \"sizeref\": 0.2, \"size\": [11.0]}, \"x\": [4]}], \"name\": \"2016\"}]);}).then(function(){Plotly.animate('531a1a5d-2caa-4bc3-b6ca-cdb10d69ba49');})\n",
       "        });</script>"
      ]
     },
     "metadata": {},
     "output_type": "display_data"
    }
   ],
   "source": [
    "init_notebook_mode(connected=True)\n",
    "\n",
    "years = [2009, 2010, 2011, 2012, 2013, 2014, 2015, 2016]\n",
    "# make list of continents\n",
    "continents = []\n",
    "for continent in c['words']:\n",
    "    if continent not in continents:\n",
    "        continents.append(continent)\n",
    "# make figure\n",
    "figure = {\n",
    "    'data': [],\n",
    "    'layout': {},\n",
    "    'frames': []\n",
    "}\n",
    "\n",
    "# fill in most of layout\n",
    "figure['layout']['xaxis'] = {'range': [0, 60], 'title': 'Number of Publications'}\n",
    "figure['layout']['yaxis'] = {'range': [0, 6], 'title': 'Freq per publication', 'type': 'float'}\n",
    "figure['layout']['hovermode'] = 'closest'\n",
    "figure['layout']['sliders'] = {\n",
    "    'args': [\n",
    "        'transition', {\n",
    "            'duration': 400,\n",
    "            'easing': 'cubic-in-out'\n",
    "        }\n",
    "    ],\n",
    "    'initialValue': 2009,\n",
    "    'plotlycommand': 'animate',\n",
    "    'values': years,\n",
    "    'visible': True\n",
    "}\n",
    "figure['layout']['updatemenus'] = [\n",
    "    {\n",
    "        'buttons': [\n",
    "            {\n",
    "                'args': [None, {'frame': {'duration': 500, 'redraw': False},\n",
    "                                'fromcurrent': True, 'transition': {'duration': 300, 'easing': 'quadratic-in-out'}}],\n",
    "                'label': 'Play',\n",
    "                'method': 'animate'\n",
    "            },\n",
    "            {\n",
    "                'args': [[None], {'frame': {'duration': 0, 'redraw': False}, 'mode': 'immediate',\n",
    "                                  'transition': {'duration': 0}}],\n",
    "                'label': 'Pause',\n",
    "                'method': 'animate'\n",
    "            }\n",
    "        ],\n",
    "        'direction': 'left',\n",
    "        'pad': {'r': 10, 't': 87},\n",
    "        'showactive': False,\n",
    "        'type': 'buttons',\n",
    "        'x': 0.1,\n",
    "        'xanchor': 'right',\n",
    "        'y': 0,\n",
    "        'yanchor': 'top'\n",
    "    }\n",
    "]\n",
    "\n",
    "sliders_dict = {\n",
    "    'active': 0,\n",
    "    'yanchor': 'top',\n",
    "    'xanchor': 'left',\n",
    "    'currentvalue': {\n",
    "        'font': {'size': 20},\n",
    "        'prefix': 'Year:',\n",
    "        'visible': True,\n",
    "        'xanchor': 'right'\n",
    "    },\n",
    "    'transition': {'duration': 300, 'easing': 'cubic-in-out'},\n",
    "    'pad': {'b': 10, 't': 50},\n",
    "    'len': 0.9,\n",
    "    'x': 0.1,\n",
    "    'y': 0,\n",
    "    'steps': []\n",
    "}\n",
    "\n",
    "# make data\n",
    "year = 2009\n",
    "for continent in continents:\n",
    "    dataset_by_year = c[c['year'] == year]\n",
    "    dataset_by_year_and_cont = dataset_by_year[dataset_by_year['words'] == continent]\n",
    "\n",
    "    data_dict = {\n",
    "        'x': list(dataset_by_year_and_cont['number_of_papers']),\n",
    "        'y': list(dataset_by_year_and_cont['freq_per_paper']),\n",
    "        'mode': 'markers',\n",
    "        'text': list(dataset_by_year_and_cont['words']),\n",
    "        'marker': {\n",
    "            'sizemode': 'area',\n",
    "            'sizeref': 0.2,\n",
    "            'size': list(dataset_by_year_and_cont['freq_words'])\n",
    "        },\n",
    "        'name': continent\n",
    "    }\n",
    "    figure['data'].append(data_dict)\n",
    "\n",
    "\n",
    "# make frames\n",
    "for year in [2010, 2011, 2012, 2013, 2014, 2015, 2016]:\n",
    "    frame = {'data': [], 'name': str(year)}\n",
    "    for continent in continents:\n",
    "        dataset_by_year = c[c['year'] == int(year)]\n",
    "        dataset_by_year_and_cont = dataset_by_year[dataset_by_year['words'] == continent]\n",
    "        data_dict = {\n",
    "            'x': list(dataset_by_year_and_cont['number_of_papers']),\n",
    "            'y': list(dataset_by_year_and_cont['freq_per_paper']),\n",
    "            'mode': 'markers',\n",
    "            'text': list(dataset_by_year_and_cont['words']),\n",
    "            'marker': {\n",
    "                'sizemode': 'area',\n",
    "                'sizeref': 0.2,\n",
    "                'size': list(dataset_by_year_and_cont['freq_words'])\n",
    "            },\n",
    "            'name': continent\n",
    "        }\n",
    "        frame['data'].append(data_dict)\n",
    "    \n",
    "    figure['frames'].append(frame)\n",
    "    slider_step = {'args': [\n",
    "        [year],\n",
    "        {'frame': {'duration': 300, 'redraw': False},\n",
    "         'mode': 'immediate',\n",
    "         'transition': {'duration': 300}}\n",
    "    ],\n",
    "        'label': year,\n",
    "        'method': 'animate'}\n",
    "    sliders_dict['steps'].append(slider_step)\n",
    "\n",
    "figure['layout']['sliders'] = [sliders_dict]\n",
    "\n",
    "iplot(figure)\n"
   ]
  },
  {
   "cell_type": "markdown",
   "metadata": {},
   "source": [
    "This graph provides an animated evolution for the frequency of the most common words, on the y-axis we can see the frequency of given word per paper, so how many times it was used on the same abstract. On the x-axis it shows the number of papers in which given word appeared on a publication. All those indexed by year.\n",
    "\n",
    "This is a graphical tool, to show evolution of the written standards which gives you an intuitive hability to better understand this journal usage of words. This tool reafirms the need to apply machine learning techniques, seeking to estimate the acceptance probability of a paper draft in the journal of interest. Given the expected acceptance probability the research could improve its work until reaching a high level quality required by the journal and increasing the chances of publication. Several data analytic methods can, at the same time, be used to identify the most effective attributes that affect the likelihood of having the article accepted by the journal."
   ]
  }
 ],
 "metadata": {
  "kernelspec": {
   "display_name": "Python 2",
   "language": "python",
   "name": "python2"
  },
  "language_info": {
   "codemirror_mode": {
    "name": "ipython",
    "version": 2
   },
   "file_extension": ".py",
   "mimetype": "text/x-python",
   "name": "python",
   "nbconvert_exporter": "python",
   "pygments_lexer": "ipython2",
   "version": "2.7.13"
  }
 },
 "nbformat": 4,
 "nbformat_minor": 2
}
